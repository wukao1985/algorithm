{
 "cells": [
  {
   "cell_type": "markdown",
   "metadata": {},
   "source": [
    "##Given a list of numbers, return all possible permutations.\n",
    "Example\n",
    "For nums = [1,2,3], the permutations are:\n",
    "\n",
    "[\n",
    "  [1,2,3],\n",
    "  [1,3,2],\n",
    "  [2,1,3],\n",
    "  [2,3,1],\n",
    "  [3,1,2],\n",
    "  [3,2,1]\n",
    "]\n",
    "\n",
    "Challenge:\n",
    "\n",
    "**Do it without recursion.**"
   ]
  },
  {
   "cell_type": "markdown",
   "metadata": {},
   "source": [
    "##Using recursion"
   ]
  },
  {
   "cell_type": "code",
   "execution_count": 19,
   "metadata": {
    "collapsed": false
   },
   "outputs": [
    {
     "name": "stdout",
     "output_type": "stream",
     "text": [
      "[[1, 2, 3], [1, 3, 2]]\n"
     ]
    }
   ],
   "source": [
    "a = [[2,3],[3,2]]\n",
    "b = [1]\n",
    "for i in xrange(0, len(a)):\n",
    "    a[i] = b + a[i]\n",
    "print a\n"
   ]
  },
  {
   "cell_type": "code",
   "execution_count": 144,
   "metadata": {
    "collapsed": false
   },
   "outputs": [],
   "source": [
    "def permutation(nums):\n",
    "    if len(nums) == 0:\n",
    "        return []\n",
    "    if len(nums) == 1:\n",
    "        return [nums]\n",
    "    \n",
    "    ret = []\n",
    "    for i in range(len(nums)): \n",
    "        x = nums[i]\n",
    "        xs = nums[:i] + nums[i+1:]\n",
    "        for p in permutation(xs):\n",
    "            ret.append([x] + p)\n",
    "    return ret"
   ]
  },
  {
   "cell_type": "markdown",
   "metadata": {},
   "source": [
    "## test the code with [1,2,3,]"
   ]
  },
  {
   "cell_type": "code",
   "execution_count": 145,
   "metadata": {
    "collapsed": false
   },
   "outputs": [
    {
     "name": "stdout",
     "output_type": "stream",
     "text": [
      "[[1, 2, 3], [1, 3, 2], [2, 1, 3], [2, 3, 1], [3, 1, 2], [3, 2, 1]]\n"
     ]
    }
   ],
   "source": [
    "s = [1,2,3]\n",
    "print permutation(s)\n"
   ]
  },
  {
   "cell_type": "markdown",
   "metadata": {
    "collapsed": true
   },
   "source": [
    "## Another answer"
   ]
  },
  {
   "cell_type": "code",
   "execution_count": 47,
   "metadata": {
    "collapsed": true
   },
   "outputs": [],
   "source": [
    "def permutation2(nums):\n",
    "    if len(nums) == 0:\n",
    "        return []\n",
    "    if len(nums) == 1:\n",
    "        return [nums]\n",
    "    \n",
    "    perms = permutation2(nums[1:])\n",
    "    first = nums[0]\n",
    "    ret = []\n",
    "    for perm in perms:\n",
    "        for i in range(len(perm)+1):\n",
    "            temp = perm[:]\n",
    "            temp.insert(i, first)\n",
    "            ret.append(temp)\n",
    "\n",
    "    return ret"
   ]
  },
  {
   "cell_type": "code",
   "execution_count": 48,
   "metadata": {
    "collapsed": false
   },
   "outputs": [
    {
     "name": "stdout",
     "output_type": "stream",
     "text": [
      "[[1, 2, 3], [2, 1, 3], [2, 3, 1], [1, 3, 2], [3, 1, 2], [3, 2, 1]]\n"
     ]
    }
   ],
   "source": [
    "s2 = [1,2,3]\n",
    "print permutation2(s2)\n"
   ]
  },
  {
   "cell_type": "markdown",
   "metadata": {},
   "source": [
    "## testing insert function for list"
   ]
  },
  {
   "cell_type": "code",
   "execution_count": 42,
   "metadata": {
    "collapsed": false
   },
   "outputs": [
    {
     "name": "stdout",
     "output_type": "stream",
     "text": [
      "[1, 2, 3] [2, 3]\n"
     ]
    }
   ],
   "source": [
    "a_list = [2,3]\n",
    "b_list = a_list[:]\n",
    "b_list.insert(0, 1)\n",
    "\n",
    "print b_list, a_list"
   ]
  },
  {
   "cell_type": "markdown",
   "metadata": {
    "collapsed": true
   },
   "source": [
    "## another approach in the book"
   ]
  },
  {
   "cell_type": "code",
   "execution_count": 69,
   "metadata": {
    "collapsed": false
   },
   "outputs": [],
   "source": [
    "def permute(nums, pos, templist, visit, res):\n",
    "    if pos == len(nums):\n",
    "        res.append([]+templist)\n",
    "        return\n",
    "    else:\n",
    "        for i in range(len(nums)):\n",
    "            if visit[i] == 1:\n",
    "                continue\n",
    "            else:\n",
    "                templist.append(nums[i])\n",
    "                visit[i] = 1\n",
    "                permute(nums, pos+1, templist, visit, res)\n",
    "                visit[i] = 0\n",
    "                templist.pop()\n",
    "\n",
    "def permutation3(nums):\n",
    "    if nums is None:\n",
    "        return []\n",
    "    if len(nums) == 0:\n",
    "        return []\n",
    "    if len(nums) == 1:\n",
    "        return [nums]\n",
    "    \n",
    "    visit = [0] * len(nums)\n",
    "    res = []\n",
    "    permute(nums, 0, [], visit, res)\n",
    "    return res"
   ]
  },
  {
   "cell_type": "code",
   "execution_count": 70,
   "metadata": {
    "collapsed": false
   },
   "outputs": [
    {
     "data": {
      "text/plain": [
       "[[1, 2, 3], [1, 3, 2], [2, 1, 3], [2, 3, 1], [3, 1, 2], [3, 2, 1]]"
      ]
     },
     "execution_count": 70,
     "metadata": {},
     "output_type": "execute_result"
    }
   ],
   "source": [
    "s4 = [1,2,3]\n",
    "permutation3(s4)"
   ]
  },
  {
   "cell_type": "code",
   "execution_count": null,
   "metadata": {
    "collapsed": true
   },
   "outputs": [],
   "source": []
  }
 ],
 "metadata": {
  "kernelspec": {
   "display_name": "Python 2",
   "language": "python",
   "name": "python2"
  },
  "language_info": {
   "codemirror_mode": {
    "name": "ipython",
    "version": 2
   },
   "file_extension": ".py",
   "mimetype": "text/x-python",
   "name": "python",
   "nbconvert_exporter": "python",
   "pygments_lexer": "ipython2",
   "version": "2.7.10"
  }
 },
 "nbformat": 4,
 "nbformat_minor": 0
}

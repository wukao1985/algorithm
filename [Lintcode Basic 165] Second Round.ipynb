{
 "cells": [
  {
   "cell_type": "markdown",
   "metadata": {},
   "source": [
    "# [Lintcode Basic 165] Second Round"
   ]
  },
  {
   "cell_type": "markdown",
   "metadata": {},
   "source": [
    "### Part I strStr"
   ]
  },
  {
   "cell_type": "markdown",
   "metadata": {},
   "source": [
    "### No. 1 strStr\n",
    "\n",
    "For a given source string and a target string, you should output the first index(from 0) of target string in source string.\n",
    "\n",
    "If target does not exist in source, just return -1.\n",
    "\n",
    "Exemple:\n",
    "\n",
    "If source = \"source\" and target = \"target\", return -1.\n",
    "\n",
    "If source = \"abcdabcdefg\" and target = \"bcd\", return 1.\n"
   ]
  },
  {
   "cell_type": "code",
   "execution_count": 8,
   "metadata": {
    "collapsed": false
   },
   "outputs": [
    {
     "name": "stdout",
     "output_type": "stream",
     "text": [
      "ab\n",
      "3\n"
     ]
    }
   ],
   "source": [
    "def strStr(s, target):\n",
    "    if s is None or target is None:\n",
    "        return -1\n",
    "    \n",
    "    lenStr = len(s)\n",
    "    lenTar = len(target)\n",
    "    \n",
    "    if lenStr < lenTar:\n",
    "        return -1\n",
    "    \n",
    "    for i in range(lenStr - lenTar + 1):\n",
    "        if s[i:i + lenTar] == target:\n",
    "            return i\n",
    "    return -1\n",
    "\n",
    "s = \"abcds\"\n",
    "target = \"ds\"\n",
    "print s[0:2]\n",
    "print strStr(s, target)\n",
    "    "
   ]
  },
  {
   "cell_type": "markdown",
   "metadata": {},
   "source": [
    "### No.2 Subsets\n",
    "\n",
    "Given a set of distinct integers, return all possible subsets."
   ]
  },
  {
   "cell_type": "code",
   "execution_count": 10,
   "metadata": {
    "collapsed": false
   },
   "outputs": [
    {
     "name": "stdout",
     "output_type": "stream",
     "text": [
      "[[], [1], [1, 2], [1, 2, 3], [1, 3], [2], [2, 3], [3]]\n"
     ]
    }
   ],
   "source": [
    "def helper(nums, ret, pos, path):\n",
    "    ret.append([] + path)\n",
    "    \n",
    "    for i in xrange(pos, len(nums)):\n",
    "        path.append(nums[i])\n",
    "        helper(nums, ret, i + 1, path)\n",
    "        path.pop()\n",
    "\n",
    "def subsets(nums):\n",
    "    if nums is None or len(nums) == 0:\n",
    "        return []\n",
    "    \n",
    "    ret = []\n",
    "    nums.sort()\n",
    "    helper(nums, ret, 0, [])\n",
    "    return ret\n",
    "\n",
    "s = [1, 2, 3]\n",
    "print subsets(s)"
   ]
  },
  {
   "cell_type": "markdown",
   "metadata": {},
   "source": [
    "### No.3 Subsets II\n",
    "\n",
    "Given a list of numbers that may has duplicate numbers, return all possible subsets"
   ]
  },
  {
   "cell_type": "code",
   "execution_count": 14,
   "metadata": {
    "collapsed": false
   },
   "outputs": [
    {
     "name": "stdout",
     "output_type": "stream",
     "text": [
      "[[], [1], [1, 2], [1, 2, 2], [2], [2, 2]]\n"
     ]
    }
   ],
   "source": [
    "def helper(nums, pos, path, ret):\n",
    "    ret.append([] + path)\n",
    "    \n",
    "    for i in xrange(pos, len(nums)):\n",
    "        # Note: i > pos, not i > 0!!!!\n",
    "        if i > pos and nums[i] == nums[i - 1]:\n",
    "            continue\n",
    "        \n",
    "        path.append(nums[i])\n",
    "        helper(nums, i + 1, path, ret)\n",
    "        path.pop()\n",
    "        \n",
    "def subsets2(nums):\n",
    "    if nums is None or len(nums) == 0:\n",
    "        return []\n",
    "    \n",
    "    nums.sort()\n",
    "    ret = []\n",
    "    helper(nums, 0, [], ret)\n",
    "    return ret\n",
    "\n",
    "s = [1, 2, 2]\n",
    "print subsets2(s)\n",
    "    "
   ]
  },
  {
   "cell_type": "markdown",
   "metadata": {},
   "source": [
    "### No.4 Permutation\n",
    "Given a list of numbers, return all possible permutations."
   ]
  },
  {
   "cell_type": "code",
   "execution_count": 15,
   "metadata": {
    "collapsed": false
   },
   "outputs": [
    {
     "name": "stdout",
     "output_type": "stream",
     "text": [
      "[[1, 2, 3], [1, 3, 2], [2, 1, 3], [2, 3, 1], [3, 1, 2], [3, 2, 1]]\n"
     ]
    }
   ],
   "source": [
    "def helper(nums, pos, path, visited, ret):\n",
    "    if pos == len(nums):\n",
    "        ret.append([] + path)\n",
    "    \n",
    "    for i in xrange(len(nums)):\n",
    "        if visited[i] is True:\n",
    "            continue\n",
    "        \n",
    "        visited[i] = True\n",
    "        path.append(nums[i])\n",
    "        helper(nums, pos + 1, path, visited, ret)\n",
    "        visited[i] = False\n",
    "        path.pop()\n",
    "\n",
    "def permute(nums):\n",
    "    if nums is None or len(nums) == 0:\n",
    "        return []\n",
    "    \n",
    "    nums.sort()\n",
    "    ret = []\n",
    "    visited = [False] * len(nums)\n",
    "    \n",
    "    helper(nums, 0, [], visited, ret)\n",
    "    return ret\n",
    "\n",
    "\n",
    "s = [1, 2, 3]\n",
    "print permute(s)"
   ]
  },
  {
   "cell_type": "markdown",
   "metadata": {},
   "source": [
    "### No.5 Permutation II\n",
    "Given a list of numbers with duplicate number in it. Find all unique permutations."
   ]
  },
  {
   "cell_type": "code",
   "execution_count": 24,
   "metadata": {
    "collapsed": false
   },
   "outputs": [
    {
     "name": "stdout",
     "output_type": "stream",
     "text": [
      "[[1, 2, 2, 2, 2], [2, 1, 2, 2, 2], [2, 2, 1, 2, 2], [2, 2, 2, 1, 2], [2, 2, 2, 2, 1]]\n"
     ]
    }
   ],
   "source": [
    "def helper(nums, pos, path, visited, ret):\n",
    "    if pos == len(nums):\n",
    "        ret.append([] + path)\n",
    "    \n",
    "    for i in xrange(len(nums)):\n",
    "        # visited[i - 1] can be True or False!\n",
    "        if visited[i] is True or i > 0 and \\\n",
    "                visited[i - 1] is False and nums[i] == nums[i - 1]:\n",
    "            continue\n",
    "        \n",
    "        path.append(nums[i])\n",
    "        visited[i] = True\n",
    "        helper(nums, pos + 1, path, visited, ret)\n",
    "        path.pop()\n",
    "        visited[i] = False\n",
    "\n",
    "def permute2(nums):\n",
    "    if nums is None or len(nums) == 0:\n",
    "        return []\n",
    "\n",
    "    ret = []\n",
    "    # Please remember to sort the list first!!!!!\n",
    "    nums.sort()\n",
    "    visited = [False] * len(nums)\n",
    "    \n",
    "    helper(nums, 0, [], visited, ret)\n",
    "    return ret\n",
    "\n",
    "s = [1, 2, 2, 2, 2]\n",
    "print permute2(s)"
   ]
  },
  {
   "cell_type": "markdown",
   "metadata": {},
   "source": [
    "### No.6 Search Insert Position\n",
    "\n",
    "Given a sorted array and a target value, return the index if the target is found. If not, return the index where it would be if it were inserted in order.\n",
    "\n",
    "You may assume NO duplicates in the array.\n",
    "\n",
    "Example\n",
    "\n",
    "[1,3,5,6], 5 → 2\n",
    "\n",
    "[1,3,5,6], 2 → 1\n",
    "\n",
    "[1,3,5,6], 7 → 4\n",
    "\n",
    "[1,3,5,6], 0 → 0"
   ]
  },
  {
   "cell_type": "code",
   "execution_count": 32,
   "metadata": {
    "collapsed": false
   },
   "outputs": [
    {
     "name": "stdout",
     "output_type": "stream",
     "text": [
      "4\n"
     ]
    }
   ],
   "source": [
    "def searchInsert(nums, target):\n",
    "    if nums is None or len(nums) == 0:\n",
    "        return 0\n",
    "    \n",
    "    if target < nums[0]:\n",
    "        return 0\n",
    "    \n",
    "    if target > nums[-1]:\n",
    "        return len(nums)\n",
    "    \n",
    "    start, end = 0, len(nums) - 1\n",
    "    while start + 1 < end:\n",
    "        mid = start + (end - start) / 2\n",
    "        if nums[mid] < target:\n",
    "            start = mid\n",
    "        else:\n",
    "            end = mid\n",
    "\n",
    "    if nums[start] == target:\n",
    "        return start\n",
    "    else:\n",
    "        # maybe nums[end] == target\n",
    "        # maybe nums[start] < target < nums[end]\n",
    "        return end\n",
    "    \n",
    "s = [1,3,5,6]\n",
    "target = 7\n",
    "print searchInsert(s, target)"
   ]
  },
  {
   "cell_type": "markdown",
   "metadata": {},
   "source": [
    "### No.7 Search a 2D Matrix\n",
    "\n",
    "Write an efficient algorithm that searches for a value in an m x n matrix.\n",
    "\n",
    "This matrix has the following properties:\n",
    "\n",
    "Integers in each row are sorted from left to right.\n",
    "The first integer of each row is greater than the last integer of the previous row.\n",
    "\n",
    "Example\n",
    "Consider the following matrix:\n",
    "\n",
    "```python\n",
    "[\n",
    "    [1, 3, 5, 7],\n",
    "    [10, 11, 16, 20],\n",
    "    [23, 30, 34, 50]\n",
    "]\n",
    "Given target = 3, return true.\n",
    "```\n"
   ]
  },
  {
   "cell_type": "code",
   "execution_count": 64,
   "metadata": {
    "collapsed": false
   },
   "outputs": [
    {
     "name": "stdout",
     "output_type": "stream",
     "text": [
      "False\n"
     ]
    }
   ],
   "source": [
    "def searchMatrix(matrix, target):\n",
    "    if matrix is None or len(matrix) == 0:\n",
    "        return False\n",
    "\n",
    "    if target < matrix[0][0] or target > matrix[-1][-1]:\n",
    "        return False\n",
    "    \n",
    "    firstNum = []\n",
    "    for i in range(len(matrix)):\n",
    "        firstNum.append(matrix[i][0])\n",
    "    \n",
    "    firstNum.append(matrix[-1][-1])\n",
    "\n",
    "    start, end = 0, len(firstNum) - 1\n",
    "    while start + 1 < end:\n",
    "        mid = start + (end - start) / 2\n",
    "        # To make sure target is always in row \"start\"\n",
    "        # we need to use <= here!!!!!\n",
    "        if firstNum[mid] <= target:\n",
    "            start = mid\n",
    "        else:\n",
    "            end = mid\n",
    "    \n",
    "    # target is between firstNum[start] and \n",
    "    # firstNum[end], so it should in row start\n",
    "    # of the original matrix\n",
    "    i = start\n",
    "    \n",
    "    print start, end, len(firstNum)\n",
    "    start, end = 0, len(matrix[0]) - 1\n",
    "    while start + 1 < end:\n",
    "        mid = start + (end - start) / 2\n",
    "        if matrix[i][mid] < target:\n",
    "            start = mid\n",
    "        else:\n",
    "            end = mid\n",
    "    \n",
    "    if matrix[i][start] == target or matrix[i][end] == target:\n",
    "        return True\n",
    "    \n",
    "    return False\n",
    "    \n",
    "matrix = [\n",
    "    [1, 3, 5, 7],\n",
    "    [10, 11, 16, 20],\n",
    "    [23, 30, 34, 50]\n",
    "]\n",
    "\n",
    "print searchMatrix(matrix, 51)"
   ]
  },
  {
   "cell_type": "markdown",
   "metadata": {},
   "source": [
    "### No.8 First Position of Target\n",
    "For a given sorted array (ascending order) and a target number, find the first index of this number in O(log n) time complexity.\n",
    "\n",
    "If the target number does not exist in the array, return -1.\n",
    "\n",
    "Example\n",
    "\n",
    "If the array is [1, 2, 3, 3, 4, 5, 10], for given target 3, return 2."
   ]
  },
  {
   "cell_type": "code",
   "execution_count": 69,
   "metadata": {
    "collapsed": false
   },
   "outputs": [
    {
     "name": "stdout",
     "output_type": "stream",
     "text": [
      "2\n"
     ]
    }
   ],
   "source": [
    "def binarySearch(nums, target):\n",
    "    if nums is None or len(nums) == 0:\n",
    "        return -1\n",
    "    \n",
    "    start, end = 0, len(nums) - 1\n",
    "    while start + 1 < end:\n",
    "        mid = start + (end - start) / 2\n",
    "        # in order to deal with duplicate\n",
    "        # when nums[mid] == target\n",
    "        # we need to move end to mid\n",
    "        if nums[mid] < target:\n",
    "            start = mid\n",
    "        else:\n",
    "            end = mid\n",
    "    \n",
    "    if nums[start] == target:\n",
    "        return start\n",
    "    \n",
    "    if nums[end] == target:\n",
    "        return end\n",
    "    \n",
    "    return -1\n",
    "\n",
    "s = [1, 2, 3, 3, 4, 5, 10]\n",
    "print binarySearch(s, 3)\n",
    "    "
   ]
  },
  {
   "cell_type": "markdown",
   "metadata": {},
   "source": [
    "### No.9 Search in a Big Sorted Array\n",
    "Given a big sorted array with positive integers sorted by ascending order. The array is so big so that you can not get the length of the whole array directly, and you can only access the kth number by ArrayReader.get(k) (or ArrayReader->get(k) for C++). Find the first index of a target number. Your algorithm should be in O(log k), where k is the first index of the target number.\n",
    "\n",
    "Return -1, if the number doesn't exist in the array.\n",
    "\n",
    "Example\n",
    "```python\n",
    "Given [1, 3, 6, 9, 21, ...], and target = 3, return 1.\n",
    "\n",
    "Given [1, 3, 6, 9, 21, ...], and target = 4, return -1.\n",
    "```"
   ]
  },
  {
   "cell_type": "code",
   "execution_count": 74,
   "metadata": {
    "collapsed": false
   },
   "outputs": [],
   "source": [
    "\"\"\"\n",
    "Definition of ArrayReader:\n",
    "class ArrayReader:\n",
    "    def get(self, index):\n",
    "        # this would return the number on the given index\n",
    "        # if there is no number on that index, return -1\n",
    "\"\"\"\n",
    "def searchBigSortedArray(reader, target):\n",
    "    pos = 0\n",
    "    while reader.get(pos) != -1 and reader.get(pos) <= target:\n",
    "        pos = pos * 2 + 1\n",
    "    \n",
    "    # at this point, s[pos] == -1 or s[pos] >= target\n",
    "    start, end = 0, pos\n",
    "    while start + 1 < end:\n",
    "        mid = start + (end - start) / 2\n",
    "        temp = reader.get(mid)\n",
    "        # if temp == -1, means target is at left side, \n",
    "        # we want to move end in this case\n",
    "        if temp < target and temp != -1:\n",
    "            start = mid\n",
    "        else:\n",
    "            end = mid\n",
    "    \n",
    "    if reader.get(start) == target:\n",
    "        return start\n",
    "   \n",
    "    if reader.get(end) == target:\n",
    "        return end\n",
    "    \n",
    "    return -1"
   ]
  },
  {
   "cell_type": "markdown",
   "metadata": {},
   "source": [
    "### No.10 Find Minimum in Rotated Sorted Array\n",
    "Suppose a sorted array is rotated at some pivot unknown to you beforehand.\n",
    "\n",
    "(i.e., 0 1 2 4 5 6 7 might become 4 5 6 7 0 1 2).\n",
    "\n",
    "Find the minimum element.\n",
    "\n",
    "Example\n",
    "\n",
    "Given [4, 5, 6, 7, 0, 1, 2] return 0"
   ]
  },
  {
   "cell_type": "code",
   "execution_count": 81,
   "metadata": {
    "collapsed": false
   },
   "outputs": [
    {
     "name": "stdout",
     "output_type": "stream",
     "text": [
      "3 4\n",
      "0\n"
     ]
    }
   ],
   "source": [
    "def findMin(num):\n",
    "    if num is None or len(num) == 0:\n",
    "        return None\n",
    "    \n",
    "    start, end = 0, len(num) - 1\n",
    "    target = num[-1]\n",
    "    while start + 1 < end:\n",
    "        mid = start + (end - start) / 2\n",
    "        # Remember, how to move the mid\n",
    "        # is opporsite position with the \n",
    "        # template!\n",
    "        if num[mid] < target:\n",
    "            end = mid\n",
    "        else:\n",
    "            start = mid\n",
    "\n",
    "    # print start, end\n",
    "    return min(num[start], num[end])\n",
    "\n",
    "s = [4, 5, 6, 7, 0, 1, 2]\n",
    "print findMin(s)"
   ]
  },
  {
   "cell_type": "markdown",
   "metadata": {},
   "source": [
    "### No.11 Find Peak Element\n",
    "There is an integer array which has the following features:\n",
    "\n",
    "```python\n",
    "1. The numbers in adjacent positions are different.\n",
    "\n",
    "2. A[0] < A[1] && A[A.length - 2] > A[A.length - 1].\n",
    "```\n",
    "We define a position P is a peek if:\n",
    "```python\n",
    "A[P] > A[P-1] && A[P] > A[P+1]\n",
    "```\n",
    "Find a peak element in this array. Return the index of the peak.\n",
    "\n",
    "Example\n",
    "\n",
    "Given [1, 2, 1, 3, 4, 5, 7, 6]\n",
    "\n",
    "Return index 1 (which is number 2) or 6 (which is number 7)"
   ]
  },
  {
   "cell_type": "code",
   "execution_count": 83,
   "metadata": {
    "collapsed": false
   },
   "outputs": [
    {
     "name": "stdout",
     "output_type": "stream",
     "text": [
      "6\n"
     ]
    }
   ],
   "source": [
    "def findPeak(nums):\n",
    "    \n",
    "    start, end = 1, len(nums) - 2\n",
    "    while start + 1 < end:\n",
    "        mid = start + (end - start) / 2\n",
    "        left, right = nums[mid - 1], nums[mid + 1]\n",
    "        if nums[mid] > left and nums[mid] > right:\n",
    "            return mid\n",
    "        if left > nums[mid] and nums[mid] > right:\n",
    "            end = mid\n",
    "        else:\n",
    "            start = mid\n",
    "    \n",
    "    if nums[start] > nums[start + 1]:\n",
    "        return start\n",
    "    \n",
    "    return end\n",
    "\n",
    "s = [1, 2, 1, 3, 4, 5, 7, 6]\n",
    "print findPeak(s)"
   ]
  },
  {
   "cell_type": "markdown",
   "metadata": {},
   "source": [
    "### No.12 First Bad Version\n",
    "\n",
    "The code base version is an integer start from 1 to n. One day, someone committed a bad version in the code case, so it caused this version and the following versions are all failed in the unit tests. Find the first bad version.\n",
    "\n",
    "You can call isBadVersion to help you determine which version is the first bad one. The details interface can be found in the code's annotation part.\n",
    "\n",
    "Example\n",
    "\n",
    "Given n = 5:\n",
    "\n",
    "isBadVersion(3) -> false\n",
    "\n",
    "isBadVersion(5) -> true\n",
    "\n",
    "isBadVersion(4) -> true\n",
    "\n",
    "Here we are 100% sure that the 4th version is the first bad version."
   ]
  },
  {
   "cell_type": "code",
   "execution_count": 84,
   "metadata": {
    "collapsed": true
   },
   "outputs": [],
   "source": [
    "def findFirstBadVersion(n):\n",
    "    start, end = 1, n\n",
    "    while start + 1 < end:\n",
    "        mid = start + (end - start) / 2\n",
    "        if SVNRepo.isBadVersion(mid) is False:\n",
    "            start = mid\n",
    "        else:\n",
    "            end = mid\n",
    "    \n",
    "    # The cornor case is first version is Bad\n",
    "    # or the last version is Bad.\n",
    "    if SVNRepo.isBadVersion(start) is False:\n",
    "        return end\n",
    "    \n",
    "    return start"
   ]
  },
  {
   "cell_type": "markdown",
   "metadata": {},
   "source": [
    "### No.13 Search in Rotated Sorted Array\n",
    "\n",
    "Suppose a sorted array is rotated at some pivot unknown to you beforehand.\n",
    "\n",
    "(i.e., 0 1 2 4 5 6 7 might become 4 5 6 7 0 1 2).\n",
    "\n",
    "You are given a target value to search. If found in the array return its index, otherwise return -1.\n",
    "\n",
    "You may assume no duplicate exists in the array.\n",
    "\n",
    "Example\n",
    "\n",
    "For [4, 5, 1, 2, 3] and target=1, return 2.\n",
    "\n",
    "For [4, 5, 1, 2, 3] and target=0, return -1.\n"
   ]
  },
  {
   "cell_type": "code",
   "execution_count": 97,
   "metadata": {
    "collapsed": false
   },
   "outputs": [
    {
     "name": "stdout",
     "output_type": "stream",
     "text": [
      "-1\n"
     ]
    }
   ],
   "source": [
    "def search(A, target):\n",
    "    if A is None or len(A) == 0:\n",
    "        return -1\n",
    "    \n",
    "    start, end = 0, len(A) - 1\n",
    "    while start + 1 < end:\n",
    "        mid = start + (end - start) / 2\n",
    "        if A[mid] > A[start]:\n",
    "            # in case of targt == A[start], we want \n",
    "            # to move end\n",
    "            if A[mid] > target and target >= A[start]:\n",
    "                end = mid\n",
    "            else:\n",
    "                start = mid\n",
    "        else:\n",
    "            # in case of target == A[end], we want \n",
    "            # to move start\n",
    "            if A[mid] < target and target <= A[end]:\n",
    "                start = mid\n",
    "            else:\n",
    "                end = mid\n",
    "\n",
    "    \n",
    "    # print start, end\n",
    "    if A[start] == target:\n",
    "        return start\n",
    "\n",
    "    if A[end] == target:\n",
    "        return end\n",
    "\n",
    "    return -1\n",
    "\n",
    "s = [4, 5, 1, 2, 3]\n",
    "print search(s, 9)\n",
    "                "
   ]
  },
  {
   "cell_type": "markdown",
   "metadata": {},
   "source": [
    "### No.14 Search for a Range\n",
    "Given a sorted array of n integers, find the starting and ending position of a given target value.\n",
    "\n",
    "If the target is not found in the array, return [-1, -1].\n",
    "\n",
    "Example:\n",
    "\n",
    "Given [5, 7, 7, 8, 8, 10] and target value 8,\n",
    "\n",
    "return [3, 4].\n"
   ]
  },
  {
   "cell_type": "code",
   "execution_count": 108,
   "metadata": {
    "collapsed": false
   },
   "outputs": [
    {
     "name": "stdout",
     "output_type": "stream",
     "text": [
      "2 3\n",
      "[0, 3]\n"
     ]
    }
   ],
   "source": [
    "def searchFirst(A, target):\n",
    "    if A is None or len(A) == 0:\n",
    "        return None\n",
    "    \n",
    "    start, end = 0, len(A) - 1\n",
    "    while start + 1 < end:\n",
    "        mid = start + (end - start) / 2\n",
    "        if A[mid] >= target:\n",
    "            end = mid\n",
    "        else:\n",
    "            start = mid\n",
    "    \n",
    "    if A[start] == target:\n",
    "        return start\n",
    "    \n",
    "    if A[end] == target:\n",
    "        return end\n",
    "    \n",
    "    return None\n",
    "\n",
    "def searchLast(A, target):\n",
    "    if A is None or len(A) == 0:\n",
    "        return None\n",
    "    \n",
    "    start, end = 0, len(A) - 1\n",
    "    while start + 1 < end:\n",
    "        mid = start + (end - start) / 2\n",
    "        if A[mid] > target:\n",
    "            end = mid\n",
    "        else:\n",
    "            start = mid\n",
    "\n",
    "    print start, end\n",
    "    \n",
    "    # put A[end] check first!!!!!\n",
    "    # if A[end] A[start] both == target\n",
    "    # we want to return end here!\n",
    "    if A[end] == target:\n",
    "        return end\n",
    "\n",
    "    if A[start] == target:\n",
    "        return start\n",
    "    \n",
    "    return None\n",
    "\n",
    "def searchRange(A, target):\n",
    "    if A is None or len(A) == 0:\n",
    "        return [-1, -1]\n",
    "    \n",
    "    first = searchFirst(A, target)\n",
    "    last = searchLast(A, target)\n",
    "    \n",
    "    if first is None or last is None:\n",
    "        return [-1, -1]\n",
    "    \n",
    "    return [first, last]\n",
    "    \n",
    "s = [4, 4, 4, 4]\n",
    "print searchRange(s, 4)"
   ]
  },
  {
   "cell_type": "markdown",
   "metadata": {},
   "source": [
    "### No.15 Total Occurrence of Target\n",
    "\n",
    "Given a target number and an integer array sorted in ascending order. Find the total number of occurrences of target in the array.\n",
    "\n",
    "Example\n",
    "\n",
    "Given [1, 3, 3, 4, 5] and target = 3, return 2.\n",
    "\n",
    "Given [2, 2, 3, 4, 6] and target = 4, return 1.\n",
    "\n",
    "Given [1, 2, 3, 4, 5] and target = 6, return 0."
   ]
  },
  {
   "cell_type": "code",
   "execution_count": 109,
   "metadata": {
    "collapsed": false
   },
   "outputs": [
    {
     "name": "stdout",
     "output_type": "stream",
     "text": [
      "2 3\n",
      "2\n"
     ]
    }
   ],
   "source": [
    "def searchFirst(A, target):\n",
    "    if A is None or len(A) == 0:\n",
    "        return None\n",
    "    \n",
    "    start, end = 0, len(A) - 1\n",
    "    while start + 1 < end:\n",
    "        mid = start + (end - start) / 2\n",
    "        if A[mid] >= target:\n",
    "            end = mid\n",
    "        else:\n",
    "            start = mid\n",
    "    \n",
    "    if A[start] == target:\n",
    "        return start\n",
    "    \n",
    "    if A[end] == target:\n",
    "        return end\n",
    "    \n",
    "    return None\n",
    "\n",
    "def searchLast(A, target):\n",
    "    if A is None or len(A) == 0:\n",
    "        return None\n",
    "    \n",
    "    start, end = 0, len(A) - 1\n",
    "    while start + 1 < end:\n",
    "        mid = start + (end - start) / 2\n",
    "        if A[mid] > target:\n",
    "            end = mid\n",
    "        else:\n",
    "            start = mid\n",
    "\n",
    "    # print start, end\n",
    "    \n",
    "    # put A[end] check first!!!!!\n",
    "    # if A[end] A[start] both == target\n",
    "    # we want to return end here!\n",
    "    if A[end] == target:\n",
    "        return end\n",
    "\n",
    "    if A[start] == target:\n",
    "        return start\n",
    "    \n",
    "    return None\n",
    "\n",
    "def totalOccurrence(A, target):\n",
    "    if A is None or len(A) == 0:\n",
    "        return 0\n",
    "    \n",
    "    first = searchFirst(A, target)\n",
    "    last = searchLast(A, target)\n",
    "    \n",
    "    if first is None or last is None:\n",
    "        return 0\n",
    "    \n",
    "    return last - first + 1\n",
    "\n",
    "s = [1, 3, 3, 4, 5]\n",
    "print totalOccurrence(s, 3)"
   ]
  },
  {
   "cell_type": "markdown",
   "metadata": {},
   "source": [
    "### No.16 Closest Number in Sorted Array\n",
    "\n",
    "Given a target number and an integer array A sorted in ascending order, find the index i in A such that A[i] is closest to the given target.\n",
    "\n",
    "Return -1 if there is no element in the array.\n",
    "\n",
    "Example\n",
    "\n",
    "Given [1, 2, 3] and target = 2, return 1.\n",
    "\n",
    "Given [1, 4, 6] and target = 3, return 1.\n",
    "\n",
    "Given [1, 4, 6] and target = 5, return 1 or 2.\n",
    "\n",
    "Given [1, 3, 3, 4] and target = 2, return 0 or 1 or 2.\n",
    "\n"
   ]
  },
  {
   "cell_type": "code",
   "execution_count": 114,
   "metadata": {
    "collapsed": false
   },
   "outputs": [
    {
     "name": "stdout",
     "output_type": "stream",
     "text": [
      "4\n"
     ]
    }
   ],
   "source": [
    "def closestNumber(A, target):\n",
    "    if A is None or len(A) == 0:\n",
    "        return None\n",
    "    \n",
    "    start, end = 0, len(A) - 1\n",
    "    while start + 1 < end:\n",
    "        mid = start + (end - start) / 2\n",
    "        if A[mid] >= target:\n",
    "            end = mid\n",
    "        else:\n",
    "            start = mid\n",
    "    \n",
    "    if A[end] - target < target - A[start]:\n",
    "        return end\n",
    "    \n",
    "    return start\n",
    "\n",
    "s = [1, 3, 3, 4, 5, 5, 5, 6]\n",
    "print closestNumber(s, 5)\n",
    "            "
   ]
  },
  {
   "cell_type": "markdown",
   "metadata": {},
   "source": [
    "### No.17 Last Position of Target\n",
    "Find the last position of a target number in a sorted array. Return -1 if target does not exist.\n",
    "\n",
    "Example\n",
    "\n",
    "Given [1, 2, 2, 4, 5, 5].\n",
    "\n",
    "For target = 2, return 2.\n",
    "\n",
    "For target = 5, return 5.\n",
    "\n",
    "For target = 6, return -1."
   ]
  },
  {
   "cell_type": "code",
   "execution_count": 115,
   "metadata": {
    "collapsed": true
   },
   "outputs": [],
   "source": [
    "def lastPosition(A, target):\n",
    "    if A is None or len(A) == 0:\n",
    "        return -1\n",
    "    \n",
    "    start, end = 0, len(A) - 1\n",
    "    while start + 1 < end:\n",
    "        mid = start + (end - start) / 2\n",
    "        if A[mid] > target:\n",
    "            end = mid\n",
    "        else:\n",
    "            start = mid\n",
    "\n",
    "    # print start, end\n",
    "    \n",
    "    # put A[end] check first!!!!!\n",
    "    # if A[end] A[start] both == target\n",
    "    # we want to return end here!\n",
    "    if A[end] == target:\n",
    "        return end\n",
    "\n",
    "    if A[start] == target:\n",
    "        return start\n",
    "    \n",
    "    return -1"
   ]
  },
  {
   "cell_type": "markdown",
   "metadata": {},
   "source": [
    "### No.18 Classical Binary Search\n",
    "Find any position of a target number in a sorted array. Return -1 if target does not exist.\n",
    "\n",
    "Example\n",
    "Given [1, 2, 2, 4, 5, 5].\n",
    "\n",
    "For target = 2, return 1 or 2.\n",
    "\n",
    "For target = 5, return 4 or 5.\n",
    "\n",
    "For target = 6, return -1."
   ]
  },
  {
   "cell_type": "code",
   "execution_count": 116,
   "metadata": {
    "collapsed": true
   },
   "outputs": [],
   "source": [
    "def findPosition(A, target):\n",
    "    if A is None or len(A) == 0:\n",
    "        return -1\n",
    "    \n",
    "    start, end = 0, len(A) - 1\n",
    "    while start + 1 < end:\n",
    "        mid = start + (end - start) / 2\n",
    "        if A[mid] > target:\n",
    "            end = mid\n",
    "        else:\n",
    "            start = mid\n",
    "    \n",
    "    if A[start] == target:\n",
    "        return start\n",
    "  \n",
    "    if A[end] == target:\n",
    "        return end\n",
    "\n",
    "    return -1"
   ]
  },
  {
   "cell_type": "markdown",
   "metadata": {},
   "source": [
    "### No.19 K Closest Numbers In Sorted Array\n",
    "Given a target number, a non-negative integer k and an integer array A sorted in ascending order, find the k closest numbers to target in A, sorted in ascending order by the difference between the number and target. Otherwise, sorted in ascending order by number if the difference is same.\n",
    "\n",
    "Example\n",
    "\n",
    "Given A = [1, 2, 3], target = 2 and k = 3, return [2, 1, 3].\n",
    "\n",
    "Given A = [1, 4, 6, 8], target = 3 and k = 3, return [4, 1, 6]."
   ]
  },
  {
   "cell_type": "code",
   "execution_count": null,
   "metadata": {
    "collapsed": true
   },
   "outputs": [],
   "source": [
    "def kClosestNumbers(A, target, k):\n",
    "    if A is None or len(A) == 0:\n",
    "        return []\n",
    "    \n",
    "    start, end = 0, len(A) - 1\n",
    "    while start + 1 < end:\n",
    "        mid = start + (end - start) / 2\n",
    "        if A[mid] > target:\n",
    "            end = mid\n",
    "        else:\n",
    "            start = mid\n",
    "            \n",
    "    # at this point we have start, end\n",
    "    ret = []\n",
    "    while len(ret) < k:\n",
    "        if start < 0:\n",
    "            ret.append(A[end])\n",
    "            end += 1\n",
    "        elif end > len(A) - 1:\n",
    "            ret.append(A[start])\n",
    "            start -= 1\n",
    "        elif A[end] - target < target - A[start]:\n",
    "            ret.append(A[end])\n",
    "            end += 1\n",
    "        else:\n",
    "            ret.append(A[start])\n",
    "            start -= 1\n",
    "\n",
    "    return ret"
   ]
  },
  {
   "cell_type": "markdown",
   "metadata": {},
   "source": [
    "### No.20 Wood Cut\n",
    "Given n pieces of wood with length L[i] (integer array). Cut them into small pieces to guarantee you could have equal or more than k pieces with the same length. What is the longest length you can get from the n pieces of wood? Given L & k, return the maximum length of the small pieces.\n",
    "\n",
    "Example\n",
    "\n",
    "For L=[232, 124, 456], k=7, return 114.\n"
   ]
  },
  {
   "cell_type": "code",
   "execution_count": null,
   "metadata": {
    "collapsed": true
   },
   "outputs": [],
   "source": [
    "def cutPieces(L, leng):\n",
    "    numPieces = 0\n",
    "    for i in L:\n",
    "        numPieces += (i / leng)\n",
    "    \n",
    "    return numPieces\n",
    "\n",
    "def woodCut(L, k):\n",
    "    # write your code here\n",
    "    if L is None or len(L) == 0:\n",
    "        return 0\n",
    "\n",
    "    if k > sum(L):\n",
    "        return 0\n",
    "\n",
    "    start, end = 1, max(L)\n",
    "    while start + 1 < end:\n",
    "        mid = start + (end - start) / 2\n",
    "        n = self.cutPieces(L, mid)\n",
    "        # if n < k, means, we need to decrease \n",
    "        # the lengh, by move end to mid\n",
    "        # which will decrease next mid\n",
    "        if n < k:\n",
    "            end = mid\n",
    "        else:\n",
    "            start = mid\n",
    "\n",
    "    if self.cutPieces(L, end) >= k:\n",
    "        return end\n",
    "\n",
    "    if self.cutPieces(L, start) >= k:\n",
    "        return start\n",
    "\n",
    "    # should never come here\n",
    "    return -1"
   ]
  },
  {
   "cell_type": "markdown",
   "metadata": {},
   "source": [
    "### No.21 Find Minimum in Rotated Sorted Array II\n",
    "Suppose a sorted array is rotated at some pivot unknown to you beforehand.\n",
    "\n",
    "(i.e., 0 1 2 4 5 6 7 might become 4 5 6 7 0 1 2).\n",
    "\n",
    "Find the minimum element.\n",
    "\n",
    "The array may contain duplicates.\n",
    "\n",
    "Example\n",
    "\n",
    "Given [4,4,5,6,7,0,1,2] return 0\n"
   ]
  },
  {
   "cell_type": "code",
   "execution_count": 1,
   "metadata": {
    "collapsed": true
   },
   "outputs": [],
   "source": [
    "def findMin(nums):\n",
    "    # Note: There is no O(lgn) solution\n",
    "    # Let's think about 1111121111111 ...\n",
    "    return min(nums)"
   ]
  },
  {
   "cell_type": "markdown",
   "metadata": {},
   "source": [
    "### No.22 Search in Rotated Sorted Array II\n",
    "Follow up for \"Search in Rotated Sorted Array\":\n",
    "What if duplicates are allowed?\n",
    "\n",
    "Would this affect the run-time complexity? How and why?\n",
    "\n",
    "Write a function to determine if a given target is in the array.\n"
   ]
  },
  {
   "cell_type": "code",
   "execution_count": 2,
   "metadata": {
    "collapsed": true
   },
   "outputs": [],
   "source": [
    "def search(A, target):\n",
    "    if A is None or len(A) == 0:\n",
    "        return False\n",
    "    \n",
    "    for i in xrange(len(A)):\n",
    "        if A[i] == target:\n",
    "            return True\n",
    "    \n",
    "    return False"
   ]
  },
  {
   "cell_type": "markdown",
   "metadata": {},
   "source": [
    "### No.23 Search a 2D Matrix II\n",
    "Write an efficient algorithm that searches for a value in an m x n matrix, return the occurrence of it.\n",
    "\n",
    "This matrix has the following properties:\n",
    "\n",
    "- Integers in each row are sorted from left to right.\n",
    "- Integers in each column are sorted from up to bottom.\n",
    "- No duplicate integers in each row or column.\n",
    "\n",
    "Example\n",
    "Consider the following matrix:\n",
    "```python\n",
    "[\n",
    "  [1, 3, 5, 7],\n",
    "  [2, 4, 7, 8],\n",
    "  [3, 5, 9, 10]\n",
    "]\n",
    "Given target = 3, return 2.\n",
    "```"
   ]
  },
  {
   "cell_type": "code",
   "execution_count": 3,
   "metadata": {
    "collapsed": true
   },
   "outputs": [],
   "source": [
    "def searchMatrix(matrix, target):\n",
    "    if matrix is None or len(matrix) == 0:\n",
    "        return 0\n",
    "\n",
    "    count = 0\n",
    "    curRow, curCol = 0, len(matrix[0]) - 1\n",
    "\n",
    "    while curRow < len(matrix) and curCol >= 0:\n",
    "        # print curRow, curCol\n",
    "        curValue = matrix[curRow][curCol]\n",
    "        if curValue == target:\n",
    "            count += 1\n",
    "        \n",
    "        # when curValue == target, we move down\n",
    "        if curValue > target:\n",
    "            curCol -= 1\n",
    "        else:\n",
    "            curRow += 1\n",
    "\n",
    "    return count"
   ]
  },
  {
   "cell_type": "markdown",
   "metadata": {},
   "source": [
    "### No.24 Maximum Depth of Binary Tree\n",
    "Given a binary tree, find its maximum depth.\n",
    "\n",
    "The maximum depth is the number of nodes along the longest path from the root node down to the farthest leaf node.\n",
    "\n",
    "Example\n",
    "Given a binary tree as follow:\n",
    "```python\n",
    "  1\n",
    " / \\ \n",
    "2   3\n",
    "   / \\\n",
    "  4   5\n",
    "  ```\n",
    "The maximum depth is 3.\n"
   ]
  },
  {
   "cell_type": "code",
   "execution_count": null,
   "metadata": {
    "collapsed": true
   },
   "outputs": [],
   "source": [
    "def maxDepth(root):\n",
    "    if root is None:\n",
    "        return 0\n",
    "    \n",
    "    if root.left is None and root.right is None:\n",
    "        return 1\n",
    "    \n",
    "    return max(maxDepth(root.left), maxDepth(root.right)) + 1"
   ]
  },
  {
   "cell_type": "markdown",
   "metadata": {},
   "source": [
    "### No.25 Binary Tree Preorder Traversal\n",
    "Given a binary tree, return the preorder traversal of its nodes' values.\n",
    "\n",
    "Example\n",
    "Given:\n",
    "```python\n",
    "    1\n",
    "   / \\\n",
    "  2   3\n",
    " / \\\n",
    "4   5\n",
    "```\n",
    "return [1,2,4,5,3].\n"
   ]
  },
  {
   "cell_type": "code",
   "execution_count": null,
   "metadata": {
    "collapsed": true
   },
   "outputs": [],
   "source": [
    "def preHelper(root, ret):\n",
    "    if root is None:\n",
    "        return\n",
    "    \n",
    "    ret.append(root.val)\n",
    "    preHelper(root.left, ret)\n",
    "    preHelper(root.right, ret)\n",
    "\n",
    "def preorderTraversal(root):\n",
    "    if root is None:\n",
    "        return []\n",
    "    \n",
    "    ret = []\n",
    "    preHelper(root, ret)\n",
    "    \n",
    "    return ret"
   ]
  },
  {
   "cell_type": "markdown",
   "metadata": {},
   "source": [
    "### No.26 Binary Tree Maximum Path Sum II\n",
    "Given a binary tree, find the maximum path sum from root.\n",
    "\n",
    "The path may end at any node in the tree and contain at least one node in it.\n",
    "\n",
    "Given the below binary tree:\n",
    "```python\n",
    "  1\n",
    " / \\\n",
    "2   3\n",
    "```\n",
    "return 4. (1->3)\n"
   ]
  },
  {
   "cell_type": "code",
   "execution_count": 5,
   "metadata": {
    "collapsed": true
   },
   "outputs": [],
   "source": [
    "def maxPathSum2(root):\n",
    "    if root is None:\n",
    "        return 0\n",
    "    \n",
    "    if root.left is None and root.right is None:\n",
    "        return root.val\n",
    "    \n",
    "    # Note: Do not forget to add 0, since we can end at any node!\n",
    "    return max(maxPathSum2(root.left), maxPathSum2(root.right), 0) + root.val"
   ]
  },
  {
   "cell_type": "markdown",
   "metadata": {},
   "source": [
    "### No.27 Inorder Successor in Binary Search Tree\n",
    "Given a binary search tree (See Definition) and a node in it, find the in-order successor of that node in the BST.\n",
    "\n",
    "Example:\n",
    "\n",
    "```python\n",
    "Given tree = [2,1] and node = 1:\n",
    "\n",
    "  2\n",
    " /\n",
    "1\n",
    "return node 2.\n",
    "\n",
    "Given tree = [2,1,3] and node = 2:\n",
    "\n",
    "  2\n",
    " / \\\n",
    "1   3\n",
    "return node 3.\n",
    "```"
   ]
  },
  {
   "cell_type": "code",
   "execution_count": null,
   "metadata": {
    "collapsed": true
   },
   "outputs": [],
   "source": [
    "def inorderSuccessor(root, p):\n",
    "    if root is None or p is None:\n",
    "        return None\n",
    "\n",
    "    if root == p:\n",
    "        return root.right\n",
    "\n",
    "    # First, if p have right child.\n",
    "    if p.right is not None:\n",
    "        cur = p.right\n",
    "        while cur.left is not None:\n",
    "            cur = cur.left\n",
    "        return cur\n",
    "\n",
    "    # p.right is None.\n",
    "    # Keep Temp to be None.\n",
    "    # it may happen that temp not updated\n",
    "    # which means there is no successor, and we \n",
    "    # should return None!\n",
    "    temp, cur = None, root\n",
    "    while cur is not None and cur != p:\n",
    "        if cur.val < p.val:\n",
    "            cur = cur.right\n",
    "        else:\n",
    "            temp = cur\n",
    "            cur = cur.left\n",
    "\n",
    "    return temp"
   ]
  },
  {
   "cell_type": "markdown",
   "metadata": {},
   "source": [
    "### No.28 Validate Binary Search Tree\n",
    "Given a binary tree, determine if it is a valid binary search tree (BST).\n",
    "\n",
    "Assume a BST is defined as follows:\n",
    "\n",
    "The left subtree of a node contains only nodes with keys less than the node's key.\n",
    "The right subtree of a node contains only nodes with keys greater than the node's key.\n",
    "Both the left and right subtrees must also be binary search trees.\n",
    "A single node tree is a BST\n",
    "\n",
    "Example\n",
    "An example:\n",
    "```python\n",
    "  2\n",
    " / \\\n",
    "1   4\n",
    "   / \\\n",
    "  3   5\n",
    "```\n",
    "The above binary tree is serialized as {2,1,4,#,#,3,5} (in level order).\n"
   ]
  },
  {
   "cell_type": "code",
   "execution_count": 6,
   "metadata": {
    "collapsed": true
   },
   "outputs": [],
   "source": [
    "def helper(root, inorder):\n",
    "    if root is None:\n",
    "        return\n",
    "    \n",
    "    helper(root.left, inorder)\n",
    "    inorder.append(root.val)\n",
    "    helper(root.right, inorder)\n",
    "\n",
    "# inorder traverse of BST should be in ascending order\n",
    "def isValidBST(root):\n",
    "    if root is None:\n",
    "        return True\n",
    "\n",
    "    inorder = []\n",
    "    helper(root, inorder)\n",
    "    \n",
    "    for i in xrange(1, len(inorder)):\n",
    "        if inorder[i] <= inorder[i - 1]:\n",
    "            return False\n",
    "\n",
    "    return False"
   ]
  },
  {
   "cell_type": "markdown",
   "metadata": {},
   "source": [
    "### No.29 Binary Tree Maximum Path Sum\n",
    "Given a binary tree, find the maximum path sum.\n",
    "\n",
    "The path may start and end at any node in the tree.\n",
    "\n",
    "Example\n",
    "Given the below binary tree:\n",
    "```python\n",
    "  1\n",
    " / \\\n",
    "2   3\n",
    "```\n",
    "return 6."
   ]
  },
  {
   "cell_type": "code",
   "execution_count": 7,
   "metadata": {
    "collapsed": true
   },
   "outputs": [],
   "source": [
    "\"\"\"\n",
    "Definition of TreeNode:\n",
    "class TreeNode:\n",
    "    def __init__(self, val):\n",
    "        self.val = val\n",
    "        self.left, self.right = None, None\n",
    "\"\"\"\n",
    "def helper(self, root):\n",
    "    # for NULL node, we can not pick it for maxlength\n",
    "    # hence using -sys.maxint\n",
    "    if root is None:\n",
    "        return 0, -sys.maxint\n",
    "    \n",
    "    # for node with no children, maxDepth can be 0\n",
    "    # but maxlength can not be 0, since we must at\n",
    "    # lease have one node in a path\n",
    "    if root.left is None and root.right is None:\n",
    "        return max(root.val, 0), root.val\n",
    "\n",
    "    maxDepthLeft, maxlengthLeft = self.helper(root.left)\n",
    "    maxDepthRight, maxLengthRight = self.helper(root.right)\n",
    "\n",
    "    return max(max(maxDepthLeft, maxDepthRight) + root.val, 0), \\\n",
    "               max(maxlengthLeft, maxLengthRight, maxDepthLeft + maxDepthRight + root.val)\n",
    "\n",
    "def maxPathSum(self, root):\n",
    "    # write your code here\n",
    "    if root is None:\n",
    "        return 0\n",
    "\n",
    "    maxDepth, maxlength = self.helper(root)\n",
    "\n",
    "    return maxlength\n",
    "    \n",
    "    "
   ]
  },
  {
   "cell_type": "markdown",
   "metadata": {},
   "source": [
    "### No.30 Balanced Binary Tree\n",
    "Given a binary tree, determine if it is height-balanced.\n",
    "\n",
    "For this problem, a height-balanced binary tree is defined as a binary tree in which the depth of the two subtrees of every node never differ by more than 1.\n",
    "\n",
    "Example\n",
    "\n",
    "```python\n",
    "Given binary tree A={3,9,20,#,#,15,7}, B={3,#,20,15,7}\n",
    "\n",
    "A)  3            B)    3 \n",
    "   / \\                  \\\n",
    "  9  20                 20\n",
    "    /  \\                / \\\n",
    "   15   7              15  7\n",
    "```\n",
    "The binary tree A is a height-balanced binary tree, but B is not."
   ]
  },
  {
   "cell_type": "code",
   "execution_count": 8,
   "metadata": {
    "collapsed": true
   },
   "outputs": [],
   "source": [
    "def isBalanced(self, root):\n",
    "    # write your code here\n",
    "    if root is None:\n",
    "        return True\n",
    "\n",
    "    depth, isBalanced = self.helper(root)\n",
    "\n",
    "    return isBalanced\n",
    "\n",
    "\n",
    "def helper(self, root):\n",
    "    if root is None:\n",
    "        return 0, True\n",
    "\n",
    "    d1, is1 = self.helper(root.left)\n",
    "    d2, is2 = self.helper(root.right)\n",
    "    if is1 is True and is2 is True and abs(d1 - d2) <= 1:\n",
    "        return max(d1, d2) + 1, True\n",
    "    \n",
    "    # we don't care about the first return value here\n",
    "    return 0, False\n",
    "    "
   ]
  },
  {
   "cell_type": "markdown",
   "metadata": {},
   "source": [
    "### No.31 Lowest Common Ancestor\n",
    "Given the root and two nodes in a Binary Tree. Find the lowest common ancestor(LCA) of the two nodes.\n",
    "\n",
    "The lowest common ancestor is the node with largest depth which is the ancestor of both nodes.\n",
    "\n",
    "Example\n",
    "\n",
    "For the following binary tree:\n",
    "```python\n",
    "  4\n",
    " / \\\n",
    "3   7\n",
    "   / \\\n",
    "  5   6\n",
    "```\n",
    "LCA(3, 5) = 4\n",
    "\n",
    "LCA(5, 6) = 7\n",
    "\n",
    "LCA(6, 7) = 7"
   ]
  },
  {
   "cell_type": "code",
   "execution_count": 11,
   "metadata": {
    "collapsed": true
   },
   "outputs": [],
   "source": [
    " def lowestCommonAncestor(self, root, A, B):\n",
    "    # write your code here\n",
    "    if root is None:\n",
    "        return None\n",
    "    \n",
    "    # if we hit A or B, return root\n",
    "    if root is A or root is B:\n",
    "        return root\n",
    "\n",
    "    left = self.lowestCommonAncestor(root.left, A, B)\n",
    "    right = self.lowestCommonAncestor(root.right, A, B)\n",
    "\n",
    "    if left is not None and right is not None:\n",
    "        return root\n",
    "    if left is not None:\n",
    "        return left\n",
    "    if right is not None:\n",
    "        return right\n",
    "    return None"
   ]
  },
  {
   "cell_type": "markdown",
   "metadata": {
    "collapsed": true
   },
   "source": [
    "### No.32  Binary Tree Level Order Traversal \n",
    "Given a binary tree, return the level order traversal of its nodes' values. (ie, from left to right, level by level).\\\n",
    "\n",
    " Example\n",
    "\n",
    "Given binary tree {3,9,20,#,#,15,7},\n",
    "```python\n",
    "    3\n",
    "   / \\\n",
    "  9  20\n",
    "    /  \\\n",
    "   15   7\n",
    "```\n",
    "\n",
    "return its level order traversal as:\n",
    "```python\n",
    "[\n",
    "  [3],\n",
    "  [9,20],\n",
    "  [15,7]\n",
    "]\n",
    "```\n"
   ]
  },
  {
   "cell_type": "code",
   "execution_count": null,
   "metadata": {
    "collapsed": true
   },
   "outputs": [],
   "source": [
    "from collections import deque\n",
    "def levelOrder(root):\n",
    "    if root is None:\n",
    "        return []\n",
    "\n",
    "    q1 = deque()\n",
    "    q2 = deque()\n",
    "    q1.append(root)\n",
    "    local, ret = [], []\n",
    "\n",
    "    while len(q1) > 0:\n",
    "        temp = q1.popleft()\n",
    "        local.append(temp.val)\n",
    "        \n",
    "        # only append when left node is not None!\n",
    "        if temp.left:\n",
    "            q2.append(temp.left)\n",
    "        \n",
    "        # only append when right node is not None!\n",
    "        if temp.right:\n",
    "            q2.append(temp.right)\n",
    "\n",
    "        if len(q1) == 0:\n",
    "            # append local to ret, swap q1 and q2\n",
    "            ret.append([] + local)\n",
    "            local = []\n",
    "            tempq = q1\n",
    "            q1 = q2\n",
    "            q2 = tempq\n",
    "\n",
    "    return ret"
   ]
  },
  {
   "cell_type": "markdown",
   "metadata": {},
   "source": [
    "### No.33 Binary Search Tree Iterator \n",
    "\n",
    "Design an iterator over a binary search tree with the following rules:\n",
    "\n",
    "    Elements are visited in ascending order (i.e. an in-order traversal)\n",
    "    next() and hasNext() queries run in O(1) time in average.\n",
    "\n",
    "Example\n",
    "\n",
    "For the following binary search tree, in-order traversal by using iterator is [1, 6, 10, 11, 12]\n",
    "```python\n",
    "   10\n",
    " /    \\\n",
    "1      11\n",
    " \\       \\\n",
    "  6       12\n",
    "```"
   ]
  },
  {
   "cell_type": "code",
   "execution_count": 12,
   "metadata": {
    "collapsed": true
   },
   "outputs": [],
   "source": [
    "# Using the same method of traverse the tree with inorder \n",
    "# iteratively.\n",
    "\n",
    "class BSTIterator:\n",
    "    #@param root: The root of binary tree.\n",
    "    def __init__(self, root):\n",
    "        # write your code here\n",
    "        self.stack = []\n",
    "        self.cur = root\n",
    "\n",
    "    #@return: True if there has next node, or false\n",
    "    def hasNext(self):\n",
    "        # write your code here\n",
    "        return len(self.stack) > 0 or self.cur != None\n",
    "\n",
    "    #@return: return next node\n",
    "    def next(self):\n",
    "        #write your code here\n",
    "        while self.cur is not None:\n",
    "            self.stack.append(self.cur)\n",
    "            self.cur = self.cur.left\n",
    "        \n",
    "        self.cur = self.stack.pop()\n",
    "        nxt = self.cur\n",
    "        self.cur = self.cur.right\n",
    "        return nxt"
   ]
  },
  {
   "cell_type": "markdown",
   "metadata": {},
   "source": [
    "### No.34 Binary Tree Path Sum \n",
    "Given a binary tree, find all paths that sum of the nodes in the path equals to a given number target.\n",
    "\n",
    "A valid path is from root node to any of the leaf nodes.\n",
    "\n",
    " Example\n",
    "\n",
    "Given a binary tree, and target = 5:\n",
    "```python\n",
    "     1\n",
    "    / \\\n",
    "   2   4\n",
    "  / \\\n",
    " 2   3\n",
    "```\n",
    "return\n",
    "```python\n",
    "[\n",
    "  [1, 2, 2],\n",
    "  [1, 4]\n",
    "]\n",
    "```\n"
   ]
  },
  {
   "cell_type": "code",
   "execution_count": null,
   "metadata": {
    "collapsed": true
   },
   "outputs": [],
   "source": [
    "def binaryTreePathSum(self, root, target):\n",
    "    # Write your code here\n",
    "    if root is None:\n",
    "        return []\n",
    "\n",
    "    ret = []\n",
    "    path = []\n",
    "    path.append(root.val)\n",
    "    self.dfs(root, target, ret, path)\n",
    "\n",
    "    return ret\n",
    "\n",
    "def dfs(self, root, target, ret, path):\n",
    "    # if root left is None and root right is None, return\n",
    "    if root.left is None and root.right is None and sum(path) == target:\n",
    "        ret.append([] + path)\n",
    "\n",
    "    if root.left:\n",
    "        path.append(root.left.val)\n",
    "        self.dfs(root.left, target, ret, path)\n",
    "        path.pop()\n",
    "\n",
    "    if root.right:\n",
    "        path.append(root.right.val)\n",
    "        self.dfs(root.right, target, ret, path)\n",
    "        path.pop()"
   ]
  },
  {
   "cell_type": "markdown",
   "metadata": {},
   "source": [
    "### No.35 Lowest Common Ancestor II \n",
    "\n",
    "\n",
    "Given the root and two nodes in a Binary Tree. Find the lowest common ancestor(LCA) of the two nodes.\n",
    "\n",
    "The lowest common ancestor is the node with largest depth which is the ancestor of both nodes.\n",
    "\n",
    "The node has an extra attribute parent which point to the father of itself. The root's parent is null.\n",
    "\n",
    " Example\n",
    "\n",
    "For the following binary tree:\n",
    "```python\n",
    "  4\n",
    " / \\\n",
    "3   7\n",
    "   / \\\n",
    "  5   6\n",
    "```\n",
    "LCA(3, 5) = 4\n",
    "\n",
    "LCA(5, 6) = 7\n",
    "\n",
    "LCA(6, 7) = 7\n"
   ]
  },
  {
   "cell_type": "code",
   "execution_count": 13,
   "metadata": {
    "collapsed": true
   },
   "outputs": [],
   "source": [
    "# First, for A and B, get path towards Root\n",
    "# Pop from both list, compare the node, if \n",
    "#　not equal or out of bound, return previous node.\n",
    "\n",
    "def lowestCommonAncestorII(self, root, A, B):\n",
    "    # Write your code here\n",
    "    listA, listB = [], []\n",
    "\n",
    "    while A is not None:\n",
    "        listA.append(A)\n",
    "        A = A.parent\n",
    "\n",
    "    while B is not None:\n",
    "        listB.append(B)\n",
    "        B = B.parent\n",
    "\n",
    "    aNode, bNode = listA.pop(), listB.pop()\n",
    "    while aNode == bNode:\n",
    "        temp = aNode\n",
    "        if len(listA) == 0 or len(listB) == 0:\n",
    "            break\n",
    "        aNode = listA.pop()\n",
    "        bNode = listB.pop()\n",
    "\n",
    "    return temp\n",
    "    "
   ]
  },
  {
   "cell_type": "markdown",
   "metadata": {},
   "source": [
    "### No.36 Tweaked Identical Binary Tree \n",
    "Check two given binary trees are identical or not. Assuming any number of tweaks are allowed. A tweak is defined as a swap of the children of one node in the tree.\n",
    " Example\n",
    "```python\n",
    "    1             1\n",
    "   / \\           / \\\n",
    "  2   3   and   3   2\n",
    " /                   \\\n",
    "4                     4\n",
    "\n",
    "are identical.\n",
    "\n",
    "    1             1\n",
    "   / \\           / \\\n",
    "  2   3   and   3   2\n",
    " /             /\n",
    "4             4\n",
    "\n",
    "are not identical.\n",
    "```"
   ]
  },
  {
   "cell_type": "code",
   "execution_count": 14,
   "metadata": {
    "collapsed": true
   },
   "outputs": [],
   "source": [
    "def isTweakedIdentical(self, a, b):\n",
    "    # Write your code here\n",
    "    if a is None and b is None:\n",
    "        return True\n",
    "\n",
    "    if a is None or b is None:\n",
    "        return False\n",
    "    \n",
    "    if a.val != b.val:\n",
    "        return False\n",
    "\n",
    "    return self.isTweakedIdentical(a.left, b.left) and self.isTweakedIdentical(a.right, b.right) \\\n",
    "          or self.isTweakedIdentical(a.left, b.right) and self.isTweakedIdentical(a.right, b.left)"
   ]
  },
  {
   "cell_type": "markdown",
   "metadata": {},
   "source": [
    "### No.37 Symmetric Binary Tree \n",
    "Given a binary tree, check whether it is a mirror of itself (i.e., symmetric around its center).\n",
    "\n",
    " Example\n",
    "```python\n",
    "    1\n",
    "   / \\\n",
    "  2   2\n",
    " / \\ / \\\n",
    "3  4 4  3\n",
    "\n",
    "is a symmetric binary tree.\n",
    "\n",
    "    1\n",
    "   / \\\n",
    "  2   2\n",
    "   \\   \\\n",
    "   3    3\n",
    "\n",
    "is not a symmetric binary tree.\n",
    "```"
   ]
  },
  {
   "cell_type": "markdown",
   "metadata": {},
   "source": [
    "#### Thoughts:\n",
    "- start from root, check left is mirror to right\n",
    "- left is morror to right = left.val == right.val, and left.left is morror to right.right, left.right is mirror to right.left"
   ]
  },
  {
   "cell_type": "code",
   "execution_count": null,
   "metadata": {
    "collapsed": true
   },
   "outputs": [],
   "source": [
    "def isMirror(A, B):\n",
    "    if A is None and B is None:\n",
    "        return True\n",
    "    \n",
    "    if A is None or B is None:\n",
    "        return False\n",
    "    \n",
    "    return A.val == B.val and isMirror(A.left, B.right) \\\n",
    "            and isMirror(A.right, B.left)\n",
    "\n",
    "def isSymmetric(root):\n",
    "    if root is None:\n",
    "        return True\n",
    "    \n",
    "    return isMirror(root.left, root.right)"
   ]
  },
  {
   "cell_type": "markdown",
   "metadata": {},
   "source": [
    "### No.38 Complete Binary Tree\n",
    "Check a binary tree is completed or not. A complete binary tree is a binary tree that every level is completed filled except the deepest level. In the deepest level, all nodes must be as left as possible. See more definition.\n",
    "\n",
    " Example\n",
    "```python\n",
    "    1\n",
    "   / \\\n",
    "  2   3\n",
    " /\n",
    "4\n",
    "\n",
    "is a complete binary.\n",
    "\n",
    "    1\n",
    "   / \\\n",
    "  2   3\n",
    "   \\\n",
    "    4\n",
    "\n",
    "is not a complete binary.\n",
    "```"
   ]
  },
  {
   "cell_type": "markdown",
   "metadata": {},
   "source": [
    "#### Thoughts:\n",
    "- Using level order traversal, push \"#\" for Null node\n",
    "- Whenever we met \"#\", but this is not the last element of the queue, return False"
   ]
  },
  {
   "cell_type": "code",
   "execution_count": 16,
   "metadata": {
    "collapsed": false
   },
   "outputs": [],
   "source": [
    "from collections import deque\n",
    "def isComplete(self, root):\n",
    "    # Write your code here\n",
    "    if root is None:\n",
    "        return True\n",
    "\n",
    "    q = deque()\n",
    "    q.append(root)\n",
    "    pending = False\n",
    "    \n",
    "    # Remember always use len > 0 rather than q is None!!!!\n",
    "    while len(q) > 0:\n",
    "        temp = q.popleft()\n",
    "        if temp == None:\n",
    "            if pending is False:\n",
    "                pending = True\n",
    "                continue\n",
    "            else:\n",
    "                continue\n",
    "\n",
    "        if temp != None and pending is True:\n",
    "            return False\n",
    "\n",
    "        q.append(temp.left)\n",
    "        q.append(temp.right)\n",
    "\n",
    "    return True"
   ]
  },
  {
   "cell_type": "markdown",
   "metadata": {},
   "source": [
    "### No.39 Minimum Depth of Binary Tree\n",
    "\n",
    "\n",
    "Given a binary tree, find its minimum depth.\n",
    "\n",
    "The minimum depth is the number of nodes along the shortest path from the root node down to the nearest leaf node.\n",
    "\n",
    " Example\n",
    "\n",
    "Given a binary tree as follow:\n",
    "```python\n",
    "  1\n",
    " / \\ \n",
    "2   3\n",
    "   / \\\n",
    "  4   5\n",
    "\n",
    "The minimum depth is 2.\n",
    "```\n"
   ]
  },
  {
   "cell_type": "markdown",
   "metadata": {},
   "source": [
    "#### Thoughts:\n",
    "- root is None, return 0\n",
    "- root.left is None and root.right is None, return 1\n",
    "- return min(minDepth(left), minDepth(right)) + 1\n",
    "- Note that root is not a leaf node!!!!!!"
   ]
  },
  {
   "cell_type": "code",
   "execution_count": 19,
   "metadata": {
    "collapsed": true
   },
   "outputs": [],
   "source": [
    "def minDepth(self, root):\n",
    "    # write your code here\n",
    "    if root is None:\n",
    "        return 0\n",
    "\n",
    "    left = self.minDepth(root.left)\n",
    "    right = self.minDepth(root.right)\n",
    "\n",
    "    if left == 0:\n",
    "        return right + 1\n",
    "    if right == 0:\n",
    "        return left + 1\n",
    "    \n",
    "    return min(left, right) + 1"
   ]
  },
  {
   "cell_type": "markdown",
   "metadata": {},
   "source": [
    "### No.40 Insert Node in a Binary Search Tree\n",
    "Given a binary search tree and a new tree node, insert the node into the tree. You should keep the tree still be a valid binary search tree.\n",
    "\n",
    " Example\n",
    "\n",
    "Given binary search tree as follow, after Insert node 6, the tree should be:\n",
    "```python\n",
    "  2             2\n",
    " / \\           / \\\n",
    "1   4   -->   1   4\n",
    "   /             / \\ \n",
    "  3             3   6\n",
    "```\n",
    "\n",
    "\n"
   ]
  },
  {
   "cell_type": "code",
   "execution_count": 20,
   "metadata": {
    "collapsed": true
   },
   "outputs": [],
   "source": [
    "def insertNode(root, node):\n",
    "    if root is None:\n",
    "        return node\n",
    "    \n",
    "    pre, cur = None, root\n",
    "    while cur is not None:\n",
    "        pre = cur\n",
    "        if cur.val < node.val:\n",
    "            cur = cur.right\n",
    "        else:\n",
    "            cur = cur.left\n",
    "    \n",
    "    if pre.val > node.val:\n",
    "        pre.left = node\n",
    "    else:\n",
    "        pre.right = node\n",
    "   \n",
    "    return root"
   ]
  },
  {
   "cell_type": "markdown",
   "metadata": {},
   "source": [
    "### No.41 Binary Tree Postorder Traversal \n",
    "\n",
    "\n",
    "Given a binary tree, return the postorder traversal of its nodes' values.\n",
    " Example\n",
    "\n",
    "Given binary tree {1,#,2,3},\n",
    "```python\n",
    "   1\n",
    "    \\\n",
    "     2\n",
    "    /\n",
    "   3\n",
    "   \n",
    "return [3,2,1].\n",
    "```\n",
    "\n"
   ]
  },
  {
   "cell_type": "code",
   "execution_count": 21,
   "metadata": {
    "collapsed": true
   },
   "outputs": [],
   "source": [
    "def helper(root, ret):\n",
    "    if root is None:\n",
    "        return\n",
    "    \n",
    "    helper(root.left, ret)\n",
    "    helper(root.right, ret)\n",
    "    ret.append(root.val)\n",
    "\n",
    "def postOrder(root):\n",
    "    if root is None:\n",
    "        return []\n",
    "    \n",
    "    ret = []\n",
    "    helper(root, ret)\n",
    "    \n",
    "    return ret"
   ]
  },
  {
   "cell_type": "markdown",
   "metadata": {},
   "source": [
    "### No.42 Binary Tree Inorder Traversal\n",
    "\n",
    "Given a binary tree, return the inorder traversal of its nodes' values.\n",
    " Example\n",
    "\n",
    "Given binary tree {1,#,2,3},\n",
    "```python\n",
    "   1\n",
    "    \\\n",
    "     2\n",
    "    /\n",
    "   3\n",
    "```\n",
    "return [1,3,2].\n"
   ]
  },
  {
   "cell_type": "code",
   "execution_count": 22,
   "metadata": {
    "collapsed": true
   },
   "outputs": [],
   "source": [
    "# Non-recursive\n",
    "def inorderTraversal(root):\n",
    "    if root is None:\n",
    "        return []\n",
    "\n",
    "    stack, ret = [], []\n",
    "\n",
    "    cur = root\n",
    "    # Note: cur is not None!\n",
    "    # since root is not None so we can \n",
    "    # get into the loop\n",
    "    while len(stack) > 0 or cur is not None:\n",
    "        while cur is not None:\n",
    "            stack.append(cur)\n",
    "            cur = cur.left\n",
    "\n",
    "        cur = stack.pop()\n",
    "        ret.append(cur.val)\n",
    "        cur = cur.right\n",
    "    return ret\n"
   ]
  },
  {
   "cell_type": "markdown",
   "metadata": {},
   "source": [
    "### No.43 Construct Binary Tree from Preorder and Inorder Traversal\n",
    "Given preorder and inorder traversal of a tree, construct the binary tree.\n",
    "\n",
    " Example\n",
    "\n",
    "Given in-order [1,2,3] and pre-order [2,1,3], return a tree:\n",
    "```python\n",
    "  2\n",
    " / \\\n",
    "1   3\n",
    "```\n"
   ]
  },
  {
   "cell_type": "markdown",
   "metadata": {},
   "source": [
    "#### Thoughts:\n",
    "- We can use the fact that pre-order start from root\n",
    "- after we get root, we devide the tree in two parts: less than and greater than. use divide conque to solve the problem"
   ]
  },
  {
   "cell_type": "code",
   "execution_count": 25,
   "metadata": {
    "collapsed": false
   },
   "outputs": [],
   "source": [
    "def helper(self, preorder, inorder, root):\n",
    "    if len(preorder) == 0:\n",
    "        return\n",
    "\n",
    "    curValue = root.val\n",
    "    left_in, right_in = [], []\n",
    "\n",
    "    pos = inorder.index(preorder[0])\n",
    "    left_in = inorder[:pos]\n",
    "    right_in = inorder[pos + 1:]\n",
    "\n",
    "\n",
    "    left_pre, right_pre = [], []\n",
    "    for i in range(len(preorder)):\n",
    "        if preorder[i] in left_in:\n",
    "            left_pre.append(preorder[i])\n",
    "        if preorder[i] in right_in:\n",
    "            right_pre.append(preorder[i])\n",
    "\n",
    "    if len(left_pre) > 0:\n",
    "        root_left = TreeNode(left_pre[0])\n",
    "    else:\n",
    "        root_left = None\n",
    "\n",
    "    if len(right_pre) > 0:\n",
    "        root_right = TreeNode(right_pre[0])\n",
    "    else:\n",
    "        root_right = None\n",
    "\n",
    "    root.left = root_left\n",
    "    root.right = root_right\n",
    "    self.helper(left_pre, left_in, root_left)\n",
    "    self.helper(right_pre, right_in, root_right)\n",
    "\n",
    "    return\n",
    "\n",
    "def buildTree(self, preorder, inorder):\n",
    "    # write your code here\n",
    "    if len(preorder) == 0:\n",
    "        return None\n",
    "\n",
    "    root = TreeNode(preorder[0])\n",
    "    self.helper(preorder, inorder, root)\n",
    "\n",
    "    return root"
   ]
  },
  {
   "cell_type": "markdown",
   "metadata": {},
   "source": [
    "### No.44 Construct Binary Tree from Inorder and Postorder Traversal\n",
    "Given inorder and postorder traversal of a tree, construct the binary tree.\n",
    "\n",
    " Example\n",
    "\n",
    "Given inorder [1,2,3] and postorder [1,3,2], return a tree:\n",
    "```python\n",
    "  2\n",
    " / \\\n",
    "1   3\n",
    "```\n"
   ]
  },
  {
   "cell_type": "code",
   "execution_count": 26,
   "metadata": {
    "collapsed": true
   },
   "outputs": [],
   "source": [
    "def helper(inorder, postorder):\n",
    "    if len(inorder) == 0:\n",
    "        return None\n",
    "    \n",
    "    head = TreeNode(postorder[-1])\n",
    "    pos = inorder.index(postorder[-1])\n",
    "    \n",
    "    inleft = inorder[:pos]\n",
    "    inright = inorder[pos + 1:]\n",
    "    \n",
    "    postleft, postright = [], []\n",
    "    for i in xrange(len(postorder)):\n",
    "        if postorder[i] in inleft:\n",
    "            postleft.append(postorder[i])\n",
    "        elif postorder[i] in inright:\n",
    "            postright.append(postorder[i])\n",
    "    \n",
    "    left = helper(inleft, postleft)\n",
    "    right = helper(inright, postright)\n",
    "    head.left = left\n",
    "    head.right = right\n",
    "    \n",
    "    return head\n",
    "\n",
    "def buildTree(inorder, postorder):\n",
    "    if len(inorder) == 0:\n",
    "        return None\n",
    "\n",
    "    head = helper(inorder, postorder)\n",
    "    \n",
    "    return head"
   ]
  },
  {
   "cell_type": "markdown",
   "metadata": {},
   "source": [
    "### No.45  Binary Tree Zigzag Level Order Traversal \n",
    "Given a binary tree, return the zigzag level order traversal of its nodes' values. (ie, from left to right, then right to left for the next level and alternate between).\n",
    "\n",
    "Given binary tree {3,9,20,#,#,15,7},\n",
    "```python\n",
    "    3\n",
    "   / \\\n",
    "  9  20\n",
    "    /  \\\n",
    "   15   7\n",
    "```\n",
    "return its zigzag level order traversal as:\n",
    "```python\n",
    "[\n",
    "  [3],\n",
    "  [20,9],\n",
    "  [15,7]\n",
    "]\n",
    "```"
   ]
  },
  {
   "cell_type": "code",
   "execution_count": null,
   "metadata": {
    "collapsed": true
   },
   "outputs": [],
   "source": [
    "from collections import deque\n",
    "\n",
    "def zigzagLevelOrder(self, root):\n",
    "    # write your code here\n",
    "    if root is None:\n",
    "        return []\n",
    "\n",
    "    q1, q2 = deque(), deque()\n",
    "    local, ret = [], []\n",
    "    oddlevel = True\n",
    "\n",
    "    q1.append(root)\n",
    "    while len(q1) > 0:\n",
    "        temp = q1.popleft()\n",
    "        local.append(temp.val)\n",
    "        if temp.left:\n",
    "            q2.append(temp.left)\n",
    "        if temp.right:\n",
    "            q2.append(temp.right)\n",
    "\n",
    "        if len(q1) == 0:\n",
    "            temp = q1\n",
    "            q1 = q2\n",
    "            q2 = temp\n",
    "            if not oddlevel:\n",
    "                local.reverse()\n",
    "            ret.append([] + local)\n",
    "            oddlevel = not oddlevel\n",
    "            local = []\n",
    "\n",
    "    return ret\n",
    "    \n"
   ]
  },
  {
   "cell_type": "markdown",
   "metadata": {},
   "source": [
    "### No.46 Binary Tree Level Order Traversal II\n",
    "Given a binary tree, return the bottom-up level order traversal of its nodes' values. (ie, from left to right, level by level from leaf to root).\n",
    "Given binary tree {3,9,20,#,#,15,7},\n",
    "```python\n",
    "    3\n",
    "   / \\\n",
    "  9  20\n",
    "    /  \\\n",
    "   15   7\n",
    "```\n",
    "return its bottom-up level order traversal as:\n",
    "```python\n",
    "[\n",
    "  [15,7],\n",
    "  [9,20],\n",
    "  [3]\n",
    "]\n",
    "```"
   ]
  },
  {
   "cell_type": "code",
   "execution_count": 29,
   "metadata": {
    "collapsed": true
   },
   "outputs": [],
   "source": [
    "from collections import deque\n",
    "def levelOrderBottom(root):\n",
    "    if not root:\n",
    "        return []\n",
    "    \n",
    "    q = deque()\n",
    "    ret = []\n",
    "    q.append(root)\n",
    "    \n",
    "    while q:\n",
    "        local = []\n",
    "        for i in xrange(len(q)):\n",
    "            node = q.popleft()\n",
    "            local.append(node.val)\n",
    "            if node.left:\n",
    "                q.append(node.left)\n",
    "            if node.right:\n",
    "                q.append(node.right)\n",
    "        \n",
    "        ret.insert(0, local)\n",
    "    \n",
    "    return ret"
   ]
  },
  {
   "cell_type": "markdown",
   "metadata": {},
   "source": [
    "### No.47 Search Range in Binary Search Tree\n",
    "Given two values k1 and k2 (where k1 < k2) and a root pointer to a Binary Search Tree. Find all the keys of tree in range k1 to k2. i.e. print all x such that k1<=x<=k2 and x is a key of given BST. Return all the keys in ascending order.\n",
    "\n",
    " Example\n",
    "\n",
    "If k1 = 10 and k2 = 22, then your function should return [12, 20, 22].\n",
    "```python\n",
    "    20\n",
    "   /  \\\n",
    "  8   22\n",
    " / \\\n",
    "4   12\n",
    "```\n"
   ]
  },
  {
   "cell_type": "markdown",
   "metadata": {},
   "source": [
    "#### Revursive:"
   ]
  },
  {
   "cell_type": "code",
   "execution_count": null,
   "metadata": {
    "collapsed": true
   },
   "outputs": [],
   "source": [
    "def helper(root, k1, k2, ret):\n",
    "    if not root:\n",
    "        return\n",
    "    \n",
    "    helper(root.left, k1, k2, ret)\n",
    "    if root.val >= k1 and root.val <= k2:\n",
    "        ret.append(root.val)\n",
    "    helper(root.right, k1, k2, ret)\n",
    "\n",
    "def searchRange(root, k1, k2):\n",
    "    if not root:\n",
    "        return []\n",
    "    \n",
    "    ret = []\n",
    "    helper(root, k1, k2, ret)\n",
    "    \n",
    "    return ret"
   ]
  },
  {
   "cell_type": "markdown",
   "metadata": {},
   "source": [
    "#### Non-recursive:"
   ]
  },
  {
   "cell_type": "code",
   "execution_count": 31,
   "metadata": {
    "collapsed": true
   },
   "outputs": [],
   "source": [
    "def searchRange(root, k1, k2):\n",
    "    if not root:\n",
    "        return []\n",
    "    \n",
    "    stack, ret = [], []\n",
    "\n",
    "    cur = root\n",
    "    while stack or cur is not None:\n",
    "        while cur is not None:\n",
    "            stack.append(cur)\n",
    "            cur = cur.left\n",
    "            \n",
    "        node = stack.pop()\n",
    "        if node.val >= k1 and node.val <= k2:\n",
    "            ret.append(node.val)\n",
    "        \n",
    "        cur = node.right\n",
    "    \n",
    "    return ret"
   ]
  },
  {
   "cell_type": "markdown",
   "metadata": {},
   "source": [
    "### No.48 Binary Tree Serialization\n",
    "Design an algorithm and write code to serialize and deserialize a binary tree. Writing the tree to a file is called 'serialization' and reading back from the file to reconstruct the exact same binary tree is 'deserialization'.\n",
    "\n",
    "There is no limit of how you deserialize or serialize a binary tree, you only need to make sure you can serialize a binary tree to a string and deserialize this string to the original structure.\n",
    "\n",
    " Example\n",
    "\n",
    "An example of testdata: Binary tree {3,9,20,#,#,15,7}, denote the following structure:\n",
    "```python\n",
    "  3\n",
    " / \\\n",
    "9  20\n",
    "  /  \\\n",
    " 15   7\n",
    "```\n",
    "Our data serialization use bfs traversal. This is just for when you got wrong answer and want to debug the input.\n",
    "\n",
    "You can use other method to do serializaiton and deserialization.\n",
    "\n"
   ]
  },
  {
   "cell_type": "code",
   "execution_count": 1,
   "metadata": {
    "collapsed": false
   },
   "outputs": [],
   "source": [
    "\"\"\"\n",
    "Definition of TreeNode:\n",
    "class TreeNode:\n",
    "    def __init__(self, val):\n",
    "        self.val = val\n",
    "        self.left, self.right = None, None\n",
    "\"\"\"\n",
    "from collections import deque\n",
    "class Solution:\n",
    "\n",
    "    '''\n",
    "    @param root: An object of TreeNode, denote the root of the binary tree.\n",
    "    This method will be invoked first, you should design your own algorithm \n",
    "    to serialize a binary tree which denote by a root node to a string which\n",
    "    can be easily deserialized by your own \"deserialize\" method later.\n",
    "    '''\n",
    "    def serialize(self, root):\n",
    "        # write your code here\n",
    "        if not root:\n",
    "            return []\n",
    "        \n",
    "        q = deque()\n",
    "        ret = []\n",
    "        q.append(root)\n",
    "        \n",
    "        while q:\n",
    "            node = q.popleft()\n",
    "            if node is not None:\n",
    "                \n",
    "                ret.append(node.val)\n",
    "                q.append(node.left)\n",
    "                q.append(node.right)\n",
    "            else:\n",
    "                ret.append(\"#\")\n",
    "\n",
    "        \n",
    "        return ret\n",
    "    '''\n",
    "    @param data: A string serialized by your serialize method.\n",
    "    This method will be invoked second, the argument data is what exactly\n",
    "    you serialized at method \"serialize\", that means the data is not given by\n",
    "    system, it's given by your own serialize method. So the format of data is\n",
    "    designed by yourself, and deserialize it here as you serialize it in \n",
    "    \"serialize\" method.\n",
    "    '''\n",
    "    def deserialize(self, data):\n",
    "        # write your code here\n",
    "        if not data:\n",
    "            return None\n",
    "        \n",
    "        q = deque()\n",
    "        \n",
    "        q.append(data.pop(0))\n",
    "        \n",
    "        while len(data) > 0:\n",
    "            node = TreeNode(q.popleft())\n",
    "            left = data.pop(0)\n",
    "            right = data.pop(0)\n",
    "            \n",
    "            if left != \"#\":\n",
    "                lnode = TreeNode(left)\n",
    "                node.left = lnode\n",
    "                q.append(left)\n",
    "            \n",
    "            if right != \"#\":\n",
    "                rnode = TreeNode(right)\n",
    "                node.right = rnode\n",
    "                q.append(right)\n",
    "            \n",
    "        return root"
   ]
  },
  {
   "cell_type": "markdown",
   "metadata": {
    "collapsed": true
   },
   "source": [
    "### No.49 Remove Node in Binary Search Tree\n",
    "Given a root of Binary Search Tree with unique value for each node. Remove the node with given value. If there is no such a node with given value in the binary search tree, do nothing. You should keep the tree still a binary search tree after removal.\n",
    "\n",
    "Example\n",
    "Given binary search tree:\n",
    "```python\n",
    "    5\n",
    "   / \\\n",
    "  3   6\n",
    " / \\\n",
    "2   4\n",
    "Remove 3, you can either return:\n",
    "\n",
    "    5\n",
    "   / \\\n",
    "  2   6\n",
    "   \\\n",
    "    4\n",
    "or\n",
    "\n",
    "    5\n",
    "   / \\\n",
    "  4   6\n",
    " /\n",
    "2\n",
    "```"
   ]
  },
  {
   "cell_type": "markdown",
   "metadata": {},
   "source": [
    "#### Thoughts:\n",
    "1. if no node found, return root\n",
    "2. if node is found and is a leaf, delete the leaf\n",
    "3. if node is found and have one child, delete the node and connct the parent to the child\n",
    "4. if node is found and have two child, delete the node found the in order successor and put it back the the position of the original node"
   ]
  },
  {
   "cell_type": "code",
   "execution_count": 2,
   "metadata": {
    "collapsed": true
   },
   "outputs": [],
   "source": [
    "def removeNode(root, value):\n",
    "    if not root:\n",
    "        return root\n",
    "    \n",
    "    dummy = TreeNode(0)\n",
    "    dummy.left = root\n",
    "    \n",
    "    # First, find the target node\n",
    "    pre, cur = dummy, root\n",
    "    while cur is not None:\n",
    "        if cur.val < value:\n",
    "            pre = cur\n",
    "            cur = cur.right\n",
    "        elif cur.val > value:\n",
    "            pre = cur\n",
    "            cur = cur.left\n",
    "        else:\n",
    "            break\n",
    "    \n",
    "    # At this point, if cur is None, means target node does not exist\n",
    "    if cur is None:\n",
    "        return root\n",
    "    \n",
    "    # Now cur is the target node, pre is its parent node\n",
    "    # handle case 1: if cur have no child\n",
    "    if cur.left is None and cur.right is None:\n",
    "        if pre.left == cur:\n",
    "            pre.left = None\n",
    "        else:\n",
    "            pre.right = None\n",
    "        return dummy.left\n",
    "    \n",
    "    # Handle case 2, cur have one child: \n",
    "    if cur.left is None and cur.right is not None:\n",
    "        if pre.left == cur:\n",
    "            pre.left = cur.right\n",
    "        else:\n",
    "            pre.right = cur.right\n",
    "        return dummy.left\n",
    "    \n",
    "    if cur.right is None and cur.left is not None:\n",
    "        if pre.left == cur:\n",
    "            pre.left = cur.left\n",
    "        else:\n",
    "            pre.right = cur.left\n",
    "        return dummy.left\n",
    "    \n",
    "    # Hanldle case 3, cur have both left and right child\n",
    "    if cur.left is not None and cur.right is not None:\n",
    "        exchange = cur.right\n",
    "        if exchange.left is None:\n",
    "            if pre.left == cur:\n",
    "                pre.left = exchange\n",
    "            else:\n",
    "                pre.right = exchange\n",
    "            exchange.left = cur.left\n",
    "            return dummy.left\n",
    "        \n",
    "        if exchange.left is not None:\n",
    "            # find left most node and it's parent\n",
    "            preNode, curNode = exchange, exchange.left\n",
    "            while curNode.left is not None:\n",
    "                preNode = curNode\n",
    "                curNode = curNode.left\n",
    "            # break curNode\n",
    "            preNode.left = None\n",
    "            \n",
    "            # install it to cur\n",
    "            if pre.left == cur:\n",
    "                pre.left = curNode\n",
    "            else:\n",
    "                pre.right = curNode\n",
    "            \n",
    "            curNode.left = cur.left\n",
    "            curNode.right = cur.right\n",
    "            return dummy.left\n",
    "    \n",
    "    return dummy.left"
   ]
  },
  {
   "cell_type": "markdown",
   "metadata": {},
   "source": [
    "### No.50 Unique Paths\n",
    "A robot is located at the top-left corner of a m x n grid (marked 'Start' in the diagram below).\n",
    "\n",
    "The robot can only move either down or right at any point in time. The robot is trying to reach the bottom-right corner of the grid (marked 'Finish' in the diagram below).\n",
    "\n",
    "How many possible unique paths are there?"
   ]
  },
  {
   "cell_type": "code",
   "execution_count": 3,
   "metadata": {
    "collapsed": true
   },
   "outputs": [],
   "source": [
    "def uniquePaths(m, n):\n",
    "    if m < 1 or n < 1:\n",
    "        return 0\n",
    "    \n",
    "    D = dict()\n",
    "    \n",
    "    # Initilization\n",
    "    # D(i, j) represents when m == i and n == j, what is the num of unique paths\n",
    "    for j in xrange(1, n + 1):\n",
    "        D[(0, j)] = 0\n",
    "    \n",
    "    for i in xrange(1, m + 1):\n",
    "        D[(i, 0)] = 0\n",
    "    \n",
    "    D[(1, 1)] = 1\n",
    "    for j in xrange(1, n + 1):\n",
    "        for j in xrange(1, m + 1):\n",
    "            D[(i, j)] = D.get((j - 1, i)) + D.get((j, i - 1))\n",
    "    \n",
    "    return D.get(m, n)"
   ]
  },
  {
   "cell_type": "markdown",
   "metadata": {},
   "source": [
    "### No.51 Unique Paths II\n",
    "Follow up for \"Unique Paths\":\n",
    "\n",
    "Now consider if some obstacles are added to the grids. How many unique paths would there be?\n",
    "\n",
    "An obstacle and empty space is marked as 1 and 0 respectively in the grid.\n",
    "\n",
    "Example\n",
    "For example,\n",
    "There is one obstacle in the middle of a 3x3 grid as illustrated below.\n",
    "```python\n",
    "[\n",
    "  [0,0,0],\n",
    "  [0,1,0],\n",
    "  [0,0,0]\n",
    "]\n",
    "```\n",
    "The total number of unique paths is 2."
   ]
  },
  {
   "cell_type": "code",
   "execution_count": 4,
   "metadata": {
    "collapsed": true
   },
   "outputs": [],
   "source": [
    "def uniquePathsWithObstacles(obstacleGrid):\n",
    "    if not obstacleGrid:\n",
    "        return 0\n",
    "\n",
    "    if obstacleGrid[0][0] == 1:\n",
    "        return 0\n",
    "    \n",
    "    m, n = len(obstacleGrid), len(obstacleGrid[0])\n",
    "    \n",
    "    D = dict()\n",
    "    \n",
    "    # D[(i, j)] represents for i * j table, unique path\n",
    "    for i in xrange(1, m + 1):\n",
    "        D[(i, 0)] = 0\n",
    "    \n",
    "    for j in xrange(1, n + 1):\n",
    "        D[(0, j)] = 0\n",
    "        \n",
    "    D[(1, 1)] = 1\n",
    "    \n",
    "    for i in xrange(1, m + 1):\n",
    "        for j in xrange(1, n + 1):\n",
    "            # we already set value of D[(1, 1)] == 1\n",
    "            if i == 1 and j == 1:\n",
    "                continue\n",
    "            if obstacleGrid[i - 1][j - 1] == 1:\n",
    "                D[(i, j)] = 0\n",
    "            else:\n",
    "                D[(i, j)] = D[(i - 1, j)] + D[(i, j - 1)]\n",
    "    \n",
    "    return D[(m, n)]\n",
    "    "
   ]
  },
  {
   "cell_type": "markdown",
   "metadata": {},
   "source": [
    "### No.52 Climbing Stairs\n",
    "You are climbing a stair case. It takes n steps to reach to the top.\n",
    "\n",
    "Each time you can either climb 1 or 2 steps. In how many distinct ways can you climb to the top?\n",
    "\n",
    "Example\n",
    "```python\n",
    "Given an example n=3 , 1+1+1=2+1=1+2=3\n",
    "\n",
    "return 3\n",
    "```"
   ]
  },
  {
   "cell_type": "markdown",
   "metadata": {},
   "source": [
    "#### Thoughts: DP 4 Steps:\n",
    "1. DP[i] represents for n = i, how many ways we can climb to the top\n",
    "2. DP[i] = DP[i - 1] + DP[i - 2] // last step we climb either 1, or 2 steps\n",
    "3. Initilization: DP[0] = 1, DP[1] = 1\n",
    "4. return DP[n]"
   ]
  },
  {
   "cell_type": "code",
   "execution_count": 7,
   "metadata": {
    "collapsed": true
   },
   "outputs": [],
   "source": [
    "def climbStairs(n):\n",
    "    if n == 0:\n",
    "        return 1\n",
    "    \n",
    "    DP = [0] * (n + 1)\n",
    "    DP[0], DP[1] = 1, 1\n",
    "    \n",
    "    for i in xrange(2, n + 1):\n",
    "        DP[i] = DP[i - 1] + DP[i - 2]\n",
    "    \n",
    "    return DP[n]"
   ]
  },
  {
   "cell_type": "markdown",
   "metadata": {},
   "source": [
    "### No.53 Minimum Path Sum\n",
    "Given a m x n grid filled with non-negative numbers, find a path from top left to bottom right which minimizes the sum of all numbers along its path."
   ]
  },
  {
   "cell_type": "markdown",
   "metadata": {},
   "source": [
    "#### Thoughts: DP 4 Steps:\n",
    "1. DP[i][j] represents i * j grid, from top left to botton right, minimum path Sum\n",
    "2. Initilization: 2, m + 1, DP[i][0] = sys.maxint, the same for n.\n",
    "3. DP[i][j] = min(DP[i - 1][j], DP[i][j - 1]) + grid[i - 1][j - 1]\n",
    "4. return DP[m][n]\n"
   ]
  },
  {
   "cell_type": "code",
   "execution_count": 9,
   "metadata": {
    "collapsed": true
   },
   "outputs": [],
   "source": [
    "def minPathSum(grid):\n",
    "    if not grid:\n",
    "        return 0\n",
    "    \n",
    "    m, n = len(grid), len(grid[0])\n",
    "    \n",
    "    DP = [[0 for j in range(n + 1)] for i in range(m + 1)]\n",
    "    \n",
    "    # Initilization\n",
    "    for i in range(2, m + 1):\n",
    "        DP[i][0] = sys.maxint\n",
    "    \n",
    "    for j in range(2, n + 1):\n",
    "        DP[0][j] = sys.maxint\n",
    "    \n",
    "    for i in range(1, m + 1):\n",
    "        for j in range(1, n + 1):\n",
    "            DP[i][j] = min(DP[i - 1][j], DP[i][j - 1]) + grid[i - 1][j - 1]\n",
    "    \n",
    "    return DP[m][n]\n",
    "    "
   ]
  },
  {
   "cell_type": "markdown",
   "metadata": {},
   "source": [
    "### No.54 Triangle\n",
    "Given a triangle, find the minimum path sum from top to bottom. Each step you may move to adjacent numbers on the row below.\n",
    "\n",
    "Example\n",
    "Given the following triangle:\n",
    "```python\n",
    "[\n",
    "     [2],\n",
    "    [3,4],\n",
    "   [6,5,7],\n",
    "  [4,1,8,3]\n",
    "]\n",
    "The minimum path sum from top to bottom is 11 (i.e., 2 + 3 + 5 + 1 = 11).\n",
    "```"
   ]
  },
  {
   "cell_type": "markdown",
   "metadata": {},
   "source": [
    "#### Thoughts: DP 4 Steps:\n",
    "1. DP[i][j] represents from top to row i, end with triangle[i][j], what is the minimum path Sum\n",
    "2. DP[i][j] \n",
    "    if j = 0, DP[i - 1][0] + DP[i][j]\n",
    "    if j = len(triangle[i]) - 1, DP[i - 1][-1] + DP[i][j]\n",
    "    else:\n",
    "        min(DP[i - 1][j - 1] , DP[i - 1][j]) + DP[i][j]\n",
    "3. Initilization, DP[0][0] = triangle[0][0]\n",
    "4. return min(DP[-1])\n",
    "\n"
   ]
  },
  {
   "cell_type": "code",
   "execution_count": 10,
   "metadata": {
    "collapsed": true
   },
   "outputs": [],
   "source": [
    "def minimumTotal(triangle):\n",
    "    if not triangle:\n",
    "        return 0\n",
    "    \n",
    "    # deep copy, we will then update the value againse DP\n",
    "    DP = triangle[:]\n",
    "    \n",
    "    # start from row 1!\n",
    "    for i in range(1, len(DP)):\n",
    "        for j in range(len(DP[i])):\n",
    "            if j == 0:\n",
    "                DP[i][j] = DP[i - 1][0] + triangle[i][j]\n",
    "            elif j == len(DP[i]) - 1:\n",
    "                DP[i][j] = DP[i - 1][-1] + triangle[i][j]\n",
    "            else:\n",
    "                DP[i][j] = min(DP[i - 1][j - 1], DP[i - 1][j]) + triangle[i][j]\n",
    "    \n",
    "    return min(DP[-1])"
   ]
  },
  {
   "cell_type": "code",
   "execution_count": 11,
   "metadata": {
    "collapsed": true
   },
   "outputs": [],
   "source": [
    "# Optimization for space\n",
    "def minimumTotal(triangle):\n",
    "    if not triangle:\n",
    "        return 0\n",
    "    \n",
    "    DP = [0] * len(triangle[-1])\n",
    "    DP[0] = triangle[0][0]\n",
    "    \n",
    "    for i in range(1, len(triangle)):\n",
    "        for j in reversed(range(len(triangle[i]))):\n",
    "            if j == len(triangle[i]) - 1:\n",
    "                DP[j] = DP[j - 1] + triangle[i][j]\n",
    "            elif j == 0:\n",
    "                DP[j] = DP[0] + triangle[i][j]\n",
    "            else:\n",
    "                DP[j] = min(DP[j - 1], DP[j]) + triangle[i][j]\n",
    "            \n",
    "    return min(DP)\n",
    "        "
   ]
  },
  {
   "cell_type": "markdown",
   "metadata": {},
   "source": [
    "### No.55 Jump Game\n",
    "Given an array of non-negative integers, you are initially positioned at the first index of the array.\n",
    "\n",
    "Each element in the array represents your maximum jump length at that position.\n",
    "\n",
    "Determine if you are able to reach the last index.\n",
    "\n",
    "Example\n",
    "A = [2,3,1,1,4], return true.\n",
    "\n",
    "A = [3,2,1,0,4], return false."
   ]
  },
  {
   "cell_type": "markdown",
   "metadata": {},
   "source": [
    "#### Thoughts: DP 4 Steps:\n",
    "1. DP[i] represents whether we can reach the last index of A from pos i\n",
    "2. DP[i] = DP[i + (0 ~ A[i])] has true\n",
    "3. DP[len(A) - 1] = True\n",
    "4. DP[0]"
   ]
  },
  {
   "cell_type": "code",
   "execution_count": 14,
   "metadata": {
    "collapsed": true
   },
   "outputs": [],
   "source": [
    "def canJump(A):\n",
    "    if not A:\n",
    "        return True\n",
    "    \n",
    "    DP = [False] * len(A)\n",
    "    DP[len(A) - 1] = True\n",
    "    \n",
    "    for i in reversed(xrange(len(A) - 1)):\n",
    "        for j in range(A[i]):\n",
    "            if i + j < len(A) and DP[i + j] == True:\n",
    "                DP[i] = True\n",
    "                break\n",
    "\n",
    "    return DP[0]\n",
    "    "
   ]
  },
  {
   "cell_type": "markdown",
   "metadata": {},
   "source": [
    "### No.56 Jump Game II\n",
    "Given an array of non-negative integers, you are initially positioned at the first index of the array.\n",
    "\n",
    "Each element in the array represents your maximum jump length at that position.\n",
    "\n",
    "Your goal is to reach the last index in the minimum number of jumps.\n",
    "\n",
    "Example\n",
    "```python\n",
    "Given array A = [2,3,1,1,4]\n",
    "\n",
    "The minimum number of jumps to reach the last index is 2. (Jump 1 step from index 0 to 1, then 3 steps to the last index.)\n",
    "```"
   ]
  },
  {
   "cell_type": "markdown",
   "metadata": {},
   "source": [
    "#### Thoughts: DP 4 Steps:\n",
    "1. DP[i] represents from pos i to end of A, what is minumum jumps\n",
    "2. DP[i] = min(DP[i + 1], DP[i + 2], ... DP[i + A[i]]) or 1 (if i + A[i] >= len(A) - 1)\n",
    "3. Initilization, DP[len(A) - 1] = 0, others = sys.maxint\n",
    "4. DP[0]\n"
   ]
  },
  {
   "cell_type": "code",
   "execution_count": 15,
   "metadata": {
    "collapsed": true
   },
   "outputs": [],
   "source": [
    "def Jump(A):\n",
    "    if not A:\n",
    "        return True\n",
    "    \n",
    "    DP = [sys.maxint] * len(A)\n",
    "    DP[len(A) - 1] = 0\n",
    "    \n",
    "    for i in reversed(xrange(len(A) - 1)):\n",
    "        if i + A[i] >= len(A) - 1:\n",
    "            DP[i] = 1\n",
    "            continue\n",
    "        \n",
    "        localmin = sys.maxint\n",
    "        for j in range(A[i]):\n",
    "            if i + j >= len(A):\n",
    "                break\n",
    "            localmin = min(DP[i + j], localmin)\n",
    "        DP[i] = localmin + 1\n",
    "\n",
    "    return DP[0]"
   ]
  },
  {
   "cell_type": "markdown",
   "metadata": {},
   "source": [
    "### No.57 Longest Increasing Subsequence\n",
    "Given a sequence of integers, find the longest increasing subsequence (LIS).\n",
    "\n",
    "You code should return the length of the LIS.\n",
    "\n",
    "Clarification\n",
    "What's the definition of longest increasing subsequence?\n",
    "\n",
    "    * The longest increasing subsequence problem is to find a subsequence of a given sequence in which the subsequence's elements are in sorted order, lowest to highest, and in which the subsequence is as long as possible. This subsequence is not necessarily contiguous, or unique.  \n",
    "\n",
    "    * https://en.wikipedia.org/wiki/Longest_common_subsequence_problem\n",
    "\n",
    "Example\n",
    "For [5, 4, 1, 2, 3], the LIS  is [1, 2, 3], return 3\n",
    "\n",
    "For [4, 2, 4, 5, 3, 7], the LIS is [4, 4, 5, 7], return 4\n"
   ]
  },
  {
   "cell_type": "code",
   "execution_count": 16,
   "metadata": {
    "collapsed": true
   },
   "outputs": [],
   "source": [
    "def longestIncreasingSubsequence(nums):\n",
    "    if not nums:\n",
    "        return 0\n",
    "    \n",
    "    DP = [0] * len(nums)\n",
    "    \n",
    "    # Initilization. DP[0] = 1\n",
    "    DP[0] = 1\n",
    "\n",
    "    for i in range(1, len(nums)):\n",
    "        localmax = 1\n",
    "        for j in range(0, i):\n",
    "            if nums[i] >= nums[j]:\n",
    "                localmax = max(localmax, DP[j] + 1)\n",
    "        DP[i] = localmax\n",
    "    \n",
    "    return max(DP)\n",
    "            "
   ]
  },
  {
   "cell_type": "markdown",
   "metadata": {},
   "source": [
    "### No.58 Edit Distance\n",
    "Given two words word1 and word2, find the minimum number of steps required to convert word1 to word2. (each operation is counted as 1 step.)\n",
    "\n",
    "You have the following 3 operations permitted on a word:\n",
    "\n",
    "- Insert a character\n",
    "- Delete a character\n",
    "- Replace a character\n",
    "\n",
    "Example\n",
    "\n",
    "Given word1 = \"mart\" and word2 = \"karma\", return 3."
   ]
  },
  {
   "cell_type": "markdown",
   "metadata": {},
   "source": [
    "#### Thoughts: DP 4 Steps:\n",
    "     1. DP[i][j] represents edit distance of word1[i:] and word2[j:]\n",
    "     2. DP[i][j] = if word1[i] == word2[j], DP[i + 1][j + 1], \n",
    "             else, min(DP[i + 1][j + 1], DP[i + 1][j], DP[i][j + 1]) + 1\n",
    "     3. Initilization: DP[|word1|][|word2|]\n",
    "     4. Answer: DP[0][0]"
   ]
  },
  {
   "cell_type": "code",
   "execution_count": 18,
   "metadata": {
    "collapsed": true
   },
   "outputs": [],
   "source": [
    "def minDistance(self, word1, word2):\n",
    "    if not word1 and not word2:\n",
    "        return 0\n",
    "    \n",
    "    len1, len2 = len(word1), len(word2)\n",
    "    # len(DP) = len1 + 1\n",
    "    DP = [[0 for j in xrange(len2 + 1)] for i in xrange(len1 + 1)]\n",
    "    \n",
    "    \n",
    "    # Initilization\n",
    "    for i in xrange(len1 + 1):\n",
    "        DP[i][-1] = len1 - i\n",
    "    \n",
    "    for j in xrange(len2 + 1):\n",
    "        DP[-1][j] = len2 - j\n",
    "        \n",
    "    # Note! This is suffix, so we need to compute from 0, to len1!!!!\n",
    "    for i in reversed(xrange(0, len1)):\n",
    "        for j in reversed(xrange(0, len2)):\n",
    "            if word1[i] == word2[j]:\n",
    "                DP[i][j] = DP[i + 1][j + 1]\n",
    "            else:\n",
    "                DP[i][j] = min(DP[i + 1][j + 1], DP[i + 1][j], \n",
    "                            DP[i][j + 1]) + 1\n",
    "    \n",
    "    return DP[0][0]"
   ]
  },
  {
   "cell_type": "markdown",
   "metadata": {
    "collapsed": true
   },
   "source": [
    "### No.59 Distinct Subsequences \n",
    "\n",
    "\n",
    "Given a string S and a string T, count the number of distinct subsequences of T in S.\n",
    "\n",
    "A subsequence of a string is a new string which is formed from the original string by deleting some (can be none) of the characters without disturbing the relative positions of the remaining characters. (ie, \"ACE\" is a subsequence of \"ABCDE\" while \"AEC\" is not).\n",
    "\n",
    " Example\n",
    "\n",
    "Given S = \"rabbbit\", T = \"rabbit\", return 3.\n",
    "\n"
   ]
  },
  {
   "cell_type": "code",
   "execution_count": 2,
   "metadata": {
    "collapsed": true
   },
   "outputs": [],
   "source": [
    "def numDistinct(self, S, T):\n",
    "    if not S:\n",
    "        return 0\n",
    "\n",
    "    lenS, lenT = len(S), len(T)\n",
    "    if lenS < lenT:\n",
    "        return 0\n",
    "\n",
    "    DP = [[0 for j in xrange(lenT + 1)] for i in xrange(lenS + 1)]\n",
    "\n",
    "    # Initilization\n",
    "    # DP[i][-1] == 1, DP[-1][j] == 0\n",
    "    for i in range(lenS + 1):\n",
    "        DP[i][-1] = 1\n",
    "\n",
    "    for i in reversed(xrange(0, lenS)):\n",
    "        for j in reversed(xrange(0, lenT)):\n",
    "            if S[i] == T[j]:\n",
    "                DP[i][j] = DP[i + 1][j] + DP[i + 1][j + 1]\n",
    "            else:\n",
    "                DP[i][j] = DP[i + 1][j]\n",
    "\n",
    "    return DP[0][0]"
   ]
  },
  {
   "cell_type": "markdown",
   "metadata": {},
   "source": [
    "### No.60 Word Break\n",
    "Given a string s and a dictionary of words dict, determine if s can be break into a space-separated sequence of one or more dictionary words.\n",
    "\n",
    " Example\n",
    "\n",
    "Given s = \"lintcode\", dict = [\"lint\", \"code\"].\n",
    "\n",
    "Return true because \"lintcode\" can be break as \"lint code\".\n",
    "\n"
   ]
  },
  {
   "cell_type": "code",
   "execution_count": 4,
   "metadata": {
    "collapsed": true
   },
   "outputs": [],
   "source": [
    "def wordBreak(s, dict):\n",
    "    if not s:\n",
    "        return True\n",
    "\n",
    "    if not dict:\n",
    "        return False\n",
    "\n",
    "    DP = [False for i in xrange(len(s) + 1)]\n",
    "\n",
    "    DP[len(s)] = True\n",
    "\n",
    "    maxLen = 0\n",
    "    for key in dict:\n",
    "        maxLen = max(maxLen, len(key))\n",
    "\n",
    "    for i in reversed(xrange(0, len(s))):\n",
    "        for j in xrange(0, maxLen + 1):\n",
    "            if i + j <= len(s) and s[i:i + j] in dict \\\n",
    "                               and DP[i + j] is True:\n",
    "                DP[i] = True\n",
    "\n",
    "    return DP[0]"
   ]
  },
  {
   "cell_type": "markdown",
   "metadata": {},
   "source": [
    "### No.61 Palindrome Partitioning II  ******************* Revisit!!!\n",
    "Given a string s, cut s into some substrings such that every substring is a palindrome.\n",
    "\n",
    "Return the minimum cuts needed for a palindrome partitioning of s.\n",
    "\n",
    " Example\n",
    "\n",
    "Given s = \"aab\",\n",
    "\n",
    "Return 1 since the palindrome partitioning [\"aa\", \"b\"] could be produced using 1 cut.\n",
    "\n"
   ]
  },
  {
   "cell_type": "code",
   "execution_count": 12,
   "metadata": {
    "collapsed": false
   },
   "outputs": [
    {
     "name": "stdout",
     "output_type": "stream",
     "text": [
      "2\n"
     ]
    }
   ],
   "source": [
    "import sys\n",
    "\n",
    "def isPalindrome(s):\n",
    "    if len(s) <= 1:\n",
    "        return True\n",
    "    \n",
    "    start, end = 0, len(s) - 1\n",
    "    while start + 1 <= end:\n",
    "        if s[start] != s[end]:\n",
    "            return False\n",
    "        start += 1\n",
    "        end -= 1\n",
    "    \n",
    "    return True\n",
    "    \n",
    "\n",
    "def minCut(s):\n",
    "    if len(s) <= 1:\n",
    "        return 0\n",
    "    \n",
    "    DP = [0 for i in xrange(len(s) + 1)]\n",
    "    \n",
    "    table = preProcess(s)\n",
    "    \n",
    "    # Initilization\n",
    "    # DP[i] represents minCuts for s[:i]\n",
    "    DP[0] = 0\n",
    "    \n",
    "    for i in xrange(1, len(s) + 1):\n",
    "        localmin = sys.maxint\n",
    "        for j in xrange(i):\n",
    "            # print s[j:i]\n",
    "            if table[i][j] is True:\n",
    "                localmin = min(localmin, DP[j] + 1)\n",
    "        DP[i] = localmin\n",
    "    \n",
    "    return DP[len(s)] - 1\n",
    "\n",
    "def preProcess(s):\n",
    "    if not s:\n",
    "        return []\n",
    "    \n",
    "    table = [[True for i in xrange(len(s) + 1)] for j in xrange(len(s) + 1)]\n",
    "    \n",
    "    # Initilization\n",
    "    for j in xrange(len(s)):\n",
    "        for i in xrange(1, len(s) + 1):\n",
    "            table[i][j] = isPalindrome(s[j:i])\n",
    "    \n",
    "    return table\n",
    "\n",
    "\n",
    "s = \"abcc\"\n",
    "print minCut(s)"
   ]
  },
  {
   "cell_type": "markdown",
   "metadata": {
    "collapsed": true
   },
   "source": [
    "### No.62  Longest Common Substring \n",
    "Given two strings, find the longest common substring.\n",
    "\n",
    "Return the length of it.\n",
    "\n",
    " Example\n",
    "\n",
    "Given A = \"ABCD\", B = \"CBCE\", return 2.\n"
   ]
  },
  {
   "cell_type": "code",
   "execution_count": 23,
   "metadata": {
    "collapsed": false
   },
   "outputs": [
    {
     "name": "stdout",
     "output_type": "stream",
     "text": [
      "7\n"
     ]
    }
   ],
   "source": [
    "def longestCommonSubstring(A, B):\n",
    "    if not A or not B:\n",
    "        return 0\n",
    "    \n",
    "    maxLen = 0\n",
    "\n",
    "    # A[i] B[j] start, what is the maxLen, update if > maxLen\n",
    "    # i start from 0, j start from 0\n",
    "    for i in xrange(len(A)):\n",
    "        for j in xrange(len(B)):\n",
    "            localLen = 0\n",
    "            posA, posB = i, j\n",
    "            while posA < len(A) and posB < len(B):\n",
    "                if A[posA] == B[posB]:\n",
    "                    localLen += 1\n",
    "                else:\n",
    "                    # Don't forget to break here!!!!!!\n",
    "                    break\n",
    "                posA += 1\n",
    "                posB += 1\n",
    "            maxLen = max(maxLen, localLen)\n",
    "    \n",
    "    return maxLen\n",
    "\n",
    "A = \"abccccccccccde\"\n",
    "B = \"dbccccccabccde\"\n",
    "\n",
    "\n",
    "print longestCommonSubstring(A, B)"
   ]
  },
  {
   "cell_type": "markdown",
   "metadata": {},
   "source": [
    "### No.63  Longest Common Subsequence\n",
    "Given two strings, find the longest common subsequence (LCS).\n",
    "\n",
    "Your code should return the length of LCS.\n",
    "\n",
    " Example\n",
    "\n",
    "For \"ABCD\" and \"EDCA\", the LCS is \"A\" (or \"D\", \"C\"), return 1.\n",
    "\n",
    "For \"ABCD\" and \"EACB\", the LCS is \"AC\", return 2.\n",
    "\n",
    "\n"
   ]
  },
  {
   "cell_type": "markdown",
   "metadata": {},
   "source": [
    "#### Thoughts: DP 4 Steps:\n",
    "    1. DP[i][j] represents A[:i] and B[:j] 's LCS\n",
    "    2. DP[i][j] = if A[i] == B[j], DP[i - 1][j - 1] + 1, else, max(DP[i - 1][j] and DP[i][j - 1])\n",
    "    3. Initilization: DP[0][j] = 0, DP[i][0] = 0\n",
    "    4. return DP[len(A)][len(B)]\n",
    "    "
   ]
  },
  {
   "cell_type": "code",
   "execution_count": 27,
   "metadata": {
    "collapsed": false
   },
   "outputs": [
    {
     "name": "stdout",
     "output_type": "stream",
     "text": [
      "3\n"
     ]
    }
   ],
   "source": [
    "def longestCommonSubsequence(A, B):\n",
    "    if not A or not B:\n",
    "        return 0\n",
    "    \n",
    "    DP = [[0 for j in xrange(len(B) + 1)] for i in xrange(len(A) + 1)]\n",
    "    \n",
    "    for i in xrange(1, len(A) + 1):\n",
    "        for j in xrange(1, len(B) + 1):\n",
    "            if A[i - 1] == B[j - 1]:\n",
    "                DP[i][j] = DP[i - 1][j - 1] + 1\n",
    "            else:\n",
    "                DP[i][j] = max(DP[i - 1][j], DP[i][j - 1])\n",
    "    \n",
    "    return DP[len(A)][len(B)]\n",
    "\n",
    "A = \"abfajskdf\"\n",
    "B = \"aajgere\"\n",
    "\n",
    "print longestCommonSubsequence(A, B)"
   ]
  },
  {
   "cell_type": "markdown",
   "metadata": {},
   "source": [
    "### No.64 Interleaving String \n",
    "\n",
    "Given three strings: s1, s2, s3, determine whether s3 is formed by the interleaving of s1 and s2.\n",
    "\n",
    " Example\n",
    "\n",
    "For s1 = \"aabcc\", s2 = \"dbbca\"\n",
    "\n",
    "    When s3 = \"aadbbcbcac\", return true.\n",
    "    When s3 = \"aadbbbaccc\", return false.\n",
    "\n"
   ]
  },
  {
   "cell_type": "markdown",
   "metadata": {},
   "source": [
    "#### Thoughts: DP 4 Steps:\n",
    "    1. DP[i][j] represents whether s1[:i] and s2[:j] can form s3[:i + j]\n",
    "    2. DP[i][j] = DP[i - 1][j] and s1[i] == s3[i + j] or\n",
    "                  DP[i][j - 1] and s2[j] == s3[i + j]\n",
    "    3. Initilization: DP[0][0] = True\n",
    "    4. return DP[len(s1)][len(s2)]"
   ]
  },
  {
   "cell_type": "code",
   "execution_count": 67,
   "metadata": {
    "collapsed": false
   },
   "outputs": [
    {
     "name": "stdout",
     "output_type": "stream",
     "text": [
      "True\n"
     ]
    }
   ],
   "source": [
    "def isInterleave(s1, s2, s3):\n",
    "    if not s1 and not s2 and s3:\n",
    "        return False\n",
    "\n",
    "    if not s1 and s2 == s3:\n",
    "        return True\n",
    "\n",
    "    if not s2 and s1 == s3:\n",
    "        return True\n",
    "\n",
    "    if len(s1) + len(s2) != len(s3):\n",
    "        return False\n",
    "\n",
    "    DP = [[False for j in xrange(len(s2) + 1)] for j in xrange(len(s1) + 1)]\n",
    "\n",
    "    # Initilization\n",
    "    DP[0][0] = True\n",
    "\n",
    "    for i in xrange(0, len(s1) + 1):\n",
    "        for j in xrange(0, len(s2) + 1):\n",
    "            if i == 0 and j == 0:\n",
    "                continue\n",
    "            # print i, j, s1[i - 1], s2[j - 1], s3[i + j - 1]\n",
    "            if (i >= 1 and DP[i - 1][j] and s1[i - 1] == s3[i + j - 1]) or \\\n",
    "                         (j >= 1 and DP[i][j - 1] and s2[j - 1] == s3[i + j - 1]):\n",
    "                DP[i][j] = True\n",
    "                # print i, j, DP[i][j]\n",
    "\n",
    "    return DP[len(s1)][len(s2)]\n",
    "    \n",
    "s1 = \"aa\"\n",
    "s2 = \"a\"\n",
    "s3 = \"aaa\"\n",
    "print isInterleave(s1, s2, s3)"
   ]
  },
  {
   "cell_type": "markdown",
   "metadata": {},
   "source": [
    "### No.65 Decode Ways\n",
    "A message containing letters from A-Z is being encoded to numbers using the following mapping:\n",
    "```python\n",
    "'A' -> 1\n",
    "'B' -> 2\n",
    "...\n",
    "'Z' -> 26\n",
    "```\n",
    "Given an encoded message containing digits, determine the total number of ways to decode it.\n",
    "\n",
    "Example\n",
    "\n",
    "Given encoded message 12, it could be decoded as AB (1 2) or L (12).\n",
    "The number of ways decoding 12 is 2."
   ]
  },
  {
   "cell_type": "markdown",
   "metadata": {},
   "source": [
    "#### Thoughts: DP 4 Steps:\n",
    "     1. DP[i] represents num of decode ways for s[:i]\n",
    "     2. DP[i] = if s[i] == 0:\n",
    "                     if s[i - 1] == 1 or 2,\n",
    "                          DP[i] = DP[i - 2]\n",
    "                     else:\n",
    "                          return 0\n",
    "                 else:\n",
    "                     if s[i - 1: i] between 11 and 26:\n",
    "                         DP[i] = DP[i - 2] + DP[i - 1]\n",
    "                     else:\n",
    "                         DP[i] = DP[i - 1]\n",
    "     3. Initilization:  DP[0] = 1\n",
    "     4. return DP[len(s)]\n",
    "     \n",
    "                \n",
    "     "
   ]
  },
  {
   "cell_type": "code",
   "execution_count": 3,
   "metadata": {
    "collapsed": false
   },
   "outputs": [
    {
     "name": "stdout",
     "output_type": "stream",
     "text": [
      "2\n"
     ]
    }
   ],
   "source": [
    "def numDecodings(s):\n",
    "    if not s:\n",
    "        return 0\n",
    "\n",
    "    DP = [0 for i in xrange(len(s) + 1)]\n",
    "\n",
    "    # Initilization\n",
    "    DP[0] = 1\n",
    "\n",
    "    for i in xrange(1, len(s) + 1):\n",
    "        if s[i - 1] == \"0\":\n",
    "            if i > 1 and (s[i - 2] == \"1\" or s[i - 2] == \"2\"):\n",
    "                DP[i] = DP[i - 2]\n",
    "            else:\n",
    "                return 0\n",
    "        else:\n",
    "            if i > 1:\n",
    "                num = int(s[i - 2:i])\n",
    "            else:\n",
    "                num = 0\n",
    "            if num >= 10 and num <= 26:\n",
    "                DP[i] = DP[i - 2] + DP[i - 1]\n",
    "            else:\n",
    "                DP[i] = DP[i - 1]\n",
    "\n",
    "    return DP[len(s)]\n",
    "\n",
    "s = \"12\"\n",
    "\n",
    "print numDecodings(s)"
   ]
  },
  {
   "cell_type": "markdown",
   "metadata": {
    "collapsed": true
   },
   "source": [
    "### No.66 Backpack\n",
    "\n",
    "Given n items with size Ai, an integer m denotes the size of a backpack. How full you can fill this backpack?\n",
    "\n",
    "Example\n",
    "If we have 4 items with size [2, 3, 5, 7], the backpack size is 11, we can select [2, 3, 5], so that the max size we can fill this backpack is 10. If the backpack size is 12. we can select [2, 3, 7] so that we can fulfill the backpack.\n",
    "\n",
    "You function should return the max size we can fill in the given backpack."
   ]
  },
  {
   "cell_type": "markdown",
   "metadata": {},
   "source": [
    "#### Thoughts: DP 4 Steps\n",
    "    1. DP[i][j] means using first j items, how full we can fulfill an \"i\" size backpack.\n",
    "    2. DP[i][j] = max(DP[i][j - 1], DP[i - A[j]][j - 1] + A[j])\n",
    "    3. DP[i][0] = 0, DP[0][j] = 0\n",
    "    4. return DP[m][len(A)]"
   ]
  },
  {
   "cell_type": "code",
   "execution_count": 8,
   "metadata": {
    "collapsed": false
   },
   "outputs": [
    {
     "name": "stdout",
     "output_type": "stream",
     "text": [
      "12\n"
     ]
    }
   ],
   "source": [
    "# Using 2-D array\n",
    "def backPack(m, A):\n",
    "    if not A or m == 0:\n",
    "        return 0\n",
    "    \n",
    "    DP = [[0 for j in xrange(len(A) + 1)] for i in xrange(m + 1)]\n",
    "    \n",
    "    for j in xrange(1, len(A) + 1):\n",
    "        for i in xrange(1, m + 1):\n",
    "            DP[i][j] = DP[i][j - 1]\n",
    "            if i >= A[j - 1]:\n",
    "                DP[i][j] = max(DP[i][j - 1], DP[i - A[j - 1]][j - 1] + A[j - 1])\n",
    "    \n",
    "    return DP[m][len(A)]\n",
    "\n",
    "\n",
    "A = [2, 3, 5, 7]\n",
    "print backPack(12, A)"
   ]
  },
  {
   "cell_type": "code",
   "execution_count": 16,
   "metadata": {
    "collapsed": false
   },
   "outputs": [
    {
     "name": "stdout",
     "output_type": "stream",
     "text": [
      "9\n"
     ]
    }
   ],
   "source": [
    "# Optimize Space to O(n)\n",
    "def backPack(m, A):\n",
    "    if not A or m == 0:\n",
    "        return 0\n",
    "    \n",
    "    # This optimization is good when bag is big enough.\n",
    "    if m >= sum(A):\n",
    "        return sum(A)\n",
    "    \n",
    "    DP = [0 for i in xrange(m + 1)]\n",
    "    \n",
    "    # Remember to calculate backwords!\n",
    "    # Otherwise the numbers will be over-written!\n",
    "    for j in xrange(1, len(A) + 1):\n",
    "        for i in reversed(xrange(1, m + 1)):\n",
    "            if i >= A[j - 1]:\n",
    "                DP[i] = max(DP[i], DP[i - A[j - 1]] + A[j - 1])\n",
    "        #print DP\n",
    "                \n",
    "    \n",
    "    return DP[m]\n",
    "    \n",
    "A = [3, 4, 8, 5]\n",
    "print backPack(10, A)   \n",
    "    "
   ]
  },
  {
   "cell_type": "markdown",
   "metadata": {},
   "source": [
    "### No.67 Backpack II\n",
    "Given n items with size Ai and value Vi, and a backpack with size m. What's the maximum value can you put into the backpack?\n",
    "\n",
    "Example\n",
    "\n",
    "Given 4 items with size [2, 3, 5, 7] and value [1, 5, 2, 4], and a backpack with size 10. The maximum value is 9.\n"
   ]
  },
  {
   "cell_type": "code",
   "execution_count": 20,
   "metadata": {
    "collapsed": false
   },
   "outputs": [
    {
     "name": "stdout",
     "output_type": "stream",
     "text": [
      "9\n"
     ]
    }
   ],
   "source": [
    "def backPackII(m, A, V):\n",
    "    if not A or m == 0:\n",
    "        return 0\n",
    "    \n",
    "    if sum(A) <= m:\n",
    "        return sum([A[i] * V[i] for i in xrange(len(A))])\n",
    "    \n",
    "    DP = [0 for i in xrange(m + 1)]\n",
    "    \n",
    "    for j in xrange(1, len(A) + 1):\n",
    "        for i in reversed(xrange(1, m + 1)):\n",
    "            if i >= A[j - 1]:\n",
    "                DP[i] = max(DP[i], DP[i - A[j - 1]] + V[j - 1])\n",
    "    \n",
    "    return DP[m]\n",
    "\n",
    "A = [2, 3, 5, 7]\n",
    "V = [1, 5, 2, 4]\n",
    "print backPackII(10, A, V)\n",
    "    "
   ]
  },
  {
   "cell_type": "markdown",
   "metadata": {},
   "source": [
    "### No.68 Minimum Adjustment Cost   *RE-VISIT!*!!!!\n",
    "Given an integer array, adjust each integers so that the difference of every adjacent integers are not greater than a given number target.\n",
    "\n",
    "If the array before adjustment is A, the array after adjustment is B, you should minimize the sum of |A[i]-B[i]|\n",
    "\n",
    "Example\n",
    "\n",
    "Given [1,4,2,3] and target = 1, one of the solutions is [2,3,2,3], the adjustment cost is 2 and it's minimal.\n",
    "\n",
    "Return 2.\n",
    "\n",
    "Notice\n",
    "\n",
    "You can assume each number in the array is a positive integer and not greater than 100."
   ]
  },
  {
   "cell_type": "code",
   "execution_count": 24,
   "metadata": {
    "collapsed": false
   },
   "outputs": [
    {
     "name": "stdout",
     "output_type": "stream",
     "text": [
      "2\n"
     ]
    }
   ],
   "source": [
    "import sys\n",
    "def MinAdjustmentCost(A, target):\n",
    "    if not A:\n",
    "        return 0\n",
    "\n",
    "    index = 0\n",
    "    B = A[:]\n",
    "    ret = 0\n",
    "    D = dict()\n",
    "\n",
    "    ret = self.dfs(A, B, target, 0, D)\n",
    "\n",
    "    return ret\n",
    "\n",
    "def dfs(self, A, B, target, index, D):\n",
    "    if index == len(A):\n",
    "        return 0\n",
    "\n",
    "    minValue = sys.maxint\n",
    "    for i in xrange(1, 101):\n",
    "        if index != 0 and abs(i - B[index - 1]) > target:\n",
    "            continue\n",
    "        B[index] = i\n",
    "        dif = abs(i - A[index])\n",
    "        if D.get((i, index)) is None:\n",
    "            temp = self.dfs(A, B, target, index + 1, D)\n",
    "            D[(i, index)] = temp\n",
    "            dif += temp\n",
    "        else:\n",
    "            dif += D[(i, index)]\n",
    "        minValue = min(minValue, dif)\n",
    "        B[index] = A[index]\n",
    "\n",
    "    return minValue\n",
    "\n",
    "A = [1,4,2,3]\n",
    "print MinAdjustmentCost(A, 1)"
   ]
  },
  {
   "cell_type": "markdown",
   "metadata": {},
   "source": [
    "#### Thoughts: DP 4 Steps:\n",
    "    1. DP[i][v] represents for index i, if we change to v, what is the MAC.\n",
    "    2. DP[i][v] = min(DP[i - 1][v'] + |A[i] - v'|, when |v' - v| <= target)\n",
    "    3. DP[0][v] = 0\n",
    "    4. return min(DP[len(A)][v])\n",
    "    \n",
    "    "
   ]
  },
  {
   "cell_type": "code",
   "execution_count": 1,
   "metadata": {
    "collapsed": false
   },
   "outputs": [
    {
     "name": "stdout",
     "output_type": "stream",
     "text": [
      "2\n"
     ]
    }
   ],
   "source": [
    "import sys\n",
    "def MinAdjustmentCost(A, target):\n",
    "    if not A:\n",
    "        return 0\n",
    "    \n",
    "    DP = [[0 for v in xrange(101)] for i in xrange(len(A) + 1)]\n",
    "    \n",
    "    for i in xrange(1, len(A) + 1):\n",
    "        for v in xrange(1, 101):\n",
    "            minValue = sys.maxint\n",
    "            for w in xrange(1, 101):\n",
    "                if abs(w - v) > target:\n",
    "                    continue\n",
    "                minValue = min(minValue, DP[i - 1][w] + abs(A[i - 1] - w))\n",
    "            DP[i][v] = minValue\n",
    "    \n",
    "    ret = DP[len(A)][1]\n",
    "    for i in xrange(1, 101):\n",
    "        ret = min(ret, DP[len(A)][i])\n",
    "    \n",
    "    #print DP\n",
    "    return ret\n",
    "\n",
    "A = [1,4,2,3]\n",
    "print MinAdjustmentCost(A, 1)"
   ]
  },
  {
   "cell_type": "markdown",
   "metadata": {
    "collapsed": true
   },
   "source": [
    "### N0.69 Wildcard Matching\n",
    "\n",
    "Implement wildcard pattern matching with support for '?' and '*'.\n",
    "\n",
    "- '?' Matches any single character.\n",
    "- '*' Matches any sequence of characters (including the empty sequence).\n",
    "The matching should cover the entire input string (not partial).\n",
    "\n",
    "Example\n",
    "```python\n",
    "isMatch(\"aa\",\"a\") → false\n",
    "isMatch(\"aa\",\"aa\") → true\n",
    "isMatch(\"aaa\",\"aa\") → false\n",
    "isMatch(\"aa\", \"*\") → true\n",
    "isMatch(\"aa\", \"a*\") → true\n",
    "isMatch(\"ab\", \"?*\") → true\n",
    "isMatch(\"aab\", \"c*a*b\") → false\n",
    "```"
   ]
  },
  {
   "cell_type": "code",
   "execution_count": 13,
   "metadata": {
    "collapsed": false
   },
   "outputs": [],
   "source": [
    "def isMatch(s, p):\n",
    "    DP = [[False for j in xrange(len(s) + 1)] for i in xrange(len(p) + 1)]\n",
    "\n",
    "    DP[0][0] = True\n",
    "    for i in xrange(1, len(p) + 1):\n",
    "        DP[i][0] = DP[i - 1][0] and p[i - 1] == '*'\n",
    "\n",
    "    for j in xrange(1, len(s) + 1):\n",
    "        for i in xrange(1, len(p) + 1):\n",
    "            if p[i - 1] == '*':\n",
    "                DP[i][j] = DP[i - 1][j - 1] or DP[i - 1][j] or DP[i][j - 1]\n",
    "            elif p[i - 1] == '?':\n",
    "                DP[i][j] = DP[i - 1][j - 1]\n",
    "            else:\n",
    "                DP[i][j] = DP[i - 1][j - 1] and p[i - 1] == s[j - 1]\n",
    "\n",
    "    return DP[len(p)][len(s)]  "
   ]
  },
  {
   "cell_type": "markdown",
   "metadata": {},
   "source": [
    "### No.70 k Sum\n",
    "\n",
    "Given n distinct positive integers, integer k (k <= n) and a number target.\n",
    "\n",
    "Find k numbers where sum is target. Calculate how many solutions there are?\n",
    "\n",
    "Example\n",
    "Given [1,2,3,4], k = 2, target = 5.\n",
    "\n",
    "There are 2 solutions: [1,4] and [2,3].\n",
    "\n",
    "Return 2.\n"
   ]
  },
  {
   "cell_type": "markdown",
   "metadata": {},
   "source": [
    "#### Thoughts: DP 4 Steps:\n",
    "    1. DP[i][j][t] represents number of solutions for A[:i], with j elements to hit target t\n",
    "    2. DP[i][j][t] = DP[i - 1][j][t] + DP[i - 1][j - 1][t - A[i - 1]], when t >= A[i - 1].\n",
    "    3. DP[i][0][0] = 0\n",
    "    4. return DP[len(A)][k][target]"
   ]
  },
  {
   "cell_type": "code",
   "execution_count": 19,
   "metadata": {
    "collapsed": false
   },
   "outputs": [
    {
     "name": "stdout",
     "output_type": "stream",
     "text": [
      "2\n"
     ]
    }
   ],
   "source": [
    "def kSum(A, k, target):\n",
    "    if not A or k == 0 or target <= 0:\n",
    "        return 0\n",
    "    \n",
    "    DP = [[[0 for t in xrange(target + 1)] for j in xrange(k + 1)] for i in xrange(len(A) + 1)]\n",
    "    \n",
    "    # Initilization\n",
    "    for i in xrange(len(A) + 1):\n",
    "        DP[i][0][0] = 1\n",
    "    \n",
    "    for i in xrange(1, len(A) + 1):\n",
    "        for j in xrange(1, k + 1):\n",
    "            for t in xrange(1, target + 1):\n",
    "                DP[i][j][t] = DP[i - 1][j][t]\n",
    "                if t >= A[i - 1]:\n",
    "                    DP[i][j][t] += DP[i - 1][j - 1][t - A[i - 1]]\n",
    "    #print DP\n",
    "    return DP[len(A)][k][target]\n",
    "                \n",
    "A = [1, 2, 3, 4]\n",
    "print kSum(A, 2, 5)"
   ]
  },
  {
   "cell_type": "markdown",
   "metadata": {},
   "source": [
    "### No.71 Remove Nth Node From End of List\n",
    "\n",
    "Given a linked list, remove the nth node from the end of list and return its head.\n",
    "\n",
    "The minimum number of nodes in list is n.\n",
    "\n",
    "Example\n",
    "\n",
    "Given linked list: 1->2->3->4->5->null, and n = 2.\n",
    "\n",
    "After removing the second node from the end, the linked list becomes 1->2->3->5->null."
   ]
  },
  {
   "cell_type": "code",
   "execution_count": 20,
   "metadata": {
    "collapsed": true
   },
   "outputs": [],
   "source": [
    "def removeNthFromEnd(head, n):\n",
    "    dummy = ListNode(0)\n",
    "    dummy.next = head\n",
    "    \n",
    "    slow, fast = dummy, dummy\n",
    "    \n",
    "    while n:\n",
    "        fast = fast.next\n",
    "        n -= 1\n",
    "    \n",
    "    while fast.next:\n",
    "        slow = slow.next\n",
    "        fast = fast.next\n",
    "    \n",
    "    slow.next = slow.next.next\n",
    "    \n",
    "    return dummy.next\n",
    "    \n",
    "    "
   ]
  },
  {
   "cell_type": "markdown",
   "metadata": {},
   "source": [
    "### No.72 Partition List\n",
    "Given a linked list and a value x, partition it such that all nodes less than x come before nodes greater than or equal to x.\n",
    "\n",
    "You should preserve the original relative order of the nodes in each of the two partitions.\n",
    "\n",
    "Example\n",
    "\n",
    "Given 1->4->3->2->5->2->null and x = 3,\n",
    "return 1->2->2->4->3->5->null."
   ]
  },
  {
   "cell_type": "markdown",
   "metadata": {},
   "source": [
    "#### Thoughts: Using Two dummy node, create two lists and connect them back!"
   ]
  },
  {
   "cell_type": "code",
   "execution_count": 1,
   "metadata": {
    "collapsed": true
   },
   "outputs": [],
   "source": [
    "def partition(head, x):\n",
    "    if head is None:\n",
    "        return head\n",
    "    \n",
    "    dummyLeft = ListNode(0)\n",
    "    dummyRight = ListNode(0)\n",
    "    \n",
    "    curLeft, curRight = dummyLeft, dummyRight\n",
    "    while head:\n",
    "        if head.val < x:\n",
    "            curLeft.next = head\n",
    "            curLeft = head\n",
    "        else:\n",
    "            curRight.next = head\n",
    "            curRight = head\n",
    "        head = head.next\n",
    "    \n",
    "    curLeft.next = dummyRight.next\n",
    "    curRight.next = None\n",
    "    \n",
    "    return dummyLeft.next"
   ]
  },
  {
   "cell_type": "markdown",
   "metadata": {},
   "source": [
    "### No.73 Remove Duplicates from Sorted List II\n",
    "Given a sorted linked list, delete all nodes that have duplicate numbers, leaving only distinct numbers from the original list.\n",
    "\n",
    "Example\n",
    "\n",
    "Given 1->2->3->3->4->4->5, return 1->2->5.\n",
    "Given 1->1->1->2->3, return 2->3."
   ]
  },
  {
   "cell_type": "code",
   "execution_count": 2,
   "metadata": {
    "collapsed": true
   },
   "outputs": [],
   "source": [
    "def deleteDuplicates(head):\n",
    "    dummy = ListNode(0)\n",
    "    dummy.next = head\n",
    "\n",
    "    pre, cur = dummy, head\n",
    "\n",
    "    if not cur or not cur.next:\n",
    "        return dummy.next\n",
    "\n",
    "    while cur and cur.next:\n",
    "\n",
    "        if cur.next.val != pre.next.val:\n",
    "            pre = pre.next\n",
    "            cur = cur.next\n",
    "            continue\n",
    "\n",
    "        while cur.next and pre.next.val == cur.next.val:\n",
    "            cur = cur.next\n",
    "            # print cur.val\n",
    "\n",
    "        # at this point, \n",
    "        # cur can be None, or at the last same val node\n",
    "        if cur is None:\n",
    "            pre.next = None\n",
    "            return dummy.next\n",
    "\n",
    "        pre.next = cur.next\n",
    "        cur = pre.next\n",
    "\n",
    "    return dummy.next"
   ]
  },
  {
   "cell_type": "markdown",
   "metadata": {},
   "source": [
    "### No.74 Convert Sorted List to Balanced BST\n",
    "\n",
    "Given a singly linked list where elements are sorted in ascending order, convert it to a height balanced BST.\n",
    "\n",
    "Example\n",
    "```python\n",
    "               2\n",
    "1->2->3  =>   / \\\n",
    "             1   3\n",
    "```"
   ]
  },
  {
   "cell_type": "code",
   "execution_count": 24,
   "metadata": {
    "collapsed": false
   },
   "outputs": [
    {
     "name": "stdout",
     "output_type": "stream",
     "text": [
      "1 ->NULL\n",
      "1\n"
     ]
    }
   ],
   "source": [
    "from __future__ import print_function\n",
    "\n",
    "class ListNode(object):\n",
    "\n",
    "    def __init__(self, val, next=None):\n",
    "        self.val = val\n",
    "        self.next = next\n",
    "\n",
    "def printList(node):\n",
    "    while node is not None:\n",
    "        print(node.val, '->', end=\"\")\n",
    "        node = node.next\n",
    "    print('NULL')\n",
    "    \n",
    "def formList(nums):\n",
    "    if nums is None or len(nums) == 0:\n",
    "        return None\n",
    "    \n",
    "    dummy = ListNode(0)\n",
    "    pos = dummy\n",
    "    \n",
    "    for i in nums:\n",
    "        node = ListNode(i)\n",
    "        pos.next = node\n",
    "        pos = pos.next\n",
    "    \n",
    "    return dummy.next\n",
    "\n",
    "class TreeNode:\n",
    "    def __init__(self, val):\n",
    "        self.val = val\n",
    "        self.left, self.right = None, None\n",
    "\n",
    "def findMid(head):\n",
    "    if head is None or head.next is None:\n",
    "        return head\n",
    "    \n",
    "    slow, fast = head, head.next\n",
    "    while fast is not None and fast.next is not None:\n",
    "        slow = slow.next\n",
    "        fast = fast.next.next\n",
    "    \n",
    "    return slow\n",
    "\n",
    "def sortedListToBST(head):\n",
    "    if head is None:\n",
    "        return None\n",
    "\n",
    "    if head.next is None:\n",
    "        root = TreeNode(head.val)\n",
    "        return root\n",
    "    \n",
    "    dummy = ListNode(0)\n",
    "    dummy.next = head\n",
    "    midNode = findMid(dummy)\n",
    "    root = TreeNode(midNode.next.val)\n",
    "    \n",
    "    leftList = head\n",
    "    rightList = midNode.next.next\n",
    "    midNode.next = None\n",
    "    \n",
    "    leftChild = sortedListToBST(leftList)\n",
    "    rightChild = sortedListToBST(rightList)\n",
    "    \n",
    "    root.left = leftChild\n",
    "    root.right = rightChild\n",
    "    \n",
    "    return root\n",
    "    \n",
    "A = [1]\n",
    "alist = formList(A)\n",
    "printList(alist)\n",
    "mid = findMid(alist)\n",
    "print(mid.val)\n",
    "    \n",
    "    \n",
    "    "
   ]
  },
  {
   "cell_type": "markdown",
   "metadata": {
    "collapsed": false
   },
   "source": [
    "### No.75 Copy List with Random Pointer\n",
    "A linked list is given such that each node contains an additional random pointer which could point to any node in the list or null.\n",
    "\n",
    "Return a deep copy of the list."
   ]
  },
  {
   "cell_type": "code",
   "execution_count": 27,
   "metadata": {
    "collapsed": false
   },
   "outputs": [],
   "source": [
    "# Definition for singly-linked list with a random pointer.\n",
    "# class RandomListNode:\n",
    "#     def __init__(self, x):\n",
    "#         self.label = x\n",
    "#         self.next = None\n",
    "#         self.random = None\n",
    "class Solution:\n",
    "    # @param head: A RandomListNode\n",
    "    # @return: A RandomListNode\n",
    "    def copyRandomList(self, head):\n",
    "        # write your code here\n",
    "        dummy = ListNode(0)\n",
    "        dummy.next = head\n",
    "        curNew, cur = dummy, head\n",
    "        D = dict()\n",
    "        while cur:\n",
    "            node = RandomListNode(cur.label)\n",
    "            node.next, node.random = None, cur.random\n",
    "            curNew.next = node\n",
    "            curNew = node\n",
    "            D[cur] = node\n",
    "            cur = cur.next\n",
    "        \n",
    "        curNew = dummy.next\n",
    "        while curNew:\n",
    "            curNew.random = D.get(curNew.random)\n",
    "            curNew = curNew.next\n",
    "        \n",
    "        return dummy.next"
   ]
  },
  {
   "cell_type": "markdown",
   "metadata": {},
   "source": [
    "### No.76 Merge k Sorted Lists\n",
    "\n",
    "Merge k sorted linked lists and return it as one sorted list.\n",
    "\n",
    "Analyze and describe its complexity.\n",
    "\n",
    "Example\n",
    "Given lists:\n",
    "```python\n",
    "[\n",
    "  2->4->null,\n",
    "  null,\n",
    "  -1->null\n",
    "],\n",
    "return -1->2->4->null.\n",
    "```"
   ]
  },
  {
   "cell_type": "code",
   "execution_count": null,
   "metadata": {
    "collapsed": true
   },
   "outputs": [],
   "source": [
    "import heapq as Q\n",
    "def mergeKLists(lists):\n",
    "    q = []\n",
    "    \n",
    "    for i in xrange(len(lists)):\n",
    "        if lists[i] is not None:\n",
    "            Q.heappush(q, (lists[i].val, lists[i]))\n",
    "    \n",
    "    dummy = ListNode(0)\n",
    "    cur = dummy\n",
    "    while q:\n",
    "        val, node = Q.heappop(q)\n",
    "        cur.next = node\n",
    "        cur = cur.next\n",
    "        if node.next:\n",
    "            Q.heappush(q, (node.next.val, node.next))\n",
    "    \n",
    "    return dummy.next\n",
    "        \n",
    "        \n",
    "    \n",
    "    "
   ]
  },
  {
   "cell_type": "markdown",
   "metadata": {},
   "source": [
    "### Heapq Usage"
   ]
  },
  {
   "cell_type": "code",
   "execution_count": 117,
   "metadata": {
    "collapsed": false
   },
   "outputs": [
    {
     "name": "stdout",
     "output_type": "stream",
     "text": [
      "[0, 2, 1]\n",
      "0\n"
     ]
    }
   ],
   "source": [
    "import heapq as Q\n",
    "\n",
    "q = []\n",
    "Q.heappush(q, 1)\n",
    "\n",
    "Q.heappush (q, 2)\n",
    "Q.heappush (q, 0)\n",
    "print(q)\n",
    "print(Q.heappop(q)) "
   ]
  },
  {
   "cell_type": "markdown",
   "metadata": {
    "collapsed": true
   },
   "source": [
    "### No.77 Reorder List\n",
    "Given a singly linked list L: L0 → L1 → … → Ln-1 → Ln\n",
    "\n",
    "reorder it to: L0 → Ln → L1 → Ln-1 → L2 → Ln-2 → …\n",
    "\n",
    "Example:\n",
    "\n",
    "Given 1->2->3->4->null, reorder it to 1->4->2->3->null.\n",
    "\n"
   ]
  },
  {
   "cell_type": "code",
   "execution_count": 122,
   "metadata": {
    "collapsed": false
   },
   "outputs": [
    {
     "name": "stdout",
     "output_type": "stream",
     "text": [
      "0 ->1 ->2 ->3 ->4 ->NULL\n",
      "0 ->1 ->2 ->NULL\n",
      "4 ->3 ->NULL\n",
      "0 ->4 ->1 ->3 ->2 ->NULL\n"
     ]
    }
   ],
   "source": [
    "from __future__ import print_function\n",
    "\n",
    "class ListNode(object):\n",
    "\n",
    "    def __init__(self, val, next=None):\n",
    "        self.val = val\n",
    "        self.next = next\n",
    "\n",
    "def printList(node):\n",
    "    while node is not None:\n",
    "        print(node.val, '->', end=\"\")\n",
    "        node = node.next\n",
    "    print('NULL')\n",
    "    \n",
    "def formList(nums):\n",
    "    if nums is None or len(nums) == 0:\n",
    "        return None\n",
    "    \n",
    "    dummy = ListNode(0)\n",
    "    pos = dummy\n",
    "    \n",
    "    for i in nums:\n",
    "        node = ListNode(i)\n",
    "        pos.next = node\n",
    "        pos = pos.next\n",
    "    \n",
    "    return dummy.next\n",
    "\n",
    "def findMid(head):\n",
    "    if head is None or head.next is None:\n",
    "        return None\n",
    "    \n",
    "    slow, fast = head, head.next\n",
    "    while fast and fast.next:\n",
    "        slow = slow.next\n",
    "        fast = fast.next.next\n",
    "    \n",
    "    return slow\n",
    "\n",
    "def reverseList(head):\n",
    "    if head is None or head.next is None:\n",
    "        return head\n",
    "\n",
    "    pre, cur = None, head\n",
    "    while cur:\n",
    "        temp = cur.next\n",
    "        cur.next = pre\n",
    "        pre = cur\n",
    "        cur = temp\n",
    "    \n",
    "    return pre\n",
    "\n",
    "def reorderList(head):\n",
    "    if head is None or head.next is None:\n",
    "        return head\n",
    "    \n",
    "    mid = findMid(head)\n",
    "    \n",
    "    # break from mid\n",
    "    left = head\n",
    "    right = mid.next\n",
    "    mid.next = None\n",
    "    right = reverseList(right)\n",
    "    \n",
    "    printList(left)\n",
    "    printList(right)\n",
    "    \n",
    "    # Merge left and right\n",
    "    dummy = ListNode(0)\n",
    "    newCur = dummy\n",
    "    while left:\n",
    "        newCur.next = left\n",
    "        newCur = newCur.next\n",
    "        left = left.next\n",
    "\n",
    "        if right:\n",
    "            newCur.next = right\n",
    "            newCur = newCur.next\n",
    "            right = right.next\n",
    "    \n",
    "    return dummy.next\n",
    "\n",
    "A = [0, 1, 2, 3, 4]\n",
    "alist = formList(A)\n",
    "printList(alist)\n",
    "\n",
    "blist = reorderList(alist)\n",
    "printList(blist)"
   ]
  },
  {
   "cell_type": "markdown",
   "metadata": {},
   "source": [
    "### No.78 "
   ]
  }
 ],
 "metadata": {
  "kernelspec": {
   "display_name": "Python 2",
   "language": "python",
   "name": "python2"
  },
  "language_info": {
   "codemirror_mode": {
    "name": "ipython",
    "version": 2
   },
   "file_extension": ".py",
   "mimetype": "text/x-python",
   "name": "python",
   "nbconvert_exporter": "python",
   "pygments_lexer": "ipython2",
   "version": "2.7.11"
  }
 },
 "nbformat": 4,
 "nbformat_minor": 0
}

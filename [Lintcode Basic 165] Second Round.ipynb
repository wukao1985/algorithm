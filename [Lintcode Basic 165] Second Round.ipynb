{
 "cells": [
  {
   "cell_type": "markdown",
   "metadata": {},
   "source": [
    "# [Lintcode Basic 165] Second Round REVIEW"
   ]
  },
  {
   "cell_type": "markdown",
   "metadata": {},
   "source": [
    "### Part I strStr"
   ]
  },
  {
   "cell_type": "markdown",
   "metadata": {},
   "source": [
    "### No. 1 strStr\n",
    "\n",
    "For a given source string and a target string, you should output the first index(from 0) of target string in source string.\n",
    "\n",
    "If target does not exist in source, just return -1.\n",
    "\n",
    "Exemple:\n",
    "\n",
    "If source = \"source\" and target = \"target\", return -1.\n",
    "\n",
    "If source = \"abcdabcdefg\" and target = \"bcd\", return 1.\n"
   ]
  },
  {
   "cell_type": "code",
   "execution_count": 8,
   "metadata": {
    "collapsed": false
   },
   "outputs": [
    {
     "name": "stdout",
     "output_type": "stream",
     "text": [
      "ab\n",
      "3\n"
     ]
    }
   ],
   "source": [
    "def strStr(s, target):\n",
    "    if s is None or target is None:\n",
    "        return -1\n",
    "    \n",
    "    lenStr = len(s)\n",
    "    lenTar = len(target)\n",
    "    \n",
    "    if lenStr < lenTar:\n",
    "        return -1\n",
    "    \n",
    "    for i in range(lenStr - lenTar + 1):\n",
    "        if s[i:i + lenTar] == target:\n",
    "            return i\n",
    "    return -1\n",
    "\n",
    "s = \"abcds\"\n",
    "target = \"ds\"\n",
    "print s[0:2]\n",
    "print strStr(s, target)\n",
    "    "
   ]
  },
  {
   "cell_type": "markdown",
   "metadata": {},
   "source": [
    "### No.2 Subsets\n",
    "\n",
    "Given a set of distinct integers, return all possible subsets."
   ]
  },
  {
   "cell_type": "code",
   "execution_count": 10,
   "metadata": {
    "collapsed": false
   },
   "outputs": [
    {
     "name": "stdout",
     "output_type": "stream",
     "text": [
      "[[], [1], [1, 2], [1, 2, 3], [1, 3], [2], [2, 3], [3]]\n"
     ]
    }
   ],
   "source": [
    "def helper(nums, ret, pos, path):\n",
    "    ret.append([] + path)\n",
    "    \n",
    "    for i in xrange(pos, len(nums)):\n",
    "        path.append(nums[i])\n",
    "        helper(nums, ret, i + 1, path)\n",
    "        path.pop()\n",
    "\n",
    "def subsets(nums):\n",
    "    if nums is None or len(nums) == 0:\n",
    "        return []\n",
    "    \n",
    "    ret = []\n",
    "    nums.sort()\n",
    "    helper(nums, ret, 0, [])\n",
    "    return ret\n",
    "\n",
    "s = [1, 2, 3]\n",
    "print subsets(s)"
   ]
  },
  {
   "cell_type": "markdown",
   "metadata": {},
   "source": [
    "### No.3 Subsets II\n",
    "\n",
    "Given a list of numbers that may has duplicate numbers, return all possible subsets"
   ]
  },
  {
   "cell_type": "code",
   "execution_count": 14,
   "metadata": {
    "collapsed": false
   },
   "outputs": [
    {
     "name": "stdout",
     "output_type": "stream",
     "text": [
      "[[], [1], [1, 2], [1, 2, 2], [2], [2, 2]]\n"
     ]
    }
   ],
   "source": [
    "def helper(nums, pos, path, ret):\n",
    "    ret.append([] + path)\n",
    "    \n",
    "    for i in xrange(pos, len(nums)):\n",
    "        # Note: i > pos, not i > 0!!!!\n",
    "        if i > pos and nums[i] == nums[i - 1]:\n",
    "            continue\n",
    "        \n",
    "        path.append(nums[i])\n",
    "        helper(nums, i + 1, path, ret)\n",
    "        path.pop()\n",
    "        \n",
    "def subsets2(nums):\n",
    "    if nums is None or len(nums) == 0:\n",
    "        return []\n",
    "    \n",
    "    nums.sort()\n",
    "    ret = []\n",
    "    helper(nums, 0, [], ret)\n",
    "    return ret\n",
    "\n",
    "s = [1, 2, 2]\n",
    "print subsets2(s)\n",
    "    "
   ]
  },
  {
   "cell_type": "markdown",
   "metadata": {},
   "source": [
    "### No.4 Permutation\n",
    "Given a list of numbers, return all possible permutations."
   ]
  },
  {
   "cell_type": "code",
   "execution_count": 15,
   "metadata": {
    "collapsed": false
   },
   "outputs": [
    {
     "name": "stdout",
     "output_type": "stream",
     "text": [
      "[[1, 2, 3], [1, 3, 2], [2, 1, 3], [2, 3, 1], [3, 1, 2], [3, 2, 1]]\n"
     ]
    }
   ],
   "source": [
    "def helper(nums, pos, path, visited, ret):\n",
    "    if pos == len(nums):\n",
    "        ret.append([] + path)\n",
    "    \n",
    "    for i in xrange(len(nums)):\n",
    "        if visited[i] is True:\n",
    "            continue\n",
    "        \n",
    "        visited[i] = True\n",
    "        path.append(nums[i])\n",
    "        helper(nums, pos + 1, path, visited, ret)\n",
    "        visited[i] = False\n",
    "        path.pop()\n",
    "\n",
    "def permute(nums):\n",
    "    if nums is None or len(nums) == 0:\n",
    "        return []\n",
    "    \n",
    "    nums.sort()\n",
    "    ret = []\n",
    "    visited = [False] * len(nums)\n",
    "    \n",
    "    helper(nums, 0, [], visited, ret)\n",
    "    return ret\n",
    "\n",
    "\n",
    "s = [1, 2, 3]\n",
    "print permute(s)"
   ]
  },
  {
   "cell_type": "markdown",
   "metadata": {},
   "source": [
    "### No.5 Permutation II\n",
    "Given a list of numbers with duplicate number in it. Find all unique permutations."
   ]
  },
  {
   "cell_type": "code",
   "execution_count": 24,
   "metadata": {
    "collapsed": false
   },
   "outputs": [
    {
     "name": "stdout",
     "output_type": "stream",
     "text": [
      "[[1, 2, 2, 2, 2], [2, 1, 2, 2, 2], [2, 2, 1, 2, 2], [2, 2, 2, 1, 2], [2, 2, 2, 2, 1]]\n"
     ]
    }
   ],
   "source": [
    "def helper(nums, pos, path, visited, ret):\n",
    "    if pos == len(nums):\n",
    "        ret.append([] + path)\n",
    "    \n",
    "    for i in xrange(len(nums)):\n",
    "        # visited[i - 1] can be True or False!\n",
    "        if visited[i] is True or i > 0 and \\\n",
    "                visited[i - 1] is False and nums[i] == nums[i - 1]:\n",
    "            continue\n",
    "        \n",
    "        path.append(nums[i])\n",
    "        visited[i] = True\n",
    "        helper(nums, pos + 1, path, visited, ret)\n",
    "        path.pop()\n",
    "        visited[i] = False\n",
    "\n",
    "def permute2(nums):\n",
    "    if nums is None or len(nums) == 0:\n",
    "        return []\n",
    "\n",
    "    ret = []\n",
    "    # Please remember to sort the list first!!!!!\n",
    "    nums.sort()\n",
    "    visited = [False] * len(nums)\n",
    "    \n",
    "    helper(nums, 0, [], visited, ret)\n",
    "    return ret\n",
    "\n",
    "s = [1, 2, 2, 2, 2]\n",
    "print permute2(s)"
   ]
  },
  {
   "cell_type": "markdown",
   "metadata": {},
   "source": [
    "### No.6 Search Insert Position\n",
    "\n",
    "Given a sorted array and a target value, return the index if the target is found. If not, return the index where it would be if it were inserted in order.\n",
    "\n",
    "You may assume NO duplicates in the array.\n",
    "\n",
    "Example\n",
    "\n",
    "[1,3,5,6], 5 → 2\n",
    "\n",
    "[1,3,5,6], 2 → 1\n",
    "\n",
    "[1,3,5,6], 7 → 4\n",
    "\n",
    "[1,3,5,6], 0 → 0"
   ]
  },
  {
   "cell_type": "code",
   "execution_count": 32,
   "metadata": {
    "collapsed": false
   },
   "outputs": [
    {
     "name": "stdout",
     "output_type": "stream",
     "text": [
      "4\n"
     ]
    }
   ],
   "source": [
    "def searchInsert(nums, target):\n",
    "    if nums is None or len(nums) == 0:\n",
    "        return 0\n",
    "    \n",
    "    if target < nums[0]:\n",
    "        return 0\n",
    "    \n",
    "    if target > nums[-1]:\n",
    "        return len(nums)\n",
    "    \n",
    "    start, end = 0, len(nums) - 1\n",
    "    while start + 1 < end:\n",
    "        mid = start + (end - start) / 2\n",
    "        if nums[mid] < target:\n",
    "            start = mid\n",
    "        else:\n",
    "            end = mid\n",
    "\n",
    "    if nums[start] == target:\n",
    "        return start\n",
    "    else:\n",
    "        # maybe nums[end] == target\n",
    "        # maybe nums[start] < target < nums[end]\n",
    "        return end\n",
    "    \n",
    "s = [1,3,5,6]\n",
    "target = 7\n",
    "print searchInsert(s, target)"
   ]
  },
  {
   "cell_type": "markdown",
   "metadata": {},
   "source": [
    "### No.7 Search a 2D Matrix\n",
    "\n",
    "Write an efficient algorithm that searches for a value in an m x n matrix.\n",
    "\n",
    "This matrix has the following properties:\n",
    "\n",
    "Integers in each row are sorted from left to right.\n",
    "The first integer of each row is greater than the last integer of the previous row.\n",
    "\n",
    "Example\n",
    "Consider the following matrix:\n",
    "\n",
    "```python\n",
    "[\n",
    "    [1, 3, 5, 7],\n",
    "    [10, 11, 16, 20],\n",
    "    [23, 30, 34, 50]\n",
    "]\n",
    "Given target = 3, return true.\n",
    "```\n"
   ]
  },
  {
   "cell_type": "markdown",
   "metadata": {},
   "source": [
    "### revisit: no extra space "
   ]
  },
  {
   "cell_type": "code",
   "execution_count": 64,
   "metadata": {
    "collapsed": false
   },
   "outputs": [
    {
     "name": "stdout",
     "output_type": "stream",
     "text": [
      "False\n"
     ]
    }
   ],
   "source": [
    "def searchMatrix(matrix, target):\n",
    "    if matrix is None or len(matrix) == 0:\n",
    "        return False\n",
    "\n",
    "    if target < matrix[0][0] or target > matrix[-1][-1]:\n",
    "        return False\n",
    "    \n",
    "    firstNum = []\n",
    "    for i in range(len(matrix)):\n",
    "        firstNum.append(matrix[i][0])\n",
    "    \n",
    "    # TOO TRICKY, TRY ANOTHER SOLUTION.\n",
    "    firstNum.append(matrix[-1][-1])\n",
    "\n",
    "    start, end = 0, len(firstNum) - 1\n",
    "    while start + 1 < end:\n",
    "        mid = start + (end - start) / 2\n",
    "        # To make sure target is always in row \"start\"\n",
    "        # we need to use <= here!!!!!\n",
    "        if firstNum[mid] <= target:\n",
    "            start = mid\n",
    "        else:\n",
    "            end = mid\n",
    "    \n",
    "    # target is between firstNum[start] and \n",
    "    # firstNum[end], so it should in row start\n",
    "    # of the original matrix\n",
    "    i = start\n",
    "    \n",
    "    print start, end, len(firstNum)\n",
    "    start, end = 0, len(matrix[0]) - 1\n",
    "    while start + 1 < end:\n",
    "        mid = start + (end - start) / 2\n",
    "        if matrix[i][mid] < target:\n",
    "            start = mid\n",
    "        else:\n",
    "            end = mid\n",
    "    \n",
    "    if matrix[i][start] == target or matrix[i][end] == target:\n",
    "        return True\n",
    "    \n",
    "    return False\n",
    "    \n",
    "matrix = [\n",
    "    [1, 3, 5, 7],\n",
    "    [10, 11, 16, 20],\n",
    "    [23, 30, 34, 50]\n",
    "]\n",
    "\n",
    "print searchMatrix(matrix, 51)"
   ]
  },
  {
   "cell_type": "markdown",
   "metadata": {},
   "source": [
    "### No.8 First Position of Target\n",
    "For a given sorted array (ascending order) and a target number, find the first index of this number in O(log n) time complexity.\n",
    "\n",
    "If the target number does not exist in the array, return -1.\n",
    "\n",
    "Example\n",
    "\n",
    "If the array is [1, 2, 3, 3, 4, 5, 10], for given target 3, return 2."
   ]
  },
  {
   "cell_type": "code",
   "execution_count": 69,
   "metadata": {
    "collapsed": false
   },
   "outputs": [
    {
     "name": "stdout",
     "output_type": "stream",
     "text": [
      "2\n"
     ]
    }
   ],
   "source": [
    "def binarySearch(nums, target):\n",
    "    if nums is None or len(nums) == 0:\n",
    "        return -1\n",
    "    \n",
    "    start, end = 0, len(nums) - 1\n",
    "    while start + 1 < end:\n",
    "        mid = start + (end - start) / 2\n",
    "        # in order to deal with duplicate\n",
    "        # when nums[mid] == target\n",
    "        # we need to move end to mid\n",
    "        if nums[mid] < target:\n",
    "            start = mid\n",
    "        else:\n",
    "            end = mid\n",
    "    \n",
    "    if nums[start] == target:\n",
    "        return start\n",
    "    \n",
    "    if nums[end] == target:\n",
    "        return end\n",
    "    \n",
    "    return -1\n",
    "\n",
    "s = [1, 2, 3, 3, 4, 5, 10]\n",
    "print binarySearch(s, 3)\n",
    "    "
   ]
  },
  {
   "cell_type": "markdown",
   "metadata": {},
   "source": [
    "### No.9 Search in a Big Sorted Array\n",
    "Given a big sorted array with positive integers sorted by ascending order. The array is so big so that you can not get the length of the whole array directly, and you can only access the kth number by ArrayReader.get(k) (or ArrayReader->get(k) for C++). Find the first index of a target number. Your algorithm should be in O(log k), where k is the first index of the target number.\n",
    "\n",
    "Return -1, if the number doesn't exist in the array.\n",
    "\n",
    "Example\n",
    "```python\n",
    "Given [1, 3, 6, 9, 21, ...], and target = 3, return 1.\n",
    "\n",
    "Given [1, 3, 6, 9, 21, ...], and target = 4, return -1.\n",
    "```"
   ]
  },
  {
   "cell_type": "code",
   "execution_count": 74,
   "metadata": {
    "collapsed": false
   },
   "outputs": [],
   "source": [
    "\"\"\"\n",
    "Definition of ArrayReader:\n",
    "class ArrayReader:\n",
    "    def get(self, index):\n",
    "        # this would return the number on the given index\n",
    "        # if there is no number on that index, return -1\n",
    "\"\"\"\n",
    "def searchBigSortedArray(reader, target):\n",
    "    pos = 0\n",
    "    while reader.get(pos) != -1 and reader.get(pos) <= target:\n",
    "        pos = pos * 2 + 1\n",
    "    \n",
    "    # at this point, s[pos] == -1 or s[pos] >= target\n",
    "    start, end = 0, pos\n",
    "    while start + 1 < end:\n",
    "        mid = start + (end - start) / 2\n",
    "        temp = reader.get(mid)\n",
    "        # if temp == -1, means target is at left side, \n",
    "        # we want to move end in this case\n",
    "        if temp < target and temp != -1:\n",
    "            start = mid\n",
    "        else:\n",
    "            end = mid\n",
    "    \n",
    "    if reader.get(start) == target:\n",
    "        return start\n",
    "   \n",
    "    if reader.get(end) == target:\n",
    "        return end\n",
    "    \n",
    "    return -1"
   ]
  },
  {
   "cell_type": "markdown",
   "metadata": {},
   "source": [
    "### No.10 Find Minimum in Rotated Sorted Array\n",
    "Suppose a sorted array is rotated at some pivot unknown to you beforehand.\n",
    "\n",
    "(i.e., 0 1 2 4 5 6 7 might become 4 5 6 7 0 1 2).\n",
    "\n",
    "Find the minimum element.\n",
    "\n",
    "Example\n",
    "\n",
    "Given [4, 5, 6, 7, 0, 1, 2] return 0"
   ]
  },
  {
   "cell_type": "code",
   "execution_count": 81,
   "metadata": {
    "collapsed": false
   },
   "outputs": [
    {
     "name": "stdout",
     "output_type": "stream",
     "text": [
      "3 4\n",
      "0\n"
     ]
    }
   ],
   "source": [
    "def findMin(num):\n",
    "    if num is None or len(num) == 0:\n",
    "        return None\n",
    "    \n",
    "    start, end = 0, len(num) - 1\n",
    "    target = num[-1]\n",
    "    while start + 1 < end:\n",
    "        mid = start + (end - start) / 2\n",
    "        # Remember, how to move the mid\n",
    "        # is opporsite position with the \n",
    "        # template!\n",
    "        if num[mid] < target:\n",
    "            end = mid\n",
    "        else:\n",
    "            start = mid\n",
    "\n",
    "    # print start, end\n",
    "    return min(num[start], num[end])\n",
    "\n",
    "s = [4, 5, 6, 7, 0, 1, 2]\n",
    "print findMin(s)"
   ]
  },
  {
   "cell_type": "markdown",
   "metadata": {},
   "source": [
    "### No.11 Find Peak Element\n",
    "There is an integer array which has the following features:\n",
    "\n",
    "```python\n",
    "1. The numbers in adjacent positions are different.\n",
    "\n",
    "2. A[0] < A[1] && A[A.length - 2] > A[A.length - 1].\n",
    "```\n",
    "We define a position P is a peek if:\n",
    "```python\n",
    "A[P] > A[P-1] && A[P] > A[P+1]\n",
    "```\n",
    "Find a peak element in this array. Return the index of the peak.\n",
    "\n",
    "Example\n",
    "\n",
    "Given [1, 2, 1, 3, 4, 5, 7, 6]\n",
    "\n",
    "Return index 1 (which is number 2) or 6 (which is number 7)"
   ]
  },
  {
   "cell_type": "code",
   "execution_count": 83,
   "metadata": {
    "collapsed": false
   },
   "outputs": [
    {
     "name": "stdout",
     "output_type": "stream",
     "text": [
      "6\n"
     ]
    }
   ],
   "source": [
    "def findPeak(nums):\n",
    "    \n",
    "    start, end = 1, len(nums) - 2\n",
    "    while start + 1 < end:\n",
    "        mid = start + (end - start) / 2\n",
    "        left, right = nums[mid - 1], nums[mid + 1]\n",
    "        if nums[mid] > left and nums[mid] > right:\n",
    "            return mid\n",
    "        if left > nums[mid] and nums[mid] > right:\n",
    "            end = mid\n",
    "        else:\n",
    "            start = mid\n",
    "    \n",
    "    if nums[start] > nums[start + 1]:\n",
    "        return start\n",
    "    \n",
    "    return end\n",
    "\n",
    "s = [1, 2, 1, 3, 4, 5, 7, 6]\n",
    "print findPeak(s)"
   ]
  },
  {
   "cell_type": "markdown",
   "metadata": {},
   "source": [
    "### No.12 First Bad Version\n",
    "\n",
    "The code base version is an integer start from 1 to n. One day, someone committed a bad version in the code case, so it caused this version and the following versions are all failed in the unit tests. Find the first bad version.\n",
    "\n",
    "You can call isBadVersion to help you determine which version is the first bad one. The details interface can be found in the code's annotation part.\n",
    "\n",
    "Example\n",
    "\n",
    "Given n = 5:\n",
    "\n",
    "isBadVersion(3) -> false\n",
    "\n",
    "isBadVersion(5) -> true\n",
    "\n",
    "isBadVersion(4) -> true\n",
    "\n",
    "Here we are 100% sure that the 4th version is the first bad version."
   ]
  },
  {
   "cell_type": "code",
   "execution_count": 84,
   "metadata": {
    "collapsed": true
   },
   "outputs": [],
   "source": [
    "def findFirstBadVersion(n):\n",
    "    start, end = 1, n\n",
    "    while start + 1 < end:\n",
    "        mid = start + (end - start) / 2\n",
    "        if SVNRepo.isBadVersion(mid) is False:\n",
    "            start = mid\n",
    "        else:\n",
    "            end = mid\n",
    "    \n",
    "    # The cornor case is first version is Bad\n",
    "    # or the last version is Bad.\n",
    "    if SVNRepo.isBadVersion(start) is True:\n",
    "        return start\n",
    "    \n",
    "    return end"
   ]
  },
  {
   "cell_type": "markdown",
   "metadata": {},
   "source": [
    "### No.13 Search in Rotated Sorted Array\n",
    "\n",
    "Suppose a sorted array is rotated at some pivot unknown to you beforehand.\n",
    "\n",
    "(i.e., 0 1 2 4 5 6 7 might become 4 5 6 7 0 1 2).\n",
    "\n",
    "You are given a target value to search. If found in the array return its index, otherwise return -1.\n",
    "\n",
    "You may assume no duplicate exists in the array.\n",
    "\n",
    "Example\n",
    "\n",
    "For [4, 5, 1, 2, 3] and target=1, return 2.\n",
    "\n",
    "For [4, 5, 1, 2, 3] and target=0, return -1.\n"
   ]
  },
  {
   "cell_type": "code",
   "execution_count": 97,
   "metadata": {
    "collapsed": false
   },
   "outputs": [
    {
     "name": "stdout",
     "output_type": "stream",
     "text": [
      "-1\n"
     ]
    }
   ],
   "source": [
    "def search(A, target):\n",
    "    if A is None or len(A) == 0:\n",
    "        return -1\n",
    "    \n",
    "    start, end = 0, len(A) - 1\n",
    "    while start + 1 < end:\n",
    "        mid = start + (end - start) / 2\n",
    "        if A[mid] > A[start]:\n",
    "            # in case of targt == A[start], we want \n",
    "            # to move end\n",
    "            if A[mid] > target and target >= A[start]:\n",
    "                end = mid\n",
    "            else:\n",
    "                start = mid\n",
    "        else:\n",
    "            # in case of target == A[end], we want \n",
    "            # to move start\n",
    "            if A[mid] < target and target <= A[end]:\n",
    "                start = mid\n",
    "            else:\n",
    "                end = mid\n",
    "\n",
    "    \n",
    "    # print start, end\n",
    "    if A[start] == target:\n",
    "        return start\n",
    "\n",
    "    if A[end] == target:\n",
    "        return end\n",
    "\n",
    "    return -1\n",
    "\n",
    "s = [4, 5, 1, 2, 3]\n",
    "print search(s, 9)\n",
    "                "
   ]
  },
  {
   "cell_type": "markdown",
   "metadata": {},
   "source": [
    "### No.14 Search for a Range\n",
    "Given a sorted array of n integers, find the starting and ending position of a given target value.\n",
    "\n",
    "If the target is not found in the array, return [-1, -1].\n",
    "\n",
    "Example:\n",
    "\n",
    "Given [5, 7, 7, 8, 8, 10] and target value 8,\n",
    "\n",
    "return [3, 4].\n"
   ]
  },
  {
   "cell_type": "code",
   "execution_count": 108,
   "metadata": {
    "collapsed": false
   },
   "outputs": [
    {
     "name": "stdout",
     "output_type": "stream",
     "text": [
      "2 3\n",
      "[0, 3]\n"
     ]
    }
   ],
   "source": [
    "def searchFirst(A, target):\n",
    "    if A is None or len(A) == 0:\n",
    "        return None\n",
    "    \n",
    "    start, end = 0, len(A) - 1\n",
    "    while start + 1 < end:\n",
    "        mid = start + (end - start) / 2\n",
    "        if A[mid] >= target:\n",
    "            end = mid\n",
    "        else:\n",
    "            start = mid\n",
    "    \n",
    "    if A[start] == target:\n",
    "        return start\n",
    "    \n",
    "    if A[end] == target:\n",
    "        return end\n",
    "    \n",
    "    return None\n",
    "\n",
    "def searchLast(A, target):\n",
    "    if A is None or len(A) == 0:\n",
    "        return None\n",
    "    \n",
    "    start, end = 0, len(A) - 1\n",
    "    while start + 1 < end:\n",
    "        mid = start + (end - start) / 2\n",
    "        if A[mid] > target:\n",
    "            end = mid\n",
    "        else:\n",
    "            start = mid\n",
    "\n",
    "    print start, end\n",
    "    \n",
    "    # put A[end] check first!!!!!\n",
    "    # if A[end] A[start] both == target\n",
    "    # we want to return end here!\n",
    "    if A[end] == target:\n",
    "        return end\n",
    "\n",
    "    if A[start] == target:\n",
    "        return start\n",
    "    \n",
    "    return None\n",
    "\n",
    "def searchRange(A, target):\n",
    "    if A is None or len(A) == 0:\n",
    "        return [-1, -1]\n",
    "    \n",
    "    first = searchFirst(A, target)\n",
    "    last = searchLast(A, target)\n",
    "    \n",
    "    if first is None or last is None:\n",
    "        return [-1, -1]\n",
    "    \n",
    "    return [first, last]\n",
    "    \n",
    "s = [4, 4, 4, 4]\n",
    "print searchRange(s, 4)"
   ]
  },
  {
   "cell_type": "markdown",
   "metadata": {},
   "source": [
    "### No.15 Total Occurrence of Target\n",
    "\n",
    "Given a target number and an integer array sorted in ascending order. Find the total number of occurrences of target in the array.\n",
    "\n",
    "Example\n",
    "\n",
    "Given [1, 3, 3, 4, 5] and target = 3, return 2.\n",
    "\n",
    "Given [2, 2, 3, 4, 6] and target = 4, return 1.\n",
    "\n",
    "Given [1, 2, 3, 4, 5] and target = 6, return 0."
   ]
  },
  {
   "cell_type": "code",
   "execution_count": 109,
   "metadata": {
    "collapsed": false
   },
   "outputs": [
    {
     "name": "stdout",
     "output_type": "stream",
     "text": [
      "2 3\n",
      "2\n"
     ]
    }
   ],
   "source": [
    "def searchFirst(A, target):\n",
    "    if A is None or len(A) == 0:\n",
    "        return None\n",
    "    \n",
    "    start, end = 0, len(A) - 1\n",
    "    while start + 1 < end:\n",
    "        mid = start + (end - start) / 2\n",
    "        if A[mid] >= target:\n",
    "            end = mid\n",
    "        else:\n",
    "            start = mid\n",
    "    \n",
    "    if A[start] == target:\n",
    "        return start\n",
    "    \n",
    "    if A[end] == target:\n",
    "        return end\n",
    "    \n",
    "    return None\n",
    "\n",
    "def searchLast(A, target):\n",
    "    if A is None or len(A) == 0:\n",
    "        return None\n",
    "    \n",
    "    start, end = 0, len(A) - 1\n",
    "    while start + 1 < end:\n",
    "        mid = start + (end - start) / 2\n",
    "        if A[mid] > target:\n",
    "            end = mid\n",
    "        else:\n",
    "            start = mid\n",
    "\n",
    "    # print start, end\n",
    "    \n",
    "    # put A[end] check first!!!!!\n",
    "    # if A[end] A[start] both == target\n",
    "    # we want to return end here!\n",
    "    if A[end] == target:\n",
    "        return end\n",
    "\n",
    "    if A[start] == target:\n",
    "        return start\n",
    "    \n",
    "    return None\n",
    "\n",
    "def totalOccurrence(A, target):\n",
    "    if A is None or len(A) == 0:\n",
    "        return 0\n",
    "    \n",
    "    first = searchFirst(A, target)\n",
    "    last = searchLast(A, target)\n",
    "    \n",
    "    if first is None or last is None:\n",
    "        return 0\n",
    "    \n",
    "    return last - first + 1\n",
    "\n",
    "s = [1, 3, 3, 4, 5]\n",
    "print totalOccurrence(s, 3)"
   ]
  },
  {
   "cell_type": "markdown",
   "metadata": {},
   "source": [
    "### No.16 Closest Number in Sorted Array\n",
    "\n",
    "Given a target number and an integer array A sorted in ascending order, find the index i in A such that A[i] is closest to the given target.\n",
    "\n",
    "Return -1 if there is no element in the array.\n",
    "\n",
    "Example\n",
    "\n",
    "Given [1, 2, 3] and target = 2, return 1.\n",
    "\n",
    "Given [1, 4, 6] and target = 3, return 1.\n",
    "\n",
    "Given [1, 4, 6] and target = 5, return 1 or 2.\n",
    "\n",
    "Given [1, 3, 3, 4] and target = 2, return 0 or 1 or 2.\n",
    "\n"
   ]
  },
  {
   "cell_type": "code",
   "execution_count": 114,
   "metadata": {
    "collapsed": false
   },
   "outputs": [
    {
     "name": "stdout",
     "output_type": "stream",
     "text": [
      "4\n"
     ]
    }
   ],
   "source": [
    "def closestNumber(A, target):\n",
    "    if A is None or len(A) == 0:\n",
    "        return None\n",
    "    \n",
    "    start, end = 0, len(A) - 1\n",
    "    while start + 1 < end:\n",
    "        mid = start + (end - start) / 2\n",
    "        if A[mid] >= target:\n",
    "            end = mid\n",
    "        else:\n",
    "            start = mid\n",
    "    \n",
    "    if A[end] - target < target - A[start]:\n",
    "        return end\n",
    "    \n",
    "    return start\n",
    "\n",
    "s = [1, 3, 3, 4, 5, 5, 5, 6]\n",
    "print closestNumber(s, 5)\n",
    "            "
   ]
  },
  {
   "cell_type": "markdown",
   "metadata": {},
   "source": [
    "### No.17 Last Position of Target\n",
    "Find the last position of a target number in a sorted array. Return -1 if target does not exist.\n",
    "\n",
    "Example\n",
    "\n",
    "Given [1, 2, 2, 4, 5, 5].\n",
    "\n",
    "For target = 2, return 2.\n",
    "\n",
    "For target = 5, return 5.\n",
    "\n",
    "For target = 6, return -1."
   ]
  },
  {
   "cell_type": "code",
   "execution_count": 115,
   "metadata": {
    "collapsed": true
   },
   "outputs": [],
   "source": [
    "def lastPosition(A, target):\n",
    "    if A is None or len(A) == 0:\n",
    "        return -1\n",
    "    \n",
    "    start, end = 0, len(A) - 1\n",
    "    while start + 1 < end:\n",
    "        mid = start + (end - start) / 2\n",
    "        if A[mid] > target:\n",
    "            end = mid\n",
    "        else:\n",
    "            start = mid\n",
    "\n",
    "    # print start, end\n",
    "    \n",
    "    # put A[end] check first!!!!!\n",
    "    # if A[end] A[start] both == target\n",
    "    # we want to return end here!\n",
    "    if A[end] == target:\n",
    "        return end\n",
    "\n",
    "    if A[start] == target:\n",
    "        return start\n",
    "    \n",
    "    return -1"
   ]
  },
  {
   "cell_type": "markdown",
   "metadata": {},
   "source": [
    "### No.18 Classical Binary Search\n",
    "Find any position of a target number in a sorted array. Return -1 if target does not exist.\n",
    "\n",
    "Example\n",
    "Given [1, 2, 2, 4, 5, 5].\n",
    "\n",
    "For target = 2, return 1 or 2.\n",
    "\n",
    "For target = 5, return 4 or 5.\n",
    "\n",
    "For target = 6, return -1."
   ]
  },
  {
   "cell_type": "code",
   "execution_count": 116,
   "metadata": {
    "collapsed": true
   },
   "outputs": [],
   "source": [
    "def findPosition(A, target):\n",
    "    if A is None or len(A) == 0:\n",
    "        return -1\n",
    "    \n",
    "    start, end = 0, len(A) - 1\n",
    "    while start + 1 < end:\n",
    "        mid = start + (end - start) / 2\n",
    "        if A[mid] > target:\n",
    "            end = mid\n",
    "        else:\n",
    "            start = mid\n",
    "    \n",
    "    if A[start] == target:\n",
    "        return start\n",
    "  \n",
    "    if A[end] == target:\n",
    "        return end\n",
    "\n",
    "    return -1"
   ]
  },
  {
   "cell_type": "markdown",
   "metadata": {},
   "source": [
    "### No.19 K Closest Numbers In Sorted Array\n",
    "Given a target number, a non-negative integer k and an integer array A sorted in ascending order, find the k closest numbers to target in A, sorted in ascending order by the difference between the number and target. Otherwise, sorted in ascending order by number if the difference is same.\n",
    "\n",
    "Example\n",
    "\n",
    "Given A = [1, 2, 3], target = 2 and k = 3, return [2, 1, 3].\n",
    "\n",
    "Given A = [1, 4, 6, 8], target = 3 and k = 3, return [4, 1, 6]."
   ]
  },
  {
   "cell_type": "code",
   "execution_count": null,
   "metadata": {
    "collapsed": true
   },
   "outputs": [],
   "source": [
    "# 这题找FIRST 还是LAST都没有关系\n",
    "def kClosestNumbers(A, target, k):\n",
    "    if A is None or len(A) == 0:\n",
    "        return []\n",
    "    \n",
    "    start, end = 0, len(A) - 1\n",
    "    while start + 1 < end:\n",
    "        mid = start + (end - start) / 2\n",
    "        if A[mid] > target:\n",
    "            end = mid\n",
    "        else:\n",
    "            start = mid\n",
    "            \n",
    "    # at this point we have start, end\n",
    "    ret = []\n",
    "    while len(ret) < k:\n",
    "        if start < 0:\n",
    "            ret.append(A[end])\n",
    "            end += 1\n",
    "        elif end > len(A) - 1:\n",
    "            ret.append(A[start])\n",
    "            start -= 1\n",
    "        elif A[end] - target < target - A[start]:\n",
    "            ret.append(A[end])\n",
    "            end += 1\n",
    "        else:\n",
    "            ret.append(A[start])\n",
    "            start -= 1\n",
    "\n",
    "    return ret"
   ]
  },
  {
   "cell_type": "markdown",
   "metadata": {},
   "source": [
    "### No.20 Wood Cut\n",
    "Given n pieces of wood with length L[i] (integer array). Cut them into small pieces to guarantee you could have equal or more than k pieces with the same length. What is the longest length you can get from the n pieces of wood? Given L & k, return the maximum length of the small pieces.\n",
    "\n",
    "Example\n",
    "\n",
    "For L=[232, 124, 456], k=7, return 114.\n"
   ]
  },
  {
   "cell_type": "code",
   "execution_count": null,
   "metadata": {
    "collapsed": true
   },
   "outputs": [],
   "source": [
    "# sum([l / leng for l in L])\n",
    "def cutPieces(L, leng):\n",
    "    numPieces = 0\n",
    "    for i in L:\n",
    "        numPieces += (i / leng)\n",
    "    \n",
    "    return numPieces\n",
    "\n",
    "def woodCut(L, k):\n",
    "    # write your code here\n",
    "    if L is None or len(L) == 0:\n",
    "        return 0\n",
    "\n",
    "    if k > sum(L):\n",
    "        return 0\n",
    "\n",
    "    start, end = 1, max(L)\n",
    "    while start + 1 < end:\n",
    "        mid = start + (end - start) / 2\n",
    "        n = self.cutPieces(L, mid)\n",
    "        # if n < k, means, we need to decrease \n",
    "        # the lengh, by move end to mid\n",
    "        # which will decrease next mid\n",
    "        if n < k:\n",
    "            end = mid\n",
    "        else:\n",
    "            start = mid\n",
    "\n",
    "    if self.cutPieces(L, end) >= k:\n",
    "        return end\n",
    "\n",
    "    if self.cutPieces(L, start) >= k:\n",
    "        return start\n",
    "\n",
    "    # should never come here\n",
    "    return -1"
   ]
  },
  {
   "cell_type": "markdown",
   "metadata": {},
   "source": [
    "### No.21 Find Minimum in Rotated Sorted Array II\n",
    "Suppose a sorted array is rotated at some pivot unknown to you beforehand.\n",
    "\n",
    "(i.e., 0 1 2 4 5 6 7 might become 4 5 6 7 0 1 2).\n",
    "\n",
    "Find the minimum element.\n",
    "\n",
    "The array may contain duplicates.\n",
    "\n",
    "Example\n",
    "\n",
    "Given [4,4,5,6,7,0,1,2] return 0\n"
   ]
  },
  {
   "cell_type": "code",
   "execution_count": 1,
   "metadata": {
    "collapsed": true
   },
   "outputs": [],
   "source": [
    "def findMin(nums):\n",
    "    # Note: There is no O(lgn) solution\n",
    "    # Let's think about 1111121111111 ...\n",
    "    return min(nums)"
   ]
  },
  {
   "cell_type": "markdown",
   "metadata": {},
   "source": [
    "### No.22 Search in Rotated Sorted Array II\n",
    "Follow up for \"Search in Rotated Sorted Array\":\n",
    "What if duplicates are allowed?\n",
    "\n",
    "Would this affect the run-time complexity? How and why?\n",
    "\n",
    "Write a function to determine if a given target is in the array.\n"
   ]
  },
  {
   "cell_type": "code",
   "execution_count": 2,
   "metadata": {
    "collapsed": true
   },
   "outputs": [],
   "source": [
    "def search(A, target):\n",
    "    if A is None or len(A) == 0:\n",
    "        return False\n",
    "    \n",
    "    for i in xrange(len(A)):\n",
    "        if A[i] == target:\n",
    "            return True\n",
    "    \n",
    "    return False"
   ]
  },
  {
   "cell_type": "markdown",
   "metadata": {},
   "source": [
    "### No.23 Search a 2D Matrix II\n",
    "Write an efficient algorithm that searches for a value in an m x n matrix, return the occurrence of it.\n",
    "\n",
    "This matrix has the following properties:\n",
    "\n",
    "- Integers in each row are sorted from left to right.\n",
    "- Integers in each column are sorted from up to bottom.\n",
    "- No duplicate integers in each row or column.\n",
    "\n",
    "Example\n",
    "Consider the following matrix:\n",
    "```python\n",
    "[\n",
    "  [1, 3, 5, 7],\n",
    "  [2, 4, 7, 8],\n",
    "  [3, 5, 9, 10]\n",
    "]\n",
    "Given target = 3, return 2.\n",
    "```"
   ]
  },
  {
   "cell_type": "code",
   "execution_count": 3,
   "metadata": {
    "collapsed": true
   },
   "outputs": [],
   "source": [
    "def searchMatrix(matrix, target):\n",
    "    if matrix is None or len(matrix) == 0:\n",
    "        return 0\n",
    "\n",
    "    count = 0\n",
    "    curRow, curCol = 0, len(matrix[0]) - 1\n",
    "\n",
    "    while curRow < len(matrix) and curCol >= 0:\n",
    "        # print curRow, curCol\n",
    "        curValue = matrix[curRow][curCol]\n",
    "        if curValue == target:\n",
    "            count += 1\n",
    "        \n",
    "        # when curValue == target, we move down\n",
    "        if curValue > target:\n",
    "            curCol -= 1\n",
    "        else:\n",
    "            curRow += 1\n",
    "\n",
    "    return count"
   ]
  },
  {
   "cell_type": "markdown",
   "metadata": {},
   "source": [
    "### No.24 Maximum Depth of Binary Tree\n",
    "Given a binary tree, find its maximum depth.\n",
    "\n",
    "The maximum depth is the number of nodes along the longest path from the root node down to the farthest leaf node.\n",
    "\n",
    "Example\n",
    "Given a binary tree as follow:\n",
    "```python\n",
    "  1\n",
    " / \\ \n",
    "2   3\n",
    "   / \\\n",
    "  4   5\n",
    "  ```\n",
    "The maximum depth is 3.\n"
   ]
  },
  {
   "cell_type": "code",
   "execution_count": null,
   "metadata": {
    "collapsed": true
   },
   "outputs": [],
   "source": [
    "def maxDepth(root):\n",
    "    if root is None:\n",
    "        return 0\n",
    "    \n",
    "    return max(maxDepth(root.left), maxDepth(root.right)) + 1"
   ]
  },
  {
   "cell_type": "markdown",
   "metadata": {},
   "source": [
    "### No.25 Binary Tree Preorder Traversal\n",
    "Given a binary tree, return the preorder traversal of its nodes' values.\n",
    "\n",
    "Example\n",
    "Given:\n",
    "```python\n",
    "    1\n",
    "   / \\\n",
    "  2   3\n",
    " / \\\n",
    "4   5\n",
    "```\n",
    "return [1,2,4,5,3].\n"
   ]
  },
  {
   "cell_type": "code",
   "execution_count": null,
   "metadata": {
    "collapsed": true
   },
   "outputs": [],
   "source": [
    "def preHelper(root, ret):\n",
    "    if root is None:\n",
    "        return\n",
    "    \n",
    "    ret.append(root.val)\n",
    "    preHelper(root.left, ret)\n",
    "    preHelper(root.right, ret)\n",
    "\n",
    "def preorderTraversal(root):\n",
    "    if root is None:\n",
    "        return []\n",
    "    \n",
    "    ret = []\n",
    "    preHelper(root, ret)\n",
    "    \n",
    "    return ret"
   ]
  },
  {
   "cell_type": "markdown",
   "metadata": {},
   "source": [
    "### No.26 Binary Tree Maximum Path Sum II\n",
    "Given a binary tree, find the maximum path sum from root.\n",
    "\n",
    "The path may end at any node in the tree and contain at least one node in it.\n",
    "\n",
    "Given the below binary tree:\n",
    "```python\n",
    "  1\n",
    " / \\\n",
    "2   3\n",
    "```\n",
    "return 4. (1->3)\n"
   ]
  },
  {
   "cell_type": "code",
   "execution_count": 5,
   "metadata": {
    "collapsed": true
   },
   "outputs": [],
   "source": [
    "def maxPathSum2(root):\n",
    "    if root is None:\n",
    "        return 0\n",
    "    \n",
    "    # Note: Do not forget to add 0, since we can end at any node!\n",
    "    return max(maxPathSum2(root.left), maxPathSum2(root.right), 0) + root.val"
   ]
  },
  {
   "cell_type": "markdown",
   "metadata": {},
   "source": [
    "### No.27 Inorder Successor in Binary Search Tree\n",
    "Given a binary search tree (See Definition) and a node in it, find the in-order successor of that node in the BST.\n",
    "\n",
    "Example:\n",
    "\n",
    "```python\n",
    "Given tree = [2,1] and node = 1:\n",
    "\n",
    "  2\n",
    " /\n",
    "1\n",
    "return node 2.\n",
    "\n",
    "Given tree = [2,1,3] and node = 2:\n",
    "\n",
    "  2\n",
    " / \\\n",
    "1   3\n",
    "return node 3.\n",
    "```"
   ]
  },
  {
   "cell_type": "code",
   "execution_count": null,
   "metadata": {
    "collapsed": true
   },
   "outputs": [],
   "source": [
    "def inorderSuccessor(root, p):\n",
    "    if root is None or p is None:\n",
    "        return None\n",
    "\n",
    "    if root == p:\n",
    "        return root.right\n",
    "\n",
    "    # First, if p have right child.\n",
    "    if p.right is not None:\n",
    "        cur = p.right\n",
    "        while cur.left is not None:\n",
    "            cur = cur.left\n",
    "        return cur\n",
    "\n",
    "    # p.right is None.\n",
    "    # Keep Temp to be None.\n",
    "    # it may happen that temp not updated\n",
    "    # which means there is no successor, and we \n",
    "    # should return None!\n",
    "    temp, cur = None, root\n",
    "    while cur is not None and cur != p:\n",
    "        if cur.val < p.val:\n",
    "            cur = cur.right\n",
    "        else:\n",
    "            temp = cur\n",
    "            cur = cur.left\n",
    "\n",
    "    return temp"
   ]
  },
  {
   "cell_type": "markdown",
   "metadata": {},
   "source": [
    "### No.28 Validate Binary Search Tree\n",
    "Given a binary tree, determine if it is a valid binary search tree (BST).\n",
    "\n",
    "Assume a BST is defined as follows:\n",
    "\n",
    "The left subtree of a node contains only nodes with keys less than the node's key.\n",
    "The right subtree of a node contains only nodes with keys greater than the node's key.\n",
    "Both the left and right subtrees must also be binary search trees.\n",
    "A single node tree is a BST\n",
    "\n",
    "Example\n",
    "An example:\n",
    "```python\n",
    "  2\n",
    " / \\\n",
    "1   4\n",
    "   / \\\n",
    "  3   5\n",
    "```\n",
    "The above binary tree is serialized as {2,1,4,#,#,3,5} (in level order).\n"
   ]
  },
  {
   "cell_type": "code",
   "execution_count": 6,
   "metadata": {
    "collapsed": true
   },
   "outputs": [],
   "source": [
    "def helper(root, inorder):\n",
    "    if root is None:\n",
    "        return\n",
    "    \n",
    "    helper(root.left, inorder)\n",
    "    inorder.append(root.val)\n",
    "    helper(root.right, inorder)\n",
    "\n",
    "# inorder traverse of BST should be in ascending order\n",
    "def isValidBST(root):\n",
    "    if root is None:\n",
    "        return True\n",
    "\n",
    "    inorder = []\n",
    "    helper(root, inorder)\n",
    "    \n",
    "    for i in xrange(1, len(inorder)):\n",
    "        if inorder[i] <= inorder[i - 1]:\n",
    "            return False\n",
    "\n",
    "    return False"
   ]
  },
  {
   "cell_type": "markdown",
   "metadata": {},
   "source": [
    "### No.29 Binary Tree Maximum Path Sum\n",
    "Given a binary tree, find the maximum path sum.\n",
    "\n",
    "The path may start and end at any node in the tree.\n",
    "\n",
    "Example\n",
    "Given the below binary tree:\n",
    "```python\n",
    "  1\n",
    " / \\\n",
    "2   3\n",
    "```\n",
    "return 6."
   ]
  },
  {
   "cell_type": "code",
   "execution_count": 7,
   "metadata": {
    "collapsed": true
   },
   "outputs": [],
   "source": [
    "\"\"\"\n",
    "Definition of TreeNode:\n",
    "class TreeNode:\n",
    "    def __init__(self, val):\n",
    "        self.val = val\n",
    "        self.left, self.right = None, None\n",
    "\"\"\"\n",
    "def helper(self, root):\n",
    "    # for NULL node, we can not pick it for maxlength\n",
    "    # hence using -sys.maxint\n",
    "    if root is None:\n",
    "        return 0, -sys.maxint\n",
    "    \n",
    "    # for node with no children, maxDepth can be 0\n",
    "    # but maxlength can not be 0, since we must at\n",
    "    # lease have one node in a path\n",
    "    if root.left is None and root.right is None:\n",
    "        return max(root.val, 0), root.val\n",
    "\n",
    "    maxDepthLeft, maxlengthLeft = self.helper(root.left)\n",
    "    maxDepthRight, maxLengthRight = self.helper(root.right)\n",
    "\n",
    "    return max(max(maxDepthLeft, maxDepthRight) + root.val, 0), \\\n",
    "               max(maxlengthLeft, maxLengthRight, maxDepthLeft + maxDepthRight + root.val)\n",
    "\n",
    "def maxPathSum(self, root):\n",
    "    # write your code here\n",
    "    if root is None:\n",
    "        return 0\n",
    "\n",
    "    maxDepth, maxlength = self.helper(root)\n",
    "\n",
    "    return maxlength\n",
    "    \n",
    "    "
   ]
  },
  {
   "cell_type": "markdown",
   "metadata": {},
   "source": [
    "### No.30 Balanced Binary Tree\n",
    "Given a binary tree, determine if it is height-balanced.\n",
    "\n",
    "For this problem, a height-balanced binary tree is defined as a binary tree in which the depth of the two subtrees of every node never differ by more than 1.\n",
    "\n",
    "Example\n",
    "\n",
    "```python\n",
    "Given binary tree A={3,9,20,#,#,15,7}, B={3,#,20,15,7}\n",
    "\n",
    "A)  3            B)    3 \n",
    "   / \\                  \\\n",
    "  9  20                 20\n",
    "    /  \\                / \\\n",
    "   15   7              15  7\n",
    "```\n",
    "The binary tree A is a height-balanced binary tree, but B is not."
   ]
  },
  {
   "cell_type": "code",
   "execution_count": 8,
   "metadata": {
    "collapsed": true
   },
   "outputs": [],
   "source": [
    "def isBalanced(self, root):\n",
    "    # write your code here\n",
    "    if root is None:\n",
    "        return True\n",
    "\n",
    "    depth, isBalanced = self.helper(root)\n",
    "\n",
    "    return isBalanced\n",
    "\n",
    "\n",
    "def helper(self, root):\n",
    "    if root is None:\n",
    "        return 0, True\n",
    "\n",
    "    d1, is1 = self.helper(root.left)\n",
    "    d2, is2 = self.helper(root.right)\n",
    "    if is1 is True and is2 is True and abs(d1 - d2) <= 1:\n",
    "        return max(d1, d2) + 1, True\n",
    "    \n",
    "    # we don't care about the first return value here\n",
    "    return 0, False\n",
    "    "
   ]
  },
  {
   "cell_type": "markdown",
   "metadata": {},
   "source": [
    "### No.31 Lowest Common Ancestor\n",
    "Given the root and two nodes in a Binary Tree. Find the lowest common ancestor(LCA) of the two nodes.\n",
    "\n",
    "The lowest common ancestor is the node with largest depth which is the ancestor of both nodes.\n",
    "\n",
    "Example\n",
    "\n",
    "For the following binary tree:\n",
    "```python\n",
    "  4\n",
    " / \\\n",
    "3   7\n",
    "   / \\\n",
    "  5   6\n",
    "```\n",
    "LCA(3, 5) = 4\n",
    "\n",
    "LCA(5, 6) = 7\n",
    "\n",
    "LCA(6, 7) = 7"
   ]
  },
  {
   "cell_type": "code",
   "execution_count": 11,
   "metadata": {
    "collapsed": true
   },
   "outputs": [],
   "source": [
    " def lowestCommonAncestor(self, root, A, B):\n",
    "    # write your code here\n",
    "    if root is None:\n",
    "        return None\n",
    "    \n",
    "    # if we hit A or B, return root\n",
    "    if root is A or root is B:\n",
    "        return root\n",
    "\n",
    "    left = self.lowestCommonAncestor(root.left, A, B)\n",
    "    right = self.lowestCommonAncestor(root.right, A, B)\n",
    "\n",
    "    if left is not None and right is not None:\n",
    "        return root\n",
    "    if left is not None:\n",
    "        return left\n",
    "    if right is not None:\n",
    "        return right\n",
    "    return None"
   ]
  },
  {
   "cell_type": "markdown",
   "metadata": {
    "collapsed": true
   },
   "source": [
    "### No.32  Binary Tree Level Order Traversal \n",
    "Given a binary tree, return the level order traversal of its nodes' values. (ie, from left to right, level by level).\\\n",
    "\n",
    " Example\n",
    "\n",
    "Given binary tree {3,9,20,#,#,15,7},\n",
    "```python\n",
    "    3\n",
    "   / \\\n",
    "  9  20\n",
    "    /  \\\n",
    "   15   7\n",
    "```\n",
    "\n",
    "return its level order traversal as:\n",
    "```python\n",
    "[\n",
    "  [3],\n",
    "  [9,20],\n",
    "  [15,7]\n",
    "]\n",
    "```\n"
   ]
  },
  {
   "cell_type": "code",
   "execution_count": null,
   "metadata": {
    "collapsed": true
   },
   "outputs": [],
   "source": [
    "from collections import deque\n",
    "def levelOrder(root):\n",
    "    if root is None:\n",
    "        return []\n",
    "\n",
    "    q1 = deque()\n",
    "    q2 = deque()\n",
    "    q1.append(root)\n",
    "    local, ret = [], []\n",
    "\n",
    "    while len(q1) > 0:\n",
    "        temp = q1.popleft()\n",
    "        local.append(temp.val)\n",
    "        \n",
    "        # only append when left node is not None!\n",
    "        if temp.left:\n",
    "            q2.append(temp.left)\n",
    "        \n",
    "        # only append when right node is not None!\n",
    "        if temp.right:\n",
    "            q2.append(temp.right)\n",
    "\n",
    "        if len(q1) == 0:\n",
    "            # append local to ret, swap q1 and q2\n",
    "            ret.append([] + local)\n",
    "            local = []\n",
    "            tempq = q1\n",
    "            q1 = q2\n",
    "            q2 = tempq\n",
    "\n",
    "    return ret"
   ]
  },
  {
   "cell_type": "markdown",
   "metadata": {},
   "source": [
    "### No.33 Binary Search Tree Iterator \n",
    "\n",
    "Design an iterator over a binary search tree with the following rules:\n",
    "\n",
    "    Elements are visited in ascending order (i.e. an in-order traversal)\n",
    "    next() and hasNext() queries run in O(1) time in average.\n",
    "\n",
    "Example\n",
    "\n",
    "For the following binary search tree, in-order traversal by using iterator is [1, 6, 10, 11, 12]\n",
    "```python\n",
    "   10\n",
    " /    \\\n",
    "1      11\n",
    " \\       \\\n",
    "  6       12\n",
    "```"
   ]
  },
  {
   "cell_type": "code",
   "execution_count": 12,
   "metadata": {
    "collapsed": true
   },
   "outputs": [],
   "source": [
    "# Using the same method of traverse the tree with inorder \n",
    "# iteratively.\n",
    "\n",
    "class BSTIterator:\n",
    "    #@param root: The root of binary tree.\n",
    "    def __init__(self, root):\n",
    "        # write your code here\n",
    "        self.stack = []\n",
    "        self.cur = root\n",
    "\n",
    "    #@return: True if there has next node, or false\n",
    "    def hasNext(self):\n",
    "        # write your code here\n",
    "        return len(self.stack) > 0 or self.cur != None\n",
    "\n",
    "    #@return: return next node\n",
    "    def next(self):\n",
    "        #write your code here\n",
    "        while self.cur is not None:\n",
    "            self.stack.append(self.cur)\n",
    "            self.cur = self.cur.left\n",
    "        \n",
    "        self.cur = self.stack.pop()\n",
    "        nxt = self.cur\n",
    "        self.cur = self.cur.right\n",
    "        return nxt"
   ]
  },
  {
   "cell_type": "markdown",
   "metadata": {},
   "source": [
    "### No.34 Binary Tree Path Sum \n",
    "Given a binary tree, find all paths that sum of the nodes in the path equals to a given number target.\n",
    "\n",
    "A valid path is from root node to any of the leaf nodes.\n",
    "\n",
    " Example\n",
    "\n",
    "Given a binary tree, and target = 5:\n",
    "```python\n",
    "     1\n",
    "    / \\\n",
    "   2   4\n",
    "  / \\\n",
    " 2   3\n",
    "```\n",
    "return\n",
    "```python\n",
    "[\n",
    "  [1, 2, 2],\n",
    "  [1, 4]\n",
    "]\n",
    "```\n"
   ]
  },
  {
   "cell_type": "code",
   "execution_count": null,
   "metadata": {
    "collapsed": true
   },
   "outputs": [],
   "source": [
    "def binaryTreePathSum(self, root, target):\n",
    "    # Write your code here\n",
    "    if root is None:\n",
    "        return []\n",
    "\n",
    "    ret = []\n",
    "    path = []\n",
    "    path.append(root.val)\n",
    "    self.dfs(root, target, ret, path)\n",
    "\n",
    "    return ret\n",
    "\n",
    "def dfs(self, root, target, ret, path):\n",
    "    # if root left is None and root right is None, return\n",
    "    # 改进 减去TARGET， 最后判断0\n",
    "    if root.left is None and root.right is None and sum(path) == target:\n",
    "        ret.append([] + path)\n",
    "\n",
    "    if root.left:\n",
    "        path.append(root.left.val)\n",
    "        self.dfs(root.left, target, ret, path)\n",
    "        path.pop()\n",
    "\n",
    "    if root.right:\n",
    "        path.append(root.right.val)\n",
    "        self.dfs(root.right, target, ret, path)\n",
    "        path.pop()"
   ]
  },
  {
   "cell_type": "markdown",
   "metadata": {},
   "source": [
    "### No.35 Lowest Common Ancestor II \n",
    "\n",
    "\n",
    "Given the root and two nodes in a Binary Tree. Find the lowest common ancestor(LCA) of the two nodes.\n",
    "\n",
    "The lowest common ancestor is the node with largest depth which is the ancestor of both nodes.\n",
    "\n",
    "The node has an extra attribute parent which point to the father of itself. The root's parent is null.\n",
    "\n",
    " Example\n",
    "\n",
    "For the following binary tree:\n",
    "```python\n",
    "  4\n",
    " / \\\n",
    "3   7\n",
    "   / \\\n",
    "  5   6\n",
    "```\n",
    "LCA(3, 5) = 4\n",
    "\n",
    "LCA(5, 6) = 7\n",
    "\n",
    "LCA(6, 7) = 7\n"
   ]
  },
  {
   "cell_type": "code",
   "execution_count": 13,
   "metadata": {
    "collapsed": true
   },
   "outputs": [],
   "source": [
    "# First, for A and B, get path towards Root\n",
    "# Pop from both list, compare the node, if \n",
    "#　not equal or out of bound, return previous node.\n",
    "\n",
    "def lowestCommonAncestorII(self, root, A, B):\n",
    "    # Write your code here\n",
    "    listA, listB = [], []\n",
    "\n",
    "    while A is not None:\n",
    "        listA.append(A)\n",
    "        A = A.parent\n",
    "    \n",
    "    while B is not None:\n",
    "        listB.append(B)\n",
    "        B = B.parent\n",
    "\n",
    "    aNode, bNode = listA.pop(), listB.pop()\n",
    "    while aNode == bNode:\n",
    "        temp = aNode\n",
    "        if len(listA) == 0 or len(listB) == 0:\n",
    "            break\n",
    "        aNode = listA.pop()\n",
    "        bNode = listB.pop()\n",
    "\n",
    "    return temp\n",
    "    "
   ]
  },
  {
   "cell_type": "markdown",
   "metadata": {},
   "source": [
    "### No.36 Tweaked Identical Binary Tree \n",
    "Check two given binary trees are identical or not. Assuming any number of tweaks are allowed. A tweak is defined as a swap of the children of one node in the tree.\n",
    " Example\n",
    "```python\n",
    "    1             1\n",
    "   / \\           / \\\n",
    "  2   3   and   3   2\n",
    " /                   \\\n",
    "4                     4\n",
    "\n",
    "are identical.\n",
    "\n",
    "    1             1\n",
    "   / \\           / \\\n",
    "  2   3   and   3   2\n",
    " /             /\n",
    "4             4\n",
    "\n",
    "are not identical.\n",
    "```"
   ]
  },
  {
   "cell_type": "code",
   "execution_count": 14,
   "metadata": {
    "collapsed": true
   },
   "outputs": [],
   "source": [
    "def isTweakedIdentical(self, a, b):\n",
    "    # Write your code here\n",
    "    if a is None and b is None:\n",
    "        return True\n",
    "\n",
    "    if a is None or b is None:\n",
    "        return False\n",
    "    \n",
    "    if a.val != b.val:\n",
    "        return False\n",
    "\n",
    "    return self.isTweakedIdentical(a.left, b.left) and self.isTweakedIdentical(a.right, b.right) \\\n",
    "          or self.isTweakedIdentical(a.left, b.right) and self.isTweakedIdentical(a.right, b.left)"
   ]
  },
  {
   "cell_type": "markdown",
   "metadata": {},
   "source": [
    "### No.37 Symmetric Binary Tree \n",
    "Given a binary tree, check whether it is a mirror of itself (i.e., symmetric around its center).\n",
    "\n",
    " Example\n",
    "```python\n",
    "    1\n",
    "   / \\\n",
    "  2   2\n",
    " / \\ / \\\n",
    "3  4 4  3\n",
    "\n",
    "is a symmetric binary tree.\n",
    "\n",
    "    1\n",
    "   / \\\n",
    "  2   2\n",
    "   \\   \\\n",
    "   3    3\n",
    "\n",
    "is not a symmetric binary tree.\n",
    "```"
   ]
  },
  {
   "cell_type": "markdown",
   "metadata": {},
   "source": [
    "#### Thoughts:\n",
    "- start from root, check left is mirror to right\n",
    "- left is morror to right = left.val == right.val, and left.left is morror to right.right, left.right is mirror to right.left"
   ]
  },
  {
   "cell_type": "code",
   "execution_count": null,
   "metadata": {
    "collapsed": true
   },
   "outputs": [],
   "source": [
    "def isMirror(A, B):\n",
    "    if A is None and B is None:\n",
    "        return True\n",
    "    \n",
    "    if A is None or B is None:\n",
    "        return False\n",
    "    \n",
    "    return A.val == B.val and isMirror(A.left, B.right) \\\n",
    "            and isMirror(A.right, B.left)\n",
    "\n",
    "def isSymmetric(root):\n",
    "    if root is None:\n",
    "        return True\n",
    "    \n",
    "    return isMirror(root.left, root.right)"
   ]
  },
  {
   "cell_type": "markdown",
   "metadata": {},
   "source": [
    "### No.38 Complete Binary Tree\n",
    "Check a binary tree is completed or not. A complete binary tree is a binary tree that every level is completed filled except the deepest level. In the deepest level, all nodes must be as left as possible. See more definition.\n",
    "\n",
    " Example\n",
    "```python\n",
    "    1\n",
    "   / \\\n",
    "  2   3\n",
    " /\n",
    "4\n",
    "\n",
    "is a complete binary.\n",
    "\n",
    "    1\n",
    "   / \\\n",
    "  2   3\n",
    "   \\\n",
    "    4\n",
    "\n",
    "is not a complete binary.\n",
    "```"
   ]
  },
  {
   "cell_type": "markdown",
   "metadata": {},
   "source": [
    "#### Thoughts:\n",
    "- Using level order traversal, push \"#\" for Null node\n",
    "- Whenever we met \"#\", but this is not the last element of the queue, return False"
   ]
  },
  {
   "cell_type": "code",
   "execution_count": 16,
   "metadata": {
    "collapsed": false
   },
   "outputs": [],
   "source": [
    "from collections import deque\n",
    "def isComplete(self, root):\n",
    "    # Write your code here\n",
    "    if root is None:\n",
    "        return True\n",
    "\n",
    "    q = deque()\n",
    "    q.append(root)\n",
    "    pending = False\n",
    "    \n",
    "    # Remember always use len > 0 rather than q is None!!!!\n",
    "    while len(q) > 0:\n",
    "        temp = q.popleft()\n",
    "        if temp == None:\n",
    "            if pending is False:\n",
    "                pending = True\n",
    "                continue\n",
    "            else:\n",
    "                continue\n",
    "\n",
    "        if temp != None and pending is True:\n",
    "            return False\n",
    "\n",
    "        q.append(temp.left)\n",
    "        q.append(temp.right)\n",
    "\n",
    "    return True"
   ]
  },
  {
   "cell_type": "markdown",
   "metadata": {},
   "source": [
    "### No.39 Minimum Depth of Binary Tree\n",
    "\n",
    "\n",
    "Given a binary tree, find its minimum depth.\n",
    "\n",
    "The minimum depth is the number of nodes along the shortest path from the root node down to the nearest leaf node.\n",
    "\n",
    " Example\n",
    "\n",
    "Given a binary tree as follow:\n",
    "```python\n",
    "  1\n",
    " / \\ \n",
    "2   3\n",
    "   / \\\n",
    "  4   5\n",
    "\n",
    "The minimum depth is 2.\n",
    "```\n"
   ]
  },
  {
   "cell_type": "markdown",
   "metadata": {},
   "source": [
    "#### Thoughts:\n",
    "- root is None, return 0\n",
    "- root.left is None and root.right is None, return 1\n",
    "- return min(minDepth(left), minDepth(right)) + 1\n",
    "- Note that root is not a leaf node!!!!!!"
   ]
  },
  {
   "cell_type": "code",
   "execution_count": 19,
   "metadata": {
    "collapsed": true
   },
   "outputs": [],
   "source": [
    "def minDepth(self, root):\n",
    "    # write your code here\n",
    "    if root is None:\n",
    "        return 0\n",
    "\n",
    "    left = self.minDepth(root.left)\n",
    "    right = self.minDepth(root.right)\n",
    "\n",
    "    if left == 0:\n",
    "        return right + 1\n",
    "    if right == 0:\n",
    "        return left + 1\n",
    "    \n",
    "    return min(left, right) + 1"
   ]
  },
  {
   "cell_type": "markdown",
   "metadata": {},
   "source": [
    "### No.40 Insert Node in a Binary Search Tree\n",
    "Given a binary search tree and a new tree node, insert the node into the tree. You should keep the tree still be a valid binary search tree.\n",
    "\n",
    " Example\n",
    "\n",
    "Given binary search tree as follow, after Insert node 6, the tree should be:\n",
    "```python\n",
    "  2             2\n",
    " / \\           / \\\n",
    "1   4   -->   1   4\n",
    "   /             / \\ \n",
    "  3             3   6\n",
    "```\n",
    "\n",
    "\n"
   ]
  },
  {
   "cell_type": "code",
   "execution_count": 20,
   "metadata": {
    "collapsed": true
   },
   "outputs": [],
   "source": [
    "def insertNode(root, node):\n",
    "    if root is None:\n",
    "        return node\n",
    "    \n",
    "    pre, cur = None, root\n",
    "    while cur is not None:\n",
    "        pre = cur\n",
    "        if cur.val < node.val:\n",
    "            cur = cur.right\n",
    "        else:\n",
    "            cur = cur.left\n",
    "    \n",
    "    if pre.val > node.val:\n",
    "        pre.left = node\n",
    "    else:\n",
    "        pre.right = node\n",
    "   \n",
    "    return root"
   ]
  },
  {
   "cell_type": "markdown",
   "metadata": {},
   "source": [
    "### No.41 Binary Tree Postorder Traversal \n",
    "\n",
    "\n",
    "Given a binary tree, return the postorder traversal of its nodes' values.\n",
    " Example\n",
    "\n",
    "Given binary tree {1,#,2,3},\n",
    "```python\n",
    "   1\n",
    "    \\\n",
    "     2\n",
    "    /\n",
    "   3\n",
    "   \n",
    "return [3,2,1].\n",
    "```\n",
    "\n"
   ]
  },
  {
   "cell_type": "code",
   "execution_count": 21,
   "metadata": {
    "collapsed": true
   },
   "outputs": [],
   "source": [
    "def helper(root, ret):\n",
    "    if root is None:\n",
    "        return\n",
    "    \n",
    "    helper(root.left, ret)\n",
    "    helper(root.right, ret)\n",
    "    ret.append(root.val)\n",
    "\n",
    "def postOrder(root):\n",
    "    if root is None:\n",
    "        return []\n",
    "    \n",
    "    ret = []\n",
    "    helper(root, ret)\n",
    "    \n",
    "    return ret"
   ]
  },
  {
   "cell_type": "markdown",
   "metadata": {},
   "source": [
    "### No.42 Binary Tree Inorder Traversal\n",
    "\n",
    "Given a binary tree, return the inorder traversal of its nodes' values.\n",
    " Example\n",
    "\n",
    "Given binary tree {1,#,2,3},\n",
    "```python\n",
    "   1\n",
    "    \\\n",
    "     2\n",
    "    /\n",
    "   3\n",
    "```\n",
    "return [1,3,2].\n"
   ]
  },
  {
   "cell_type": "code",
   "execution_count": 22,
   "metadata": {
    "collapsed": true
   },
   "outputs": [],
   "source": [
    "# Non-recursive\n",
    "def inorderTraversal(root):\n",
    "    if root is None:\n",
    "        return []\n",
    "\n",
    "    stack, ret = [], []\n",
    "\n",
    "    cur = root\n",
    "    # Note: cur is not None!\n",
    "    # since root is not None so we can \n",
    "    # get into the loop\n",
    "    while len(stack) > 0 or cur is not None:\n",
    "        while cur is not None:\n",
    "            stack.append(cur)\n",
    "            cur = cur.left\n",
    "\n",
    "        cur = stack.pop()\n",
    "        ret.append(cur.val)\n",
    "        cur = cur.right\n",
    "    return ret\n"
   ]
  },
  {
   "cell_type": "markdown",
   "metadata": {},
   "source": [
    "### No.43 Construct Binary Tree from Preorder and Inorder Traversal\n",
    "Given preorder and inorder traversal of a tree, construct the binary tree.\n",
    "\n",
    " Example\n",
    "\n",
    "Given in-order [1,2,3] and pre-order [2,1,3], return a tree:\n",
    "```python\n",
    "  2\n",
    " / \\\n",
    "1   3\n",
    "```\n"
   ]
  },
  {
   "cell_type": "markdown",
   "metadata": {},
   "source": [
    "#### Thoughts:\n",
    "- We can use the fact that pre-order start from root\n",
    "- after we get root, we devide the tree in two parts: less than and greater than. use divide conque to solve the problem"
   ]
  },
  {
   "cell_type": "code",
   "execution_count": 25,
   "metadata": {
    "collapsed": false
   },
   "outputs": [],
   "source": [
    "def helper(self, preorder, inorder, root):\n",
    "    if len(preorder) == 0:\n",
    "        return\n",
    "\n",
    "    curValue = root.val\n",
    "    left_in, right_in = [], []\n",
    "\n",
    "    pos = inorder.index(preorder[0])\n",
    "    left_in = inorder[:pos]\n",
    "    right_in = inorder[pos + 1:]\n",
    "\n",
    "\n",
    "    left_pre, right_pre = [], []\n",
    "    for i in range(len(preorder)):\n",
    "        if preorder[i] in left_in:\n",
    "            left_pre.append(preorder[i])\n",
    "        if preorder[i] in right_in:\n",
    "            right_pre.append(preorder[i])\n",
    "\n",
    "    if len(left_pre) > 0:\n",
    "        root_left = TreeNode(left_pre[0])\n",
    "    else:\n",
    "        root_left = None\n",
    "\n",
    "    if len(right_pre) > 0:\n",
    "        root_right = TreeNode(right_pre[0])\n",
    "    else:\n",
    "        root_right = None\n",
    "\n",
    "    root.left = root_left\n",
    "    root.right = root_right\n",
    "    self.helper(left_pre, left_in, root_left)\n",
    "    self.helper(right_pre, right_in, root_right)\n",
    "\n",
    "    return\n",
    "\n",
    "def buildTree(self, preorder, inorder):\n",
    "    # write your code here\n",
    "    if len(preorder) == 0:\n",
    "        return None\n",
    "\n",
    "    root = TreeNode(preorder[0])\n",
    "    self.helper(preorder, inorder, root)\n",
    "\n",
    "    return root"
   ]
  },
  {
   "cell_type": "markdown",
   "metadata": {},
   "source": [
    "### No.44 Construct Binary Tree from Inorder and Postorder Traversal\n",
    "Given inorder and postorder traversal of a tree, construct the binary tree.\n",
    "\n",
    " Example\n",
    "\n",
    "Given inorder [1,2,3] and postorder [1,3,2], return a tree:\n",
    "```python\n",
    "  2\n",
    " / \\\n",
    "1   3\n",
    "```\n"
   ]
  },
  {
   "cell_type": "code",
   "execution_count": 26,
   "metadata": {
    "collapsed": true
   },
   "outputs": [],
   "source": [
    "def helper(inorder, postorder):\n",
    "    if len(inorder) == 0:\n",
    "        return None\n",
    "    \n",
    "    head = TreeNode(postorder[-1])\n",
    "    pos = inorder.index(postorder[-1])\n",
    "    \n",
    "    inleft = inorder[:pos]\n",
    "    inright = inorder[pos + 1:]\n",
    "    \n",
    "    postleft, postright = [], []\n",
    "    for i in xrange(len(postorder)):\n",
    "        if postorder[i] in inleft:\n",
    "            postleft.append(postorder[i])\n",
    "        elif postorder[i] in inright:\n",
    "            postright.append(postorder[i])\n",
    "    \n",
    "    left = helper(inleft, postleft)\n",
    "    right = helper(inright, postright)\n",
    "    head.left = left\n",
    "    head.right = right\n",
    "    \n",
    "    return head\n",
    "\n",
    "def buildTree(inorder, postorder):\n",
    "    if len(inorder) == 0:\n",
    "        return None\n",
    "\n",
    "    head = helper(inorder, postorder)\n",
    "    \n",
    "    return head"
   ]
  },
  {
   "cell_type": "markdown",
   "metadata": {},
   "source": [
    "### No.45  Binary Tree Zigzag Level Order Traversal \n",
    "Given a binary tree, return the zigzag level order traversal of its nodes' values. (ie, from left to right, then right to left for the next level and alternate between).\n",
    "\n",
    "Given binary tree {3,9,20,#,#,15,7},\n",
    "```python\n",
    "    3\n",
    "   / \\\n",
    "  9  20\n",
    "    /  \\\n",
    "   15   7\n",
    "```\n",
    "return its zigzag level order traversal as:\n",
    "```python\n",
    "[\n",
    "  [3],\n",
    "  [20,9],\n",
    "  [15,7]\n",
    "]\n",
    "```"
   ]
  },
  {
   "cell_type": "code",
   "execution_count": null,
   "metadata": {
    "collapsed": true
   },
   "outputs": [],
   "source": [
    "from collections import deque\n",
    "\n",
    "def zigzagLevelOrder(self, root):\n",
    "    # write your code here\n",
    "    if root is None:\n",
    "        return []\n",
    "\n",
    "    q1, q2 = deque(), deque()\n",
    "    local, ret = [], []\n",
    "    oddlevel = True\n",
    "\n",
    "    q1.append(root)\n",
    "    while len(q1) > 0:\n",
    "        temp = q1.popleft()\n",
    "        local.append(temp.val)\n",
    "        if temp.left:\n",
    "            q2.append(temp.left)\n",
    "        if temp.right:\n",
    "            q2.append(temp.right)\n",
    "\n",
    "        if len(q1) == 0:\n",
    "            temp = q1\n",
    "            q1 = q2\n",
    "            q2 = temp\n",
    "            if not oddlevel:\n",
    "                local.reverse()\n",
    "            ret.append([] + local)\n",
    "            oddlevel = not oddlevel\n",
    "            local = []\n",
    "\n",
    "    return ret\n",
    "    \n"
   ]
  },
  {
   "cell_type": "markdown",
   "metadata": {},
   "source": [
    "### No.46 Binary Tree Level Order Traversal II\n",
    "Given a binary tree, return the bottom-up level order traversal of its nodes' values. (ie, from left to right, level by level from leaf to root).\n",
    "Given binary tree {3,9,20,#,#,15,7},\n",
    "```python\n",
    "    3\n",
    "   / \\\n",
    "  9  20\n",
    "    /  \\\n",
    "   15   7\n",
    "```\n",
    "return its bottom-up level order traversal as:\n",
    "```python\n",
    "[\n",
    "  [15,7],\n",
    "  [9,20],\n",
    "  [3]\n",
    "]\n",
    "```"
   ]
  },
  {
   "cell_type": "code",
   "execution_count": 29,
   "metadata": {
    "collapsed": true
   },
   "outputs": [],
   "source": [
    "from collections import deque\n",
    "def levelOrderBottom(root):\n",
    "    if not root:\n",
    "        return []\n",
    "    \n",
    "    q = deque()\n",
    "    ret = []\n",
    "    q.append(root)\n",
    "    \n",
    "    while q:\n",
    "        local = []\n",
    "        for i in xrange(len(q)):\n",
    "            node = q.popleft()\n",
    "            local.append(node.val)\n",
    "            if node.left:\n",
    "                q.append(node.left)\n",
    "            if node.right:\n",
    "                q.append(node.right)\n",
    "        \n",
    "        ret.insert(0, local)\n",
    "    \n",
    "    return ret"
   ]
  },
  {
   "cell_type": "markdown",
   "metadata": {},
   "source": [
    "### No.47 Search Range in Binary Search Tree\n",
    "Given two values k1 and k2 (where k1 < k2) and a root pointer to a Binary Search Tree. Find all the keys of tree in range k1 to k2. i.e. print all x such that k1<=x<=k2 and x is a key of given BST. Return all the keys in ascending order.\n",
    "\n",
    " Example\n",
    "\n",
    "If k1 = 10 and k2 = 22, then your function should return [12, 20, 22].\n",
    "```python\n",
    "    20\n",
    "   /  \\\n",
    "  8   22\n",
    " / \\\n",
    "4   12\n",
    "```\n"
   ]
  },
  {
   "cell_type": "markdown",
   "metadata": {},
   "source": [
    "#### Revursive:"
   ]
  },
  {
   "cell_type": "code",
   "execution_count": null,
   "metadata": {
    "collapsed": true
   },
   "outputs": [],
   "source": [
    "def helper(root, k1, k2, ret):\n",
    "    if not root:\n",
    "        return\n",
    "    \n",
    "    helper(root.left, k1, k2, ret)\n",
    "    if root.val >= k1 and root.val <= k2:\n",
    "        ret.append(root.val)\n",
    "    helper(root.right, k1, k2, ret)\n",
    "\n",
    "def searchRange(root, k1, k2):\n",
    "    if not root:\n",
    "        return []\n",
    "    \n",
    "    ret = []\n",
    "    helper(root, k1, k2, ret)\n",
    "    \n",
    "    return ret"
   ]
  },
  {
   "cell_type": "markdown",
   "metadata": {},
   "source": [
    "#### Non-recursive:"
   ]
  },
  {
   "cell_type": "code",
   "execution_count": 31,
   "metadata": {
    "collapsed": true
   },
   "outputs": [],
   "source": [
    "def searchRange(root, k1, k2):\n",
    "    if not root:\n",
    "        return []\n",
    "    \n",
    "    stack, ret = [], []\n",
    "\n",
    "    cur = root\n",
    "    while stack or cur is not None:\n",
    "        while cur is not None:\n",
    "            stack.append(cur)\n",
    "            cur = cur.left\n",
    "            \n",
    "        node = stack.pop()\n",
    "        if node.val >= k1 and node.val <= k2:\n",
    "            ret.append(node.val)\n",
    "        \n",
    "        cur = node.right\n",
    "    \n",
    "    return ret"
   ]
  },
  {
   "cell_type": "markdown",
   "metadata": {},
   "source": [
    "### No.48 Binary Tree Serialization\n",
    "Design an algorithm and write code to serialize and deserialize a binary tree. Writing the tree to a file is called 'serialization' and reading back from the file to reconstruct the exact same binary tree is 'deserialization'.\n",
    "\n",
    "There is no limit of how you deserialize or serialize a binary tree, you only need to make sure you can serialize a binary tree to a string and deserialize this string to the original structure.\n",
    "\n",
    " Example\n",
    "\n",
    "An example of testdata: Binary tree {3,9,20,#,#,15,7}, denote the following structure:\n",
    "```python\n",
    "  3\n",
    " / \\\n",
    "9  20\n",
    "  /  \\\n",
    " 15   7\n",
    "```\n",
    "Our data serialization use bfs traversal. This is just for when you got wrong answer and want to debug the input.\n",
    "\n",
    "You can use other method to do serializaiton and deserialization.\n",
    "\n"
   ]
  },
  {
   "cell_type": "code",
   "execution_count": 1,
   "metadata": {
    "collapsed": false
   },
   "outputs": [],
   "source": [
    "\"\"\"\n",
    "Definition of TreeNode:\n",
    "class TreeNode:\n",
    "    def __init__(self, val):\n",
    "        self.val = val\n",
    "        self.left, self.right = None, None\n",
    "\"\"\"\n",
    "from collections import deque\n",
    "class Solution:\n",
    "\n",
    "    '''\n",
    "    @param root: An object of TreeNode, denote the root of the binary tree.\n",
    "    This method will be invoked first, you should design your own algorithm \n",
    "    to serialize a binary tree which denote by a root node to a string which\n",
    "    can be easily deserialized by your own \"deserialize\" method later.\n",
    "    '''\n",
    "    def serialize(self, root):\n",
    "        # write your code here\n",
    "        if not root:\n",
    "            return []\n",
    "        \n",
    "        q = deque()\n",
    "        ret = []\n",
    "        q.append(root)\n",
    "        \n",
    "        while q:\n",
    "            node = q.popleft()\n",
    "            if node is not None:\n",
    "                \n",
    "                ret.append(node.val)\n",
    "                q.append(node.left)\n",
    "                q.append(node.right)\n",
    "            else:\n",
    "                ret.append(\"#\")\n",
    "\n",
    "        \n",
    "        return ret\n",
    "    '''\n",
    "    @param data: A string serialized by your serialize method.\n",
    "    This method will be invoked second, the argument data is what exactly\n",
    "    you serialized at method \"serialize\", that means the data is not given by\n",
    "    system, it's given by your own serialize method. So the format of data is\n",
    "    designed by yourself, and deserialize it here as you serialize it in \n",
    "    \"serialize\" method.\n",
    "    '''\n",
    "    def deserialize(self, data):\n",
    "        # write your code here\n",
    "        if not data:\n",
    "            return None\n",
    "        \n",
    "        q = deque()\n",
    "        \n",
    "        q.append(data.pop(0))\n",
    "        \n",
    "        while len(data) > 0:\n",
    "            node = TreeNode(q.popleft())\n",
    "            left = data.pop(0)\n",
    "            right = data.pop(0)\n",
    "            \n",
    "            if left != \"#\":\n",
    "                lnode = TreeNode(left)\n",
    "                node.left = lnode\n",
    "                q.append(left)\n",
    "            \n",
    "            if right != \"#\":\n",
    "                rnode = TreeNode(right)\n",
    "                node.right = rnode\n",
    "                q.append(right)\n",
    "            \n",
    "        return root"
   ]
  },
  {
   "cell_type": "markdown",
   "metadata": {
    "collapsed": true
   },
   "source": [
    "### No.49 Remove Node in Binary Search Tree\n",
    "Given a root of Binary Search Tree with unique value for each node. Remove the node with given value. If there is no such a node with given value in the binary search tree, do nothing. You should keep the tree still a binary search tree after removal.\n",
    "\n",
    "Example\n",
    "Given binary search tree:\n",
    "```python\n",
    "    5\n",
    "   / \\\n",
    "  3   6\n",
    " / \\\n",
    "2   4\n",
    "Remove 3, you can either return:\n",
    "\n",
    "    5\n",
    "   / \\\n",
    "  2   6\n",
    "   \\\n",
    "    4\n",
    "or\n",
    "\n",
    "    5\n",
    "   / \\\n",
    "  4   6\n",
    " /\n",
    "2\n",
    "```"
   ]
  },
  {
   "cell_type": "markdown",
   "metadata": {},
   "source": [
    "#### Thoughts:\n",
    "1. if no node found, return root\n",
    "2. if node is found and is a leaf, delete the leaf\n",
    "3. if node is found and have one child, delete the node and connct the parent to the child\n",
    "4. if node is found and have two child, delete the node found the in order successor and put it back the the position of the original node"
   ]
  },
  {
   "cell_type": "code",
   "execution_count": 2,
   "metadata": {
    "collapsed": true
   },
   "outputs": [],
   "source": [
    "def removeNode(root, value):\n",
    "    if not root:\n",
    "        return root\n",
    "    \n",
    "    dummy = TreeNode(0)\n",
    "    dummy.left = root\n",
    "    \n",
    "    # First, find the target node\n",
    "    pre, cur = dummy, root\n",
    "    while cur is not None:\n",
    "        if cur.val < value:\n",
    "            pre = cur\n",
    "            cur = cur.right\n",
    "        elif cur.val > value:\n",
    "            pre = cur\n",
    "            cur = cur.left\n",
    "        else:\n",
    "            break\n",
    "    \n",
    "    # At this point, if cur is None, means target node does not exist\n",
    "    if cur is None:\n",
    "        return root\n",
    "    \n",
    "    # Now cur is the target node, pre is its parent node\n",
    "    # handle case 1: if cur have no child\n",
    "    if cur.left is None and cur.right is None:\n",
    "        if pre.left == cur:\n",
    "            pre.left = None\n",
    "        else:\n",
    "            pre.right = None\n",
    "        return dummy.left\n",
    "    \n",
    "    # Handle case 2, cur have one child: \n",
    "    if cur.left is None and cur.right is not None:\n",
    "        if pre.left == cur:\n",
    "            pre.left = cur.right\n",
    "        else:\n",
    "            pre.right = cur.right\n",
    "        return dummy.left\n",
    "    \n",
    "    if cur.right is None and cur.left is not None:\n",
    "        if pre.left == cur:\n",
    "            pre.left = cur.left\n",
    "        else:\n",
    "            pre.right = cur.left\n",
    "        return dummy.left\n",
    "    \n",
    "    # Hanldle case 3, cur have both left and right child\n",
    "    if cur.left is not None and cur.right is not None:\n",
    "        exchange = cur.right\n",
    "        if exchange.left is None:\n",
    "            if pre.left == cur:\n",
    "                pre.left = exchange\n",
    "            else:\n",
    "                pre.right = exchange\n",
    "            exchange.left = cur.left\n",
    "            return dummy.left\n",
    "        \n",
    "        if exchange.left is not None:\n",
    "            # find left most node and it's parent\n",
    "            preNode, curNode = exchange, exchange.left\n",
    "            while curNode.left is not None:\n",
    "                preNode = curNode\n",
    "                curNode = curNode.left\n",
    "            # break curNode\n",
    "            preNode.left = None\n",
    "            \n",
    "            # install it to cur\n",
    "            if pre.left == cur:\n",
    "                pre.left = curNode\n",
    "            else:\n",
    "                pre.right = curNode\n",
    "            \n",
    "            curNode.left = cur.left\n",
    "            curNode.right = cur.right\n",
    "            return dummy.left\n",
    "    \n",
    "    return dummy.left"
   ]
  },
  {
   "cell_type": "markdown",
   "metadata": {},
   "source": [
    "### No.50 Unique Paths\n",
    "A robot is located at the top-left corner of a m x n grid (marked 'Start' in the diagram below).\n",
    "\n",
    "The robot can only move either down or right at any point in time. The robot is trying to reach the bottom-right corner of the grid (marked 'Finish' in the diagram below).\n",
    "\n",
    "How many possible unique paths are there?"
   ]
  },
  {
   "cell_type": "code",
   "execution_count": 3,
   "metadata": {
    "collapsed": true
   },
   "outputs": [],
   "source": [
    "def uniquePaths(m, n):\n",
    "    if m < 1 or n < 1:\n",
    "        return 0\n",
    "    \n",
    "    D = dict()\n",
    "    \n",
    "    # Initilization\n",
    "    # D(i, j) represents when m == i and n == j, what is the num of unique paths\n",
    "    for j in xrange(1, n + 1):\n",
    "        D[(0, j)] = 0\n",
    "    \n",
    "    for i in xrange(1, m + 1):\n",
    "        D[(i, 0)] = 0\n",
    "    \n",
    "    D[(1, 1)] = 1\n",
    "    for j in xrange(1, n + 1):\n",
    "        for j in xrange(1, m + 1):\n",
    "            D[(i, j)] = D.get((j - 1, i)) + D.get((j, i - 1))\n",
    "    \n",
    "    return D.get(m, n)"
   ]
  },
  {
   "cell_type": "markdown",
   "metadata": {},
   "source": [
    "### No.51 Unique Paths II\n",
    "Follow up for \"Unique Paths\":\n",
    "\n",
    "Now consider if some obstacles are added to the grids. How many unique paths would there be?\n",
    "\n",
    "An obstacle and empty space is marked as 1 and 0 respectively in the grid.\n",
    "\n",
    "Example\n",
    "For example,\n",
    "There is one obstacle in the middle of a 3x3 grid as illustrated below.\n",
    "```python\n",
    "[\n",
    "  [0,0,0],\n",
    "  [0,1,0],\n",
    "  [0,0,0]\n",
    "]\n",
    "```\n",
    "The total number of unique paths is 2."
   ]
  },
  {
   "cell_type": "code",
   "execution_count": 4,
   "metadata": {
    "collapsed": true
   },
   "outputs": [],
   "source": [
    "def uniquePathsWithObstacles(obstacleGrid):\n",
    "    if not obstacleGrid:\n",
    "        return 0\n",
    "\n",
    "    if obstacleGrid[0][0] == 1:\n",
    "        return 0\n",
    "    \n",
    "    m, n = len(obstacleGrid), len(obstacleGrid[0])\n",
    "    \n",
    "    D = dict()\n",
    "    \n",
    "    # D[(i, j)] represents for i * j table, unique path\n",
    "    for i in xrange(1, m + 1):\n",
    "        D[(i, 0)] = 0\n",
    "    \n",
    "    for j in xrange(1, n + 1):\n",
    "        D[(0, j)] = 0\n",
    "        \n",
    "    D[(1, 1)] = 1\n",
    "    \n",
    "    for i in xrange(1, m + 1):\n",
    "        for j in xrange(1, n + 1):\n",
    "            # we already set value of D[(1, 1)] == 1\n",
    "            if i == 1 and j == 1:\n",
    "                continue\n",
    "            if obstacleGrid[i - 1][j - 1] == 1:\n",
    "                D[(i, j)] = 0\n",
    "            else:\n",
    "                D[(i, j)] = D[(i - 1, j)] + D[(i, j - 1)]\n",
    "    \n",
    "    return D[(m, n)]\n",
    "    "
   ]
  },
  {
   "cell_type": "markdown",
   "metadata": {},
   "source": [
    "### No.52 Climbing Stairs\n",
    "You are climbing a stair case. It takes n steps to reach to the top.\n",
    "\n",
    "Each time you can either climb 1 or 2 steps. In how many distinct ways can you climb to the top?\n",
    "\n",
    "Example\n",
    "```python\n",
    "Given an example n=3 , 1+1+1=2+1=1+2=3\n",
    "\n",
    "return 3\n",
    "```"
   ]
  },
  {
   "cell_type": "markdown",
   "metadata": {},
   "source": [
    "#### Thoughts: DP 4 Steps:\n",
    "1. DP[i] represents for n = i, how many ways we can climb to the top\n",
    "2. DP[i] = DP[i - 1] + DP[i - 2] // last step we climb either 1, or 2 steps\n",
    "3. Initilization: DP[0] = 1, DP[1] = 1\n",
    "4. return DP[n]"
   ]
  },
  {
   "cell_type": "code",
   "execution_count": 7,
   "metadata": {
    "collapsed": true
   },
   "outputs": [],
   "source": [
    "def climbStairs(n):\n",
    "    if n == 0:\n",
    "        return 1\n",
    "    \n",
    "    DP = [0] * (n + 1)\n",
    "    DP[0], DP[1] = 1, 1\n",
    "    \n",
    "    for i in xrange(2, n + 1):\n",
    "        DP[i] = DP[i - 1] + DP[i - 2]\n",
    "    \n",
    "    return DP[n]"
   ]
  },
  {
   "cell_type": "markdown",
   "metadata": {},
   "source": [
    "### No.53 Minimum Path Sum\n",
    "Given a m x n grid filled with non-negative numbers, find a path from top left to bottom right which minimizes the sum of all numbers along its path."
   ]
  },
  {
   "cell_type": "markdown",
   "metadata": {},
   "source": [
    "#### Thoughts: DP 4 Steps:\n",
    "1. DP[i][j] represents i * j grid, from top left to botton right, minimum path Sum\n",
    "2. Initilization: 2, m + 1, DP[i][0] = sys.maxint, the same for n.\n",
    "3. DP[i][j] = min(DP[i - 1][j], DP[i][j - 1]) + grid[i - 1][j - 1]\n",
    "4. return DP[m][n]\n"
   ]
  },
  {
   "cell_type": "code",
   "execution_count": 9,
   "metadata": {
    "collapsed": true
   },
   "outputs": [],
   "source": [
    "def minPathSum(grid):\n",
    "    if not grid:\n",
    "        return 0\n",
    "    \n",
    "    m, n = len(grid), len(grid[0])\n",
    "    \n",
    "    DP = [[0 for j in range(n + 1)] for i in range(m + 1)]\n",
    "    \n",
    "    # Initilization\n",
    "    for i in range(2, m + 1):\n",
    "        DP[i][0] = sys.maxint\n",
    "    \n",
    "    for j in range(2, n + 1):\n",
    "        DP[0][j] = sys.maxint\n",
    "    \n",
    "    for i in range(1, m + 1):\n",
    "        for j in range(1, n + 1):\n",
    "            DP[i][j] = min(DP[i - 1][j], DP[i][j - 1]) + grid[i - 1][j - 1]\n",
    "    \n",
    "    return DP[m][n]\n",
    "    "
   ]
  },
  {
   "cell_type": "markdown",
   "metadata": {},
   "source": [
    "### No.54 Triangle\n",
    "Given a triangle, find the minimum path sum from top to bottom. Each step you may move to adjacent numbers on the row below.\n",
    "\n",
    "Example\n",
    "Given the following triangle:\n",
    "```python\n",
    "[\n",
    "     [2],\n",
    "    [3,4],\n",
    "   [6,5,7],\n",
    "  [4,1,8,3]\n",
    "]\n",
    "The minimum path sum from top to bottom is 11 (i.e., 2 + 3 + 5 + 1 = 11).\n",
    "```"
   ]
  },
  {
   "cell_type": "markdown",
   "metadata": {},
   "source": [
    "#### Thoughts: DP 4 Steps:\n",
    "1. DP[i][j] represents from top to row i, end with triangle[i][j], what is the minimum path Sum\n",
    "2. DP[i][j] \n",
    "    if j = 0, DP[i - 1][0] + DP[i][j]\n",
    "    if j = len(triangle[i]) - 1, DP[i - 1][-1] + DP[i][j]\n",
    "    else:\n",
    "        min(DP[i - 1][j - 1] , DP[i - 1][j]) + DP[i][j]\n",
    "3. Initilization, DP[0][0] = triangle[0][0]\n",
    "4. return min(DP[-1])\n",
    "\n"
   ]
  },
  {
   "cell_type": "code",
   "execution_count": 10,
   "metadata": {
    "collapsed": true
   },
   "outputs": [],
   "source": [
    "def minimumTotal(triangle):\n",
    "    if not triangle:\n",
    "        return 0\n",
    "    \n",
    "    # deep copy, we will then update the value againse DP\n",
    "    DP = triangle[:]\n",
    "    \n",
    "    # start from row 1!\n",
    "    for i in range(1, len(DP)):\n",
    "        for j in range(len(DP[i])):\n",
    "            if j == 0:\n",
    "                DP[i][j] = DP[i - 1][0] + triangle[i][j]\n",
    "            elif j == len(DP[i]) - 1:\n",
    "                DP[i][j] = DP[i - 1][-1] + triangle[i][j]\n",
    "            else:\n",
    "                DP[i][j] = min(DP[i - 1][j - 1], DP[i - 1][j]) + triangle[i][j]\n",
    "    \n",
    "    return min(DP[-1])"
   ]
  },
  {
   "cell_type": "code",
   "execution_count": 11,
   "metadata": {
    "collapsed": true
   },
   "outputs": [],
   "source": [
    "# Optimization for space\n",
    "def minimumTotal(triangle):\n",
    "    if not triangle:\n",
    "        return 0\n",
    "    \n",
    "    DP = [0] * len(triangle[-1])\n",
    "    DP[0] = triangle[0][0]\n",
    "    \n",
    "    for i in range(1, len(triangle)):\n",
    "        for j in reversed(range(len(triangle[i]))):\n",
    "            if j == len(triangle[i]) - 1:\n",
    "                DP[j] = DP[j - 1] + triangle[i][j]\n",
    "            elif j == 0:\n",
    "                DP[j] = DP[0] + triangle[i][j]\n",
    "            else:\n",
    "                DP[j] = min(DP[j - 1], DP[j]) + triangle[i][j]\n",
    "            \n",
    "    return min(DP)\n",
    "        "
   ]
  },
  {
   "cell_type": "markdown",
   "metadata": {},
   "source": [
    "### No.55 Jump Game\n",
    "Given an array of non-negative integers, you are initially positioned at the first index of the array.\n",
    "\n",
    "Each element in the array represents your maximum jump length at that position.\n",
    "\n",
    "Determine if you are able to reach the last index.\n",
    "\n",
    "Example\n",
    "A = [2,3,1,1,4], return true.\n",
    "\n",
    "A = [3,2,1,0,4], return false."
   ]
  },
  {
   "cell_type": "markdown",
   "metadata": {},
   "source": [
    "#### Thoughts: DP 4 Steps:\n",
    "1. DP[i] represents whether we can reach the last index of A from pos i\n",
    "2. DP[i] = DP[i + (0 ~ A[i])] has true\n",
    "3. DP[len(A) - 1] = True\n",
    "4. DP[0]"
   ]
  },
  {
   "cell_type": "code",
   "execution_count": 14,
   "metadata": {
    "collapsed": true
   },
   "outputs": [],
   "source": [
    "def canJump(A):\n",
    "    if not A:\n",
    "        return True\n",
    "    \n",
    "    DP = [False] * len(A)\n",
    "    DP[len(A) - 1] = True\n",
    "    \n",
    "    for i in reversed(xrange(len(A) - 1)):\n",
    "        for j in range(A[i]):\n",
    "            if i + j < len(A) and DP[i + j] == True:\n",
    "                DP[i] = True\n",
    "                break\n",
    "\n",
    "    return DP[0]\n",
    "    "
   ]
  },
  {
   "cell_type": "markdown",
   "metadata": {},
   "source": [
    "### No.56 Jump Game II\n",
    "Given an array of non-negative integers, you are initially positioned at the first index of the array.\n",
    "\n",
    "Each element in the array represents your maximum jump length at that position.\n",
    "\n",
    "Your goal is to reach the last index in the minimum number of jumps.\n",
    "\n",
    "Example\n",
    "```python\n",
    "Given array A = [2,3,1,1,4]\n",
    "\n",
    "The minimum number of jumps to reach the last index is 2. (Jump 1 step from index 0 to 1, then 3 steps to the last index.)\n",
    "```"
   ]
  },
  {
   "cell_type": "markdown",
   "metadata": {},
   "source": [
    "#### Thoughts: DP 4 Steps:\n",
    "1. DP[i] represents from pos i to end of A, what is minumum jumps\n",
    "2. DP[i] = min(DP[i + 1], DP[i + 2], ... DP[i + A[i]]) or 1 (if i + A[i] >= len(A) - 1)\n",
    "3. Initilization, DP[len(A) - 1] = 0, others = sys.maxint\n",
    "4. DP[0]\n"
   ]
  },
  {
   "cell_type": "code",
   "execution_count": 15,
   "metadata": {
    "collapsed": true
   },
   "outputs": [],
   "source": [
    "def Jump(A):\n",
    "    if not A:\n",
    "        return True\n",
    "    \n",
    "    DP = [sys.maxint] * len(A)\n",
    "    DP[len(A) - 1] = 0\n",
    "    \n",
    "    for i in reversed(xrange(len(A) - 1)):\n",
    "        if i + A[i] >= len(A) - 1:\n",
    "            DP[i] = 1\n",
    "            continue\n",
    "        \n",
    "        localmin = sys.maxint\n",
    "        for j in range(A[i]):\n",
    "            if i + j >= len(A):\n",
    "                break\n",
    "            localmin = min(DP[i + j], localmin)\n",
    "        DP[i] = localmin + 1\n",
    "\n",
    "    return DP[0]"
   ]
  },
  {
   "cell_type": "markdown",
   "metadata": {},
   "source": [
    "### No.57 Longest Increasing Subsequence\n",
    "Given a sequence of integers, find the longest increasing subsequence (LIS).\n",
    "\n",
    "You code should return the length of the LIS.\n",
    "\n",
    "Clarification\n",
    "What's the definition of longest increasing subsequence?\n",
    "\n",
    "    * The longest increasing subsequence problem is to find a subsequence of a given sequence in which the subsequence's elements are in sorted order, lowest to highest, and in which the subsequence is as long as possible. This subsequence is not necessarily contiguous, or unique.  \n",
    "\n",
    "    * https://en.wikipedia.org/wiki/Longest_common_subsequence_problem\n",
    "\n",
    "Example\n",
    "For [5, 4, 1, 2, 3], the LIS  is [1, 2, 3], return 3\n",
    "\n",
    "For [4, 2, 4, 5, 3, 7], the LIS is [4, 4, 5, 7], return 4\n"
   ]
  },
  {
   "cell_type": "code",
   "execution_count": 16,
   "metadata": {
    "collapsed": true
   },
   "outputs": [],
   "source": [
    "def longestIncreasingSubsequence(nums):\n",
    "    if not nums:\n",
    "        return 0\n",
    "    \n",
    "    DP = [0] * len(nums)\n",
    "    \n",
    "    # Initilization. DP[0] = 1\n",
    "    DP[0] = 1\n",
    "\n",
    "    for i in range(1, len(nums)):\n",
    "        localmax = 1\n",
    "        for j in range(0, i):\n",
    "            if nums[i] >= nums[j]:\n",
    "                localmax = max(localmax, DP[j] + 1)\n",
    "        DP[i] = localmax\n",
    "    \n",
    "    return max(DP)\n",
    "            "
   ]
  },
  {
   "cell_type": "markdown",
   "metadata": {},
   "source": [
    "### No.58 Edit Distance\n",
    "Given two words word1 and word2, find the minimum number of steps required to convert word1 to word2. (each operation is counted as 1 step.)\n",
    "\n",
    "You have the following 3 operations permitted on a word:\n",
    "\n",
    "- Insert a character\n",
    "- Delete a character\n",
    "- Replace a character\n",
    "\n",
    "Example\n",
    "\n",
    "Given word1 = \"mart\" and word2 = \"karma\", return 3."
   ]
  },
  {
   "cell_type": "markdown",
   "metadata": {},
   "source": [
    "#### Thoughts: DP 4 Steps:\n",
    "     1. DP[i][j] represents edit distance of word1[i:] and word2[j:]\n",
    "     2. DP[i][j] = if word1[i] == word2[j], DP[i + 1][j + 1], \n",
    "             else, min(DP[i + 1][j + 1], DP[i + 1][j], DP[i][j + 1]) + 1\n",
    "     3. Initilization: DP[|word1|][|word2|]\n",
    "     4. Answer: DP[0][0]"
   ]
  },
  {
   "cell_type": "code",
   "execution_count": 18,
   "metadata": {
    "collapsed": true
   },
   "outputs": [],
   "source": [
    "def minDistance(self, word1, word2):\n",
    "    if not word1 and not word2:\n",
    "        return 0\n",
    "    \n",
    "    len1, len2 = len(word1), len(word2)\n",
    "    # len(DP) = len1 + 1\n",
    "    DP = [[0 for j in xrange(len2 + 1)] for i in xrange(len1 + 1)]\n",
    "    \n",
    "    \n",
    "    # Initilization\n",
    "    for i in xrange(len1 + 1):\n",
    "        DP[i][-1] = len1 - i\n",
    "    \n",
    "    for j in xrange(len2 + 1):\n",
    "        DP[-1][j] = len2 - j\n",
    "        \n",
    "    # Note! This is suffix, so we need to compute from 0, to len1!!!!\n",
    "    for i in reversed(xrange(0, len1)):\n",
    "        for j in reversed(xrange(0, len2)):\n",
    "            if word1[i] == word2[j]:\n",
    "                DP[i][j] = DP[i + 1][j + 1]\n",
    "            else:\n",
    "                DP[i][j] = min(DP[i + 1][j + 1], DP[i + 1][j], \n",
    "                            DP[i][j + 1]) + 1\n",
    "    \n",
    "    return DP[0][0]"
   ]
  },
  {
   "cell_type": "markdown",
   "metadata": {
    "collapsed": true
   },
   "source": [
    "### No.59 Distinct Subsequences \n",
    "\n",
    "\n",
    "Given a string S and a string T, count the number of distinct subsequences of T in S.\n",
    "\n",
    "A subsequence of a string is a new string which is formed from the original string by deleting some (can be none) of the characters without disturbing the relative positions of the remaining characters. (ie, \"ACE\" is a subsequence of \"ABCDE\" while \"AEC\" is not).\n",
    "\n",
    " Example\n",
    "\n",
    "Given S = \"rabbbit\", T = \"rabbit\", return 3.\n",
    "\n"
   ]
  },
  {
   "cell_type": "code",
   "execution_count": 2,
   "metadata": {
    "collapsed": true
   },
   "outputs": [],
   "source": [
    "def numDistinct(self, S, T):\n",
    "    if not S:\n",
    "        return 0\n",
    "\n",
    "    lenS, lenT = len(S), len(T)\n",
    "    if lenS < lenT:\n",
    "        return 0\n",
    "\n",
    "    DP = [[0 for j in xrange(lenT + 1)] for i in xrange(lenS + 1)]\n",
    "\n",
    "    # Initilization\n",
    "    # DP[i][-1] == 1, DP[-1][j] == 0\n",
    "    for i in range(lenS + 1):\n",
    "        DP[i][-1] = 1\n",
    "\n",
    "    for i in reversed(xrange(0, lenS)):\n",
    "        for j in reversed(xrange(0, lenT)):\n",
    "            if S[i] == T[j]:\n",
    "                DP[i][j] = DP[i + 1][j] + DP[i + 1][j + 1]\n",
    "            else:\n",
    "                DP[i][j] = DP[i + 1][j]\n",
    "\n",
    "    return DP[0][0]"
   ]
  },
  {
   "cell_type": "markdown",
   "metadata": {},
   "source": [
    "### No.60 Word Break\n",
    "Given a string s and a dictionary of words dict, determine if s can be break into a space-separated sequence of one or more dictionary words.\n",
    "\n",
    " Example\n",
    "\n",
    "Given s = \"lintcode\", dict = [\"lint\", \"code\"].\n",
    "\n",
    "Return true because \"lintcode\" can be break as \"lint code\".\n",
    "\n"
   ]
  },
  {
   "cell_type": "code",
   "execution_count": 4,
   "metadata": {
    "collapsed": true
   },
   "outputs": [],
   "source": [
    "def wordBreak(s, dict):\n",
    "    if not s:\n",
    "        return True\n",
    "\n",
    "    if not dict:\n",
    "        return False\n",
    "\n",
    "    DP = [False for i in xrange(len(s) + 1)]\n",
    "\n",
    "    DP[len(s)] = True\n",
    "\n",
    "    maxLen = 0\n",
    "    for key in dict:\n",
    "        maxLen = max(maxLen, len(key))\n",
    "\n",
    "    for i in reversed(xrange(0, len(s))):\n",
    "        for j in xrange(0, maxLen + 1):\n",
    "            if i + j <= len(s) and s[i:i + j] in dict \\\n",
    "                               and DP[i + j] is True:\n",
    "                DP[i] = True\n",
    "\n",
    "    return DP[0]"
   ]
  },
  {
   "cell_type": "markdown",
   "metadata": {},
   "source": [
    "### No.61 Palindrome Partitioning II  ******************* Revisit!!!\n",
    "Given a string s, cut s into some substrings such that every substring is a palindrome.\n",
    "\n",
    "Return the minimum cuts needed for a palindrome partitioning of s.\n",
    "\n",
    " Example\n",
    "\n",
    "Given s = \"aab\",\n",
    "\n",
    "Return 1 since the palindrome partitioning [\"aa\", \"b\"] could be produced using 1 cut.\n",
    "\n"
   ]
  },
  {
   "cell_type": "code",
   "execution_count": 12,
   "metadata": {
    "collapsed": false
   },
   "outputs": [
    {
     "name": "stdout",
     "output_type": "stream",
     "text": [
      "2\n"
     ]
    }
   ],
   "source": [
    "import sys\n",
    "\n",
    "def isPalindrome(s):\n",
    "    if len(s) <= 1:\n",
    "        return True\n",
    "    \n",
    "    start, end = 0, len(s) - 1\n",
    "    while start + 1 <= end:\n",
    "        if s[start] != s[end]:\n",
    "            return False\n",
    "        start += 1\n",
    "        end -= 1\n",
    "    \n",
    "    return True\n",
    "    \n",
    "\n",
    "def minCut(s):\n",
    "    if len(s) <= 1:\n",
    "        return 0\n",
    "    \n",
    "    DP = [0 for i in xrange(len(s) + 1)]\n",
    "    \n",
    "    table = preProcess(s)\n",
    "    \n",
    "    # Initilization\n",
    "    # DP[i] represents minCuts for s[:i]\n",
    "    DP[0] = 0\n",
    "    \n",
    "    for i in xrange(1, len(s) + 1):\n",
    "        localmin = sys.maxint\n",
    "        for j in xrange(i):\n",
    "            # print s[j:i]\n",
    "            if table[i][j] is True:\n",
    "                localmin = min(localmin, DP[j] + 1)\n",
    "        DP[i] = localmin\n",
    "    \n",
    "    return DP[len(s)] - 1\n",
    "\n",
    "def preProcess(s):\n",
    "    if not s:\n",
    "        return []\n",
    "    \n",
    "    table = [[True for i in xrange(len(s) + 1)] for j in xrange(len(s) + 1)]\n",
    "    \n",
    "    # Initilization\n",
    "    for j in xrange(len(s)):\n",
    "        for i in xrange(1, len(s) + 1):\n",
    "            table[i][j] = isPalindrome(s[j:i])\n",
    "    \n",
    "    return table\n",
    "\n",
    "\n",
    "s = \"abcc\"\n",
    "print minCut(s)"
   ]
  },
  {
   "cell_type": "markdown",
   "metadata": {
    "collapsed": true
   },
   "source": [
    "### No.62  Longest Common Substring \n",
    "Given two strings, find the longest common substring.\n",
    "\n",
    "Return the length of it.\n",
    "\n",
    " Example\n",
    "\n",
    "Given A = \"ABCD\", B = \"CBCE\", return 2.\n"
   ]
  },
  {
   "cell_type": "code",
   "execution_count": 23,
   "metadata": {
    "collapsed": false
   },
   "outputs": [
    {
     "name": "stdout",
     "output_type": "stream",
     "text": [
      "7\n"
     ]
    }
   ],
   "source": [
    "def longestCommonSubstring(A, B):\n",
    "    if not A or not B:\n",
    "        return 0\n",
    "    \n",
    "    maxLen = 0\n",
    "\n",
    "    # A[i] B[j] start, what is the maxLen, update if > maxLen\n",
    "    # i start from 0, j start from 0\n",
    "    for i in xrange(len(A)):\n",
    "        for j in xrange(len(B)):\n",
    "            localLen = 0\n",
    "            posA, posB = i, j\n",
    "            while posA < len(A) and posB < len(B):\n",
    "                if A[posA] == B[posB]:\n",
    "                    localLen += 1\n",
    "                else:\n",
    "                    # Don't forget to break here!!!!!!\n",
    "                    break\n",
    "                posA += 1\n",
    "                posB += 1\n",
    "            maxLen = max(maxLen, localLen)\n",
    "    \n",
    "    return maxLen\n",
    "\n",
    "A = \"abccccccccccde\"\n",
    "B = \"dbccccccabccde\"\n",
    "\n",
    "\n",
    "print longestCommonSubstring(A, B)"
   ]
  },
  {
   "cell_type": "markdown",
   "metadata": {},
   "source": [
    "### No.63  Longest Common Subsequence\n",
    "Given two strings, find the longest common subsequence (LCS).\n",
    "\n",
    "Your code should return the length of LCS.\n",
    "\n",
    " Example\n",
    "\n",
    "For \"ABCD\" and \"EDCA\", the LCS is \"A\" (or \"D\", \"C\"), return 1.\n",
    "\n",
    "For \"ABCD\" and \"EACB\", the LCS is \"AC\", return 2.\n",
    "\n",
    "\n"
   ]
  },
  {
   "cell_type": "markdown",
   "metadata": {},
   "source": [
    "#### Thoughts: DP 4 Steps:\n",
    "    1. DP[i][j] represents A[:i] and B[:j] 's LCS\n",
    "    2. DP[i][j] = if A[i] == B[j], DP[i - 1][j - 1] + 1, else, max(DP[i - 1][j] and DP[i][j - 1])\n",
    "    3. Initilization: DP[0][j] = 0, DP[i][0] = 0\n",
    "    4. return DP[len(A)][len(B)]\n",
    "    "
   ]
  },
  {
   "cell_type": "code",
   "execution_count": 27,
   "metadata": {
    "collapsed": false
   },
   "outputs": [
    {
     "name": "stdout",
     "output_type": "stream",
     "text": [
      "3\n"
     ]
    }
   ],
   "source": [
    "def longestCommonSubsequence(A, B):\n",
    "    if not A or not B:\n",
    "        return 0\n",
    "    \n",
    "    DP = [[0 for j in xrange(len(B) + 1)] for i in xrange(len(A) + 1)]\n",
    "    \n",
    "    for i in xrange(1, len(A) + 1):\n",
    "        for j in xrange(1, len(B) + 1):\n",
    "            if A[i - 1] == B[j - 1]:\n",
    "                DP[i][j] = DP[i - 1][j - 1] + 1\n",
    "            else:\n",
    "                DP[i][j] = max(DP[i - 1][j], DP[i][j - 1])\n",
    "    \n",
    "    return DP[len(A)][len(B)]\n",
    "\n",
    "A = \"abfajskdf\"\n",
    "B = \"aajgere\"\n",
    "\n",
    "print longestCommonSubsequence(A, B)"
   ]
  },
  {
   "cell_type": "markdown",
   "metadata": {},
   "source": [
    "### No.64 Interleaving String \n",
    "\n",
    "Given three strings: s1, s2, s3, determine whether s3 is formed by the interleaving of s1 and s2.\n",
    "\n",
    " Example\n",
    "\n",
    "For s1 = \"aabcc\", s2 = \"dbbca\"\n",
    "\n",
    "    When s3 = \"aadbbcbcac\", return true.\n",
    "    When s3 = \"aadbbbaccc\", return false.\n",
    "\n"
   ]
  },
  {
   "cell_type": "markdown",
   "metadata": {},
   "source": [
    "#### Thoughts: DP 4 Steps:\n",
    "    1. DP[i][j] represents whether s1[:i] and s2[:j] can form s3[:i + j]\n",
    "    2. DP[i][j] = DP[i - 1][j] and s1[i] == s3[i + j] or\n",
    "                  DP[i][j - 1] and s2[j] == s3[i + j]\n",
    "    3. Initilization: DP[0][0] = True\n",
    "    4. return DP[len(s1)][len(s2)]"
   ]
  },
  {
   "cell_type": "code",
   "execution_count": 67,
   "metadata": {
    "collapsed": false
   },
   "outputs": [
    {
     "name": "stdout",
     "output_type": "stream",
     "text": [
      "True\n"
     ]
    }
   ],
   "source": [
    "def isInterleave(s1, s2, s3):\n",
    "    if not s1 and not s2 and s3:\n",
    "        return False\n",
    "\n",
    "    if not s1 and s2 == s3:\n",
    "        return True\n",
    "\n",
    "    if not s2 and s1 == s3:\n",
    "        return True\n",
    "\n",
    "    if len(s1) + len(s2) != len(s3):\n",
    "        return False\n",
    "\n",
    "    DP = [[False for j in xrange(len(s2) + 1)] for j in xrange(len(s1) + 1)]\n",
    "\n",
    "    # Initilization\n",
    "    DP[0][0] = True\n",
    "\n",
    "    for i in xrange(0, len(s1) + 1):\n",
    "        for j in xrange(0, len(s2) + 1):\n",
    "            if i == 0 and j == 0:\n",
    "                continue\n",
    "            # print i, j, s1[i - 1], s2[j - 1], s3[i + j - 1]\n",
    "            if (i >= 1 and DP[i - 1][j] and s1[i - 1] == s3[i + j - 1]) or \\\n",
    "                         (j >= 1 and DP[i][j - 1] and s2[j - 1] == s3[i + j - 1]):\n",
    "                DP[i][j] = True\n",
    "                # print i, j, DP[i][j]\n",
    "\n",
    "    return DP[len(s1)][len(s2)]\n",
    "    \n",
    "s1 = \"aa\"\n",
    "s2 = \"a\"\n",
    "s3 = \"aaa\"\n",
    "print isInterleave(s1, s2, s3)"
   ]
  },
  {
   "cell_type": "markdown",
   "metadata": {},
   "source": [
    "### No.65 Decode Ways\n",
    "A message containing letters from A-Z is being encoded to numbers using the following mapping:\n",
    "```python\n",
    "'A' -> 1\n",
    "'B' -> 2\n",
    "...\n",
    "'Z' -> 26\n",
    "```\n",
    "Given an encoded message containing digits, determine the total number of ways to decode it.\n",
    "\n",
    "Example\n",
    "\n",
    "Given encoded message 12, it could be decoded as AB (1 2) or L (12).\n",
    "The number of ways decoding 12 is 2."
   ]
  },
  {
   "cell_type": "markdown",
   "metadata": {},
   "source": [
    "#### Thoughts: DP 4 Steps:\n",
    "     1. DP[i] represents num of decode ways for s[:i]\n",
    "     2. DP[i] = if s[i] == 0:\n",
    "                     if s[i - 1] == 1 or 2,\n",
    "                          DP[i] = DP[i - 2]\n",
    "                     else:\n",
    "                          return 0\n",
    "                 else:\n",
    "                     if s[i - 1: i] between 11 and 26:\n",
    "                         DP[i] = DP[i - 2] + DP[i - 1]\n",
    "                     else:\n",
    "                         DP[i] = DP[i - 1]\n",
    "     3. Initilization:  DP[0] = 1\n",
    "     4. return DP[len(s)]\n",
    "     \n",
    "                \n",
    "     "
   ]
  },
  {
   "cell_type": "code",
   "execution_count": 3,
   "metadata": {
    "collapsed": false
   },
   "outputs": [
    {
     "name": "stdout",
     "output_type": "stream",
     "text": [
      "2\n"
     ]
    }
   ],
   "source": [
    "def numDecodings(s):\n",
    "    if not s:\n",
    "        return 0\n",
    "\n",
    "    DP = [0 for i in xrange(len(s) + 1)]\n",
    "\n",
    "    # Initilization\n",
    "    DP[0] = 1\n",
    "\n",
    "    for i in xrange(1, len(s) + 1):\n",
    "        if s[i - 1] == \"0\":\n",
    "            if i > 1 and (s[i - 2] == \"1\" or s[i - 2] == \"2\"):\n",
    "                DP[i] = DP[i - 2]\n",
    "            else:\n",
    "                return 0\n",
    "        else:\n",
    "            if i > 1:\n",
    "                num = int(s[i - 2:i])\n",
    "            else:\n",
    "                num = 0\n",
    "            if num >= 10 and num <= 26:\n",
    "                DP[i] = DP[i - 2] + DP[i - 1]\n",
    "            else:\n",
    "                DP[i] = DP[i - 1]\n",
    "\n",
    "    return DP[len(s)]\n",
    "\n",
    "s = \"12\"\n",
    "\n",
    "print numDecodings(s)"
   ]
  },
  {
   "cell_type": "markdown",
   "metadata": {
    "collapsed": true
   },
   "source": [
    "### No.66 Backpack\n",
    "\n",
    "Given n items with size Ai, an integer m denotes the size of a backpack. How full you can fill this backpack?\n",
    "\n",
    "Example\n",
    "If we have 4 items with size [2, 3, 5, 7], the backpack size is 11, we can select [2, 3, 5], so that the max size we can fill this backpack is 10. If the backpack size is 12. we can select [2, 3, 7] so that we can fulfill the backpack.\n",
    "\n",
    "You function should return the max size we can fill in the given backpack."
   ]
  },
  {
   "cell_type": "markdown",
   "metadata": {},
   "source": [
    "#### Thoughts: DP 4 Steps\n",
    "    1. DP[i][j] means using first j items, how full we can fulfill an \"i\" size backpack.\n",
    "    2. DP[i][j] = max(DP[i][j - 1], DP[i - A[j]][j - 1] + A[j])\n",
    "    3. DP[i][0] = 0, DP[0][j] = 0\n",
    "    4. return DP[m][len(A)]"
   ]
  },
  {
   "cell_type": "code",
   "execution_count": 8,
   "metadata": {
    "collapsed": false
   },
   "outputs": [
    {
     "name": "stdout",
     "output_type": "stream",
     "text": [
      "12\n"
     ]
    }
   ],
   "source": [
    "# Using 2-D array\n",
    "def backPack(m, A):\n",
    "    if not A or m == 0:\n",
    "        return 0\n",
    "    \n",
    "    DP = [[0 for j in xrange(len(A) + 1)] for i in xrange(m + 1)]\n",
    "    \n",
    "    for j in xrange(1, len(A) + 1):\n",
    "        for i in xrange(1, m + 1):\n",
    "            DP[i][j] = DP[i][j - 1]\n",
    "            if i >= A[j - 1]:\n",
    "                DP[i][j] = max(DP[i][j - 1], DP[i - A[j - 1]][j - 1] + A[j - 1])\n",
    "    \n",
    "    return DP[m][len(A)]\n",
    "\n",
    "\n",
    "A = [2, 3, 5, 7]\n",
    "print backPack(12, A)"
   ]
  },
  {
   "cell_type": "code",
   "execution_count": 16,
   "metadata": {
    "collapsed": false
   },
   "outputs": [
    {
     "name": "stdout",
     "output_type": "stream",
     "text": [
      "9\n"
     ]
    }
   ],
   "source": [
    "# Optimize Space to O(n)\n",
    "def backPack(m, A):\n",
    "    if not A or m == 0:\n",
    "        return 0\n",
    "    \n",
    "    # This optimization is good when bag is big enough.\n",
    "    if m >= sum(A):\n",
    "        return sum(A)\n",
    "    \n",
    "    DP = [0 for i in xrange(m + 1)]\n",
    "    \n",
    "    # Remember to calculate backwords!\n",
    "    # Otherwise the numbers will be over-written!\n",
    "    for j in xrange(1, len(A) + 1):\n",
    "        for i in reversed(xrange(1, m + 1)):\n",
    "            if i >= A[j - 1]:\n",
    "                DP[i] = max(DP[i], DP[i - A[j - 1]] + A[j - 1])\n",
    "        #print DP\n",
    "                \n",
    "    \n",
    "    return DP[m]\n",
    "    \n",
    "A = [3, 4, 8, 5]\n",
    "print backPack(10, A)   \n",
    "    "
   ]
  },
  {
   "cell_type": "markdown",
   "metadata": {},
   "source": [
    "### No.67 Backpack II\n",
    "Given n items with size Ai and value Vi, and a backpack with size m. What's the maximum value can you put into the backpack?\n",
    "\n",
    "Example\n",
    "\n",
    "Given 4 items with size [2, 3, 5, 7] and value [1, 5, 2, 4], and a backpack with size 10. The maximum value is 9.\n"
   ]
  },
  {
   "cell_type": "code",
   "execution_count": 20,
   "metadata": {
    "collapsed": false
   },
   "outputs": [
    {
     "name": "stdout",
     "output_type": "stream",
     "text": [
      "9\n"
     ]
    }
   ],
   "source": [
    "def backPackII(m, A, V):\n",
    "    if not A or m == 0:\n",
    "        return 0\n",
    "    \n",
    "    if sum(A) <= m:\n",
    "        return sum([A[i] * V[i] for i in xrange(len(A))])\n",
    "    \n",
    "    DP = [0 for i in xrange(m + 1)]\n",
    "    \n",
    "    for j in xrange(1, len(A) + 1):\n",
    "        for i in reversed(xrange(1, m + 1)):\n",
    "            if i >= A[j - 1]:\n",
    "                DP[i] = max(DP[i], DP[i - A[j - 1]] + V[j - 1])\n",
    "    \n",
    "    return DP[m]\n",
    "\n",
    "A = [2, 3, 5, 7]\n",
    "V = [1, 5, 2, 4]\n",
    "print backPackII(10, A, V)\n",
    "    "
   ]
  },
  {
   "cell_type": "markdown",
   "metadata": {},
   "source": [
    "### No.68 Minimum Adjustment Cost   *RE-VISIT!*!!!!\n",
    "Given an integer array, adjust each integers so that the difference of every adjacent integers are not greater than a given number target.\n",
    "\n",
    "If the array before adjustment is A, the array after adjustment is B, you should minimize the sum of |A[i]-B[i]|\n",
    "\n",
    "Example\n",
    "\n",
    "Given [1,4,2,3] and target = 1, one of the solutions is [2,3,2,3], the adjustment cost is 2 and it's minimal.\n",
    "\n",
    "Return 2.\n",
    "\n",
    "Notice\n",
    "\n",
    "You can assume each number in the array is a positive integer and not greater than 100."
   ]
  },
  {
   "cell_type": "code",
   "execution_count": 24,
   "metadata": {
    "collapsed": false
   },
   "outputs": [
    {
     "name": "stdout",
     "output_type": "stream",
     "text": [
      "2\n"
     ]
    }
   ],
   "source": [
    "import sys\n",
    "def MinAdjustmentCost(A, target):\n",
    "    if not A:\n",
    "        return 0\n",
    "\n",
    "    index = 0\n",
    "    B = A[:]\n",
    "    ret = 0\n",
    "    D = dict()\n",
    "\n",
    "    ret = self.dfs(A, B, target, 0, D)\n",
    "\n",
    "    return ret\n",
    "\n",
    "def dfs(self, A, B, target, index, D):\n",
    "    if index == len(A):\n",
    "        return 0\n",
    "\n",
    "    minValue = sys.maxint\n",
    "    for i in xrange(1, 101):\n",
    "        if index != 0 and abs(i - B[index - 1]) > target:\n",
    "            continue\n",
    "        B[index] = i\n",
    "        dif = abs(i - A[index])\n",
    "        if D.get((i, index)) is None:\n",
    "            temp = self.dfs(A, B, target, index + 1, D)\n",
    "            D[(i, index)] = temp\n",
    "            dif += temp\n",
    "        else:\n",
    "            dif += D[(i, index)]\n",
    "        minValue = min(minValue, dif)\n",
    "        B[index] = A[index]\n",
    "\n",
    "    return minValue\n",
    "\n",
    "A = [1,4,2,3]\n",
    "print MinAdjustmentCost(A, 1)"
   ]
  },
  {
   "cell_type": "markdown",
   "metadata": {},
   "source": [
    "#### Thoughts: DP 4 Steps:\n",
    "    1. DP[i][v] represents for index i, if we change to v, what is the MAC.\n",
    "    2. DP[i][v] = min(DP[i - 1][v'] + |A[i] - v'|, when |v' - v| <= target)\n",
    "    3. DP[0][v] = 0\n",
    "    4. return min(DP[len(A)][v])\n",
    "    \n",
    "    "
   ]
  },
  {
   "cell_type": "code",
   "execution_count": 1,
   "metadata": {
    "collapsed": false
   },
   "outputs": [
    {
     "name": "stdout",
     "output_type": "stream",
     "text": [
      "2\n"
     ]
    }
   ],
   "source": [
    "import sys\n",
    "def MinAdjustmentCost(A, target):\n",
    "    if not A:\n",
    "        return 0\n",
    "    \n",
    "    DP = [[0 for v in xrange(101)] for i in xrange(len(A) + 1)]\n",
    "    \n",
    "    for i in xrange(1, len(A) + 1):\n",
    "        for v in xrange(1, 101):\n",
    "            minValue = sys.maxint\n",
    "            for w in xrange(1, 101):\n",
    "                if abs(w - v) > target:\n",
    "                    continue\n",
    "                minValue = min(minValue, DP[i - 1][w] + abs(A[i - 1] - w))\n",
    "            DP[i][v] = minValue\n",
    "    \n",
    "    ret = DP[len(A)][1]\n",
    "    for i in xrange(1, 101):\n",
    "        ret = min(ret, DP[len(A)][i])\n",
    "    \n",
    "    #print DP\n",
    "    return ret\n",
    "\n",
    "A = [1,4,2,3]\n",
    "print MinAdjustmentCost(A, 1)"
   ]
  },
  {
   "cell_type": "markdown",
   "metadata": {
    "collapsed": true
   },
   "source": [
    "### N0.69 Wildcard Matching\n",
    "\n",
    "Implement wildcard pattern matching with support for '?' and '*'.\n",
    "\n",
    "- '?' Matches any single character.\n",
    "- '*' Matches any sequence of characters (including the empty sequence).\n",
    "The matching should cover the entire input string (not partial).\n",
    "\n",
    "Example\n",
    "```python\n",
    "isMatch(\"aa\",\"a\") → false\n",
    "isMatch(\"aa\",\"aa\") → true\n",
    "isMatch(\"aaa\",\"aa\") → false\n",
    "isMatch(\"aa\", \"*\") → true\n",
    "isMatch(\"aa\", \"a*\") → true\n",
    "isMatch(\"ab\", \"?*\") → true\n",
    "isMatch(\"aab\", \"c*a*b\") → false\n",
    "```"
   ]
  },
  {
   "cell_type": "code",
   "execution_count": 13,
   "metadata": {
    "collapsed": false
   },
   "outputs": [],
   "source": [
    "def isMatch(s, p):\n",
    "    DP = [[False for j in xrange(len(s) + 1)] for i in xrange(len(p) + 1)]\n",
    "\n",
    "    DP[0][0] = True\n",
    "    for i in xrange(1, len(p) + 1):\n",
    "        DP[i][0] = DP[i - 1][0] and p[i - 1] == '*'\n",
    "\n",
    "    for j in xrange(1, len(s) + 1):\n",
    "        for i in xrange(1, len(p) + 1):\n",
    "            if p[i - 1] == '*':\n",
    "                DP[i][j] = DP[i - 1][j - 1] or DP[i - 1][j] or DP[i][j - 1]\n",
    "            elif p[i - 1] == '?':\n",
    "                DP[i][j] = DP[i - 1][j - 1]\n",
    "            else:\n",
    "                DP[i][j] = DP[i - 1][j - 1] and p[i - 1] == s[j - 1]\n",
    "\n",
    "    return DP[len(p)][len(s)]  "
   ]
  },
  {
   "cell_type": "markdown",
   "metadata": {},
   "source": [
    "### No.70 k Sum\n",
    "\n",
    "Given n distinct positive integers, integer k (k <= n) and a number target.\n",
    "\n",
    "Find k numbers where sum is target. Calculate how many solutions there are?\n",
    "\n",
    "Example\n",
    "Given [1,2,3,4], k = 2, target = 5.\n",
    "\n",
    "There are 2 solutions: [1,4] and [2,3].\n",
    "\n",
    "Return 2.\n"
   ]
  },
  {
   "cell_type": "markdown",
   "metadata": {},
   "source": [
    "#### Thoughts: DP 4 Steps:\n",
    "    1. DP[i][j][t] represents number of solutions for A[:i], with j elements to hit target t\n",
    "    2. DP[i][j][t] = DP[i - 1][j][t] + DP[i - 1][j - 1][t - A[i - 1]], when t >= A[i - 1].\n",
    "    3. DP[i][0][0] = 0\n",
    "    4. return DP[len(A)][k][target]"
   ]
  },
  {
   "cell_type": "code",
   "execution_count": 19,
   "metadata": {
    "collapsed": false
   },
   "outputs": [
    {
     "name": "stdout",
     "output_type": "stream",
     "text": [
      "2\n"
     ]
    }
   ],
   "source": [
    "def kSum(A, k, target):\n",
    "    if not A or k == 0 or target <= 0:\n",
    "        return 0\n",
    "    \n",
    "    DP = [[[0 for t in xrange(target + 1)] for j in xrange(k + 1)] for i in xrange(len(A) + 1)]\n",
    "    \n",
    "    # Initilization\n",
    "    for i in xrange(len(A) + 1):\n",
    "        DP[i][0][0] = 1\n",
    "    \n",
    "    for i in xrange(1, len(A) + 1):\n",
    "        for j in xrange(1, k + 1):\n",
    "            for t in xrange(1, target + 1):\n",
    "                DP[i][j][t] = DP[i - 1][j][t]\n",
    "                if t >= A[i - 1]:\n",
    "                    DP[i][j][t] += DP[i - 1][j - 1][t - A[i - 1]]\n",
    "    #print DP\n",
    "    return DP[len(A)][k][target]\n",
    "                \n",
    "A = [1, 2, 3, 4]\n",
    "print kSum(A, 2, 5)"
   ]
  },
  {
   "cell_type": "markdown",
   "metadata": {},
   "source": [
    "### No.71 Remove Nth Node From End of List\n",
    "\n",
    "Given a linked list, remove the nth node from the end of list and return its head.\n",
    "\n",
    "The minimum number of nodes in list is n.\n",
    "\n",
    "Example\n",
    "\n",
    "Given linked list: 1->2->3->4->5->null, and n = 2.\n",
    "\n",
    "After removing the second node from the end, the linked list becomes 1->2->3->5->null."
   ]
  },
  {
   "cell_type": "code",
   "execution_count": 20,
   "metadata": {
    "collapsed": true
   },
   "outputs": [],
   "source": [
    "def removeNthFromEnd(head, n):\n",
    "    dummy = ListNode(0)\n",
    "    dummy.next = head\n",
    "    \n",
    "    slow, fast = dummy, dummy\n",
    "    \n",
    "    while n:\n",
    "        fast = fast.next\n",
    "        n -= 1\n",
    "    \n",
    "    while fast.next:\n",
    "        slow = slow.next\n",
    "        fast = fast.next\n",
    "    \n",
    "    slow.next = slow.next.next\n",
    "    \n",
    "    return dummy.next\n",
    "    \n",
    "    "
   ]
  },
  {
   "cell_type": "markdown",
   "metadata": {},
   "source": [
    "### No.72 Partition List\n",
    "Given a linked list and a value x, partition it such that all nodes less than x come before nodes greater than or equal to x.\n",
    "\n",
    "You should preserve the original relative order of the nodes in each of the two partitions.\n",
    "\n",
    "Example\n",
    "\n",
    "Given 1->4->3->2->5->2->null and x = 3,\n",
    "return 1->2->2->4->3->5->null."
   ]
  },
  {
   "cell_type": "markdown",
   "metadata": {},
   "source": [
    "#### Thoughts: Using Two dummy node, create two lists and connect them back!"
   ]
  },
  {
   "cell_type": "code",
   "execution_count": 1,
   "metadata": {
    "collapsed": true
   },
   "outputs": [],
   "source": [
    "def partition(head, x):\n",
    "    if head is None:\n",
    "        return head\n",
    "    \n",
    "    dummyLeft = ListNode(0)\n",
    "    dummyRight = ListNode(0)\n",
    "    \n",
    "    curLeft, curRight = dummyLeft, dummyRight\n",
    "    while head:\n",
    "        if head.val < x:\n",
    "            curLeft.next = head\n",
    "            curLeft = head\n",
    "        else:\n",
    "            curRight.next = head\n",
    "            curRight = head\n",
    "        head = head.next\n",
    "    \n",
    "    curLeft.next = dummyRight.next\n",
    "    curRight.next = None\n",
    "    \n",
    "    return dummyLeft.next"
   ]
  },
  {
   "cell_type": "markdown",
   "metadata": {},
   "source": [
    "### No.73 Remove Duplicates from Sorted List II\n",
    "Given a sorted linked list, delete all nodes that have duplicate numbers, leaving only distinct numbers from the original list.\n",
    "\n",
    "Example\n",
    "\n",
    "Given 1->2->3->3->4->4->5, return 1->2->5.\n",
    "Given 1->1->1->2->3, return 2->3."
   ]
  },
  {
   "cell_type": "code",
   "execution_count": 2,
   "metadata": {
    "collapsed": true
   },
   "outputs": [],
   "source": [
    "def deleteDuplicates(head):\n",
    "    dummy = ListNode(0)\n",
    "    dummy.next = head\n",
    "\n",
    "    pre, cur = dummy, head\n",
    "\n",
    "    if not cur or not cur.next:\n",
    "        return dummy.next\n",
    "\n",
    "    while cur and cur.next:\n",
    "\n",
    "        if cur.next.val != pre.next.val:\n",
    "            pre = pre.next\n",
    "            cur = cur.next\n",
    "            continue\n",
    "\n",
    "        while cur.next and pre.next.val == cur.next.val:\n",
    "            cur = cur.next\n",
    "            # print cur.val\n",
    "\n",
    "        # at this point, \n",
    "        # cur can be None, or at the last same val node\n",
    "        if cur is None:\n",
    "            pre.next = None\n",
    "            return dummy.next\n",
    "\n",
    "        pre.next = cur.next\n",
    "        cur = pre.next\n",
    "\n",
    "    return dummy.next"
   ]
  },
  {
   "cell_type": "markdown",
   "metadata": {},
   "source": [
    "### No.74 Convert Sorted List to Balanced BST\n",
    "\n",
    "Given a singly linked list where elements are sorted in ascending order, convert it to a height balanced BST.\n",
    "\n",
    "Example\n",
    "```python\n",
    "               2\n",
    "1->2->3  =>   / \\\n",
    "             1   3\n",
    "```"
   ]
  },
  {
   "cell_type": "code",
   "execution_count": 24,
   "metadata": {
    "collapsed": false
   },
   "outputs": [
    {
     "name": "stdout",
     "output_type": "stream",
     "text": [
      "1 ->NULL\n",
      "1\n"
     ]
    }
   ],
   "source": [
    "from __future__ import print_function\n",
    "\n",
    "class ListNode(object):\n",
    "\n",
    "    def __init__(self, val, next=None):\n",
    "        self.val = val\n",
    "        self.next = next\n",
    "\n",
    "def printList(node):\n",
    "    while node is not None:\n",
    "        print(node.val, '->', end=\"\")\n",
    "        node = node.next\n",
    "    print('NULL')\n",
    "    \n",
    "def formList(nums):\n",
    "    if nums is None or len(nums) == 0:\n",
    "        return None\n",
    "    \n",
    "    dummy = ListNode(0)\n",
    "    pos = dummy\n",
    "    \n",
    "    for i in nums:\n",
    "        node = ListNode(i)\n",
    "        pos.next = node\n",
    "        pos = pos.next\n",
    "    \n",
    "    return dummy.next\n",
    "\n",
    "class TreeNode:\n",
    "    def __init__(self, val):\n",
    "        self.val = val\n",
    "        self.left, self.right = None, None\n",
    "\n",
    "def findMid(head):\n",
    "    if head is None or head.next is None:\n",
    "        return head\n",
    "    \n",
    "    slow, fast = head, head.next\n",
    "    while fast is not None and fast.next is not None:\n",
    "        slow = slow.next\n",
    "        fast = fast.next.next\n",
    "    \n",
    "    return slow\n",
    "\n",
    "def sortedListToBST(head):\n",
    "    if head is None:\n",
    "        return None\n",
    "\n",
    "    if head.next is None:\n",
    "        root = TreeNode(head.val)\n",
    "        return root\n",
    "    \n",
    "    dummy = ListNode(0)\n",
    "    dummy.next = head\n",
    "    midNode = findMid(dummy)\n",
    "    root = TreeNode(midNode.next.val)\n",
    "    \n",
    "    leftList = head\n",
    "    rightList = midNode.next.next\n",
    "    midNode.next = None\n",
    "    \n",
    "    leftChild = sortedListToBST(leftList)\n",
    "    rightChild = sortedListToBST(rightList)\n",
    "    \n",
    "    root.left = leftChild\n",
    "    root.right = rightChild\n",
    "    \n",
    "    return root\n",
    "    \n",
    "A = [1]\n",
    "alist = formList(A)\n",
    "printList(alist)\n",
    "mid = findMid(alist)\n",
    "print(mid.val)\n",
    "    \n",
    "    \n",
    "    "
   ]
  },
  {
   "cell_type": "markdown",
   "metadata": {
    "collapsed": false
   },
   "source": [
    "### No.75 Copy List with Random Pointer\n",
    "A linked list is given such that each node contains an additional random pointer which could point to any node in the list or null.\n",
    "\n",
    "Return a deep copy of the list."
   ]
  },
  {
   "cell_type": "code",
   "execution_count": 27,
   "metadata": {
    "collapsed": false
   },
   "outputs": [],
   "source": [
    "# Definition for singly-linked list with a random pointer.\n",
    "# class RandomListNode:\n",
    "#     def __init__(self, x):\n",
    "#         self.label = x\n",
    "#         self.next = None\n",
    "#         self.random = None\n",
    "class Solution:\n",
    "    # @param head: A RandomListNode\n",
    "    # @return: A RandomListNode\n",
    "    def copyRandomList(self, head):\n",
    "        # write your code here\n",
    "        dummy = ListNode(0)\n",
    "        dummy.next = head\n",
    "        curNew, cur = dummy, head\n",
    "        D = dict()\n",
    "        while cur:\n",
    "            node = RandomListNode(cur.label)\n",
    "            node.next, node.random = None, cur.random\n",
    "            curNew.next = node\n",
    "            curNew = node\n",
    "            D[cur] = node\n",
    "            cur = cur.next\n",
    "        \n",
    "        curNew = dummy.next\n",
    "        while curNew:\n",
    "            curNew.random = D.get(curNew.random)\n",
    "            curNew = curNew.next\n",
    "        \n",
    "        return dummy.next"
   ]
  },
  {
   "cell_type": "markdown",
   "metadata": {},
   "source": [
    "### No.76 Merge k Sorted Lists\n",
    "\n",
    "Merge k sorted linked lists and return it as one sorted list.\n",
    "\n",
    "Analyze and describe its complexity.\n",
    "\n",
    "Example\n",
    "Given lists:\n",
    "```python\n",
    "[\n",
    "  2->4->null,\n",
    "  null,\n",
    "  -1->null\n",
    "],\n",
    "return -1->2->4->null.\n",
    "```"
   ]
  },
  {
   "cell_type": "code",
   "execution_count": null,
   "metadata": {
    "collapsed": true
   },
   "outputs": [],
   "source": [
    "# Use tuple because heapq needs value to compare!\n",
    "import heapq as Q\n",
    "def mergeKLists(lists):\n",
    "    q = []\n",
    "    \n",
    "    for i in xrange(len(lists)):\n",
    "        if lists[i] is not None:\n",
    "            Q.heappush(q, (lists[i].val, lists[i]))\n",
    "    \n",
    "    dummy = ListNode(0)\n",
    "    cur = dummy\n",
    "    while q:\n",
    "        val, node = Q.heappop(q)\n",
    "        cur.next = node\n",
    "        cur = cur.next\n",
    "        if node.next:\n",
    "            Q.heappush(q, (node.next.val, node.next))\n",
    "    \n",
    "    return dummy.next"
   ]
  },
  {
   "cell_type": "markdown",
   "metadata": {},
   "source": [
    "### Heapq Usage"
   ]
  },
  {
   "cell_type": "code",
   "execution_count": 117,
   "metadata": {
    "collapsed": false
   },
   "outputs": [
    {
     "name": "stdout",
     "output_type": "stream",
     "text": [
      "[0, 2, 1]\n",
      "0\n"
     ]
    }
   ],
   "source": [
    "import heapq as Q\n",
    "\n",
    "q = []\n",
    "Q.heappush(q, 1)\n",
    "\n",
    "Q.heappush (q, 2)\n",
    "Q.heappush (q, 0)\n",
    "print(q)\n",
    "print(Q.heappop(q)) "
   ]
  },
  {
   "cell_type": "markdown",
   "metadata": {
    "collapsed": true
   },
   "source": [
    "### No.77 Reorder List\n",
    "Given a singly linked list L: L0 → L1 → … → Ln-1 → Ln\n",
    "\n",
    "reorder it to: L0 → Ln → L1 → Ln-1 → L2 → Ln-2 → …\n",
    "\n",
    "Example:\n",
    "\n",
    "Given 1->2->3->4->null, reorder it to 1->4->2->3->null.\n",
    "\n"
   ]
  },
  {
   "cell_type": "code",
   "execution_count": 122,
   "metadata": {
    "collapsed": false
   },
   "outputs": [
    {
     "name": "stdout",
     "output_type": "stream",
     "text": [
      "0 ->1 ->2 ->3 ->4 ->NULL\n",
      "0 ->1 ->2 ->NULL\n",
      "4 ->3 ->NULL\n",
      "0 ->4 ->1 ->3 ->2 ->NULL\n"
     ]
    }
   ],
   "source": [
    "from __future__ import print_function\n",
    "\n",
    "class ListNode(object):\n",
    "\n",
    "    def __init__(self, val, next=None):\n",
    "        self.val = val\n",
    "        self.next = next\n",
    "\n",
    "def printList(node):\n",
    "    while node is not None:\n",
    "        print(node.val, '->', end=\"\")\n",
    "        node = node.next\n",
    "    print('NULL')\n",
    "    \n",
    "def formList(nums):\n",
    "    if nums is None or len(nums) == 0:\n",
    "        return None\n",
    "    \n",
    "    dummy = ListNode(0)\n",
    "    pos = dummy\n",
    "    \n",
    "    for i in nums:\n",
    "        node = ListNode(i)\n",
    "        pos.next = node\n",
    "        pos = pos.next\n",
    "    \n",
    "    return dummy.next\n",
    "\n",
    "def findMid(head):\n",
    "    if head is None or head.next is None:\n",
    "        return None\n",
    "    \n",
    "    slow, fast = head, head.next\n",
    "    while fast and fast.next:\n",
    "        slow = slow.next\n",
    "        fast = fast.next.next\n",
    "    \n",
    "    return slow\n",
    "\n",
    "def reverseList(head):\n",
    "    if head is None or head.next is None:\n",
    "        return head\n",
    "\n",
    "    pre, cur = None, head\n",
    "    while cur:\n",
    "        temp = cur.next\n",
    "        cur.next = pre\n",
    "        pre = cur\n",
    "        cur = temp\n",
    "    \n",
    "    return pre\n",
    "\n",
    "def reorderList(head):\n",
    "    if head is None or head.next is None:\n",
    "        return head\n",
    "    \n",
    "    mid = findMid(head)\n",
    "    \n",
    "    # break from mid\n",
    "    left = head\n",
    "    right = mid.next\n",
    "    mid.next = None\n",
    "    right = reverseList(right)\n",
    "    \n",
    "    printList(left)\n",
    "    printList(right)\n",
    "    \n",
    "    # Merge left and right\n",
    "    dummy = ListNode(0)\n",
    "    newCur = dummy\n",
    "    while left:\n",
    "        newCur.next = left\n",
    "        newCur = newCur.next\n",
    "        left = left.next\n",
    "\n",
    "        if right:\n",
    "            newCur.next = right\n",
    "            newCur = newCur.next\n",
    "            right = right.next\n",
    "    \n",
    "    return dummy.next\n",
    "\n",
    "A = [0, 1, 2, 3, 4]\n",
    "alist = formList(A)\n",
    "printList(alist)\n",
    "\n",
    "blist = reorderList(alist)\n",
    "printList(blist)"
   ]
  },
  {
   "cell_type": "code",
   "execution_count": null,
   "metadata": {
    "collapsed": true
   },
   "outputs": [],
   "source": [
    "class ListNode(object):\n",
    "    def __init__(self, val, next = None):\n",
    "        self.val = val\n",
    "        self.next = next\n",
    "\n",
    "def findMid(head):\n",
    "    if not head or not head.next:\n",
    "        return head\n",
    "    \n",
    "    slow, fast = head, head.next\n",
    "    while fast and fast.next:\n",
    "        slow = slow.next\n",
    "        fast = fast.next.next\n",
    "    \n",
    "    return slow\n",
    "\n",
    "def reverseList(head):\n",
    "    if not head or not head.next:\n",
    "        return head\n",
    "    \n",
    "    pre, cur = None, head\n",
    "    while cur:\n",
    "        temp = cur.next\n",
    "        cur.next = pre\n",
    "        pre = cur\n",
    "        cur = temp\n",
    "        \n",
    "    return pre\n",
    "\n",
    "def mergeList(left, right):\n",
    "    ret\n",
    "\n",
    "def reorderList(head):\n",
    "    if not head or head.next:\n",
    "        return head\n",
    "    \n",
    "    mid = findMid(head)\n",
    "    right = mid.next\n",
    "    mid.next = None\n",
    "    left, right = head, reverseList(right)\n",
    "    \n",
    "    mergeList(left, right)\n",
    "    return head"
   ]
  },
  {
   "cell_type": "markdown",
   "metadata": {},
   "source": [
    "### No.78 Sort List \n",
    "Sort a linked list in O(n log n) time using constant space complexity.\n",
    "\n",
    "Example\n",
    "\n",
    "Given 1-3->2->null, sort it to 1->2->3->null."
   ]
  },
  {
   "cell_type": "code",
   "execution_count": null,
   "metadata": {
    "collapsed": true
   },
   "outputs": [],
   "source": [
    "def findMid(head):\n",
    "    if not head or not head.next:\n",
    "        return head\n",
    "    \n",
    "    slow, fast = head, head.next\n",
    "    while fast and fast.next:\n",
    "        slow = slow.next\n",
    "        fast = fast.next.next\n",
    "    \n",
    "    return slow\n",
    "\n",
    "\"\"\"\n",
    "@param h1: sorted list.\n",
    "@param h2: sorted list.\n",
    "@return: merged list of two sorted list h1 and h2.\n",
    "\"\"\"\n",
    "def mergeList(h1, h2):\n",
    "    dummy = ListNode(0)\n",
    "    cur = dummy\n",
    "    \n",
    "    while h1 or h2:\n",
    "        if h1 is None:\n",
    "            cur.next = h2\n",
    "            h2 = h2.next\n",
    "        elif h2 is None:\n",
    "            cur.next = h1\n",
    "            h1 = h1.next\n",
    "        else:\n",
    "            if h1.val <= h2.val:\n",
    "                cur.next = h1\n",
    "                h1 = h1.next\n",
    "            else:\n",
    "                cur.next = h2\n",
    "                h2 = h2.next\n",
    "        cur = cur.next\n",
    "    \n",
    "    return dummy.next\n",
    "\n",
    "def sortList(head):\n",
    "    if not head or not head.next:\n",
    "        return head\n",
    "    \n",
    "    mid = findMid(head)\n",
    "    left, right = head, mid.next\n",
    "    mid.next = None\n",
    "    \n",
    "    left = sortList(left)\n",
    "    right = sortList(right)\n",
    "    \n",
    "    newHead = mergeList(left, right)\n",
    "    return newHead"
   ]
  },
  {
   "cell_type": "markdown",
   "metadata": {},
   "source": [
    "### No.79 Reverse Linked List II\n",
    "Reverse a linked list from position m to n.\n",
    "\n",
    "Example\n",
    "\n",
    "Given 1->2->3->4->5->NULL, m = 2 and n = 4, return 1->4->3->2->5->NULL."
   ]
  },
  {
   "cell_type": "code",
   "execution_count": 123,
   "metadata": {
    "collapsed": true
   },
   "outputs": [],
   "source": [
    "class Solution:\n",
    "    \"\"\"\n",
    "    @param head: The head of linked list\n",
    "    @param m: start position\n",
    "    @param n: end position\n",
    "    \"\"\"\n",
    "    def reverseList(self, head):\n",
    "        if not head and not head.next:\n",
    "            return head\n",
    "        \n",
    "        pre, cur = None, head\n",
    "        while cur:\n",
    "            temp = cur.next\n",
    "            cur.next = pre\n",
    "            pre = cur\n",
    "            cur = temp\n",
    "        \n",
    "        return pre\n",
    "    \n",
    "    def findKth(self, head, k):\n",
    "        for i in xrange(k):\n",
    "            if head is None:\n",
    "                return None\n",
    "            head = head.next\n",
    "        \n",
    "        return head\n",
    "\n",
    "    def reverseBetween(self, head, m, n):\n",
    "        # write your code here\n",
    "        if not head or not head.next:\n",
    "            return head\n",
    "        \n",
    "        dummy = ListNode(0)\n",
    "        dummy.next = head\n",
    "        \n",
    "        M = self.findKth(dummy, m - 1)\n",
    "        N = self.findKth(dummy, n)\n",
    "            \n",
    "        midList = M.next\n",
    "        rightList = N.next\n",
    "        midTail = M.next\n",
    "        M.next, N.next = None, None\n",
    "        \n",
    "        midList = self.reverseList(midList)\n",
    "        M.next = midList\n",
    "        midTail.next = rightList\n",
    "        \n",
    "        return dummy.next"
   ]
  },
  {
   "cell_type": "markdown",
   "metadata": {},
   "source": [
    "### No.80 Linked List Cycle II\n",
    "Given a linked list, return the node where the cycle begins.\n",
    "\n",
    "If there is no cycle, return null.\n",
    "\n",
    "Example\n",
    "\n",
    "Given -21->10->4->5, tail connects to node index 1，return 10"
   ]
  },
  {
   "cell_type": "code",
   "execution_count": 124,
   "metadata": {
    "collapsed": true
   },
   "outputs": [],
   "source": [
    "def detectCycle(head):\n",
    "    if not head:\n",
    "        return None\n",
    "\n",
    "    hasCycle = False\n",
    "    slow, fast = head, head.next\n",
    "    while fast and fast.next:\n",
    "        if slow == fast:\n",
    "            hasCycle = True\n",
    "            break\n",
    "        slow = slow.next\n",
    "        fast = fast.next.next\n",
    "\n",
    "    if hasCycle is False:\n",
    "        return None\n",
    "\n",
    "    slow, fast = head, fast.next\n",
    "    while slow != fast:\n",
    "        slow = slow.next\n",
    "        fast = fast.next\n",
    "\n",
    "    return slow"
   ]
  },
  {
   "cell_type": "markdown",
   "metadata": {},
   "source": [
    "### No.81 Middle of Linked List\n",
    "Find the middle node of a linked list.\n",
    "\n",
    "Example\n",
    "\n",
    "Given 1->2->3, return the node with value 2.\n",
    "\n",
    "Given 1->2, return the node with value 1."
   ]
  },
  {
   "cell_type": "code",
   "execution_count": 126,
   "metadata": {
    "collapsed": true
   },
   "outputs": [],
   "source": [
    "def middleNode(head):\n",
    "    if not head or not head.next:\n",
    "        return head\n",
    "    \n",
    "    slow, fast = head, head.next\n",
    "    while fast and fast.next:\n",
    "        slow = slow.next\n",
    "        fast = fast.next.next\n",
    "    \n",
    "    return slow"
   ]
  },
  {
   "cell_type": "markdown",
   "metadata": {},
   "source": [
    "### No.82 Remove Linked List Elements\n",
    "Remove all elements from a linked list of integers that have value val.\n",
    "\n",
    "Example\n",
    "\n",
    "Given 1->2->3->3->4->5->3, val = 3, you should return the list as 1->2->4->5"
   ]
  },
  {
   "cell_type": "code",
   "execution_count": 127,
   "metadata": {
    "collapsed": true
   },
   "outputs": [],
   "source": [
    "class Solution:\n",
    "    # @param head, a ListNode\n",
    "    # @param val, an integer\n",
    "    # @return a ListNode\n",
    "    def removeElements(self, head, val):\n",
    "        # Write your code here\n",
    "        if not head:\n",
    "            return None\n",
    "        \n",
    "        dummy = ListNode(0)\n",
    "        dummy.next = head\n",
    "        \n",
    "        pre, cur = dummy, head\n",
    "        while cur is not None:\n",
    "            if cur.val == val:\n",
    "                pre.next = cur.next\n",
    "                cur = pre.next\n",
    "            else:\n",
    "                pre = pre.next\n",
    "                cur = cur.next\n",
    "        \n",
    "        return dummy.next"
   ]
  },
  {
   "cell_type": "markdown",
   "metadata": {},
   "source": [
    "### No.83 Remove Duplicates from Unsorted List\n",
    "Write code to remove duplicates from an unsorted linked list.\n",
    "\n",
    "Example\n",
    "\n",
    "Given 1->3->2->1->4.\n",
    "\n",
    "Return 1->3->2->4"
   ]
  },
  {
   "cell_type": "code",
   "execution_count": 128,
   "metadata": {
    "collapsed": true
   },
   "outputs": [],
   "source": [
    "class Solution:\n",
    "    # @param head, a ListNode\n",
    "    # @return a ListNode\n",
    "    def removeDuplicates(self, head):\n",
    "        # Write your code here\n",
    "        if not head:\n",
    "            return None\n",
    "\n",
    "        D = dict()\n",
    "        D[head.val] = True\n",
    "        \n",
    "        pre, cur = head, head.next\n",
    "        while cur is not None:\n",
    "            if D.get(cur.val) is not None:\n",
    "                pre.next = cur.next\n",
    "                cur = pre.next\n",
    "            else:\n",
    "                D[cur.val] = True\n",
    "                pre = pre.next\n",
    "                cur = cur.next\n",
    "        \n",
    "        return head"
   ]
  },
  {
   "cell_type": "markdown",
   "metadata": {},
   "source": [
    "### No.84 Swap Nodes in Pairs\n",
    "Given a linked list, swap every two adjacent nodes and return its head.\n",
    "\n",
    "Example\n",
    "\n",
    "Given 1->2->3->4, you should return the list as 2->1->4->3."
   ]
  },
  {
   "cell_type": "code",
   "execution_count": 129,
   "metadata": {
    "collapsed": true
   },
   "outputs": [],
   "source": [
    "def swapPairs(head):\n",
    "    if not head or not head.next:\n",
    "        return head\n",
    "    \n",
    "    dummy = ListNode(0)\n",
    "    dummy.next = head\n",
    "    \n",
    "    pre, cur = dummy, head\n",
    "    while cur and cur.next:\n",
    "        temp = cur.next.next\n",
    "        pre.next = cur.next\n",
    "        cur.next.next = cur\n",
    "        cur.next = temp\n",
    "        \n",
    "        pre = cur\n",
    "        cur = temp\n",
    "    \n",
    "    return dummy.next"
   ]
  },
  {
   "cell_type": "markdown",
   "metadata": {},
   "source": [
    "### No.85 Delete Node in the Middle of Singly Linked List\n",
    "Implement an algorithm to delete a node in the middle of a singly linked list, given only access to that node.\n",
    "\n",
    "Example\n",
    "\n",
    "Given 1->2->3->4, and node 3. return 1->2->4"
   ]
  },
  {
   "cell_type": "code",
   "execution_count": 131,
   "metadata": {
    "collapsed": true
   },
   "outputs": [],
   "source": [
    "class Solution:\n",
    "    # @param node: the node in the list should be deleted\n",
    "    # @return: nothing\n",
    "    def deleteNode(self, node):\n",
    "        # write your code here\n",
    "        node.val = node.next.val\n",
    "        node.next = node.next.next\n",
    "        return"
   ]
  },
  {
   "cell_type": "markdown",
   "metadata": {},
   "source": [
    "### No.86 Insertion Sort List\n",
    "Sort a linked list using insertion sort.\n",
    "\n",
    "Example\n",
    "\n",
    "Given 1->3->2->0->null, return 0->1->2->3->null."
   ]
  },
  {
   "cell_type": "code",
   "execution_count": 147,
   "metadata": {
    "collapsed": false
   },
   "outputs": [
    {
     "name": "stdout",
     "output_type": "stream",
     "text": [
      "4 ->2 ->1 ->3 ->NULL\n",
      "1 ->2 ->3 ->4 ->NULL\n"
     ]
    }
   ],
   "source": [
    "from __future__ import print_function\n",
    "\n",
    "class ListNode(object):\n",
    "\n",
    "    def __init__(self, val, next=None):\n",
    "        self.val = val\n",
    "        self.next = next\n",
    "\n",
    "def printList(node):\n",
    "    while node is not None:\n",
    "        print(node.val, '->', end=\"\")\n",
    "        node = node.next\n",
    "    print('NULL')\n",
    "    \n",
    "def formList(nums):\n",
    "    if nums is None or len(nums) == 0:\n",
    "        return None\n",
    "    \n",
    "    dummy = ListNode(0)\n",
    "    pos = dummy\n",
    "    \n",
    "    for i in nums:\n",
    "        node = ListNode(i)\n",
    "        pos.next = node\n",
    "        pos = pos.next\n",
    "    \n",
    "    return dummy.next\n",
    "\n",
    "def insert(head, node):\n",
    "    if node.val < head.val:\n",
    "        temp = head.val\n",
    "        head.val = node.val\n",
    "        node.val = temp\n",
    "\n",
    "        node.next = head.next\n",
    "        head.next = node\n",
    "    else:\n",
    "        pre, cur = head, head.next\n",
    "        while cur is not None:\n",
    "            if cur.val > node.val:\n",
    "                pre.next = node\n",
    "                node.next = cur\n",
    "                break\n",
    "            else:\n",
    "                pre = pre.next\n",
    "                cur = cur.next\n",
    "    return\n",
    "\n",
    "def insertionSortList(head):\n",
    "    # write your code here\n",
    "    if not head or not head.next:\n",
    "        return head\n",
    "\n",
    "    pre, cur = head, head.next\n",
    "    while cur:\n",
    "        if cur.val < pre.val:\n",
    "            node = cur\n",
    "            pre.next = cur.next\n",
    "            insert(head, node)\n",
    "            cur = pre.next\n",
    "        else:\n",
    "            pre = pre.next\n",
    "            cur = cur.next\n",
    "\n",
    "    return head\n",
    "\n",
    "A = [4, 2, 1 ,3]\n",
    "alist = formList(A)\n",
    "printList(alist)\n",
    "\n",
    "blist = insertionSortList(alist)\n",
    "printList(blist)"
   ]
  },
  {
   "cell_type": "code",
   "execution_count": 1,
   "metadata": {
    "collapsed": true
   },
   "outputs": [],
   "source": [
    "def insert(self, head, node):\n",
    "    dummy = ListNode(0)\n",
    "    dummy.next = head\n",
    "\n",
    "    pre, cur = dummy, head\n",
    "    while cur is not None:\n",
    "        if cur.val > node.val:\n",
    "            pre.next = node\n",
    "            node.next = cur\n",
    "            break\n",
    "        else:\n",
    "            pre = pre.next\n",
    "            cur = cur.next\n",
    "    return dummy.next\n",
    "\n",
    "def insertionSortList(self, head):\n",
    "    # write your code here\n",
    "    if not head or not head.next:\n",
    "        return head\n",
    "\n",
    "    pre, cur = head, head.next\n",
    "    while cur:\n",
    "        if cur.val < pre.val:\n",
    "            node = cur\n",
    "            pre.next = cur.next\n",
    "            head = self.insert(head, node)\n",
    "            cur = pre.next\n",
    "        else:\n",
    "            pre = pre.next\n",
    "            cur = cur.next\n",
    "\n",
    "    return head"
   ]
  },
  {
   "cell_type": "markdown",
   "metadata": {},
   "source": [
    "### No.87 Add Two Numbers\n",
    "You have two numbers represented by a linked list, where each node contains a single digit. The digits are stored in reverse order, such that the 1's digit is at the head of the list. Write a function that adds the two numbers and returns the sum as a linked list.\n",
    "\n",
    "Example\n",
    "\n",
    "Given 7->1->6 + 5->9->2. That is, 617 + 295.\n",
    "\n",
    "Return 2->1->9. That is 912.\n",
    "\n",
    "Given 3->1->5 and 5->9->2, return 8->0->8.\n"
   ]
  },
  {
   "cell_type": "code",
   "execution_count": 3,
   "metadata": {
    "collapsed": true
   },
   "outputs": [],
   "source": [
    "# l1_val = 0 when not l1, else l1.val\n",
    "# in this case, there is not many if else\n",
    "\n",
    "def addLists(l1, l2):\n",
    "    dummy = ListNode(0)\n",
    "    cur = dummy\n",
    "    carry = 0\n",
    "    \n",
    "    while l1 or l2 or carry:\n",
    "        if l1 and l2:\n",
    "            node = ListNode((l1.val + l2.val + carry) % 10)\n",
    "            carry = (l1.val + l2.val + carry) / 10\n",
    "            l1, l2 = l1.next, l2.next\n",
    "        elif not l1 and l2:\n",
    "            node = ListNode((l2.val + carry) % 10)\n",
    "            carry = (l2.val + carry) / 10\n",
    "            l2 = l2.next\n",
    "        elif l1 and not l2:\n",
    "            node = ListNode((l1.val + carry) % 10)\n",
    "            carry = (l1.val + carry) / 10\n",
    "            l1 = l1.next\n",
    "        else:\n",
    "            node = ListNode(1)\n",
    "            carry = 0\n",
    "        cur.next = node\n",
    "        cur = cur.next\n",
    "    \n",
    "    return dummy.next"
   ]
  },
  {
   "cell_type": "markdown",
   "metadata": {},
   "source": [
    "### No.88 Nth to Last Node in List\n",
    "Find the nth to last element of a singly linked list. \n",
    "\n",
    "The minimum number of nodes in list is n.\n",
    "\n",
    "Example\n",
    "\n",
    "Given a List  3->2->1->5->null and n = 2, return node  whose value is 1."
   ]
  },
  {
   "cell_type": "code",
   "execution_count": null,
   "metadata": {
    "collapsed": true
   },
   "outputs": [],
   "source": [
    "def nthToLast(head, n):\n",
    "    slow, fast = head, head\n",
    "    \n",
    "    while n:\n",
    "        fast = fast.next\n",
    "        n -= 1\n",
    "    \n",
    "    while fast:\n",
    "        slow = slow.next\n",
    "        fast = fast.next\n",
    "    \n",
    "    return slow"
   ]
  },
  {
   "cell_type": "markdown",
   "metadata": {},
   "source": [
    "### No.89 Merge Two Sorted Lists\n",
    "Merge two sorted (ascending) linked lists and return it as a new sorted list. The new sorted list should be made by splicing together the nodes of the two lists and sorted in ascending order.\n",
    "\n",
    "Example\n",
    "\n",
    "Given 1->3->8->11->15->null, 2->null , return 1->2->3->8->11->15->null."
   ]
  },
  {
   "cell_type": "code",
   "execution_count": 4,
   "metadata": {
    "collapsed": true
   },
   "outputs": [],
   "source": [
    "def mergeTwoLists(l1, l2):\n",
    "    dummy = ListNode(0)\n",
    "    cur = dummy\n",
    "    \n",
    "    while l1 or l2:\n",
    "        if l1 and l2:\n",
    "            if l1.val < l2.val:\n",
    "                cur.next = l1\n",
    "                l1 = l1.next\n",
    "            else:\n",
    "                cur.next = l2\n",
    "                l2 = l2.next\n",
    "        elif l1:\n",
    "            cur.next = l1\n",
    "            l1 = l1.next\n",
    "        else:\n",
    "            cur.next = l2\n",
    "            l2 = l2.next\n",
    "        \n",
    "        cur = cur.next\n",
    "    \n",
    "    return dummy.next"
   ]
  },
  {
   "cell_type": "markdown",
   "metadata": {},
   "source": [
    "### No.90 Remove Duplicates from Sorted List\n",
    "Given a sorted linked list, delete all duplicates such that each element appear only once.\n",
    "\n",
    "Example\n",
    "\n",
    "Given 1->1->2, return 1->2.\n",
    "\n",
    "Given 1->1->2->3->3, return 1->2->3.\n"
   ]
  },
  {
   "cell_type": "code",
   "execution_count": 151,
   "metadata": {
    "collapsed": true
   },
   "outputs": [],
   "source": [
    "def deleteDuplicates(head):\n",
    "    if not head or not head.next:\n",
    "        return head\n",
    "    \n",
    "    pre, cur = head, head.next\n",
    "    while cur:\n",
    "        if pre.val == cur.val:\n",
    "            pre.next = cur.next\n",
    "        else:\n",
    "            pre = pre.next\n",
    "        cur = pre.next\n",
    "    \n",
    "    return head"
   ]
  },
  {
   "cell_type": "markdown",
   "metadata": {},
   "source": [
    "### No.91 Reverse Linked List\n",
    "Reverse a linked list.\n",
    "\n",
    "Example\n",
    "\n",
    "For linked list 1->2->3, the reversed linked list is 3->2->1"
   ]
  },
  {
   "cell_type": "code",
   "execution_count": 152,
   "metadata": {
    "collapsed": true
   },
   "outputs": [],
   "source": [
    "def reverse(head):\n",
    "    if not head or not head.next:\n",
    "        return head\n",
    "    \n",
    "    pre, cur = None, head\n",
    "    while cur:\n",
    "        temp = cur.next\n",
    "        cur.next = pre\n",
    "        pre = cur\n",
    "        cur = temp\n",
    "    \n",
    "    return pre"
   ]
  },
  {
   "cell_type": "markdown",
   "metadata": {},
   "source": [
    "### No.92 Swap Two Nodes in Linked List\n",
    "Given a linked list and two values v1 and v2. Swap the two nodes in the linked list with values v1 and v2. It's guaranteed there is no duplicate values in the linked list. If v1 or v2 does not exist in the given linked list, do nothing.\n",
    "\n",
    "Example\n",
    "\n",
    "Given 1->2->3->4->null and v1 = 2, v2 = 4.\n",
    "\n",
    "Return 1->4->3->2->null."
   ]
  },
  {
   "cell_type": "markdown",
   "metadata": {},
   "source": [
    "#### Thoughts:\n",
    "1. Do not forget to check value not in the list case!!\n",
    "2. Do not forget to return dummy.next instead of return head!"
   ]
  },
  {
   "cell_type": "code",
   "execution_count": 154,
   "metadata": {
    "collapsed": true
   },
   "outputs": [],
   "source": [
    "def swapNodes(head, v1, v2):\n",
    "    dummy = ListNode(0)\n",
    "    dummy.next = head\n",
    "    \n",
    "    pre, cur = dummy, head\n",
    "    c1, c2 = None, None\n",
    "    while cur:\n",
    "        if cur.val == v1:\n",
    "            p1, c1 = pre, cur\n",
    "        if cur.val == v2:\n",
    "            p2, c2 = pre, cur\n",
    "        pre = pre.next\n",
    "        cur = cur.next\n",
    "        \n",
    "    if not c1 or not c2:\n",
    "        return head\n",
    "    \n",
    "    # if adjacent\n",
    "    if c1 is c2.next:\n",
    "        temp = c1.next\n",
    "        p2.next = c1\n",
    "        c1.next = c2\n",
    "        c2.next = temp\n",
    "    elif c2 is c1.next:\n",
    "        temp = c2.next\n",
    "        p1.next = c2\n",
    "        c2.next = c1\n",
    "        c1.next = temp\n",
    "    else:\n",
    "        t1, t2 = c1.next, c2.next\n",
    "        p1.next = c2\n",
    "        c2.next = t1\n",
    "        p2.next = c1\n",
    "        c1.next = t2\n",
    "    \n",
    "    return dummy.next"
   ]
  },
  {
   "cell_type": "markdown",
   "metadata": {},
   "source": [
    "### No.93 Add Two Numbers II\n",
    "\n",
    "You have two numbers represented by a linked list, where each node contains a single digit. The digits are stored in forward order, such that the 1's digit is at the head of the list. Write a function that adds the two numbers and returns the sum as a linked list.\n",
    "\n",
    "Example\n",
    "\n",
    "Given 6->1->7 + 2->9->5. That is, 617 + 295.\n",
    "\n",
    "Return 9->1->2. That is, 912."
   ]
  },
  {
   "cell_type": "code",
   "execution_count": 156,
   "metadata": {
    "collapsed": true
   },
   "outputs": [],
   "source": [
    "def reverseList(head):\n",
    "    if not head or not head.next:\n",
    "        return head\n",
    "    \n",
    "    pre, cur = None, head\n",
    "    while cur:\n",
    "        temp = cur.next\n",
    "        cur.next = pre\n",
    "        pre = cur\n",
    "        cur = temp\n",
    "        \n",
    "    return pre\n",
    "\n",
    "def addList1(l1, l2):\n",
    "    dummy = ListNode(0)\n",
    "    cur = dummy\n",
    "    carry = 0\n",
    "    \n",
    "    while l1 or l2 or carry:\n",
    "        if l1 and l2:\n",
    "            node = ListNode((l1.val + l2.val + carry) % 10)\n",
    "            carry = (l1.val + l2.val + carry) / 10\n",
    "            l1, l2 = l1.next, l2.next\n",
    "        elif l1:\n",
    "            node = ListNode((l1.val + carry) % 10)\n",
    "            carry = (l1.val + carry) / 10\n",
    "            l1 = l1.next\n",
    "        elif l2:\n",
    "            node = ListNode((l2.val + carry) % 10)\n",
    "            carry = (l2.val + carry) / 10\n",
    "            l2 = l2.next\n",
    "        else:\n",
    "            node = ListNode(1)\n",
    "            carry = 0\n",
    "        \n",
    "        cur.next = node\n",
    "        cur = cur.next\n",
    "    \n",
    "    return dummy.next\n",
    "            \n",
    "        \n",
    "\n",
    "def addList2(l1, l2):\n",
    "    l1r = reverseList(l1)\n",
    "    l2r = reverseList(l2)\n",
    "    \n",
    "    res = addList1(l1r, l2r)\n",
    "    \n",
    "    return reverseList(res)"
   ]
  },
  {
   "cell_type": "markdown",
   "metadata": {},
   "source": [
    "### No.94 Palindrome Linked List\n",
    "Implement a function to check if a linked list is a palindrome.\n",
    "\n",
    "Example\n",
    "\n",
    "Given 1->2->1, return true"
   ]
  },
  {
   "cell_type": "code",
   "execution_count": 157,
   "metadata": {
    "collapsed": true
   },
   "outputs": [],
   "source": [
    "def reverse(head):\n",
    "    if not head or not head.next:\n",
    "        return head\n",
    "    \n",
    "    pre, cur = None, head\n",
    "    while cur:\n",
    "        temp= cur.next\n",
    "        cur.next = pre\n",
    "        pre = cur\n",
    "        cur = temp\n",
    "    \n",
    "    return pre\n",
    "\n",
    "def findMid(head):\n",
    "    if not head or not head.next:\n",
    "        return head\n",
    "\n",
    "    slow, fast = head, head.next\n",
    "    while fast and fast.next:\n",
    "        slow= slow.next\n",
    "        fast = fast.next.next\n",
    "    \n",
    "    return slow\n",
    "    \n",
    "def isPalindrome(head):\n",
    "    if not head or not head.next:\n",
    "        return True\n",
    "    \n",
    "    mid = findMid(head)\n",
    "    left, right = head, mid.next\n",
    "    mid.next = None\n",
    "    right = reverse(right)\n",
    "    \n",
    "    while right:\n",
    "        if left.val == right.val:\n",
    "            left = left.next\n",
    "            right = right.next\n",
    "            continue\n",
    "        return False\n",
    "    \n",
    "    return True"
   ]
  },
  {
   "cell_type": "markdown",
   "metadata": {},
   "source": [
    "### No.95 Convert Binary Search Tree to Doubly Linked List\n",
    "Convert a binary search tree to doubly linked list with in-order traversal.\n",
    "\n",
    "Example\n",
    "\n",
    "Given a binary search tree:\n",
    "```python\n",
    "    4\n",
    "   / \\\n",
    "  2   5\n",
    " / \\\n",
    "1   3\n",
    "return 1<->2<->3<->4<->5\n",
    "```"
   ]
  },
  {
   "cell_type": "markdown",
   "metadata": {},
   "source": [
    "#### Thoughts:\n",
    "#### Inorder Iterative Solution\n",
    "    1. put root as temp\n",
    "    2. put temp, temp,s left child ... to the stack\n",
    "    3. pop stack\n",
    "    4. put new temp as pop node's right child"
   ]
  },
  {
   "cell_type": "code",
   "execution_count": 159,
   "metadata": {
    "collapsed": true
   },
   "outputs": [],
   "source": [
    "\"\"\"\n",
    "Definition of TreeNode:\n",
    "class TreeNode:\n",
    "    def __init__(self, val):\n",
    "        this.val = val\n",
    "        this.left, this.right = None, None\n",
    "Definition of Doubly-ListNode\n",
    "class DoublyListNode(object):\n",
    "\n",
    "    def __init__(self, val, next=None):\n",
    "        self.val = val\n",
    "        self.next = self.prev = next\n",
    "\"\"\"\n",
    "\n",
    "class Solution:\n",
    "    \"\"\"\n",
    "    @param root, the root of tree\n",
    "    @return: a doubly list node\n",
    "    \"\"\"\n",
    "    def bstToDoublyList(self, root):\n",
    "        # Write your code here\n",
    "        if not root:\n",
    "            return None\n",
    "        \n",
    "        stack = []\n",
    "        temp = root\n",
    "        dummy = ListNode(0)\n",
    "        cur = dummy\n",
    "\n",
    "        while stack or temp:\n",
    "            while temp is not None:\n",
    "                stack.append(temp.val)\n",
    "                temp = temp.left\n",
    "            \n",
    "            node = ListNode(stack.pop())\n",
    "            cur.next, node.prev = node, cur\n",
    "            cur = cur.next\n",
    "            \n",
    "            temp = temp.right\n",
    "        \n",
    "        return dummy.next"
   ]
  },
  {
   "cell_type": "markdown",
   "metadata": {},
   "source": [
    "### No.96 Rotate List\n",
    "Given a list, rotate the list to the right by k places, where k is non-negative.\n",
    "\n",
    "Example\n",
    "\n",
    "Given 1->2->3->4->5 and k = 2, return 4->5->1->2->3."
   ]
  },
  {
   "cell_type": "markdown",
   "metadata": {},
   "source": [
    "### Note! if k % leng == 0, no need to rotate and return head!"
   ]
  },
  {
   "cell_type": "code",
   "execution_count": 162,
   "metadata": {
    "collapsed": true
   },
   "outputs": [],
   "source": [
    "def rotateRight(head, k):\n",
    "    if not head or not head.next:\n",
    "        return head\n",
    "    \n",
    "    # calculate length\n",
    "    leng = 0\n",
    "    cur = head\n",
    "    \n",
    "    while cur:\n",
    "        leng += 1\n",
    "        cur = cur.next\n",
    "    \n",
    "    # calculate actual move\n",
    "    k = k % leng\n",
    "    \n",
    "    # otherwise newHead will be None!!!!!\n",
    "    if k == 0:\n",
    "        return head\n",
    "    \n",
    "    slow, fast = head, head\n",
    "    while k:\n",
    "        k -= 1\n",
    "        fast = fast.next\n",
    "    \n",
    "    while fast.next:\n",
    "        slow = slow.next\n",
    "        fast = fast.next\n",
    "    \n",
    "    # at this point, slow points to the new head\n",
    "    newHead = slow.next\n",
    "    slow.next = None\n",
    "    fast.next = head\n",
    "    \n",
    "    return newHead"
   ]
  },
  {
   "cell_type": "markdown",
   "metadata": {},
   "source": [
    "### No.97 Linked List Cycle\n",
    "Given a linked list, determine if it has a cycle in it.\n",
    "\n",
    "Example\n",
    "\n",
    "Given -21->10->4->5, tail connects to node index 1, return true"
   ]
  },
  {
   "cell_type": "code",
   "execution_count": 163,
   "metadata": {
    "collapsed": true
   },
   "outputs": [],
   "source": [
    "def hasCycle(head):\n",
    "    if not head:\n",
    "        return False\n",
    "    \n",
    "    slow, fast = head, head.next\n",
    "    while fast and fast.next:\n",
    "        if slow is fast:\n",
    "            return True\n",
    "        slow = slow.next\n",
    "        fast = fast.next.next\n",
    "    \n",
    "    return False"
   ]
  },
  {
   "cell_type": "markdown",
   "metadata": {},
   "source": [
    "### No.98 Reverse Nodes in k-Group\n",
    "Given a linked list, reverse the nodes of a linked list k at a time and return its modified list.\n",
    "\n",
    "If the number of nodes is not a multiple of k then left-out nodes in the end should remain as it is.\n",
    "\n",
    "You may not alter the values in the nodes, only nodes itself may be changed.\n",
    "Only constant memory is allowed.\n",
    "\n",
    "Example\n",
    "\n",
    "Given this linked list: 1->2->3->4->5\n",
    "\n",
    "For k = 2, you should return: 2->1->4->3->5\n",
    "\n",
    "For k = 3, you should return: 3->2->1->4->5\n"
   ]
  },
  {
   "cell_type": "code",
   "execution_count": 1,
   "metadata": {
    "collapsed": true
   },
   "outputs": [],
   "source": [
    "def reverse(head):\n",
    "    if not head or not head.next:\n",
    "        return head\n",
    "    \n",
    "    pre, cur = None, head\n",
    "    while cur:\n",
    "        temp = cur.next\n",
    "        cur.next = pre\n",
    "        pre = cur\n",
    "        cur = temp\n",
    "    \n",
    "    return pre\n",
    "\n",
    "def reverseKGroup(head, k):\n",
    "    if not head or not head.next:\n",
    "        return head\n",
    "    \n",
    "    dummy = ListNode(0)\n",
    "    dummy.next = head\n",
    "    \n",
    "    pre, cur = dummy, head\n",
    "    while cur:\n",
    "        n = k\n",
    "        while n - 1:\n",
    "            if not cur:\n",
    "                break\n",
    "            cur = cur.next\n",
    "            n -= 1\n",
    "        if not cur:\n",
    "            break\n",
    "        afterCur = cur.next\n",
    "        afterPre = pre.next\n",
    "        cur.next = None\n",
    "        pre.next = reverse(pre.next)\n",
    "        afterPre.next = afterCur\n",
    "        pre, cur = afterPre, afterCur\n",
    "    \n",
    "    return dummy.next"
   ]
  },
  {
   "cell_type": "markdown",
   "metadata": {},
   "source": [
    "### No.99 Subarray Sum\n",
    "Given an integer array, find a subarray where the sum of numbers is zero. Your code should return the index of the first number and the index of the last number.\n",
    "\n",
    "Example\n",
    "\n",
    "Given [-3, 1, 2, -3, 4], return [0, 2] or [1, 3]."
   ]
  },
  {
   "cell_type": "code",
   "execution_count": 8,
   "metadata": {
    "collapsed": false
   },
   "outputs": [],
   "source": [
    "# Brute Force\n",
    "def subarraySum(nums):\n",
    "    for i in xrange(len(nums)):\n",
    "        for j in xrange(i + 1, len(nums) + 1):\n",
    "            if sum(nums[i:j]) == 0:\n",
    "                return [i, j - 1]\n",
    "    \n",
    "    return None"
   ]
  },
  {
   "cell_type": "code",
   "execution_count": null,
   "metadata": {
    "collapsed": true
   },
   "outputs": [],
   "source": [
    "# Using prefix Sum, change this problem to 2 SUM\n",
    "def subarraySum(self, nums):\n",
    "    # write your code here\n",
    "    prefixSum = [0 for i in xrange(len(nums) + 1)]\n",
    "    localSum = 0\n",
    "    for i in xrange(1, len(prefixSum)):\n",
    "        localSum += nums[i - 1]\n",
    "        prefixSum[i] = localSum\n",
    "\n",
    "    D = dict()\n",
    "    D[0] = 0\n",
    "\n",
    "    for i in xrange(1, len(prefixSum)):\n",
    "        if D.get(prefixSum[i]) is not None:\n",
    "            return [D.get(prefixSum[i]), i - 1]\n",
    "        else:\n",
    "            D[prefixSum[i]] = i\n",
    "\n",
    "    return None"
   ]
  },
  {
   "cell_type": "markdown",
   "metadata": {},
   "source": [
    "### No.100 Merge Sorted Array\n",
    "Given two sorted integer arrays A and B, merge B into A as one sorted array.\n",
    "\n",
    "Example\n",
    "\n",
    "A = [1, 2, 3, empty, empty], B = [4, 5]\n",
    "\n",
    "After merge, A will be filled as [1, 2, 3, 4, 5]"
   ]
  },
  {
   "cell_type": "code",
   "execution_count": 10,
   "metadata": {
    "collapsed": true
   },
   "outputs": [],
   "source": [
    "def mergeSortedArray(A, m, B, n):\n",
    "    posA, posB = m - 1, n - 1\n",
    "    pos = len(A) - 1\n",
    "\n",
    "    while pos >= 0:\n",
    "        if posA < 0:\n",
    "            A[pos] = B[posB]\n",
    "            posB -= 1\n",
    "        elif posB < 0:\n",
    "            A[pos] = A[posA]\n",
    "            posA -= 1\n",
    "        elif A[posA] > B[posB]:\n",
    "            A[pos] = A[posA]\n",
    "            posA -= 1\n",
    "        else:\n",
    "            A[pos] = B[posB]\n",
    "            posB -= 1\n",
    "        pos -= 1\n",
    "\n",
    "    return A"
   ]
  },
  {
   "cell_type": "markdown",
   "metadata": {},
   "source": [
    "### No.101 Maximum Subarray\n",
    "Given an array of integers, find a contiguous subarray which has the largest sum.\n",
    "\n",
    "Example\n",
    "\n",
    "Given the array [−2,2,−3,4,−1,2,1,−5,3], the contiguous subarray [4,−1,2,1] has the largest sum = 6."
   ]
  },
  {
   "cell_type": "code",
   "execution_count": null,
   "metadata": {
    "collapsed": true
   },
   "outputs": [],
   "source": [
    "def maxSubArray(nums):\n",
    "    localMax, ret = 0, -sys.maxint\n",
    "    for i in xrange(len(nums)):\n",
    "        localMax += nums[i]\n",
    "        ret = max(localMax, ret)\n",
    "        if localMax < 0:\n",
    "            localMax = 0\n",
    "\n",
    "    return ret"
   ]
  },
  {
   "cell_type": "markdown",
   "metadata": {},
   "source": [
    "### No.102 Sort Colors\n",
    "Given an array with n objects colored red, white or blue, sort them so that objects of the same color are adjacent, with the colors in the order red, white and blue.\n",
    "\n",
    "Here, we will use the integers 0, 1, and 2 to represent the color red, white, and blue respectively.\n",
    "\n",
    "Example\n",
    "\n",
    "Given [1, 0, 1, 2], sort it in-place to [0, 1, 1, 2].\n"
   ]
  },
  {
   "cell_type": "code",
   "execution_count": 173,
   "metadata": {
    "collapsed": false
   },
   "outputs": [
    {
     "name": "stdout",
     "output_type": "stream",
     "text": [
      "[0, 0, 1, 2, 2]\n"
     ]
    }
   ],
   "source": [
    "def sortColors(nums):\n",
    "    numZero, numTwo = 0, 0\n",
    "    index = 0\n",
    "    while index < len(nums) - numTwo:\n",
    "        if nums[index] == 0:\n",
    "            swap(nums, numZero, index)\n",
    "            index += 1\n",
    "            numZero += 1\n",
    "        elif nums[index] == 1:\n",
    "            index += 1\n",
    "        else:\n",
    "            swap(nums, len(nums) - 1 - numTwo, index)\n",
    "            numTwo += 1\n",
    "        #print(nums)\n",
    "            \n",
    "    return nums\n",
    "            \n",
    "def swap(nums, i, j):\n",
    "    temp = nums[i]\n",
    "    nums[i] = nums[j]\n",
    "    nums[j] = temp\n",
    "    \n",
    "A = [2, 0, 1, 0, 2]\n",
    "print(sortColors(A))\n",
    "    "
   ]
  },
  {
   "cell_type": "markdown",
   "metadata": {},
   "source": [
    "### No.103 Subarray Sum Closest\n",
    "Given an integer array, find a subarray with sum closest to zero. Return the indexes of the first number and last number.\n",
    "\n",
    "Example\n",
    "\n",
    "Given [-3, 1, 1, -3, 5], return [0, 2], [1, 3], [1, 1], [2, 2] or [0, 4]"
   ]
  },
  {
   "cell_type": "code",
   "execution_count": 202,
   "metadata": {
    "collapsed": false
   },
   "outputs": [
    {
     "name": "stdout",
     "output_type": "stream",
     "text": [
      "[4, 4]\n"
     ]
    }
   ],
   "source": [
    "import sys\n",
    "def subarraySumClosest(nums):\n",
    "    if not nums:\n",
    "        return []\n",
    "    \n",
    "    if len(nums) == 1:\n",
    "        return [0, 0]\n",
    "    \n",
    "    prefixSum = [0 for i in xrange(len(nums))]\n",
    "    \n",
    "    sumValue = 0\n",
    "    for i in xrange(len(nums)):\n",
    "        sumValue += nums[i]\n",
    "        prefixSum[i] = sumValue\n",
    "    \n",
    "    sortSum = prefixSum[:]\n",
    "    sortSum.sort()\n",
    "    \n",
    "    pos, minDiff = 1, sys.maxint\n",
    "    for i in xrange(1, len(sortSum)):\n",
    "        diff = sortSum[i] - sortSum[i - 1]\n",
    "        if diff < minDiff:\n",
    "            minDiff = diff\n",
    "            pos = i\n",
    "    \n",
    "    start, end = sortSum[pos - 1], sortSum[pos]\n",
    "    #print(prefixSum, sortSum, minDiff, start, end, pos)\n",
    "    \n",
    "    p1 = -1\n",
    "    for i in xrange(len(prefixSum)):\n",
    "        if prefixSum[i] == start and p1 == -1:\n",
    "            p1 = i\n",
    "        elif prefixSum[i] == end:\n",
    "            p2 = i\n",
    "    \n",
    "    # print (p1, p2)\n",
    "    if p1 < p2:\n",
    "        return [p1 + 1, p2]\n",
    "    else:\n",
    "        return [p2 + 1, p1]\n",
    "    \n",
    "A = [6, -4, -8, 3, 1, 7]\n",
    "print (subarraySumClosest(A))\n",
    "    \n",
    "        \n",
    "    "
   ]
  },
  {
   "cell_type": "markdown",
   "metadata": {},
   "source": [
    "### No.104 3Sum Closest\n",
    "Given an array S of n integers, find three integers in S such that the sum is closest to a given number, target. Return the sum of the three integers.\n",
    "\n",
    "Example\n",
    "\n",
    "For example, given array S = {-1 2 1 -4}, and target = 1. The sum that is closest to the target is 2. (-1 + 2 + 1 = 2)."
   ]
  },
  {
   "cell_type": "markdown",
   "metadata": {},
   "source": [
    "#### Using Subsets to solve this problem, too slow!\n",
    "#### Only use subsets when they need to print out all answers!"
   ]
  },
  {
   "cell_type": "code",
   "execution_count": 223,
   "metadata": {
    "collapsed": false
   },
   "outputs": [],
   "source": [
    "import sys\n",
    "def helper(nums, pos, path, ret, target):\n",
    "    if len(path) > 3:\n",
    "        return\n",
    "    \n",
    "    if len(path) == 3:\n",
    "        if abs(sum(path) - target) < abs(ret[0] - target):\n",
    "            ret[0] = sum(path)\n",
    "        return\n",
    "    \n",
    "    for i in xrange(pos, len(nums)):\n",
    "        path.append(nums[i])\n",
    "        helper(nums, i + 1, path, ret, target)\n",
    "        path.pop()\n",
    "\n",
    "\n",
    "def threeSumClosest(nums, target):\n",
    "    if not nums or len(nums) < 3:\n",
    "        return None\n",
    "    \n",
    "    ret = [sys.maxint]\n",
    "    path = []\n",
    "    helper(nums, 0, path, ret, target)\n",
    "    return ret[0]"
   ]
  },
  {
   "cell_type": "markdown",
   "metadata": {},
   "source": [
    "#### Two Pointers Solution"
   ]
  },
  {
   "cell_type": "code",
   "execution_count": 222,
   "metadata": {
    "collapsed": false
   },
   "outputs": [
    {
     "name": "stdout",
     "output_type": "stream",
     "text": [
      "23\n"
     ]
    }
   ],
   "source": [
    "def twoSumClosest(nums, target):\n",
    "    if not nums or len(nums) < 2:\n",
    "        return None\n",
    "    \n",
    "    nums.sort()\n",
    "    \n",
    "    start, end = 0, len(nums) - 1\n",
    "    ret = sys.maxint\n",
    "    while start < end:\n",
    "        localSum = nums[start] + nums[end]\n",
    "        if abs(localSum - target) < abs(ret - target):\n",
    "            ret = localSum\n",
    "        \n",
    "        if localSum == target:\n",
    "            return target\n",
    "        elif localSum > target:\n",
    "            end -= 1\n",
    "        else:\n",
    "            start += 1\n",
    "    return ret\n",
    "\n",
    "def threeSumClosest(nums, target):\n",
    "    if not nums or len(nums) < 3:\n",
    "        return None\n",
    "    \n",
    "    nums.sort()\n",
    "    ret = sys.maxint\n",
    "    for i in xrange(len(nums)):\n",
    "        A = nums[:]\n",
    "        A.pop(i)\n",
    "        temp = twoSumClosest(A, target - nums[i])\n",
    "        if abs(temp + nums[i] - target) < abs(ret - target):\n",
    "            ret = temp + nums[i]\n",
    "    return ret\n",
    "\n",
    "A = [1, 2, 3, 4, 20]\n",
    "print(threeSumClosest(A, 19))"
   ]
  },
  {
   "cell_type": "markdown",
   "metadata": {},
   "source": [
    "### No.105 Two Sum\n",
    "Given an array of integers, find two numbers such that they add up to a specific target number.\n",
    "\n",
    "The function twoSum should return indices of the two numbers such that they add up to the target, where index1 must be less than index2. Please note that your returned answers (both index1 and index2) are NOT zero-based.\n",
    "\n",
    "Example\n",
    "\n",
    "numbers=[2, 7, 11, 15], target=9\n",
    "\n",
    "return [1, 2]"
   ]
  },
  {
   "cell_type": "code",
   "execution_count": 224,
   "metadata": {
    "collapsed": true
   },
   "outputs": [],
   "source": [
    "def twoSum(nums, target):\n",
    "    if not nums:\n",
    "        return None\n",
    "    \n",
    "    D = dict()\n",
    "    for i in xrange(len(nums)):\n",
    "        if D.get(target - nums[i]) is not None:\n",
    "            return [D.get(target - nums[i]) + 1, i + 1]\n",
    "        D[nums[i]] = i\n",
    "    \n",
    "    return None"
   ]
  },
  {
   "cell_type": "markdown",
   "metadata": {},
   "source": [
    "### No.106 Maximum Subarray II\n",
    "Given an array of integers, find two non-overlapping subarrays which have the largest sum.\n",
    "The number in each subarray should be contiguous.\n",
    "Return the largest sum.\n",
    "\n",
    "Example\n",
    "\n",
    "For given [1, 3, -1, 2, -1, 2], the two subarrays are [1, 3] and [2, -1, 2] or [1, 3, -1, 2] and [2], they both have the largest sum 7.\n"
   ]
  },
  {
   "cell_type": "code",
   "execution_count": 236,
   "metadata": {
    "collapsed": false
   },
   "outputs": [
    {
     "name": "stdout",
     "output_type": "stream",
     "text": [
      "[-9223372036854775807, 1, 4, 4, 5, 5, 6] [6, 5, 3, 3, 2, 2, -9223372036854775807]\n",
      "7\n"
     ]
    }
   ],
   "source": [
    "def maxTwoSubArrays(nums):\n",
    "    if not nums or len(nums) < 2:\n",
    "        return None\n",
    "    \n",
    "    leftMax = [-sys.maxint for i in xrange(len(nums) + 1)]\n",
    "    rightMax = [-sys.maxint for i in xrange(len(nums) + 1)]\n",
    "    \n",
    "    localSum = 0\n",
    "    for i in xrange(1, len(nums) + 1):\n",
    "        localSum += nums[i - 1]\n",
    "        leftMax[i] = max(leftMax[i - 1], localSum)\n",
    "        if localSum < 0:\n",
    "            localSum = 0\n",
    "    \n",
    "    localSum = 0\n",
    "    for i in reversed(xrange(0, len(nums))):\n",
    "        localSum += nums[i]\n",
    "        rightMax[i] = max(rightMax[i + 1], localSum)\n",
    "        if localSum < 0:\n",
    "            localSum = 0\n",
    "    \n",
    "    ret = -sys.maxint\n",
    "    for i in xrange(1, len(nums)):\n",
    "        localMax = leftMax[i] + rightMax[i]\n",
    "        ret = max(ret, localMax)\n",
    "        \n",
    "    print(leftMax, rightMax)\n",
    "    \n",
    "    return ret\n",
    "            \n",
    "    \n",
    "\n",
    "A = [1,3,-1,2,-1,2]\n",
    "print(maxTwoSubArrays(A))\n",
    "        \n",
    "    \n",
    "    "
   ]
  },
  {
   "cell_type": "markdown",
   "metadata": {},
   "source": [
    "### No.107 Partition Array\n",
    "\n",
    "Given an array nums of integers and an int k, partition the array (i.e move the elements in \"nums\") such that:\n",
    "\n",
    "All elements < k are moved to the left\n",
    "All elements >= k are moved to the right\n",
    "Return the partitioning index, i.e the first index i nums[i] >= k.\n",
    "\n",
    " Notice\n",
    "\n",
    "You should do really partition in array nums instead of just counting the numbers of integers smaller than k.\n",
    "\n",
    "If all elements in nums are smaller than k, then return nums.length\n",
    "\n",
    "Example\n",
    "\n",
    "If nums = [3,2,2,1] and k=2, a valid answer is 1."
   ]
  },
  {
   "cell_type": "code",
   "execution_count": 278,
   "metadata": {
    "collapsed": false
   },
   "outputs": [
    {
     "name": "stdout",
     "output_type": "stream",
     "text": [
      "[1, 1, 5, 2, 4, 3, 3]\n",
      "2\n"
     ]
    }
   ],
   "source": [
    "def partitionArray(nums, target):\n",
    "    if not nums:\n",
    "        return 0\n",
    "\n",
    "    start, end = 0, len(nums) - 1\n",
    "    while start < end:\n",
    "\n",
    "        while nums[start] < target and end > start:\n",
    "            start += 1\n",
    "\n",
    "        if start >= len(nums) - 1:\n",
    "            print(nums)\n",
    "            return len(nums)\n",
    "\n",
    "        while nums[end] >= target and end > start:\n",
    "            end -= 1\n",
    "\n",
    "        if start == end:\n",
    "            print(nums)\n",
    "            return start\n",
    "        # swap\n",
    "        temp = nums[start]\n",
    "        nums[start] = nums[end]\n",
    "        nums[end] = temp\n",
    "        print(nums)\n",
    "\n",
    "    print(nums)\n",
    "    return start\n",
    "\n",
    "A = [1, 1, 5 ,2 ,4, 3 , 3]\n",
    "print(partitionArray(A, 2122))"
   ]
  },
  {
   "cell_type": "markdown",
   "metadata": {
    "collapsed": true
   },
   "source": [
    "## Revisit!\n",
    "### No.108 Median of two Sorted Arrays\n",
    "There are two sorted arrays A and B of size m and n respectively. Find the median of the two sorted arrays.\n",
    "\n",
    "Example\n",
    "\n",
    "Given A=[1,2,3,4,5,6] and B=[2,3,4,5], the median is 3.5.\n",
    "\n",
    "Given A=[1,2,3] and B=[4,5], the median is 3.\n"
   ]
  },
  {
   "cell_type": "code",
   "execution_count": 1,
   "metadata": {
    "collapsed": false
   },
   "outputs": [
    {
     "name": "stdout",
     "output_type": "stream",
     "text": [
      "5\n"
     ]
    }
   ],
   "source": [
    "def findKth(A, B, k):\n",
    "    if not A:\n",
    "        return B[k - 1]\n",
    "    if not B:\n",
    "        return A[k - 1]\n",
    "    if k == 1:\n",
    "        return min(A[0], B[0])\n",
    "    \n",
    "    a = A[k / 2 - 1] if len(A) >= k / 2 else None\n",
    "    b = B[k / 2 - 1] if len(B) >= k / 2 else None\n",
    "    \n",
    "    if b is None or (a is not None and a < b):\n",
    "        return findKth(A[k / 2:], B, k - k / 2)\n",
    "    \n",
    "    return findKth(A, B[k / 2:], k - k / 2)\n",
    "    \n",
    "    \n",
    "\n",
    "def findMedianSortedArrays(A, B):\n",
    "    \n",
    "    lenA, lenB = len(A), len(B)\n",
    "    \n",
    "    if (lenA + lenB) % 2 == 1:\n",
    "        return findKth(A, B, (lenA + lenB) / 2 + 1)\n",
    "    else:\n",
    "        first = findKth(A, B, (lenA + lenB) / 2)\n",
    "        second = findKth(A, B, (lenA + lenB) / 2 + 1)\n",
    "        return (first + second) / 2.0\n",
    "\n",
    "A = [1, 2]\n",
    "B = [3, 5, 7, 9, 11]\n",
    "print(findMedianSortedArrays(A, B))\n",
    "\n"
   ]
  },
  {
   "cell_type": "markdown",
   "metadata": {
    "collapsed": false
   },
   "source": [
    "### No.109 O(1) Check Power of 2\n",
    "\n",
    "Using O(1) time to check whether an integer n is a power of 2.\n",
    "\n",
    "Example\n",
    "\n",
    "For n=4, return true;\n",
    "\n",
    "For n=5, return false;"
   ]
  },
  {
   "cell_type": "code",
   "execution_count": 5,
   "metadata": {
    "collapsed": false
   },
   "outputs": [],
   "source": [
    "def checkPowerOf2(n):\n",
    "    if n == 0 or n == 1:\n",
    "        return True\n",
    "    \n",
    "    return not (n & (n - 1))"
   ]
  },
  {
   "cell_type": "markdown",
   "metadata": {},
   "source": [
    "### No.110 Sqrt(x)\n",
    "Implement int sqrt(int x).\n",
    "\n",
    "Compute and return the square root of x.\n",
    "\n",
    "Example\n",
    "\n",
    "sqrt(3) = 1\n",
    "\n",
    "sqrt(4) = 2\n",
    "\n",
    "sqrt(5) = 2\n",
    "\n",
    "sqrt(10) = 3"
   ]
  },
  {
   "cell_type": "code",
   "execution_count": 14,
   "metadata": {
    "collapsed": false
   },
   "outputs": [],
   "source": [
    "def sqrt(x):\n",
    "    if x == 0:\n",
    "        return 0\n",
    "    \n",
    "    if x == 1:\n",
    "        return 1\n",
    "    \n",
    "    start, end = 0, x - 1\n",
    "    while start + 1 < end:\n",
    "        mid = start + (end - start) / 2\n",
    "        if mid * mid == x:\n",
    "            return mid\n",
    "        elif mid * mid < x:\n",
    "            start = mid\n",
    "        else:\n",
    "            end = mid\n",
    "    \n",
    "    return start"
   ]
  },
  {
   "cell_type": "markdown",
   "metadata": {},
   "source": [
    "### No.111 Single Number\n",
    "Given 2*n + 1 numbers, every numbers occurs twice except one, find it.\n",
    "\n",
    "Example\n",
    "\n",
    "Given [1,2,2,1,3,4,3], return 4"
   ]
  },
  {
   "cell_type": "code",
   "execution_count": 16,
   "metadata": {
    "collapsed": false
   },
   "outputs": [
    {
     "name": "stdout",
     "output_type": "stream",
     "text": [
      "4\n"
     ]
    }
   ],
   "source": [
    "def singleNumber(A):\n",
    "    \n",
    "    ret = 0\n",
    "    for i in xrange(len(A)):\n",
    "        ret = ret^A[i]\n",
    "    \n",
    "    return ret\n",
    "\n",
    "A = [1, 2, 2, 1, 3, 4, 3]\n",
    "print(singleNumber(A))"
   ]
  },
  {
   "cell_type": "markdown",
   "metadata": {},
   "source": [
    "### No.112 Majority Number\n",
    "Given an array of integers, the majority number is the number that occurs more than half of the size of the array. Find it.\n",
    "\n",
    "Example\n",
    "\n",
    "Given [1, 1, 1, 1, 2, 2, 2], return 1"
   ]
  },
  {
   "cell_type": "code",
   "execution_count": 20,
   "metadata": {
    "collapsed": false
   },
   "outputs": [
    {
     "name": "stdout",
     "output_type": "stream",
     "text": [
      "1\n"
     ]
    }
   ],
   "source": [
    "def majorityNumber(nums):\n",
    "    if not nums:\n",
    "        return None\n",
    "    \n",
    "    count, majorIndex = 0, 0\n",
    "    \n",
    "    for i in xrange(len(nums)):\n",
    "        if nums[i] == nums[majorIndex]:\n",
    "            count += 1\n",
    "        else:\n",
    "            count -= 1\n",
    "        \n",
    "        if count < 0:\n",
    "            majorIndex = i\n",
    "    \n",
    "    return nums[majorIndex]\n",
    "\n",
    "A = [1, 1, 2, 2, 4, 1, 1, 1, 1, 4, 5, 1, 1, 1, 1]\n",
    "print(majorityNumber(A))"
   ]
  },
  {
   "cell_type": "markdown",
   "metadata": {},
   "source": [
    "### No.113 Minimum Subarray\n",
    "Given an array of integers, find the subarray with smallest sum.\n",
    "\n",
    "Return the sum of the subarray.\n",
    "\n",
    "For [1, -1, -2, 1], return -3"
   ]
  },
  {
   "cell_type": "code",
   "execution_count": 21,
   "metadata": {
    "collapsed": false
   },
   "outputs": [
    {
     "name": "stdout",
     "output_type": "stream",
     "text": [
      "-3\n"
     ]
    }
   ],
   "source": [
    "import sys\n",
    "def minSubArray(nums):\n",
    "    ret = sys.maxint\n",
    "    localSum = 0\n",
    "    for i in xrange(len(nums)):\n",
    "        localSum += nums[i]\n",
    "        ret = min(ret, localSum)\n",
    "        if localSum > 0:\n",
    "            localSum = 0\n",
    "    \n",
    "    return ret\n",
    "\n",
    "A = [1, -1, -2, 1]\n",
    "print(minSubArray(A))"
   ]
  },
  {
   "cell_type": "markdown",
   "metadata": {},
   "source": [
    "### No.114 Merge Sorted Array II\n",
    "Merge two given sorted integer array A and B into a new sorted integer array.\n",
    "\n",
    "Example\n",
    "\n",
    "A=[1,2,3,4]\n",
    "\n",
    "B=[2,4,5,6]\n",
    "\n",
    "return [1,2,2,3,4,4,5,6]"
   ]
  },
  {
   "cell_type": "code",
   "execution_count": 22,
   "metadata": {
    "collapsed": false
   },
   "outputs": [
    {
     "name": "stdout",
     "output_type": "stream",
     "text": [
      "[1, 2, 2, 3, 4, 4, 5, 6]\n"
     ]
    }
   ],
   "source": [
    "def mergeSortedArray(A, B):\n",
    "    \n",
    "    ret = []\n",
    "    posA, posB = 0, 0\n",
    "    \n",
    "    while posA < len(A) or posB < len(B):\n",
    "        if posA >= len(A):\n",
    "            ret.append(B[posB])\n",
    "            posB += 1\n",
    "        elif posB >= len(B):\n",
    "            ret.append(A[posA])\n",
    "            posA += 1\n",
    "        elif A[posA] <= B[posB]:\n",
    "            ret.append(A[posA])\n",
    "            posA += 1\n",
    "        else:\n",
    "            ret.append(B[posB])\n",
    "            posB += 1\n",
    "    \n",
    "    return ret\n",
    "\n",
    "A = [1, 2, 3, 4]\n",
    "B = [2, 4, 5, 6]\n",
    "print (mergeSortedArray(A, B))\n",
    "    "
   ]
  },
  {
   "cell_type": "markdown",
   "metadata": {},
   "source": [
    "### No.115 Trailing Zeros\n",
    "\n",
    "Write an algorithm which computes the number of trailing zeros in n factorial.\n",
    "\n",
    "Example\n",
    "\n",
    "11! = 39916800, so the out should be 2"
   ]
  },
  {
   "cell_type": "code",
   "execution_count": 27,
   "metadata": {
    "collapsed": false
   },
   "outputs": [
    {
     "name": "stdout",
     "output_type": "stream",
     "text": [
      "2\n"
     ]
    }
   ],
   "source": [
    "def trailingZeros(n):\n",
    "    num, index = 0, 1\n",
    "    while n / pow(5, index) > 0:\n",
    "        num += n / pow(5, index)\n",
    "        index += 1\n",
    "    \n",
    "    return num\n",
    "\n",
    "print(trailingZeros(10))"
   ]
  },
  {
   "cell_type": "markdown",
   "metadata": {},
   "source": [
    "### No.116 Maximum Product Subarray\n",
    "Find the contiguous subarray within an array (containing at least one number) which has the largest product.\n",
    "\n",
    "Example\n",
    "\n",
    "For example, given the array [2,3,-2,4], the contiguous subarray [2,3] has the largest product = 6."
   ]
  },
  {
   "cell_type": "code",
   "execution_count": null,
   "metadata": {
    "collapsed": true
   },
   "outputs": [],
   "source": [
    "def maxProduct(nums):\n",
    "    if not nums:\n",
    "        return 0\n",
    "    \n",
    "    ret, minP, maxP = nums[0], nums[0], nums[0]\n",
    "    for i in xrange(1, len(nums)):\n",
    "        temp = minP\n",
    "        minP = min(minP * nums[i], maxP * nums[i], nums[i])\n",
    "        maxP = max(temp * nums[i], maxP * nums[i], nums[i])\n",
    "        ret = max(maxP, ret)\n",
    "    \n",
    "    return ret"
   ]
  },
  {
   "cell_type": "markdown",
   "metadata": {},
   "source": [
    "### No.117 Best Time to Buy and Sell Stock III\n",
    "Say you have an array for which the ith element is the price of a given stock on day i.\n",
    "\n",
    "Design an algorithm to find the maximum profit. You may complete at most two transactions.\n",
    "\n",
    "Example\n",
    "\n",
    "Given an example [4,4,6,1,1,4,2,5], return 6.\n"
   ]
  },
  {
   "cell_type": "code",
   "execution_count": 53,
   "metadata": {
    "collapsed": false
   },
   "outputs": [
    {
     "name": "stdout",
     "output_type": "stream",
     "text": [
      "([0, 0, 1], [1, 0, 0])\n",
      "1\n"
     ]
    }
   ],
   "source": [
    "def maxProfit(prices):\n",
    "    if not prices:\n",
    "        return 0\n",
    "    \n",
    "    pre = [0 for i in xrange(len(prices) + 1)]\n",
    "    suf = [0 for i in xrange(len(prices) + 1)]\n",
    "    \n",
    "    curMin, maxProfit = prices[0], 0\n",
    "    for i in xrange(0, len(prices)):\n",
    "        maxProfit = max(maxProfit, prices[i] - curMin)\n",
    "        pre[i + 1] = maxProfit\n",
    "        curMin = min(curMin, prices[i])\n",
    "    \n",
    "    curMax, maxProfit = prices[-1], 0\n",
    "    for i in reversed(xrange(0, len(prices))):\n",
    "        maxProfit = max(maxProfit, curMax - prices[i])\n",
    "        suf[i] = maxProfit\n",
    "        curMax = max(curMax, prices[i])\n",
    "    \n",
    "    ret = 0\n",
    "    for i in xrange(0, len(prices) + 1):\n",
    "        ret = max(ret, pre[i] + suf[i])\n",
    "    \n",
    "    print (pre, suf)\n",
    "    return ret\n",
    "\n",
    "A = [1, 2]\n",
    "print(maxProfit(A))"
   ]
  },
  {
   "cell_type": "markdown",
   "metadata": {},
   "source": [
    "### No.118 Best Time to Buy and Sell Stock II\n",
    "Say you have an array for which the ith element is the price of a given stock on day i.\n",
    "\n",
    "Design an algorithm to find the maximum profit. You may complete as many transactions as you like (ie, buy one and sell one share of the stock multiple times). However, you may not engage in multiple transactions at the same time (ie, you must sell the stock before you buy again).\n",
    "\n",
    "Example\n",
    "\n",
    "Given an example [2,1,2,0,1], return 2"
   ]
  },
  {
   "cell_type": "code",
   "execution_count": null,
   "metadata": {
    "collapsed": true
   },
   "outputs": [],
   "source": [
    "def maxProfit(prices):\n",
    "    if not prices or len(prices) < 2:\n",
    "        return 0\n",
    "    \n",
    "    maxP = 0\n",
    "    for i in xrange(1, len(prices)):\n",
    "        if prices[i] > prices[i - 1]:\n",
    "            maxP += (prices[i] - prices[i - 1])\n",
    "    \n",
    "    return maxP"
   ]
  },
  {
   "cell_type": "markdown",
   "metadata": {},
   "source": [
    "### No.119 Best Time to Buy and Sell Stock\n",
    "Say you have an array for which the ith element is the price of a given stock on day i.\n",
    "\n",
    "If you were only permitted to complete at most one transaction (ie, buy one and sell one share of the stock), design an algorithm to find the maximum profit.\n",
    "\n",
    "Example\n",
    "\n",
    "Given an example [3,2,3,1,2], return 1"
   ]
  },
  {
   "cell_type": "code",
   "execution_count": 1,
   "metadata": {
    "collapsed": true
   },
   "outputs": [],
   "source": [
    "def maxProfit(prices):\n",
    "    if not prices or len(prices) < 2:\n",
    "        return 0\n",
    "    \n",
    "    curMin, maxP = prices[0], 0\n",
    "    for i in xrange(1, len(prices)):\n",
    "        maxP = max(maxP, prices[i] - curMin)\n",
    "        curMin = min(curMin, prices[i])\n",
    "        \n",
    "    return maxP"
   ]
  },
  {
   "cell_type": "markdown",
   "metadata": {},
   "source": [
    "### No.120 Sort Colors II\n",
    "Given an array of n objects with k different colors (numbered from 1 to k), sort them so that objects of the same color are adjacent, with the colors in the order 1, 2, ... k.\n",
    "\n",
    " Example\n",
    "\n",
    "Given colors=[3, 2, 2, 1, 4], k=4, your code should sort colors in-place to [1, 2, 2, 3, 4].\n"
   ]
  },
  {
   "cell_type": "code",
   "execution_count": 8,
   "metadata": {
    "collapsed": false
   },
   "outputs": [
    {
     "name": "stdout",
     "output_type": "stream",
     "text": [
      "[1, 2, 2, 3, 3, 4]\n"
     ]
    }
   ],
   "source": [
    "def sortColors2(colors, k):\n",
    "    st, end = 1, k\n",
    "    \n",
    "    p1, p2, cur = 0, len(colors) - 1, 0\n",
    "    while st < end:\n",
    "        # sort these two colors\n",
    "        while cur <= p2:\n",
    "            if colors[cur] == st:\n",
    "                colors[cur], colors[p1], = colors[p1], colors[cur]\n",
    "                cur += 1\n",
    "                p1 += 1\n",
    "            elif colors[cur] == end:\n",
    "                colors[cur], colors[p2] = colors[p2], colors[cur]\n",
    "                p2 -= 1\n",
    "            else:\n",
    "                cur += 1\n",
    "        st += 1\n",
    "        end -= 1\n",
    "        cur = st\n",
    "    return\n",
    "\n",
    "A = [3, 2, 3, 2, 1, 4]\n",
    "sortColors2(A, 4)\n",
    "print (A)"
   ]
  },
  {
   "cell_type": "markdown",
   "metadata": {
    "collapsed": true
   },
   "source": [
    "### No.121 Single Number III\n",
    "Given 2*n + 2 numbers, every numbers occurs twice except two, find them.\n",
    "\n",
    "Example\n",
    "\n",
    "Given [1,2,2,3,4,4,5,3] return 1 and 5"
   ]
  },
  {
   "cell_type": "code",
   "execution_count": 63,
   "metadata": {
    "collapsed": false
   },
   "outputs": [
    {
     "data": {
      "text/plain": [
       "[1, 3]"
      ]
     },
     "execution_count": 63,
     "metadata": {},
     "output_type": "execute_result"
    }
   ],
   "source": [
    "def singleNumber(A):\n",
    "    ret = 0\n",
    "    for i in xrange(len(A)):\n",
    "        ret = ret ^ A[i]\n",
    "    \n",
    "    return ret\n",
    "    \n",
    "\n",
    "def singleNumberIII(A):\n",
    "    \n",
    "    sum = 0\n",
    "    for num in A:\n",
    "        sum ^= num\n",
    "    \n",
    "    i, pos = 0, 0\n",
    "    while sum:\n",
    "        bitNum = (sum >> i) & 1\n",
    "        if bitNum > 0:\n",
    "            pos = i\n",
    "            break\n",
    "        i += 1\n",
    "\n",
    "    # print(pos)\n",
    "    B1, B2 = [], []\n",
    "    for i in xrange(len(A)):\n",
    "        if A[i] & (1 << pos) == 0:\n",
    "            B1.append(A[i])\n",
    "        else:\n",
    "            B2.append(A[i])\n",
    "    \n",
    "    # print(B1,B2)\n",
    "    \n",
    "    return [singleNumber(B1), singleNumber(B2)]\n",
    "    \n",
    "    \n",
    "A = [1, 2, 2, 3, 4, 4, 5, 5]\n",
    "singleNumberIII(A)"
   ]
  },
  {
   "cell_type": "markdown",
   "metadata": {},
   "source": [
    "### No.122 Single Number II\n",
    "Given 3*n + 1 numbers, every numbers occurs triple times except one, find it.\n",
    "\n",
    "Example\n",
    "\n",
    "Given [1,1,2,3,3,3,2,2,4,1] return 4\n"
   ]
  },
  {
   "cell_type": "code",
   "execution_count": 75,
   "metadata": {
    "collapsed": false
   },
   "outputs": [
    {
     "name": "stdout",
     "output_type": "stream",
     "text": [
      "2\n"
     ]
    }
   ],
   "source": [
    "def singleNumberII(A):\n",
    "    \n",
    "    bit = [0 for i in xrange(64)]\n",
    "    \n",
    "    for i in A:\n",
    "        temp, pos = i, 0\n",
    "        while temp > 0:\n",
    "            bit[pos] += (temp & 1)\n",
    "            temp = temp >> 1\n",
    "            pos += 1\n",
    "    \n",
    "    ret = 0\n",
    "    for i in xrange(len(bit)):\n",
    "        if bit[i] % 3 != 0:\n",
    "            ret += 1 << i\n",
    "    \n",
    "    return ret\n",
    "\n",
    "A = [1, 1, 2, 1, 3, 3, 3]\n",
    "print(singleNumberII(A))\n",
    "        "
   ]
  },
  {
   "cell_type": "markdown",
   "metadata": {},
   "source": [
    "### No.123 4 Sum \n",
    "Given an array S of n integers, are there elements a, b, c, and d in S such that a + b + c + d = target?\n",
    "\n",
    "Find all unique quadruplets in the array which gives the sum of target.\n",
    "\n",
    "Example\n",
    "```python\n",
    "Given array S = {1 0 -1 0 -2 2}, and target = 0. A solution set is:\n",
    "\n",
    "(-1, 0, 0, 1)\n",
    "(-2, -1, 1, 2)\n",
    "(-2, 0, 0, 2)\n",
    "```"
   ]
  },
  {
   "cell_type": "code",
   "execution_count": 78,
   "metadata": {
    "collapsed": false
   },
   "outputs": [
    {
     "name": "stdout",
     "output_type": "stream",
     "text": [
      "[[-2, -1, 1, 2], [-2, 0, 0, 2], [-1, 0, 0, 1]]\n"
     ]
    }
   ],
   "source": [
    "def helper(nums, ret, target, pos, path):\n",
    "    if len(path) == 4 and sum(path) == target:\n",
    "        ret.append([] + path)\n",
    "        return\n",
    "    \n",
    "    if len(path) > 4:\n",
    "        return\n",
    "    \n",
    "    for i in xrange(pos, len(nums)):\n",
    "        if i > pos and nums[i] == nums[i - 1]:\n",
    "            continue\n",
    "        path.append(nums[i])\n",
    "        helper(nums, ret, target, i + 1, path)\n",
    "        path.pop()\n",
    "\n",
    "def fourSum(nums, target):\n",
    "    if not nums or len(nums) < 4:\n",
    "        return []\n",
    "    \n",
    "    nums.sort()\n",
    "    ret = []\n",
    "    helper(nums, ret, target, 0, [])\n",
    "    \n",
    "    return ret\n",
    "\n",
    "A = [1, 0, -1, 0, -2, 2]\n",
    "print(fourSum(A, 0))\n"
   ]
  },
  {
   "cell_type": "markdown",
   "metadata": {},
   "source": [
    "### No.124 3Sum\n",
    "Given an array S of n integers, are there elements a, b, c in S such that a + b + c = 0? Find all unique triplets in the array which gives the sum of zero.\n",
    "\n",
    "Example\n",
    "```python\n",
    "For example, given array S = {-1 0 1 2 -1 -4}, A solution set is:\n",
    "\n",
    "(-1, 0, 1)\n",
    "(-1, -1, 2)\n",
    "```"
   ]
  },
  {
   "cell_type": "code",
   "execution_count": 79,
   "metadata": {
    "collapsed": true
   },
   "outputs": [],
   "source": [
    "class Solution:\n",
    "    \"\"\"\n",
    "    @param numbersbers : Give an array numbersbers of n integer\n",
    "    @return : Find all unique triplets in the array which gives the sum of zero.\n",
    "    \"\"\"\n",
    "    def threeSum(self, numbers):\n",
    "        # write your code here\n",
    "        nums = numbers\n",
    "        if not nums or len(nums) < 3:\n",
    "            return []\n",
    "        \n",
    "        ret = []\n",
    "        nums.sort()\n",
    "        self.helper(nums, ret, 0, 0, [])\n",
    "        \n",
    "        return ret\n",
    "        \n",
    "        \n",
    "        \n",
    "    def helper(self, nums, ret, target, pos, path):\n",
    "        if len(path) == 3 and sum(path) == target:\n",
    "            ret.append([] + path)\n",
    "            return\n",
    "    \n",
    "        if len(path) > 3:\n",
    "            return\n",
    "        \n",
    "        for i in xrange(pos, len(nums)):\n",
    "            if i > pos and nums[i] == nums[i - 1]:\n",
    "                continue\n",
    "            path.append(nums[i])\n",
    "            self.helper(nums, ret, target, i + 1, path)\n",
    "            path.pop()"
   ]
  },
  {
   "cell_type": "markdown",
   "metadata": {},
   "source": [
    "### No.125 Sort Letters by Case\n",
    "Given a string which contains only letters. Sort it by lower case first and upper case second.\n",
    "\n",
    "Example\n",
    "\n",
    "For \"abAcD\", a reasonable answer is \"acbAD\""
   ]
  },
  {
   "cell_type": "code",
   "execution_count": 85,
   "metadata": {
    "collapsed": false
   },
   "outputs": [
    {
     "name": "stdout",
     "output_type": "stream",
     "text": [
      "['a', 'b']\n"
     ]
    }
   ],
   "source": [
    "def sortLetters(chars):\n",
    "    if not chars:\n",
    "        return chars\n",
    "    \n",
    "    st, end = 0, len(chars) - 1\n",
    "    while st < end:\n",
    "        while chars[st].islower() and st < end:\n",
    "            st += 1\n",
    "        \n",
    "        while chars[end].isupper() and st < end:\n",
    "            end -= 1\n",
    "        \n",
    "        if st >= end:\n",
    "            break\n",
    "\n",
    "        chars[st], chars[end] = chars[end], chars[st]\n",
    "        st += 1\n",
    "        end -= 1\n",
    "    \n",
    "    return chars\n",
    "\n",
    "A = [\"a\", \"b\"]\n",
    "print sortLetters(A)"
   ]
  },
  {
   "cell_type": "markdown",
   "metadata": {},
   "source": [
    "### No.126 Majority Number III\n",
    "Given an array of integers and a number k, the majority number is the number that occurs more than 1/k of the size of the array.\n",
    "\n",
    "Find it.\n",
    "\n",
    "Example\n",
    "\n",
    "Given [3,1,2,3,2,3,3,4,4,4] and k=3, return 3."
   ]
  },
  {
   "cell_type": "code",
   "execution_count": 13,
   "metadata": {
    "collapsed": false
   },
   "outputs": [
    {
     "name": "stdout",
     "output_type": "stream",
     "text": [
      "1\n"
     ]
    }
   ],
   "source": [
    "import sys\n",
    "# return pos for the val or one pos of Non\n",
    "# return None if no place\n",
    "def removeKey(D):\n",
    "    alist = []\n",
    "    for i in D:\n",
    "        D[i] -= 1\n",
    "        if D[i] == 0:\n",
    "            alist.append(i)\n",
    "    \n",
    "    for i in alist:\n",
    "        del D[i]\n",
    "\n",
    "def majorityNumber(nums, k):\n",
    "    D = dict()\n",
    "    for i in xrange(len(nums)):\n",
    "        if D.get(nums[i]) is not None:\n",
    "            D[nums[i]] += 1\n",
    "        else:\n",
    "            D[nums[i]] = 1\n",
    "        \n",
    "        if len(D) > k - 1:\n",
    "            removeKey(D)\n",
    "            \n",
    "    for i in D:\n",
    "        D[i] = 0\n",
    "    \n",
    "    for i in xrange(len(nums)):\n",
    "        if D.get(nums[i]) is not None:\n",
    "            D[nums[i]] += 1\n",
    "    \n",
    "    maxValue, ret = 0, 0\n",
    "    for i in D:\n",
    "        if D[i] > maxValue:\n",
    "            ret = i\n",
    "            maxValue = D[i]\n",
    "            \n",
    "    return ret\n",
    "\n",
    "A = [1, 1, 1, 2, 2, 4, 1, 3]\n",
    "print(majorityNumber(A, 3))\n",
    "    "
   ]
  },
  {
   "cell_type": "markdown",
   "metadata": {},
   "source": [
    "### No.127 Majority Number II\n",
    "Given an array of integers, the majority number is the number that occurs more than 1/3 of the size of the array.\n",
    "\n",
    "Example\n",
    "\n",
    "Given [1, 2, 1, 2, 1, 3, 3], return 1."
   ]
  },
  {
   "cell_type": "code",
   "execution_count": 14,
   "metadata": {
    "collapsed": true
   },
   "outputs": [],
   "source": [
    "class Solution:\n",
    "    \"\"\"\n",
    "    @param nums: A list of integers\n",
    "    @return: The majority number occurs more than 1/3\n",
    "    \"\"\"\n",
    "    def removeKey(self, D):\n",
    "        alist = []\n",
    "        for i in D:\n",
    "            D[i] -= 1\n",
    "            if D[i] == 0:\n",
    "                alist.append(i)\n",
    "        \n",
    "        for i in alist:\n",
    "            del D[i]\n",
    "    \n",
    "    def majorityNumber(self, nums):\n",
    "        D = dict()\n",
    "        for i in xrange(len(nums)):\n",
    "            if D.get(nums[i]) is not None:\n",
    "                D[nums[i]] += 1\n",
    "            else:\n",
    "                D[nums[i]] = 1\n",
    "            \n",
    "            if len(D) > 2:\n",
    "                self.removeKey(D)\n",
    "                \n",
    "        for i in D:\n",
    "            D[i] = 0\n",
    "        \n",
    "        for i in xrange(len(nums)):\n",
    "            if D.get(nums[i]) is not None:\n",
    "                D[nums[i]] += 1\n",
    "        \n",
    "        maxValue, ret = 0, 0\n",
    "        for i in D:\n",
    "            if D[i] > maxValue:\n",
    "                ret = i\n",
    "                maxValue = D[i]\n",
    "                \n",
    "        return ret"
   ]
  },
  {
   "cell_type": "markdown",
   "metadata": {
    "collapsed": true
   },
   "source": [
    "### No.128 Maximum Subarray Difference\n",
    "Given an array with integers.\n",
    "\n",
    "Find two non-overlapping subarrays A and B, which |SUM(A) - SUM(B)| is the largest.\n",
    "\n",
    "Return the largest difference.\n",
    "\n",
    "Example\n",
    "\n",
    "For [1, 2, -3, 1], return 6.\n",
    "\n"
   ]
  },
  {
   "cell_type": "code",
   "execution_count": 67,
   "metadata": {
    "collapsed": false
   },
   "outputs": [
    {
     "name": "stdout",
     "output_type": "stream",
     "text": [
      "[1, 3, 6] [1, 1, 1]\n",
      "[1, 3, 6] [1, 1, 1] [6, 5, 3] [1, 2, 3]\n",
      "4\n"
     ]
    }
   ],
   "source": [
    "import sys\n",
    "def maxDiffSubArrays(nums):\n",
    "    if not nums:\n",
    "        return 0\n",
    "    \n",
    "    # Get maximum subarray for all prefix\n",
    "    # maxPre[i] means nums[:i + 1]'s maximum subarray sum\n",
    "    maxPre = [-sys.maxint for i in xrange(len(nums))]\n",
    "    maxSuf = [-sys.maxint for i in xrange(len(nums))]\n",
    "    minPre = [sys.maxint for i in xrange(len(nums))]\n",
    "    minSuf = [sys.maxint for i in xrange(len(nums))]\n",
    "    \n",
    "    localMax, localSumMax = -sys.maxint, 0\n",
    "    localMin, localSumMin = sys.maxint, 0\n",
    "    for i in xrange(len(nums)):\n",
    "        localSumMax += nums[i]\n",
    "        localSumMin += nums[i]\n",
    "        localMax = max(localMax, localSumMax)\n",
    "        localMin = min(localMin, localSumMin)\n",
    "        maxPre[i] = localMax\n",
    "        minPre[i] = localMin\n",
    "        if localSumMax < 0:\n",
    "            localSumMax = 0\n",
    "        if localSumMin > 0:\n",
    "            localSumMin = 0\n",
    "    \n",
    "    localMax, localSumMax = -sys.maxint, 0\n",
    "    localMin, localSumMin = sys.maxint, 0\n",
    "    for i in reversed(xrange(len(nums))):\n",
    "        localSumMax += nums[i]\n",
    "        localSumMin += nums[i]\n",
    "        localMax = max(localMax, localSumMax)\n",
    "        localMin = min(localMin, localSumMin)\n",
    "        maxSuf[i] = localMax\n",
    "        minSuf[i] = localMin\n",
    "        if localSumMax < 0:\n",
    "            localSumMax = 0\n",
    "        if localSumMin > 0:\n",
    "            localSumMin = 0\n",
    "    \n",
    "    ret = -sys.maxint\n",
    "    for i in xrange(len(nums) - 1):\n",
    "        diff1 = abs(maxPre[i] - minSuf[i + 1])\n",
    "        diff2 = abs(maxSuf[i + 1] - minPre[i])\n",
    "        ret = max(ret, diff1, diff2)\n",
    "    return ret\n",
    "    \n",
    "    \n",
    "A = [1, 2, 3]\n",
    "print maxDiffSubArrays(A)"
   ]
  },
  {
   "cell_type": "markdown",
   "metadata": {},
   "source": [
    "### No.129 Best Time to Buy and Sell Stock IV\n",
    "Say you have an array for which the ith element is the price of a given stock on day i.\n",
    "\n",
    "Design an algorithm to find the maximum profit. You may complete at most k transactions.\n",
    "\n",
    "Example\n",
    "\n",
    "Given prices = [4,4,6,1,1,4,2,5], and k = 2, return 6."
   ]
  },
  {
   "cell_type": "code",
   "execution_count": 68,
   "metadata": {
    "collapsed": true
   },
   "outputs": [],
   "source": [
    "class Solution:\n",
    "    \"\"\"\n",
    "    @param k: an integer\n",
    "    @param prices: a list of integer\n",
    "    @return: an integer which is maximum profit\n",
    "    \"\"\"\n",
    "    def maxProfit2(self, prices):\n",
    "        \n",
    "        ret = 0\n",
    "        for i in xrange(1, len(prices)):\n",
    "            diff = prices[i] - prices[i - 1]\n",
    "            if diff > 0:\n",
    "                ret += diff\n",
    "        \n",
    "        return ret\n",
    "            \n",
    "        \n",
    "    def maxProfit(self, k, prices):\n",
    "        # write your code here\n",
    "        # with len / 2 transactions, we can \n",
    "        # get all possible profits.\n",
    "        if k >= len(prices) / 2:\n",
    "            return self.maxProfit2(prices)\n",
    "            \n",
    "        localMax = [[0 for j in xrange(k + 1)] for i in xrange(len(prices))]\n",
    "        globalMax = [[0 for j in xrange(k + 1)] for i in xrange(len(prices))]\n",
    "        \n",
    "        for i in xrange(1, len(prices)):\n",
    "            for j in xrange(1, k + 1):\n",
    "                diff = prices[i] - prices[i - 1]\n",
    "                localMax[i][j] = max(localMax[i - 1][j] + diff, \n",
    "                          globalMax[i - 1][j - 1] + max(diff, 0))\n",
    "                globalMax[i][j] = max(localMax[i][j], globalMax[i - 1][j])\n",
    "        \n",
    "        return globalMax[len(prices) - 1][k]"
   ]
  },
  {
   "cell_type": "markdown",
   "metadata": {},
   "source": [
    "### No.130 Maximum Subarray III\n",
    "\n",
    "Given an array of integers and a number k, find k non-overlapping subarrays which have the largest sum.\n",
    "\n",
    "The number in each subarray should be contiguous.\n",
    "\n",
    "Return the largest sum.\n",
    "\n",
    "Example\n",
    "\n",
    "Given [-1,4,-2,3,-2,3], k=2, return 8"
   ]
  },
  {
   "cell_type": "code",
   "execution_count": 69,
   "metadata": {
    "collapsed": true
   },
   "outputs": [],
   "source": [
    "class Solution:\n",
    "    \"\"\"\n",
    "    @param nums: A list of integers\n",
    "    @param k: An integer denote to find k non-overlapping subarrays\n",
    "    @return: An integer denote the sum of max k non-overlapping subarrays\n",
    "    \"\"\"\n",
    "    def maxSubArray(self, nums, k):\n",
    "        # write your code here\n",
    "        if not nums:\n",
    "            return 0\n",
    "            \n",
    "        localSum = [[-sys.maxint for j in xrange(k + 1)] for i in xrange(len(nums) + 1)]\n",
    "        globalSum = [[-sys.maxint for j in xrange(k + 1)] for i in xrange(len(nums) + 1)]\n",
    "            \n",
    "        for i in xrange(len(nums) + 1):\n",
    "            localSum[i][0] = 0\n",
    "            globalSum[i][0] = 0\n",
    "            \n",
    "        # Because we must at least sellect one element for subarray,\n",
    "        # do not initilize localSum[0][j] and globalSum[0][j]\n",
    "        for i in xrange(1, len(nums) + 1):\n",
    "            \n",
    "            for j in xrange(1, k + 1):\n",
    "                localSum[i][j] = max(globalSum[i - 1][j - 1] + nums[i - 1], \n",
    "                                 localSum[i - 1][j] + nums[i - 1])\n",
    "                globalSum[i][j] = max(localSum[i][j], globalSum[i - 1][j])\n",
    "        \n",
    "        return globalSum[len(nums)][k]"
   ]
  },
  {
   "cell_type": "markdown",
   "metadata": {},
   "source": [
    "### No.131 Merge k Sorted Arrays\n",
    "Given k sorted integer arrays, merge them into one sorted array.\n",
    "\n",
    "Example\n",
    "\n",
    "Given 3 sorted arrays:\n",
    "\n",
    "[\n",
    "  [1, 3, 5, 7],\n",
    "  [2, 4, 6],\n",
    "  [0, 8, 9, 10, 11]\n",
    "]\n",
    "return [0, 1, 2, 3, 4, 5, 6, 7, 8, 9, 10, 11]."
   ]
  },
  {
   "cell_type": "code",
   "execution_count": 78,
   "metadata": {
    "collapsed": false
   },
   "outputs": [
    {
     "name": "stdout",
     "output_type": "stream",
     "text": [
      "[0, 1, 2, 3, 4, 5, 6, 7, 8, 9, 10, 11]\n"
     ]
    }
   ],
   "source": [
    "import heapq as Q\n",
    "\n",
    "def mergekSortedArrays(arrays):\n",
    "    ret, q = [], []\n",
    "    pos = [0 for i in xrange(len(arrays))]\n",
    "    \n",
    "    for i in xrange(len(arrays)):\n",
    "        if pos[i] < len(arrays[i]):\n",
    "            Q.heappush(q, (arrays[i][pos[i]], i))\n",
    "            pos[i] += 1\n",
    "    \n",
    "    while q:\n",
    "        val, row = Q.heappop(q)\n",
    "        ret.append(val)\n",
    "        if pos[row] < len(arrays[row]):\n",
    "            Q.heappush(q, (arrays[row][pos[row]], row))\n",
    "            pos[row] += 1\n",
    "    return ret\n",
    "\n",
    "A = [ \n",
    "      [1, 3, 5, 7],\n",
    "      [2, 4, 6],\n",
    "      [0, 8, 9, 10, 11]\n",
    "    ]\n",
    "print mergekSortedArrays(A)\n",
    "    "
   ]
  },
  {
   "cell_type": "markdown",
   "metadata": {},
   "source": [
    "### No.132 Top K Frequent Words\n",
    "Given a list of words and an integer k, return the top k frequent words in the list.\n",
    "\n",
    "Example\n",
    "```python\n",
    "Given\n",
    "\n",
    "[\n",
    "    \"yes\", \"lint\", \"code\",\n",
    "    \"yes\", \"code\", \"baby\",\n",
    "    \"you\", \"baby\", \"chrome\",\n",
    "    \"safari\", \"lint\", \"code\",\n",
    "    \"body\", \"lint\", \"code\"\n",
    "]\n",
    "for k = 3, return [\"code\", \"lint\", \"baby\"].\n",
    "\n",
    "for k = 4, return [\"code\", \"lint\", \"baby\", \"yes\"],\n",
    "```"
   ]
  },
  {
   "cell_type": "code",
   "execution_count": 79,
   "metadata": {
    "collapsed": true
   },
   "outputs": [],
   "source": [
    "import heapq as Q\n",
    "\n",
    "def topKFrequentWords(words, k):\n",
    "    D = dict()\n",
    "    for i in words:\n",
    "        if D.get(i) is None:\n",
    "            D[i] = 1\n",
    "        else:\n",
    "            D[i] += 1\n",
    "    \n",
    "    q = []\n",
    "    for key in D:\n",
    "        Q.heappush(q, (-D[key], key))\n",
    "    \n",
    "    ret = []\n",
    "    for i in xrange(k):\n",
    "        val, key = Q.heappop(q)\n",
    "        ret.append(key)\n",
    "    \n",
    "    return ret"
   ]
  },
  {
   "cell_type": "markdown",
   "metadata": {},
   "source": [
    "### No.133 Rehashing\n",
    "\n",
    "The size of the hash table is not determinate at the very beginning. If the total size of keys is too large (e.g. size >= capacity / 10), we should double the size of the hash table and rehash every keys. Say you have a hash table looks like below:\n",
    "```python\n",
    "size=3, capacity=4\n",
    "\n",
    "[null, 21, 14, null]\n",
    "       ↓    ↓\n",
    "       9   null\n",
    "       ↓\n",
    "      null\n",
    "The hash function is:\n",
    "\n",
    "int hashcode(int key, int capacity) {\n",
    "    return key % capacity;\n",
    "}\n",
    "```\n",
    "here we have three numbers, 9, 14 and 21, where 21 and 9 share the same position as they all have the same hashcode 1 (21 % 4 = 9 % 4 = 1). We store them in the hash table by linked list.\n",
    "\n",
    "rehashing this hash table, double the capacity, you will get:\n",
    "```python\n",
    "size=3, capacity=8\n",
    "\n",
    "index:   0    1    2    3     4    5    6   7\n",
    "hash : [null, 9, null, null, null, 21, 14, null]\n",
    "```\n",
    "Given the original hash table, return the new hash table after rehashing ."
   ]
  },
  {
   "cell_type": "code",
   "execution_count": 80,
   "metadata": {
    "collapsed": true
   },
   "outputs": [],
   "source": [
    "\"\"\"\n",
    "Definition of ListNode\n",
    "class ListNode(object):\n",
    "\n",
    "    def __init__(self, val, next=None):\n",
    "        self.val = val\n",
    "        self.next = next\n",
    "\"\"\"\n",
    "class Solution:\n",
    "    \"\"\"\n",
    "    @param hashTable: A list of The first node of linked list\n",
    "    @return: A list of The first node of linked list which have twice size\n",
    "    \"\"\"\n",
    "    def rehashing(self, hashTable):\n",
    "        # write your code here\n",
    "        capacity = len(hashTable) * 2\n",
    "        dummyList = []\n",
    "        for i in range(capacity):\n",
    "            dummyList.append(ListNode(0))\n",
    "        \n",
    "        for i in xrange(len(hashTable)):\n",
    "            while hashTable[i] is not None:\n",
    "                hashVal = hashTable[i].val % capacity\n",
    "                cur = dummyList[hashVal]\n",
    "                while cur.next:\n",
    "                    cur = cur.next\n",
    "                cur.next = hashTable[i]\n",
    "                hashTable[i] = hashTable[i].next\n",
    "                cur.next.next = None\n",
    "        \n",
    "        for i in xrange(capacity):\n",
    "            dummyList[i] = dummyList[i].next\n",
    "\n",
    "        return dummyList"
   ]
  },
  {
   "cell_type": "markdown",
   "metadata": {},
   "source": [
    "### No.134 Longest Consecutive Sequence\n",
    "Given an unsorted array of integers, find the length of the longest consecutive elements sequence.\n",
    "\n",
    "Clarification\n",
    "\n",
    "Your algorithm should run in O(n) complexity.\n",
    "\n",
    "Example\n",
    "\n",
    "Given [100, 4, 200, 1, 3, 2],\n",
    "The longest consecutive elements sequence is [1, 2, 3, 4]. Return its length: 4."
   ]
  },
  {
   "cell_type": "code",
   "execution_count": 81,
   "metadata": {
    "collapsed": true
   },
   "outputs": [],
   "source": [
    "def longestConsecutive(num):\n",
    "    D = dict()\n",
    "    for i in num:\n",
    "        D[i] = True\n",
    "    ret = 0\n",
    "    for i in xrange(len(num)):\n",
    "        if D.get(num[i]) is None:\n",
    "            continue\n",
    "            \n",
    "        del D[num[i]]\n",
    "        left, right = 0, 0\n",
    "        while D.get(num[i] - left - 1) is not None:\n",
    "            del D[num[i] - left - 1]\n",
    "            left += 1\n",
    "        \n",
    "        while D.get(num[i] + right + 1) is not None:\n",
    "            del D[num[i] + right + 1]\n",
    "            right += 1\n",
    "        \n",
    "        ret = max(ret, left + right + 1)\n",
    "\n",
    "    return ret"
   ]
  },
  {
   "cell_type": "markdown",
   "metadata": {},
   "source": [
    "### No.135 Merge k Sorted Lists\n",
    "Merge k sorted linked lists and return it as one sorted list.\n",
    "\n",
    "Analyze and describe its complexity.\n",
    "\n",
    "Example\n",
    "```python\n",
    "Given lists:\n",
    "\n",
    "[\n",
    "  2->4->null,\n",
    "  null,\n",
    "  -1->null\n",
    "],\n",
    "return -1->2->4->null.\n",
    "```\n"
   ]
  },
  {
   "cell_type": "code",
   "execution_count": null,
   "metadata": {
    "collapsed": true
   },
   "outputs": [],
   "source": [
    "import heapq as Q\n",
    "def mergeKLists(lists):\n",
    "    q = []\n",
    "    dummy = ListNode(0)\n",
    "    cur = dummy\n",
    "    \n",
    "    for i in xrange(len(lists)):\n",
    "        if lists[i] is not None:\n",
    "            Q.heappush(q, (lists[i].val, lists[i], i))\n",
    "    \n",
    "    while q:\n",
    "        value, node, row = Q.heappop(q)\n",
    "        cur.next = node\n",
    "        lists[row] = node.next\n",
    "        node.next = None\n",
    "        cur = cur.next\n",
    "        if lists[row] is not None:\n",
    "            Q.heappush(q, (lists[row].val, lists[row], row))\n",
    "    \n",
    "    return dummy.next"
   ]
  },
  {
   "cell_type": "markdown",
   "metadata": {},
   "source": [
    "### No.136 Implement Queue by Two Stacks\n",
    "\n",
    "As the title described, you should only use two stacks to implement a queue's actions.\n",
    "\n",
    "The queue should support push(element), pop() and top() where pop is pop the first(a.k.a front) element in the queue.\n",
    "\n",
    "Both pop and top methods should return the value of first element.\n",
    "\n",
    "Example\n",
    "```python\n",
    "push(1)\n",
    "pop()     // return 1\n",
    "push(2)\n",
    "push(3)\n",
    "top()     // return 2\n",
    "pop()     // return 2\n",
    "```"
   ]
  },
  {
   "cell_type": "code",
   "execution_count": null,
   "metadata": {
    "collapsed": true
   },
   "outputs": [],
   "source": [
    "class MyQueue:\n",
    "\n",
    "    def __init__(self):\n",
    "        self.stack1 = []\n",
    "        self.stack2 = []\n",
    "        \n",
    "    def push(self, element):\n",
    "        # write your code here\n",
    "        self.stack1.append(element)\n",
    "\n",
    "    def top(self):\n",
    "        # write your code here\n",
    "        # return the top element\n",
    "        if not self.stack2:\n",
    "            while self.stack1:\n",
    "                self.stack2.append(self.stack1.pop())\n",
    "        \n",
    "        if self.stack2:\n",
    "            return self.stack2[-1]\n",
    "        else:\n",
    "            return None\n",
    "\n",
    "    def pop(self):\n",
    "        # write your code here\n",
    "        # pop and return the top element\n",
    "        if not self.stack2:\n",
    "            while self.stack1:\n",
    "                self.stack2.append(self.stack1.pop())\n",
    "        if self.stack2:\n",
    "            return self.stack2.pop()\n",
    "        else:\n",
    "            return None\n",
    "        \n"
   ]
  },
  {
   "cell_type": "markdown",
   "metadata": {},
   "source": [
    "### No.137 Min Stack\n",
    "Implement a stack with min() function, which will return the smallest number in the stack.\n",
    "\n",
    "It should support push, pop and min operation all in O(1) cost.\n",
    "\n",
    "Example\n",
    "```python\n",
    "push(1)\n",
    "pop()   // return 1\n",
    "push(2)\n",
    "push(3)\n",
    "min()   // return 2\n",
    "push(1)\n",
    "min()   // return 1\n",
    "```"
   ]
  },
  {
   "cell_type": "code",
   "execution_count": null,
   "metadata": {
    "collapsed": true
   },
   "outputs": [],
   "source": [
    "class MinStack(object):\n",
    "\n",
    "    def __init__(self):\n",
    "        # do some intialize if necessary\n",
    "        self.stack = []\n",
    "        self.minStack = []\n",
    "\n",
    "    def push(self, number):\n",
    "        # write yout code here\n",
    "        self.stack.append(number)\n",
    "        if not self.minStack:\n",
    "            self.minStack.append(number)\n",
    "        else:\n",
    "            self.minStack.append(min(self.minStack[-1], number))\n",
    "\n",
    "    def pop(self):\n",
    "        # pop and return the top item in stack\n",
    "        if self.stack:\n",
    "            self.minStack.pop()\n",
    "            return self.stack.pop()\n",
    "        else:\n",
    "            return None\n",
    "\n",
    "    def min(self):\n",
    "        # return the minimum number in stack\n",
    "        if self.stack:\n",
    "            return self.minStack[-1]\n",
    "        else:\n",
    "            return None"
   ]
  },
  {
   "cell_type": "markdown",
   "metadata": {},
   "source": [
    "### No.138 Ugly Number II\n",
    "\n",
    "Ugly number is a number that only have factors 2, 3 and 5.\n",
    "\n",
    "Design an algorithm to find the nth ugly number. The first 10 ugly numbers are 1, 2, 3, 4, 5, 6, 8, 9, 10, 12...\n",
    "\n",
    "Example\n",
    "\n",
    "If n=9, return 10."
   ]
  },
  {
   "cell_type": "code",
   "execution_count": 96,
   "metadata": {
    "collapsed": false
   },
   "outputs": [
    {
     "name": "stdout",
     "output_type": "stream",
     "text": [
      "4\n"
     ]
    }
   ],
   "source": [
    "def nthUglyNumber(n):\n",
    "    q = [1]\n",
    "    i2 = i3 = i5 = 0\n",
    "    \n",
    "    while len(q) < n:\n",
    "        m2, m3, m5 = 2 * q[i2], 3 * q[i3], 5 * q[i5]\n",
    "        m = min(m2, m3, m5)\n",
    "        q.append(m)\n",
    "        # Do not use if else! we might need to update more than\n",
    "        # one m !!\n",
    "        if m == m2:\n",
    "            i2 += 1\n",
    "        if m == m3:\n",
    "            i3 += 1\n",
    "        if m == m5:\n",
    "            i5 += 1\n",
    "    \n",
    "    return q[-1]\n",
    "print(nthUglyNumber(4))"
   ]
  },
  {
   "cell_type": "markdown",
   "metadata": {},
   "source": [
    "### No.139 LRU Cache\n",
    "\n",
    "Design and implement a data structure for Least Recently Used (LRU) cache. It should support the following operations: get and set.\n",
    "```python\n",
    "get(key) - Get the value (will always be positive) of the key if the key exists in the cache, otherwise return -1.\n",
    "set(key, value) - Set or insert the value if the key is not already present.\n",
    "When the cache reached its capacity, it should invalidate the least recently used item before inserting a new item.\n",
    "```\n"
   ]
  },
  {
   "cell_type": "markdown",
   "metadata": {},
   "source": [
    "### Thoughts:\n",
    "    - Using Doubled Linked List\n",
    "    - Create Dummy head node and tail node\n",
    "    - Create function delNode and pushTail (this one takes a node not in the list)\n",
    "    - while setting an existing node, be sure to remember to pushTail the node!"
   ]
  },
  {
   "cell_type": "code",
   "execution_count": null,
   "metadata": {
    "collapsed": true
   },
   "outputs": [],
   "source": [
    "class LRUNode:\n",
    "    def __init__(self, key, val, next = None, pre = None):\n",
    "        self.key = key\n",
    "        self.val = val\n",
    "        self.next = next\n",
    "        self.pre = pre\n",
    "\n",
    "class LRUCache:\n",
    "    # @param capacity, an integer\n",
    "    def __init__(self, capacity):\n",
    "        # write your code here\n",
    "        self.capacity = capacity\n",
    "        self.listHead = LRUNode(-100, 0)\n",
    "        self.listTail = LRUNode(-100, 0)\n",
    "        self.listHead.next = self.listTail\n",
    "        self.listTail.pre = self.listHead\n",
    "        self.D = dict()\n",
    "\n",
    "    # @return an integer\n",
    "    def get(self, key):\n",
    "        # write your code here\n",
    "        if self.D.get(key) is None:\n",
    "            return -1\n",
    "        \n",
    "        node = self.D.get(key)\n",
    "        self.delNode(node)\n",
    "        self.pushTail(node)\n",
    "        \n",
    "        return node.val\n",
    "        \n",
    "    # @param key, an integer\n",
    "    # @param value, an integer\n",
    "    # @return nothing\n",
    "    def set(self, key, value):\n",
    "        # write your code here\n",
    "        if self.D.get(key) is not None:\n",
    "            node = self.D.get(key)\n",
    "            node.val = value\n",
    "            self.delNode(node)\n",
    "            self.pushTail(node)\n",
    "            return\n",
    "        \n",
    "        if len(self.D) >= self.capacity:\n",
    "            # print self.listHead.key, self.listHead.next.key,len(self.D), key\n",
    "            del self.D[self.listHead.next.key]\n",
    "            self.delNode(self.listHead.next)\n",
    "        \n",
    "        node = LRUNode(key, value)\n",
    "        self.D[key] = node\n",
    "        self.pushTail(node)\n",
    "          \n",
    "    def pushTail(self, node):\n",
    "        curTail = self.listTail.pre\n",
    "        curTail.next = node\n",
    "        node.next = self.listTail\n",
    "        self.listTail.pre = node\n",
    "        node.pre = curTail\n",
    "        \n",
    "    def delNode(self, node):\n",
    "        preNode, nextNode = node.pre, node.next\n",
    "        preNode.next = nextNode\n",
    "        nextNode.pre = preNode"
   ]
  },
  {
   "cell_type": "markdown",
   "metadata": {},
   "source": [
    "### No.140 Largest Rectangle in Histogram\n",
    "Given n non-negative integers representing the histogram's bar height where the width of each bar is 1, find the area of largest rectangle in the histogram.\n",
    "\n",
    "Above is a histogram where width of each bar is 1, given height = [2,1,5,6,2,3].\n",
    "\n",
    "The largest rectangle is shown in the shaded area, which has area = 10 unit."
   ]
  },
  {
   "cell_type": "code",
   "execution_count": 1,
   "metadata": {
    "collapsed": true
   },
   "outputs": [],
   "source": [
    "class Solution:\n",
    "    \"\"\"\n",
    "    @param height: A list of integer\n",
    "    @return: The area of largest rectangle in the histogram\n",
    "    \"\"\"\n",
    "    def largestRectangleArea(self, height):\n",
    "        # write your code here\n",
    "        if not height:\n",
    "            return 0\n",
    "        \n",
    "        height.append(-1)\n",
    "        height.insert(0, -1)\n",
    "        stack = []\n",
    "        ret = 0\n",
    "        \n",
    "        for i in xrange(len(height)):\n",
    "            val, pos = height[i], i\n",
    "            if not stack or val >= stack[-1][0]:\n",
    "                stack.append((val, pos))\n",
    "                continue\n",
    "            \n",
    "            while stack and stack[-1][0] > val:\n",
    "                topVal, topPos = stack.pop()\n",
    "                ret = max(ret, topVal * (pos - stack[-1][1] - 1))\n",
    "            \n",
    "            stack.append((val, pos))\n",
    "        \n",
    "        return ret"
   ]
  },
  {
   "cell_type": "markdown",
   "metadata": {},
   "source": [
    "### No.141 Implement Stack\n",
    "\n",
    "Implement a stack. You can use any data structure inside a stack except stack itself to implement it.\n"
   ]
  },
  {
   "cell_type": "code",
   "execution_count": 2,
   "metadata": {
    "collapsed": true
   },
   "outputs": [],
   "source": [
    "class Stack:\n",
    "    # initialize your data structure here.\n",
    "    def __init__(self):\n",
    "        self.stack = []\n",
    "\n",
    "    # @param x, an integer, push a new item into the stack\n",
    "    # @return nothing\n",
    "    def push(self, x):\n",
    "        # Write your code here\n",
    "        self.stack.append(x)\n",
    "\n",
    "    # @return nothing, pop the top of the stack\n",
    "    def pop(self):\n",
    "        # Write your code here\n",
    "        if not self.stack:\n",
    "            return None\n",
    "        else:\n",
    "            return self.stack.pop()\n",
    "\n",
    "    # @return an integer, return the top of the stack\n",
    "    def top(self):\n",
    "        # Write your code here\n",
    "        if not self.stack:\n",
    "            return None\n",
    "        else:\n",
    "            return self.stack[-1]\n",
    "\n",
    "    # @return a boolean, check the stack is empty or not.\n",
    "    def isEmpty(self):\n",
    "        # Write your code here\n",
    "        if not self.stack:\n",
    "            return True\n",
    "        else:\n",
    "            return False"
   ]
  },
  {
   "cell_type": "markdown",
   "metadata": {},
   "source": [
    "### No.142  Implement Stack by Two Queues\n",
    "\n",
    "Implement a stack by two queues. The queue is first in first out (FIFO). That means you can not directly pop the last element in a queue."
   ]
  },
  {
   "cell_type": "code",
   "execution_count": 3,
   "metadata": {
    "collapsed": true
   },
   "outputs": [],
   "source": [
    "from collections import deque\n",
    "class Stack:\n",
    "    # initialize your data structure here.\n",
    "    def __init__(self):\n",
    "        self.q1 = deque()\n",
    "        self.q2 = deque()\n",
    "\n",
    "    # @param x, an integer, push a new item into the stack\n",
    "    # @return nothing\n",
    "    def push(self, x):\n",
    "        # Write your code here\n",
    "        self.q1.append(x)\n",
    "\n",
    "    # @return nothing, pop the top of the stack\n",
    "    def pop(self):\n",
    "        # Write your code here\n",
    "        if not self.q1:\n",
    "            return None\n",
    "        \n",
    "        while len(self.q1) > 1:\n",
    "            self.q2.append(self.q1.popleft())\n",
    "        \n",
    "        self.q1, self.q2 = self.q2, self.q1\n",
    "        return self.q2.popleft()\n",
    "\n",
    "    # @return an integer, return the top of the stack\n",
    "    def top(self):\n",
    "        # Write your code here\n",
    "        if not self.q1:\n",
    "            return None\n",
    "        \n",
    "        while len(self.q1) > 1:\n",
    "            self.q2.append(self.q1.popleft())\n",
    "        \n",
    "        ret = self.q1[0]\n",
    "        self.q2.append(self.q1.popleft())\n",
    "        self.q1, self.q2 = self.q2, self.q1\n",
    "\n",
    "        return ret\n"
   ]
  },
  {
   "cell_type": "markdown",
   "metadata": {},
   "source": [
    "### No.143 Implement Queue by Linked List II\n",
    "Implement a Queue by linked list. Provide the following basic methods:\n",
    "\n",
    "- push_front(item). Add a new item to the front of queue.\n",
    "- push_back(item). Add a new item to the back of the queue.\n",
    "- pop_front(). Move the first item out of the queue, return it.\n",
    "- pop_back(). Move the last item out of the queue, return it."
   ]
  },
  {
   "cell_type": "code",
   "execution_count": 4,
   "metadata": {
    "collapsed": true
   },
   "outputs": [],
   "source": [
    "class DListNode:\n",
    "    def __init__(self, val, next = None, pre = None):\n",
    "        self.val = val\n",
    "        self.next = next\n",
    "        self.pre = pre\n",
    "\n",
    "class Dequeue(object):\n",
    "\n",
    "    def __init__(self):\n",
    "        # do some intialize if necessary\n",
    "        self.head = DListNode(0)\n",
    "        self.tail = DListNode(0)\n",
    "        self.head.next = self.tail\n",
    "        self.tail.pre = self.head\n",
    "\n",
    "    # @param {int} item an integer\n",
    "    # @return nothing\n",
    "    def push_front(self, item):\n",
    "        # Write yout code here\n",
    "        node = DListNode(item)\n",
    "        curHead = self.head.next\n",
    "        \n",
    "        self.head.next = node\n",
    "        node.next = curHead\n",
    "        curHead.pre = node\n",
    "        node.pre = self.head\n",
    "\n",
    "    # @param {int} item an integer\n",
    "    # @return nothing\n",
    "    def push_back(self, item):\n",
    "        # Write yout code here\n",
    "        node = DListNode(item)\n",
    "        curTail = self.tail.pre\n",
    "        \n",
    "        self.tail.pre = node\n",
    "        node.pre = curTail\n",
    "        curTail.next = node\n",
    "        node.next = self.tail\n",
    "\n",
    "    # @return an integer\n",
    "    def pop_front(self):\n",
    "        # Write your code here\n",
    "        curHead = self.head.next\n",
    "        self.head.next = curHead.next\n",
    "        curHead.next.pre = self.head\n",
    "        return curHead.val\n",
    "\n",
    "    # @return an integer\n",
    "    def pop_back(self):\n",
    "        # Write your code here\n",
    "        curTail = self.tail.pre\n",
    "        self.tail.pre = curTail.pre\n",
    "        curTail.pre.next = self.tail\n",
    "        return curTail.val"
   ]
  },
  {
   "cell_type": "markdown",
   "metadata": {},
   "source": [
    "### No.144 Implement Queue by Linked List\n",
    "Implement a Queue by linked list. Support the following basic methods:\n",
    "\n",
    "enqueue(item). Put a new item in the queue.\n",
    "dequeue(). Move the first item out of the queue, return it."
   ]
  },
  {
   "cell_type": "code",
   "execution_count": 5,
   "metadata": {
    "collapsed": true
   },
   "outputs": [],
   "source": [
    "class MyQueue(object):\n",
    "\n",
    "    def __init__(self):\n",
    "        # do some intialize if necessary\n",
    "        self.head = ListNode(0)\n",
    "        self.tail = self.head\n",
    "\n",
    "    # @param {int} item an integer\n",
    "    # @return nothing\n",
    "    def enqueue(self, item):\n",
    "        # Write yout code here\n",
    "        node = ListNode(item)\n",
    "        self.tail.next = node\n",
    "        self.tail = node\n",
    "\n",
    "    # @return an integer\n",
    "    def dequeue(self):\n",
    "        # Write your code here\n",
    "        if self.head.next is None:\n",
    "            return None\n",
    "            \n",
    "        val = self.head.next.val\n",
    "        self.head = self.head.next\n",
    "        return val"
   ]
  },
  {
   "cell_type": "markdown",
   "metadata": {},
   "source": [
    "### No.145 Hash Function\n",
    "In data structure Hash, hash function is used to convert a string(or any other type) into an integer smaller than hash size and bigger or equal to zero. The objective of designing a hash function is to \"hash\" the key as unreasonable as possible. A good hash function can avoid collision as less as possible. A widely used hash function algorithm is using a magic number 33, consider any string as a 33 based big integer like follow:\n",
    "```python\n",
    "hashcode(\"abcd\") = (ascii(a) * 333 + ascii(b) * 332 + ascii(c) *33 + ascii(d)) % HASH_SIZE \n",
    "\n",
    "                              = (97* 333 + 98 * 332 + 99 * 33 +100) % HASH_SIZE\n",
    "\n",
    "                              = 3595978 % HASH_SIZE\n",
    "```\n",
    "here HASH_SIZE is the capacity of the hash table (you can assume a hash table is like an array with index 0 ~ HASH_SIZE-1).\n",
    "\n",
    "Given a string as a key and the size of hash table, return the hash value of this key.f\n",
    "\n"
   ]
  },
  {
   "cell_type": "code",
   "execution_count": 6,
   "metadata": {
    "collapsed": true
   },
   "outputs": [],
   "source": [
    "class Solution:\n",
    "    \"\"\"\n",
    "    @param key: A String you should hash\n",
    "    @param HASH_SIZE: An integer\n",
    "    @return an integer\n",
    "    \"\"\"\n",
    "    def hashCode(self, key, HASH_SIZE):\n",
    "        # write your code here\n",
    "        localSum = 0\n",
    "        for i in range(len(key)):\n",
    "            localSum = (localSum * 33 + ord(key[i])) % HASH_SIZE\n",
    "        \n",
    "        return localSum % HASH_SIZE"
   ]
  },
  {
   "cell_type": "markdown",
   "metadata": {},
   "source": [
    "### No.146 Stack Sorting\n",
    "Sort a stack in ascending order (with biggest terms on top).\n",
    "\n",
    "You may use at most one additional stack to hold items, but you may not copy the elements into any other data structure (e.g. array).\n",
    "\n",
    "Example\n",
    "```python\n",
    "Given stack =\n",
    "\n",
    "| |\n",
    "|3|\n",
    "|1|\n",
    "|2|\n",
    "|4|\n",
    " -\n",
    "return:\n",
    "\n",
    "| |\n",
    "|4|\n",
    "|3|\n",
    "|2|\n",
    "|1|\n",
    " -\n",
    " ```"
   ]
  },
  {
   "cell_type": "code",
   "execution_count": 7,
   "metadata": {
    "collapsed": true
   },
   "outputs": [],
   "source": [
    "class Solution:\n",
    "    # @param {Stack} stk an integer Stack\n",
    "    # @return {int} void\n",
    "    def stackSorting(self, stk):\n",
    "        # Write your code here\n",
    "        stk2 = Stack([])\n",
    "        while not stk.isEmpty():\n",
    "            temp = stk.pop()\n",
    "            count = 0\n",
    "            if stk2.isEmpty():\n",
    "                stk2.push(temp)\n",
    "                continue\n",
    "                \n",
    "            # Do not forget to check stk2 is empty!\n",
    "            while not stk2.isEmpty() and temp > stk2.peek():\n",
    "                stk.push(stk2.pop())\n",
    "                count += 1\n",
    "            \n",
    "            stk2.push(temp)\n",
    "            while count > 0:\n",
    "                stk2.push(stk.pop())\n",
    "                count -= 1\n",
    "    \n",
    "        while not stk2.isEmpty():\n",
    "            stk.push(stk2.pop())\n",
    "            \n",
    "        return"
   ]
  },
  {
   "cell_type": "markdown",
   "metadata": {
    "collapsed": true
   },
   "source": [
    "### No.147 Heapify\n",
    "Given an integer array, heapify it into a min-heap array.\n",
    "\n",
    "For a heap array A, A[0] is the root of heap, and for each A[i], A[i * 2 + 1] is the left child of A[i] and A[i * 2 + 2] is the right child of A[i]."
   ]
  },
  {
   "cell_type": "code",
   "execution_count": 15,
   "metadata": {
    "collapsed": false
   },
   "outputs": [
    {
     "name": "stdout",
     "output_type": "stream",
     "text": [
      "[1, 2, 3, 4, 5] 68178888\n"
     ]
    }
   ],
   "source": [
    "def bubbleUp(A, pos):\n",
    "    cur = pos\n",
    "    while cur > 0:\n",
    "        if cur % 2 == 0:\n",
    "            parentPos = cur / 2 - 1\n",
    "        else:\n",
    "            parentPos = cur / 2\n",
    "\n",
    "        if A[parentPos] <= A[cur]:\n",
    "            return\n",
    "        else:\n",
    "            A[parentPos], A[cur] = A[cur], A[parentPos]\n",
    "            cur = parentPos\n",
    "\n",
    "    return\n",
    "\n",
    "# Do it in place!!! passing pos for this reason\n",
    "def heapPush(A, x, pos):\n",
    "    A[pos] = x\n",
    "    bubbleUp(A, pos)\n",
    "\n",
    "def heapify(A):\n",
    "    if not A:\n",
    "        return []\n",
    "    \n",
    "    for pos in range(len(A)):\n",
    "        temp = A[pos]\n",
    "        heapPush(A, temp, pos)\n",
    "    \n",
    "    return\n",
    "        \n",
    "A = [3 ,4 ,2 ,1, 5]\n",
    "heapify(A)\n",
    "\n",
    "print A, id(A)"
   ]
  },
  {
   "cell_type": "markdown",
   "metadata": {},
   "source": [
    "### No.148 Animal Shelter\n",
    "An animal shelter holds only dogs and cats, and operates on a strictly \"first in, first out\" basis. People must adopt either the \"oldest\" (based on arrival time) of all animals at the shelter, or they can select whether they would prefer a dog or a cat (and will receive the oldest animal of that type). They cannot select which specific animal they would like. Create the data structures to maintain this system and implement operations such as enqueue, dequeueAny, dequeueDog and dequeueCat.\n",
    "\n",
    "Example\n",
    "```python\n",
    "int CAT = 0\n",
    "int DOG = 1\n",
    "\n",
    "enqueue(\"james\", DOG);\n",
    "enqueue(\"tom\", DOG);\n",
    "enqueue(\"mimi\", CAT);\n",
    "dequeueAny();  // should return \"james\"\n",
    "dequeueCat();  // should return \"mimi\"\n",
    "dequeueDog();  // should return \"tom\"\n",
    "```"
   ]
  },
  {
   "cell_type": "code",
   "execution_count": 22,
   "metadata": {
    "collapsed": true
   },
   "outputs": [],
   "source": [
    "from collections import deque\n",
    "class AnimalShelter(object):\n",
    "\n",
    "    def __init__(self):\n",
    "        # do some intialize if necessary\n",
    "        self.cat = deque()\n",
    "        self.dog = deque()\n",
    "        self.timestamp = 0\n",
    "\n",
    "    \"\"\"\n",
    "    @param {string} name\n",
    "    @param {int} type, 1 if Animal is dog or 0\n",
    "    @return nothing\n",
    "    \"\"\"\n",
    "    def enqueue(self, name, type):\n",
    "        # Write yout code here\n",
    "        if type == 1:\n",
    "            self.dog.append((name, self.timestamp))\n",
    "        else:\n",
    "            self.cat.append((name, self.timestamp))\n",
    "        \n",
    "        self.timestamp += 1\n",
    "\n",
    "    # return a string\n",
    "    def dequeueAny(self):\n",
    "        # Write your code here\n",
    "        if not self.cat and not self.dog:\n",
    "            return None\n",
    "        \n",
    "        if not self.cat:\n",
    "            name, timestamp = self.dog.popleft()\n",
    "            return name\n",
    "        \n",
    "        if not self.dog:\n",
    "            name, timestamp = self.cat.popleft()\n",
    "            return name\n",
    "        \n",
    "        if self.cat[0][1] < self.dog[0][1]:\n",
    "            name, timestamp = self.cat.popleft()\n",
    "            return name\n",
    "        else:\n",
    "            name, timestamp = self.dog.popleft()\n",
    "            return name\n",
    "            \n",
    "    # return a string\n",
    "    def dequeueDog(self):\n",
    "        # Write your code here\n",
    "        if not self.dog():\n",
    "            return None\n",
    "        else:\n",
    "            name, timestamp = self.dog.popleft()\n",
    "            return name\n",
    "\n",
    "    # return a string\n",
    "    def dequeueCat(self):\n",
    "        # Write your code here\n",
    "        if not self.cat:\n",
    "            return None\n",
    "        else:\n",
    "            name, timestamp = self.cat.popleft()\n",
    "            return name"
   ]
  },
  {
   "cell_type": "markdown",
   "metadata": {},
   "source": [
    "### No.149 Max Tree\n",
    "Given an integer array with no duplicates. A max tree building on this array is defined as follow:\n",
    "\n",
    "The root is the maximum number in the array\n",
    "The left subtree and right subtree are the max trees of the subarray divided by the root number.\n",
    "Construct the max tree by the given array.\n",
    "\n",
    "Example\n",
    "```python\n",
    "Given [2, 5, 6, 0, 3, 1], the max tree constructed by this array is:\n",
    "\n",
    "    6\n",
    "   / \\\n",
    "  5   3\n",
    " /   / \\\n",
    "2   0   1\n",
    "```"
   ]
  },
  {
   "cell_type": "markdown",
   "metadata": {},
   "source": [
    "####  Recursive Solution:"
   ]
  },
  {
   "cell_type": "code",
   "execution_count": 23,
   "metadata": {
    "collapsed": true
   },
   "outputs": [],
   "source": [
    "class Solution:\n",
    "    # @param A: Given an integer array with no duplicates.\n",
    "    # @return: The root of max tree.\n",
    "    def maxTree(self, A):\n",
    "        # write your code here\n",
    "        if not A:\n",
    "            return None\n",
    "            \n",
    "        if len(A) == 1:\n",
    "            root = TreeNode(A[0])\n",
    "            return root\n",
    "        \n",
    "        max, pos = -sys.maxint, 0\n",
    "        for i in xrange(len(A)):\n",
    "            if A[i] > max:\n",
    "                max, pos = A[i], i\n",
    "        \n",
    "        left = self.maxTree(A[:pos])\n",
    "        right = self.maxTree(A[pos + 1:])\n",
    "        root = TreeNode(max)\n",
    "        root.left = left\n",
    "        root.right = right\n",
    "        \n",
    "        return root"
   ]
  },
  {
   "cell_type": "markdown",
   "metadata": {},
   "source": [
    "#### monotonic Stack"
   ]
  },
  {
   "cell_type": "code",
   "execution_count": 2,
   "metadata": {
    "collapsed": true
   },
   "outputs": [],
   "source": [
    "class Solution:\n",
    "    # @param A: Given an integer array with no duplicates.\n",
    "    # @return: The root of max tree.\n",
    "    def maxTree(self, A):\n",
    "        # write your code here\n",
    "        if not A:\n",
    "            return None\n",
    "        \n",
    "        stack = []\n",
    "        for i in xrange(len(A)):\n",
    "            node = TreeNode(A[i])\n",
    "            while len(stack) > 0 and A[i] > stack[-1].val:\n",
    "                node.left = stack.pop()\n",
    "            \n",
    "            if len(stack) > 0 and A[i] < stack[-1].val:\n",
    "                stack[-1].right = node\n",
    "                \n",
    "            stack.append(node)\n",
    "        \n",
    "        return stack[0]"
   ]
  },
  {
   "cell_type": "markdown",
   "metadata": {
    "collapsed": true
   },
   "source": [
    "### No.150 Palindrome Partitioning\n",
    "\n",
    "Given a string s, partition s such that every substring of the partition is a palindrome.\n",
    "\n",
    "Return all possible palindrome partitioning of s.\n",
    "\n",
    "Example\n",
    "```python\n",
    "Given s = \"aab\", return:\n",
    "\n",
    "[\n",
    "  [\"aa\",\"b\"],\n",
    "  [\"a\",\"a\",\"b\"]\n",
    "]\n",
    "```"
   ]
  },
  {
   "cell_type": "code",
   "execution_count": 27,
   "metadata": {
    "collapsed": false
   },
   "outputs": [
    {
     "name": "stdout",
     "output_type": "stream",
     "text": [
      "[['a', 'a', 'b'], ['aa', 'b']]\n"
     ]
    }
   ],
   "source": [
    "def isPalindrome(s):\n",
    "    if s == \"\":\n",
    "        return False\n",
    "    \n",
    "    start, end = 0, len(s) - 1\n",
    "    while start < end:\n",
    "        if s[start] == s[end]:\n",
    "            start += 1\n",
    "            end -= 1\n",
    "            continue\n",
    "        else:\n",
    "            return False\n",
    "    return True\n",
    "\n",
    "def helper(s, path, pos, ret):\n",
    "    if pos == len(s):\n",
    "        ret.append([] + path)\n",
    "        return\n",
    "    \n",
    "    for i in xrange(pos + 1, len(s) + 1):\n",
    "        if isPalindrome(s[pos:i]):\n",
    "            path.append(s[pos:i])\n",
    "            helper(s, path, i, ret)\n",
    "            path.pop()\n",
    "        \n",
    "def partition(s):\n",
    "    ret = []\n",
    "    helper(s, [], 0, ret)\n",
    "    return ret\n",
    "\n",
    "A = \"aab\"\n",
    "print(partition(A))"
   ]
  },
  {
   "cell_type": "markdown",
   "metadata": {},
   "source": [
    "### No.151 Clone Graph\n",
    "Clone an undirected graph. Each node in the graph contains a label and a list of its neighbors.\n",
    "\n",
    "How we serialize an undirected graph:\n",
    "\n",
    "Nodes are labeled uniquely.\n",
    "\n",
    "We use # as a separator for each node, and , as a separator for node label and each neighbor of the node.\n",
    "\n",
    "As an example, consider the serialized graph {0,1,2#1,2#2,2}.\n",
    "\n",
    "The graph has a total of three nodes, and therefore contains three parts as separated by #.\n",
    "\n",
    "```python\n",
    "First node is labeled as 0. Connect node 0 to both nodes 1 and 2.\n",
    "Second node is labeled as 1. Connect node 1 to node 2.\n",
    "Third node is labeled as 2. Connect node 2 to node 2 (itself), thus forming a self-cycle.\n",
    "Visually, the graph looks like the following:\n",
    "\n",
    "   1\n",
    "  / \\\n",
    " /   \\\n",
    "0 --- 2\n",
    "     / \\\n",
    "     \\_/\n",
    "```"
   ]
  },
  {
   "cell_type": "code",
   "execution_count": 28,
   "metadata": {
    "collapsed": true
   },
   "outputs": [],
   "source": [
    "# Definition for a undirected graph node\n",
    "# class UndirectedGraphNode:\n",
    "#     def __init__(self, x):\n",
    "#         self.label = x\n",
    "#         self.neighbors = []\n",
    "from collections import deque\n",
    "class Solution:\n",
    "    # @param node, a undirected graph node\n",
    "    # @return a undirected graph node\n",
    "    def __init__(self):\n",
    "        self.dict = {}\n",
    "        \n",
    "    def cloneGraph(self, node):\n",
    "        # write your code here\n",
    "        if not node:\n",
    "            return None\n",
    "        \n",
    "        q = deque()\n",
    "        q.append(node)\n",
    "        newGraph = UndirectedGraphNode(node.label)\n",
    "        D = dict()\n",
    "        D[node] = newGraph\n",
    "        while q:\n",
    "            tempNode = q.popleft()\n",
    "            newNode = D.get(tempNode)\n",
    "            if newNode is None:\n",
    "                newNode = UndirectedGraphNode(tempNode.label)\n",
    "                D[tempNode] = newNode\n",
    "            for i in tempNode.neighbors:\n",
    "                if D.get(i) is not None:\n",
    "                    newNode.neighbors.append(D.get(i))\n",
    "                    continue\n",
    "                q.append(i)\n",
    "                node_i = UndirectedGraphNode(i.label)\n",
    "                newNode.neighbors.append(node_i)\n",
    "                D[i] = node_i\n",
    "        return newGraph"
   ]
  },
  {
   "cell_type": "markdown",
   "metadata": {},
   "source": [
    "### No.152 Combination Sum\n",
    "Given a set of candidate positive!!!! numbers (C) and a target number (T), find all unique combinations in C where the candidate numbers sums to T.\n",
    "\n",
    "The same repeated number may be chosen from C unlimited number of times.\n",
    "\n",
    "```python\n",
    "For example, given candidate set 2,3,6,7 and target 7, \n",
    "A solution set is: \n",
    "[7] \n",
    "[2, 2, 3] \n",
    "```"
   ]
  },
  {
   "cell_type": "code",
   "execution_count": 31,
   "metadata": {
    "collapsed": true
   },
   "outputs": [],
   "source": [
    "def helper(nums, path, pos, target, ret):\n",
    "    if sum(path) > target:\n",
    "        return\n",
    "\n",
    "    if sum(path) == target:\n",
    "        ret.append([] + path)\n",
    "        \n",
    "    for i in xrange(pos, len(nums)):\n",
    "        path.append(nums[i])\n",
    "        helper(nums, path, i, target, ret)\n",
    "        path.pop()\n",
    "        \n",
    "def combinationSum(candidates, target):\n",
    "    if not candidates:\n",
    "        return []\n",
    "    \n",
    "    candidates.sort()\n",
    "    ret = []\n",
    "    helper(candidates, [], 0, target, ret)\n",
    "    \n",
    "    return ret\n",
    "    "
   ]
  },
  {
   "cell_type": "markdown",
   "metadata": {},
   "source": [
    "### No.153 Topological Sorting\n",
    "\n",
    "Given an directed graph, a topological order of the graph nodes is defined as follow:\n",
    "\n",
    "For each directed edge A -> B in graph, A must before B in the order list.\n",
    "The first node in the order can be any node in the graph with no nodes direct to it.\n",
    "Find any topological order for the given graph.\n",
    "\n",
    " Notice\n",
    "\n",
    "You can assume that there is at least one topological order in the graph.\n"
   ]
  },
  {
   "cell_type": "code",
   "execution_count": 1,
   "metadata": {
    "collapsed": true
   },
   "outputs": [],
   "source": [
    "class Solution:\n",
    "    \"\"\"\n",
    "    @param graph: A list of Directed graph node\n",
    "    @return: A list of graph nodes in topological order.\n",
    "    \"\"\"\n",
    "    def topSort(self, graph):\n",
    "        # write your code here\n",
    "        if graph is None:\n",
    "            return []\n",
    "        \n",
    "        D = dict()\n",
    "        for i in graph:\n",
    "            D[i] = 0\n",
    "        \n",
    "        for i in graph:\n",
    "            for j in i.neighbors:\n",
    "                D[j] += 1\n",
    "        \n",
    "        ret = []\n",
    "        while len(D) > 0:\n",
    "            listZero = []\n",
    "            for i in D:\n",
    "                if D[i] == 0:\n",
    "                    listZero.append(i)\n",
    "            \n",
    "            for i in listZero:\n",
    "                ret.append(i)\n",
    "                del D[i]\n",
    "                for j in i.neighbors:\n",
    "                    D[j] -= 1\n",
    "       \n",
    "        return ret"
   ]
  },
  {
   "cell_type": "markdown",
   "metadata": {
    "collapsed": true
   },
   "source": [
    "### No.154 N-Queens II\n",
    "\n",
    "Follow up for N-Queens problem.\n",
    "\n",
    "Now, instead outputting board configurations, return the total number of distinct solutions.\n",
    "\n",
    "Example\n",
    "\n",
    "For n=4, there are 2 distinct solutions."
   ]
  },
  {
   "cell_type": "code",
   "execution_count": 2,
   "metadata": {
    "collapsed": true
   },
   "outputs": [],
   "source": [
    "class Solution:\n",
    "    \"\"\"\n",
    "    Calculate the total number of distinct N-Queen solutions.\n",
    "    @param n: The number of queens.\n",
    "    @return: The total number of distinct solutions.\n",
    "    \"\"\"\n",
    "    total = 0\n",
    "    \n",
    "    def canAttack(self, A, B):\n",
    "        if abs(A[0] - B[0]) == abs(A[1] - B[1]):\n",
    "            return True\n",
    "        return False\n",
    "    \n",
    "    def checkAttack(self, path):\n",
    "        n = len(path)\n",
    "        for i in xrange(len(path) - 1):\n",
    "            if self.canAttack((i, path[i]), ((n - 1), path[-1])):\n",
    "                return True\n",
    "        return False\n",
    "            \n",
    "    def dfs(self, nums, path, pos, visited):\n",
    "        if pos >= len(nums):\n",
    "            if self.checkAttack(path) is False:\n",
    "                self.total += 1\n",
    "        \n",
    "        for i in xrange(len(nums)):\n",
    "            if visited[i] is True:\n",
    "                continue\n",
    "            \n",
    "            if self.checkAttack(path):\n",
    "                return\n",
    "            \n",
    "            path.append(nums[i])\n",
    "            visited[i] = True\n",
    "            self.dfs(nums, path, pos + 1, visited)\n",
    "            path.pop()\n",
    "            visited[i] = False\n",
    "        \n",
    "    \n",
    "    def totalNQueens(self, n):\n",
    "        # write your code here\n",
    "        if n == 0 or n == 1:\n",
    "            return n\n",
    "            \n",
    "        nums = [i for i in range(1, n + 1)]\n",
    "        visited = [False] * len(nums)\n",
    "        \n",
    "        self.total = 0\n",
    "        self.dfs(nums, [], 0, visited)\n",
    "        return self.total\n",
    "     "
   ]
  },
  {
   "cell_type": "markdown",
   "metadata": {},
   "source": [
    "### No.155 Find the Connected Component in the Undirected Graph\n",
    "Find the number connected component in the undirected graph. Each node in the graph contains a label and a list of its neighbors. (a connected component (or just component) of an undirected graph is a subgraph in which any two vertices are connected to each other by paths, and which is connected to no additional vertices in the supergraph.)\n",
    "\n",
    "Example\n",
    "Given graph:\n",
    "```python\n",
    "\n",
    "A------B  C\n",
    " \\     |  | \n",
    "  \\    |  |\n",
    "   \\   |  |\n",
    "    \\  |  |\n",
    "      D   E\n",
    "Return {A,B,D}, {C,E}. Since there are two connected component which is {A,B,D}, {C,E}\n",
    "```"
   ]
  },
  {
   "cell_type": "code",
   "execution_count": 1,
   "metadata": {
    "collapsed": true
   },
   "outputs": [],
   "source": [
    "from collections import deque\n",
    "class Solution:\n",
    "    # @param {UndirectedGraphNode[]} nodes a array of undirected graph node\n",
    "    # @return {int[][]} a connected set of a undirected graph\n",
    "    def bfs(self, node, D, ret):\n",
    "        q = deque()\n",
    "        q.append(node)\n",
    "        localList = []\n",
    "        \n",
    "        while q:\n",
    "            temp = q.popleft()\n",
    "            if D.get(temp) is None:\n",
    "                continue\n",
    "            localList.append(temp.label)\n",
    "            \n",
    "            for i in temp.neighbors:\n",
    "                q.append(i)\n",
    "            \n",
    "            del D[temp]\n",
    "        \n",
    "        localList.sort()\n",
    "        ret.append([] + localList)\n",
    "            \n",
    "    \n",
    "    def connectedSet(self, nodes):\n",
    "        # Write your code here\n",
    "        if not nodes:\n",
    "            return []\n",
    "        \n",
    "        D = dict()    \n",
    "        for i in nodes:\n",
    "            D[i] = True\n",
    "        \n",
    "        ret = []\n",
    "        \n",
    "        for i in nodes:\n",
    "            if D.get(i) is None:\n",
    "                continue\n",
    "            self.bfs(i, D, ret)\n",
    "        \n",
    "        return ret     "
   ]
  },
  {
   "cell_type": "markdown",
   "metadata": {},
   "source": [
    "### No.156 String Permutation II\n",
    "Given a string, find all permutations of it without duplicates.\n",
    "\n",
    "Example\n",
    "\n",
    "Given \"abb\", return [\"abb\", \"bab\", \"bba\"].\n",
    "\n",
    "Given \"aabb\", return [\"aabb\", \"abab\", \"baba\", \"bbaa\", \"abba\", \"baab\"]."
   ]
  },
  {
   "cell_type": "code",
   "execution_count": 2,
   "metadata": {
    "collapsed": true
   },
   "outputs": [],
   "source": [
    "class Solution:\n",
    "    # @param {string} str a string\n",
    "    # @return {string[]} all permutations\n",
    "    def nextPermute(self, A):\n",
    "        # first find out the first pos the A[pos] < A[pos + 1]\n",
    "        pos = len(A) - 2\n",
    "        while A[pos] >= A[pos + 1]:\n",
    "            pos -= 1\n",
    "            if pos < 0:\n",
    "                return None\n",
    "        \n",
    "        pos2 = pos + 1\n",
    "        while pos2 <= len(A) - 1 and A[pos2] > A[pos]:\n",
    "            pos2 += 1\n",
    "        pos2 -= 1\n",
    "        \n",
    "        A[pos2], A[pos] = A[pos], A[pos2]\n",
    "        \n",
    "        A[pos + 1:] = A[pos + 1:][::-1]\n",
    "        return A\n",
    "    \n",
    "    def stringPermutation2(self, str):\n",
    "        if str == \"\":\n",
    "            return ['']\n",
    "        \n",
    "        A = list(str)\n",
    "        A.sort()\n",
    "        \n",
    "        ret = []\n",
    "        \n",
    "        while True:\n",
    "            ret.append(\"\".join(A))\n",
    "            A = self.nextPermute(A)\n",
    "            if A is None:\n",
    "                break\n",
    "        \n",
    "        return ret"
   ]
  },
  {
   "cell_type": "markdown",
   "metadata": {},
   "source": [
    "### No.157  Word Ladder\n",
    "Given two words (start and end), and a dictionary, find the length of shortest transformation sequence from start to end, such that:\n",
    "\n",
    "Only one letter can be changed at a time\n",
    "Each intermediate word must exist in the dictionary\n",
    "\n",
    "Example\n",
    "```python\n",
    "Given:\n",
    "start = \"hit\"\n",
    "end = \"cog\"\n",
    "dict = [\"hot\",\"dot\",\"dog\",\"lot\",\"log\"]\n",
    "As one shortest transformation is \"hit\" -> \"hot\" -> \"dot\" -> \"dog\" -> \"cog\",\n",
    "return its length 5.\n",
    "```"
   ]
  },
  {
   "cell_type": "code",
   "execution_count": 3,
   "metadata": {
    "collapsed": true
   },
   "outputs": [],
   "source": [
    "from collections import deque\n",
    "class undirectedGraphNode:\n",
    "      def __init__(self, val):\n",
    "            self.val = val\n",
    "            self.neighbors = []\n",
    "\n",
    "class Solution:\n",
    "    # @param start, a string\n",
    "    # @param end, a string\n",
    "    # @param dict, a set of string\n",
    "    # @return an integer\n",
    "    \n",
    "    def formGraph(self, S, start, end):\n",
    "        alpha = \"abcdefghijklmnopqrstuvwxyz\"\n",
    "        if start not in S:\n",
    "            S.add(start)\n",
    "        \n",
    "        if end not in S:\n",
    "            S.add(end)\n",
    "        \n",
    "        graph = []\n",
    "        D = dict()\n",
    "        \n",
    "        for i in S:\n",
    "            node = undirectedGraphNode(i)\n",
    "            graph.append(node)\n",
    "            D[i] = node\n",
    "    \n",
    "        for i in graph:\n",
    "            alist = []\n",
    "            for j in xrange(len(i.val)):\n",
    "                for m in xrange(len(alpha)):\n",
    "                    alist.append(i.val[:j] + alpha[m] + i.val[j + 1:])\n",
    "            \n",
    "            for x in alist:\n",
    "                tempNode = D.get(x)\n",
    "                if tempNode is not None and tempNode != i:\n",
    "                    tempNode.neighbors.append(i)\n",
    "        \n",
    "        return graph, D\n",
    "    \n",
    "    def BFS(self, graph, start, end, D):\n",
    "        q = deque()\n",
    "        startNode = D.get(start)\n",
    "        q.append(startNode)\n",
    "        steps = 0\n",
    "        \n",
    "        while q:\n",
    "            steps += 1\n",
    "            qlen = len(q)\n",
    "            for i in xrange(qlen):\n",
    "                node = q.popleft()\n",
    "                # print node.val\n",
    "                # Remember to check here!!!\n",
    "                if D.get(node.val) is None:\n",
    "                    continue\n",
    "                del D[node.val]\n",
    "                if node.val == end:\n",
    "                    return steps\n",
    "                for x in node.neighbors:\n",
    "                    if D.get(x.val) is None:\n",
    "                        continue\n",
    "                    q.append(x)\n",
    "        \n",
    "        return 0\n",
    "        \n",
    "    def ladderLength(self, start, end, dict):\n",
    "        # write your code here\n",
    "        graph, D = self.formGraph(dict, start, end)\n",
    "        # for key in D:\n",
    "        #    print key\n",
    "        #    for i in D[key].neighbors:\n",
    "        #        print i.val\n",
    "        #    print \".....\"\n",
    "        \n",
    "        return self.BFS(graph, start, end, D)"
   ]
  },
  {
   "cell_type": "code",
   "execution_count": null,
   "metadata": {
    "collapsed": true
   },
   "outputs": [],
   "source": []
  }
 ],
 "metadata": {
  "kernelspec": {
   "display_name": "Python 2",
   "language": "python",
   "name": "python2"
  },
  "language_info": {
   "codemirror_mode": {
    "name": "ipython",
    "version": 2
   },
   "file_extension": ".py",
   "mimetype": "text/x-python",
   "name": "python",
   "nbconvert_exporter": "python",
   "pygments_lexer": "ipython2",
   "version": "2.7.10"
  }
 },
 "nbformat": 4,
 "nbformat_minor": 0
}

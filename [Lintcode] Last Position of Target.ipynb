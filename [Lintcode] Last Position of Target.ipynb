{
 "cells": [
  {
   "cell_type": "markdown",
   "metadata": {},
   "source": [
    "##[Lintcode] Last Position of Target\n",
    "Find the last position of a target number in a sorted array. Return -1 if target does not exist.\n",
    "\n",
    "Example\n",
    "\n",
    "Given [1, 2, 2, 4, 5, 5].\n",
    "\n",
    "For target = 2, return 2.\n",
    "\n",
    "For target = 5, return 5.\n",
    "\n",
    "For target = 6, return -1."
   ]
  },
  {
   "cell_type": "code",
   "execution_count": 7,
   "metadata": {
    "collapsed": true
   },
   "outputs": [],
   "source": [
    "def lastPosition(A, target):\n",
    "    # Write your code here\n",
    "    if A is None or len(A) == 0:\n",
    "        return -1\n",
    "\n",
    "    start = 0\n",
    "    end = len(A)-1\n",
    "    print start, end\n",
    "\n",
    "    while end > start:\n",
    "        mid = (start + end)/2\n",
    "\n",
    "        if A[mid] == target and A[mid+1] != target:\n",
    "            return mid\n",
    "        else:\n",
    "            if A[mid] <= target:\n",
    "                start = mid + 1\n",
    "            else:\n",
    "                end = mid - 1\n",
    "\n",
    "    print end\n",
    "    if A[-1] == target:\n",
    "        return len(A)-1\n",
    "    elif end < len(A) - 2 and A[end] == target and A[end+1] != target:\n",
    "        return end\n",
    "    else:\n",
    "        return -1"
   ]
  },
  {
   "cell_type": "code",
   "execution_count": 8,
   "metadata": {
    "collapsed": false
   },
   "outputs": [
    {
     "name": "stdout",
     "output_type": "stream",
     "text": [
      "0 7\n",
      "4\n"
     ]
    },
    {
     "data": {
      "text/plain": [
       "4"
      ]
     },
     "execution_count": 8,
     "metadata": {},
     "output_type": "execute_result"
    }
   ],
   "source": [
    "S = [1,2,4,5,5,6,6,6]\n",
    "lastPosition(S, 5)"
   ]
  },
  {
   "cell_type": "code",
   "execution_count": null,
   "metadata": {
    "collapsed": true
   },
   "outputs": [],
   "source": []
  }
 ],
 "metadata": {
  "kernelspec": {
   "display_name": "Python 2",
   "language": "python",
   "name": "python2"
  },
  "language_info": {
   "codemirror_mode": {
    "name": "ipython",
    "version": 2
   },
   "file_extension": ".py",
   "mimetype": "text/x-python",
   "name": "python",
   "nbconvert_exporter": "python",
   "pygments_lexer": "ipython2",
   "version": "2.7.11"
  }
 },
 "nbformat": 4,
 "nbformat_minor": 0
}

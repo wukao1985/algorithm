{
 "cells": [
  {
   "cell_type": "markdown",
   "metadata": {},
   "source": [
    "## Jump Game II\n",
    "\n",
    "Given an array of non-negative integers, you are initially positioned at the first index of the array.\n",
    "\n",
    "Each element in the array represents your maximum jump length at that position.\n",
    "\n",
    "Your goal is to reach the last index in the minimum number of jumps.\n",
    "\n",
    "**Exemple:**\n",
    "\n",
    "Given array A = [2,3,1,1,4]\n",
    "\n",
    "The minimum number of jumps to reach the last index is 2. (Jump 1 step from index 0 to 1, then 3 steps to the last index.)"
   ]
  },
  {
   "cell_type": "markdown",
   "metadata": {},
   "source": [
    "###State\n",
    "DP[i] represents minimum jump from postion 0 to i\n",
    "\n",
    "###Function\n",
    "DP[i] = min(DP[j] + 1) if j < i and j + A[j] >= i\n",
    "\n",
    "###Initilization\n",
    "DP[0] = 0\n",
    "\n",
    "###Answer\n",
    "DP[n - 1]"
   ]
  },
  {
   "cell_type": "code",
   "execution_count": 5,
   "metadata": {
    "collapsed": false
   },
   "outputs": [
    {
     "name": "stdout",
     "output_type": "stream",
     "text": [
      "2\n"
     ]
    }
   ],
   "source": [
    "import sys\n",
    "\n",
    "def jump(A):\n",
    "    if A is None or not A:\n",
    "        return 0\n",
    "    \n",
    "    DP = [sys.maxint] * len(A)\n",
    "    DP[0] = 0\n",
    "\n",
    "    for i in xrange(1, len(A)):\n",
    "        for j in xrange(0, i):\n",
    "            if j + A[j] >= i:\n",
    "                DP[i] = min(DP[i], DP[j] + 1)\n",
    "    \n",
    "    return DP[len(A) - 1]\n",
    "    \n",
    "A = [2,3,1,1,4]\n",
    "print jump(A)"
   ]
  },
  {
   "cell_type": "markdown",
   "metadata": {},
   "source": [
    "## Solultion\n",
    "\n",
    "- Get the len of the array n\n",
    "- Form DP table DP[0] - DP[n - 1], DP[i] stand for the minimum jumps from position i to the end. Based on this definition, DP[n - 1] = 0\n",
    "- Start from n-1, we calculate each DP[i] backwards. For each DP[i], we first get A[i] = j. Since when we calculate DP[i], all n > i already calculated, so we can use this to determine DP[i]:\n",
    "**DP[i] = min(DP[i + 1], DP[i + 2] .. DP[j]) + 1**\n",
    "Note that j can not be greater than n - 1\n",
    "- After we solve all DP table, return DP[0]"
   ]
  },
  {
   "cell_type": "code",
   "execution_count": 17,
   "metadata": {
    "collapsed": false
   },
   "outputs": [
    {
     "name": "stdout",
     "output_type": "stream",
     "text": [
      "2\n"
     ]
    }
   ],
   "source": [
    "import sys\n",
    "\n",
    "def jump(A):\n",
    "    # If list is empty, return 0\n",
    "    if A is None or len(A) == 0:\n",
    "        return 0\n",
    "\n",
    "    n = len(A)\n",
    "    \n",
    "    # Setup the DP table and make last one as 0\n",
    "    DP = [sys.maxint] * n\n",
    "    DP[n - 1] = 0\n",
    "    \n",
    "    # from n-1 to 0 calculate each DP\n",
    "    # for each i, check from A[i] option, and see\n",
    "    # which is minimum.\n",
    "    for i in reversed(xrange(0, n - 1)):\n",
    "        temp = sys.maxint\n",
    "        #print A[i], n - 1 - i\n",
    "        for j in xrange(1, min(A[i], n - 1 - i) + 1):\n",
    "            #print i, j, DP[i + j], temp\n",
    "            if 1 + DP[i + j] < temp:\n",
    "                temp = 1 + DP[i + j]\n",
    "        DP[i] = temp\n",
    "        #print i, DP[i]\n",
    "\n",
    "    return DP[0]\n",
    "\n",
    "A = [2,3,1,1,4]\n",
    "print jump(A)"
   ]
  },
  {
   "cell_type": "markdown",
   "metadata": {},
   "source": [
    "## ABOVE SOLUTION EXCEED TIME LIMIT!\n",
    "### Greedy Solution"
   ]
  }
 ],
 "metadata": {
  "kernelspec": {
   "display_name": "Python 2",
   "language": "python",
   "name": "python2"
  },
  "language_info": {
   "codemirror_mode": {
    "name": "ipython",
    "version": 2
   },
   "file_extension": ".py",
   "mimetype": "text/x-python",
   "name": "python",
   "nbconvert_exporter": "python",
   "pygments_lexer": "ipython2",
   "version": "2.7.11"
  }
 },
 "nbformat": 4,
 "nbformat_minor": 0
}

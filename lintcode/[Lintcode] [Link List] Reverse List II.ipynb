{
 "cells": [
  {
   "cell_type": "markdown",
   "metadata": {},
   "source": [
    "## [Lintcode] [Link List] Reverse List II\n",
    "Reverse a linked list from position m to n.\n",
    "\n",
    "Given 1->2->3->4->5->NULL, m = 2 and n = 4, return 1->4->3->2->5->NULL."
   ]
  },
  {
   "cell_type": "markdown",
   "metadata": {},
   "source": [
    "### Solution Needs these Basic Operation of Link List\n",
    "\n",
    "- reverseList\n",
    "- findKth Node of a List\n",
    "\n",
    "#### Lessons Learned: Sometimes we call reverseList, but does not want to return!"
   ]
  },
  {
   "cell_type": "code",
   "execution_count": 19,
   "metadata": {
    "collapsed": true
   },
   "outputs": [],
   "source": [
    "from __future__ import print_function\n",
    "\n",
    "class ListNode(object):\n",
    "\n",
    "    def __init__(self, val, next=None):\n",
    "        self.val = val\n",
    "        self.next = next\n",
    "\n",
    "def formList(A):\n",
    "    rhead = ListNode(0)\n",
    "    rtail = rhead\n",
    "    for i in A:\n",
    "        rtail.next = ListNode(i)\n",
    "        rtail = rtail.next\n",
    "    return rhead.next\n",
    "\n",
    "def printList(head):\n",
    "    while head is not None:\n",
    "        print(head.val, '->', end = '')\n",
    "        head = head.next\n",
    "    print('null')\n",
    "\n",
    "def reverseList(head):\n",
    "    if head is None or head.next is None:\n",
    "        return head\n",
    "    \n",
    "    pre = None\n",
    "    while head is not None:\n",
    "        tmp = head.next\n",
    "        head.next = pre\n",
    "        pre = head\n",
    "        head = tmp\n",
    "    \n",
    "    return pre\n",
    "\n",
    "def findKth(head, k):\n",
    "    for i in xrange(k):\n",
    "        if head is None:\n",
    "            return None\n",
    "        head = head.next\n",
    "    return head"
   ]
  },
  {
   "cell_type": "code",
   "execution_count": 35,
   "metadata": {
    "collapsed": false
   },
   "outputs": [
    {
     "name": "stdout",
     "output_type": "stream",
     "text": [
      "0 ->1 ->2 ->3 ->4 ->5 ->null\n",
      "5 1\n",
      "5 ->4 ->3 ->2 ->1 ->6 ->7 ->null\n"
     ]
    }
   ],
   "source": [
    "def reverseBetween(head, m, n):\n",
    "    # write your code here\n",
    "    if head is None or head.next is None:\n",
    "        return head\n",
    "\n",
    "    # set dummy node, get preM, M, N, afterN, four position\n",
    "    dummy = ListNode(0, head)\n",
    "\n",
    "    preM = findKth(dummy, m - 1)\n",
    "    M = preM.next\n",
    "    N = findKth(dummy, n)\n",
    "    afterN = N.next\n",
    "    N.next = None\n",
    "    \n",
    "    printList(dummy)\n",
    "    temp = reverseList(M)\n",
    "    print(temp.val, M.val)\n",
    "    preM.next = N\n",
    "    M.next = afterN\n",
    "    return dummy.next\n",
    "    \n",
    "\n",
    "\n",
    "A = [1, 2, 3, 4, 5, 6, 7]\n",
    "head = formList(A)\n",
    "head1 = reverseBetween(head, 1, 5)\n",
    "printList(head1)"
   ]
  },
  {
   "cell_type": "code",
   "execution_count": null,
   "metadata": {
    "collapsed": true
   },
   "outputs": [],
   "source": []
  },
  {
   "cell_type": "code",
   "execution_count": null,
   "metadata": {
    "collapsed": true
   },
   "outputs": [],
   "source": []
  }
 ],
 "metadata": {
  "kernelspec": {
   "display_name": "Python 2",
   "language": "python",
   "name": "python2"
  },
  "language_info": {
   "codemirror_mode": {
    "name": "ipython",
    "version": 2
   },
   "file_extension": ".py",
   "mimetype": "text/x-python",
   "name": "python",
   "nbconvert_exporter": "python",
   "pygments_lexer": "ipython2",
   "version": "2.7.11"
  }
 },
 "nbformat": 4,
 "nbformat_minor": 0
}

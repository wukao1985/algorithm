{
 "cells": [
  {
   "cell_type": "markdown",
   "metadata": {},
   "source": [
    "##Given a set of distinct integers, return all possible subsets.\n",
    "If S = [1,2,3], a solution is:\n",
    "\n",
    "[\n",
    "  [3],\n",
    "  [1],\n",
    "  [2],\n",
    "  [1,2,3],\n",
    "  [1,3],\n",
    "  [2,3],\n",
    "  [1,2],\n",
    "  []\n",
    "]"
   ]
  },
  {
   "cell_type": "markdown",
   "metadata": {},
   "source": [
    "## Using recursive to solve this problem "
   ]
  },
  {
   "cell_type": "code",
   "execution_count": 3,
   "metadata": {
    "collapsed": true
   },
   "outputs": [],
   "source": [
    "s = [[3], [1], [2], [1,2,3], [1,3], [2,3], [1,2],[]]"
   ]
  },
  {
   "cell_type": "code",
   "execution_count": 5,
   "metadata": {
    "collapsed": false
   },
   "outputs": [
    {
     "name": "stdout",
     "output_type": "stream",
     "text": [
      "[[3], [1], [2], [1, 2, 3], [1, 3], [2, 3], [1, 2], []]\n"
     ]
    }
   ],
   "source": [
    "print s"
   ]
  },
  {
   "cell_type": "markdown",
   "metadata": {},
   "source": [
    "## testing with append method"
   ]
  },
  {
   "cell_type": "code",
   "execution_count": 53,
   "metadata": {
    "collapsed": false
   },
   "outputs": [
    {
     "name": "stdout",
     "output_type": "stream",
     "text": [
      "[[1], [2], [3, 4]]\n"
     ]
    }
   ],
   "source": [
    "a = [[1],[2]]\n",
    "b = [3,4]\n",
    "a.append(b)\n",
    "print a"
   ]
  },
  {
   "cell_type": "markdown",
   "metadata": {},
   "source": [
    "##DFS funtion"
   ]
  },
  {
   "cell_type": "code",
   "execution_count": 54,
   "metadata": {
    "collapsed": false
   },
   "outputs": [],
   "source": [
    "def dfs(nums, pos, list_temp, ret):\n",
    "    ret.append([]+list_temp)\n",
    "    for i in xrange(pos, len(nums)):\n",
    "        list_temp.append(nums[i])\n",
    "        dfs(nums, i+1, list_temp, ret)\n",
    "        list_temp.pop()"
   ]
  },
  {
   "cell_type": "markdown",
   "metadata": {},
   "source": [
    "## get all subsets"
   ]
  },
  {
   "cell_type": "code",
   "execution_count": 55,
   "metadata": {
    "collapsed": true
   },
   "outputs": [],
   "source": [
    "def subsets(nums):\n",
    "    result = []\n",
    "    nums.sort()\n",
    "    dfs(nums, 0, [], result)\n",
    "    return result"
   ]
  },
  {
   "cell_type": "markdown",
   "metadata": {},
   "source": [
    "## test with list [1,2,3]"
   ]
  },
  {
   "cell_type": "code",
   "execution_count": 56,
   "metadata": {
    "collapsed": false
   },
   "outputs": [
    {
     "name": "stdout",
     "output_type": "stream",
     "text": [
      "[[], [1], [1, 2], [1, 2, 3], [1, 3], [2], [2, 3], [3]]\n"
     ]
    }
   ],
   "source": [
    "nums = [1,2,3]\n",
    "print subsets(nums)"
   ]
  },
  {
   "cell_type": "markdown",
   "metadata": {},
   "source": [
    "## test with a bigger list [2, 5, 2, 8, 3, 9]"
   ]
  },
  {
   "cell_type": "code",
   "execution_count": 57,
   "metadata": {
    "collapsed": false
   },
   "outputs": [
    {
     "name": "stdout",
     "output_type": "stream",
     "text": [
      "[[], [2], [2, 2], [2, 2, 3], [2, 2, 3, 5], [2, 2, 3, 5, 8], [2, 2, 3, 5, 8, 9], [2, 2, 3, 5, 9], [2, 2, 3, 8], [2, 2, 3, 8, 9], [2, 2, 3, 9], [2, 2, 5], [2, 2, 5, 8], [2, 2, 5, 8, 9], [2, 2, 5, 9], [2, 2, 8], [2, 2, 8, 9], [2, 2, 9], [2, 3], [2, 3, 5], [2, 3, 5, 8], [2, 3, 5, 8, 9], [2, 3, 5, 9], [2, 3, 8], [2, 3, 8, 9], [2, 3, 9], [2, 5], [2, 5, 8], [2, 5, 8, 9], [2, 5, 9], [2, 8], [2, 8, 9], [2, 9], [2], [2, 3], [2, 3, 5], [2, 3, 5, 8], [2, 3, 5, 8, 9], [2, 3, 5, 9], [2, 3, 8], [2, 3, 8, 9], [2, 3, 9], [2, 5], [2, 5, 8], [2, 5, 8, 9], [2, 5, 9], [2, 8], [2, 8, 9], [2, 9], [3], [3, 5], [3, 5, 8], [3, 5, 8, 9], [3, 5, 9], [3, 8], [3, 8, 9], [3, 9], [5], [5, 8], [5, 8, 9], [5, 9], [8], [8, 9], [9]]\n"
     ]
    }
   ],
   "source": [
    "nums = [2,5,2,8,3,9]\n",
    "print (subsets(nums))"
   ]
  },
  {
   "cell_type": "markdown",
   "metadata": {},
   "source": [
    "## test list function: pop"
   ]
  },
  {
   "cell_type": "code",
   "execution_count": 58,
   "metadata": {
    "collapsed": false
   },
   "outputs": [
    {
     "name": "stdout",
     "output_type": "stream",
     "text": [
      "[1, 2, 3, 4]\n"
     ]
    }
   ],
   "source": [
    "temp = [1,2,3,4,5]\n",
    "temp.pop()\n",
    "print temp"
   ]
  },
  {
   "cell_type": "code",
   "execution_count": 1,
   "metadata": {
    "collapsed": true
   },
   "outputs": [],
   "source": [
    "def subsetsHelper(result, alist, nums, pos):\n",
    "    result.append([]+alist)\n",
    "    \n",
    "    for i in xrange(pos, len(nums)):\n",
    "        alist.append(nums[i])\n",
    "        subsetsHelper(result, alist, nums, i + 1)\n",
    "        alist.pop()\n",
    "\n",
    "def subsets(nums):\n",
    "    if nums is None:\n",
    "        return []\n",
    "    \n",
    "    nums.sort()\n",
    "    ret = []\n",
    "\n",
    "    subsetsHelper(ret, [], nums, 0)\n",
    "    return ret\n"
   ]
  },
  {
   "cell_type": "code",
   "execution_count": 2,
   "metadata": {
    "collapsed": false
   },
   "outputs": [
    {
     "data": {
      "text/plain": [
       "[[], [1], [1, 2], [1, 2, 3], [1, 3], [2], [2, 3], [3]]"
      ]
     },
     "execution_count": 2,
     "metadata": {},
     "output_type": "execute_result"
    }
   ],
   "source": [
    "s = [1, 2, 3]\n",
    "subsets(s)"
   ]
  },
  {
   "cell_type": "code",
   "execution_count": null,
   "metadata": {
    "collapsed": true
   },
   "outputs": [],
   "source": []
  }
 ],
 "metadata": {
  "kernelspec": {
   "display_name": "Python 2",
   "language": "python",
   "name": "python2"
  },
  "language_info": {
   "codemirror_mode": {
    "name": "ipython",
    "version": 2
   },
   "file_extension": ".py",
   "mimetype": "text/x-python",
   "name": "python",
   "nbconvert_exporter": "python",
   "pygments_lexer": "ipython2",
   "version": "2.7.11"
  }
 },
 "nbformat": 4,
 "nbformat_minor": 0
}

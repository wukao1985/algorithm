{
 "cells": [
  {
   "cell_type": "markdown",
   "metadata": {},
   "source": [
    "##  Unique Paths \n",
    "A robot is located at the top-left corner of a m x n grid (marked 'Start' in the diagram below).\n",
    "\n",
    "The robot can only move either down or right at any point in time. The robot is trying to reach the bottom-right corner of the grid (marked 'Finish' in the diagram below).\n",
    "\n",
    "How many possible unique paths are there?"
   ]
  },
  {
   "cell_type": "markdown",
   "metadata": {},
   "source": [
    "## 1. Recursion + Memorization approach"
   ]
  },
  {
   "cell_type": "markdown",
   "metadata": {},
   "source": [
    "## **Running time on Lintcode: 1764ms**"
   ]
  },
  {
   "cell_type": "code",
   "execution_count": 15,
   "metadata": {
    "collapsed": false
   },
   "outputs": [
    {
     "name": "stdout",
     "output_type": "stream",
     "text": [
      "70\n"
     ]
    }
   ],
   "source": [
    "def uniquePaths(m, n):\n",
    "    # write your code here\n",
    "    # starting point\n",
    "    if m < 1 or n < 1:\n",
    "        return 0\n",
    "\n",
    "    D = dict()\n",
    "    ret = helper(m, n, D)\n",
    "\n",
    "    return ret\n",
    "\n",
    "def helper(m, n, D):\n",
    "    if m < 1 or n < 1:\n",
    "        return 0\n",
    "\n",
    "    if (m == 1 and n == 1) or \\\n",
    "       (m == 1 and n == 2) or \\\n",
    "       (m == 2 and n == 1):\n",
    "        return 1\n",
    "\n",
    "    # see if we have the result in dict\n",
    "    temp1 = D.get((m - 1, n))\n",
    "    temp2 = D.get((m, n - 1))\n",
    "\n",
    "    if temp1 is None:\n",
    "        temp1 = helper(m - 1, n, D)\n",
    "    if temp2 is None:\n",
    "        temp2 = helper(m, n - 1, D)\n",
    "    ret = temp1 + temp2\n",
    "    D[(m, n)] = ret\n",
    "\n",
    "    return ret\n",
    "\n",
    "print uniquePaths(5,5)"
   ]
  },
  {
   "cell_type": "markdown",
   "metadata": {
    "collapsed": false
   },
   "source": [
    "## 2. Dynamic Programming 4 Steps\n",
    "### State:\n",
    "DP[i][j] represents from Top left corner to i, j position, the num of possible Unique Paths\n",
    "### Function:\n",
    "```python\n",
    "DP[i][j] = DP[i - 1][j] + DP[i][j - 1]\n",
    "```\n",
    "### Initilization:\n",
    "```python\n",
    "DP[i][0] = 1\n",
    "DP[0][j] = 1\n",
    "```\n",
    "### Answer:\n",
    "```python\n",
    "DP[m][n]\n",
    "```"
   ]
  },
  {
   "cell_type": "markdown",
   "metadata": {},
   "source": [
    "## Running time on Lintcode: 2540ms"
   ]
  },
  {
   "cell_type": "code",
   "execution_count": 14,
   "metadata": {
    "collapsed": false
   },
   "outputs": [
    {
     "name": "stdout",
     "output_type": "stream",
     "text": [
      "70\n"
     ]
    }
   ],
   "source": [
    "def uniquePaths2(m, n):\n",
    "    \n",
    "    DP = [[0] * (n + 1) for i in range(m + 1)]\n",
    "    \n",
    "    # Initilization\n",
    "    for i in range(m + 1):\n",
    "        DP[i][0] = 1\n",
    "\n",
    "    for j in range(n + 1):\n",
    "        DP[0][j] = 1\n",
    "        \n",
    "    for i in xrange(1, m + 1):\n",
    "        for j in xrange(1, n + 1):\n",
    "            DP[i][j] = DP[i - 1][j] + DP[i][j - 1]\n",
    "    \n",
    "    return DP[m - 1][n - 1]\n",
    "\n",
    "print uniquePaths2(5, 5)"
   ]
  },
  {
   "cell_type": "code",
   "execution_count": null,
   "metadata": {
    "collapsed": true
   },
   "outputs": [],
   "source": []
  }
 ],
 "metadata": {
  "kernelspec": {
   "display_name": "Python 2",
   "language": "python",
   "name": "python2"
  },
  "language_info": {
   "codemirror_mode": {
    "name": "ipython",
    "version": 2
   },
   "file_extension": ".py",
   "mimetype": "text/x-python",
   "name": "python",
   "nbconvert_exporter": "python",
   "pygments_lexer": "ipython2",
   "version": "2.7.11"
  }
 },
 "nbformat": 4,
 "nbformat_minor": 0
}

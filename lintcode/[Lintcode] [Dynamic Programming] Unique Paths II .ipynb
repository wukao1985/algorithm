{
 "cells": [
  {
   "cell_type": "markdown",
   "metadata": {},
   "source": [
    "## [Lintcode] [Dynamic Programming] Unique Paths II \n",
    "Follow up for \"Unique Paths\":\n",
    "\n",
    "Now consider if some obstacles are added to the grids. How many unique paths would there be?\n",
    "\n",
    "An obstacle and empty space is marked as 1 and 0 respectively in the grid.\n",
    "\n",
    "For example,\n",
    "\n",
    "There is one obstacle in the middle of a 3x3 grid as illustrated below.\n",
    "```python\n",
    "[\n",
    "  [0,0,0],\n",
    "  [0,1,0],\n",
    "  [0,0,0]\n",
    "]\n",
    "```\n"
   ]
  },
  {
   "cell_type": "markdown",
   "metadata": {},
   "source": [
    "## 1. Recursion + Memorization approach"
   ]
  },
  {
   "cell_type": "code",
   "execution_count": 35,
   "metadata": {
    "collapsed": false
   },
   "outputs": [
    {
     "name": "stdout",
     "output_type": "stream",
     "text": [
      "[[0, 0, 0, 0], [0, 1, 0, 0], [0, 0, 0, 0], [0, 1, 0, 0]]\n"
     ]
    }
   ],
   "source": [
    "grid = [[0, 0, 0, 0], [0, 1, 0, 0], [0, 0, 0, 0], [0, 1, 0, 0]]\n",
    "print grid"
   ]
  },
  {
   "cell_type": "code",
   "execution_count": 36,
   "metadata": {
    "collapsed": false
   },
   "outputs": [
    {
     "name": "stdout",
     "output_type": "stream",
     "text": [
      "6\n"
     ]
    }
   ],
   "source": [
    "def uniquePathsWithObstacles(obstacleGrid):\n",
    "    if obstacleGrid is None or len(obstacleGrid) == 0:\n",
    "        return 0\n",
    "    \n",
    "    # if the first space is obstacle, return 0\n",
    "    if obstacleGrid[0][0] == 1:\n",
    "        return 0\n",
    "    \n",
    "    # First get the width and depth of the Grid\n",
    "    # m * n (m is the width and n is the depth)\n",
    "    m = len(obstacleGrid)\n",
    "    n = len(obstacleGrid[0])\n",
    "    \n",
    "    D = {}\n",
    "    ret = uniquePathHelper(obstacleGrid, m, n, D)\n",
    "    \n",
    "    return ret\n",
    "\n",
    "def uniquePathHelper(obstacleGrid, m, n, D):\n",
    "    if m < 1 or n < 1:\n",
    "        return 0\n",
    "    \n",
    "    # Put all base case here:\n",
    "    if m == 1 and n == 1:\n",
    "        if obstacleGrid[-1][-1] == 1:\n",
    "            return 0\n",
    "        else:\n",
    "            return 1\n",
    "    \n",
    "    if m == 1 and n == 2:\n",
    "        if obstacleGrid[-1][-2] == 1 or \\\n",
    "            obstacleGrid[-1][-1] == 1:\n",
    "                return 0\n",
    "        else:\n",
    "            return 1\n",
    "        \n",
    "    if m == 2 and n == 1:\n",
    "        if obstacleGrid[-2][-1] == 1 or \\\n",
    "            obstacleGrid[-1][-1] == 1:\n",
    "                return 0\n",
    "        else:\n",
    "            return 1\n",
    "    \n",
    "    # recursive call\n",
    "    temp1 = D.get((m - 1, n))\n",
    "    temp2 = D.get((m, n - 1))\n",
    "    \n",
    "    if m > 1 and obstacleGrid[- m + 1][- n] == 1:\n",
    "        temp1 = 0\n",
    "    if n > 1 and obstacleGrid[- m][- n + 1] == 1:\n",
    "        temp2 = 0\n",
    "\n",
    "    if temp1 is None:\n",
    "        temp1 = uniquePathHelper(obstacleGrid, m - 1, n, D)\n",
    "    if temp2 is None:\n",
    "        temp2 = uniquePathHelper(obstacleGrid, m, n - 1, D)\n",
    "\n",
    "    ret = temp1 + temp2\n",
    "    D[(m, n)] = ret\n",
    "\n",
    "    return ret\n",
    "\n",
    "print uniquePathsWithObstacles(grid)"
   ]
  },
  {
   "cell_type": "code",
   "execution_count": null,
   "metadata": {
    "collapsed": true
   },
   "outputs": [],
   "source": []
  }
 ],
 "metadata": {
  "kernelspec": {
   "display_name": "Python 2",
   "language": "python",
   "name": "python2"
  },
  "language_info": {
   "codemirror_mode": {
    "name": "ipython",
    "version": 2
   },
   "file_extension": ".py",
   "mimetype": "text/x-python",
   "name": "python",
   "nbconvert_exporter": "python",
   "pygments_lexer": "ipython2",
   "version": "2.7.10"
  }
 },
 "nbformat": 4,
 "nbformat_minor": 0
}

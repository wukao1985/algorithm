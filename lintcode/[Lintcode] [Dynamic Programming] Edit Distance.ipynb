{
 "cells": [
  {
   "cell_type": "markdown",
   "metadata": {},
   "source": [
    "## Edit Distance\n",
    "\n",
    "Given two words word1 and word2, find the minimum number of steps required to convert word1 to word2. (each operation is counted as 1 step.)\n",
    "\n",
    "You have the following 3 operations permitted on a word:\n",
    "\n",
    "Insert a character\n",
    "Delete a character\n",
    "Replace a character\n",
    "\n",
    "** Exemple **\n",
    "\n",
    "Given word1 = \"mart\" and word2 = \"karma\", return 3."
   ]
  },
  {
   "cell_type": "markdown",
   "metadata": {},
   "source": [
    "## Dynamic Programming 4 steps:\n",
    "### State\n",
    "**DP[i][j]** represents the Edit Distance of first i character of word1 (A) and first j character of word2 (B)\n",
    "### Function\n",
    "- A[i] == B[j]:\n",
    "DP[i][j] = min(DP[i - 1][j - 1], DP[i - 1][j] + 1, DP[i][j - 1] + 1)\n",
    "- A[i] != B[j]:\n",
    "DP[i][j] = min(DP[i - 1][j - 1], DP[i - 1][j], DP[i][j - 1]) + 1\n",
    "\n",
    "### Initilization\n",
    "DP[i][0] = i\n",
    "DP[0][j] = j \n",
    "### Answer\n",
    "DP[len(A)][len(B)]"
   ]
  },
  {
   "cell_type": "code",
   "execution_count": 12,
   "metadata": {
    "collapsed": false
   },
   "outputs": [
    {
     "name": "stdout",
     "output_type": "stream",
     "text": [
      "3\n"
     ]
    }
   ],
   "source": [
    "import sys\n",
    "\n",
    "def minDistance(word1, word2):\n",
    "    m = len(word1)\n",
    "    n = len(word2)\n",
    "    \n",
    "    DP = [[sys.maxint] * (n + 1) for i in range(m + 1)]\n",
    "    \n",
    "    # Initilization\n",
    "    for i in range(m + 1):\n",
    "        DP[i][0] = i\n",
    "    \n",
    "    for j in range(n + 1):\n",
    "        DP[0][j] = j\n",
    "        \n",
    "    for i in xrange(1, m + 1):\n",
    "        for j in xrange(1, n + 1):\n",
    "            if word1[i - 1] == word2[j - 1]:\n",
    "                DP[i][j] = min(DP[i - 1][j - 1], DP[i - 1][j] + 1, DP[i][j - 1] + 1)\n",
    "            else:\n",
    "                DP[i][j] = min(DP[i - 1][j - 1], DP[i - 1][j], DP[i][j - 1]) + 1\n",
    "    \n",
    "    return DP[m][n] \n",
    "\n",
    "word1 = \"mart\"\n",
    "word2 = \"karma\"\n",
    "print minDistance(word1, word2)"
   ]
  },
  {
   "cell_type": "markdown",
   "metadata": {},
   "source": [
    "## Key take out\n",
    "- create table with (n + 1), (m + 1)\n",
    "- [0] * (len2 or n) !   exemple: DP = [[sys.maxint] * (n + 1) for i in range(m + 1)]\n",
    "- in for loop, use for i in xrange(1, m/n + 1)\n",
    "- return DP[m][n]"
   ]
  },
  {
   "cell_type": "code",
   "execution_count": null,
   "metadata": {
    "collapsed": true
   },
   "outputs": [],
   "source": []
  }
 ],
 "metadata": {
  "kernelspec": {
   "display_name": "Python 2",
   "language": "python",
   "name": "python2"
  },
  "language_info": {
   "codemirror_mode": {
    "name": "ipython",
    "version": 2
   },
   "file_extension": ".py",
   "mimetype": "text/x-python",
   "name": "python",
   "nbconvert_exporter": "python",
   "pygments_lexer": "ipython2",
   "version": "2.7.11"
  }
 },
 "nbformat": 4,
 "nbformat_minor": 0
}

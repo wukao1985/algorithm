{
 "cells": [
  {
   "cell_type": "markdown",
   "metadata": {},
   "source": [
    "## Sorting / Merge Sort"
   ]
  },
  {
   "cell_type": "markdown",
   "metadata": {},
   "source": [
    "### 1. Recursive"
   ]
  },
  {
   "cell_type": "code",
   "execution_count": 23,
   "metadata": {
    "collapsed": false
   },
   "outputs": [
    {
     "name": "stdout",
     "output_type": "stream",
     "text": [
      "[1, 2, 2, 3, 3, 5, 7, 9, 33, 45, 89, 109, 3333]\n"
     ]
    }
   ],
   "source": [
    "def mergeSortRecur(A):\n",
    "    if A is None or not A:\n",
    "        return []\n",
    "    if len(A) == 1:\n",
    "        return A\n",
    "    \n",
    "    mid = len(A) / 2\n",
    "    \n",
    "    left = mergeSortRecur(A[:mid])\n",
    "    right = mergeSortRecur(A[mid:])\n",
    "    \n",
    "    res = []\n",
    "    # Merge two list\n",
    "    while len(left) > 0 or len(right) > 0:\n",
    "        if len(left) == 0:\n",
    "            res.append(right.pop(0))\n",
    "            continue\n",
    "        if len(right) == 0:\n",
    "            res.append(left.pop(0))\n",
    "            continue\n",
    "        if  right[0] > left[0]:\n",
    "            res.append(left.pop(0))\n",
    "        else:\n",
    "            res.append(right.pop(0))\n",
    "\n",
    "    return res\n",
    "\n",
    "A = [2, 3, 1, 7, 5, 9, 3, 109, 45, 33, 3333, 2, 89]\n",
    "print mergeSortRecur(A)"
   ]
  },
  {
   "cell_type": "markdown",
   "metadata": {},
   "source": [
    "### Non-recursive Solution\n",
    "\n",
    "- Start from 2^1, merge 0,1  2,3 ...\n",
    "- then go to 2^2\n",
    "- ..."
   ]
  },
  {
   "cell_type": "code",
   "execution_count": 22,
   "metadata": {
    "collapsed": false
   },
   "outputs": [
    {
     "ename": "IndentationError",
     "evalue": "expected an indented block (<ipython-input-22-dc82f925463f>, line 24)",
     "output_type": "error",
     "traceback": [
      "\u001b[0;36m  File \u001b[0;32m\"<ipython-input-22-dc82f925463f>\"\u001b[0;36m, line \u001b[0;32m24\u001b[0m\n\u001b[0;31m    \u001b[0m\n\u001b[0m    ^\u001b[0m\n\u001b[0;31mIndentationError\u001b[0m\u001b[0;31m:\u001b[0m expected an indented block\n"
     ]
    }
   ],
   "source": [
    "# suppose A is sorted, B is sorted, return \n",
    "# merged sorted list\n",
    "def merge(left, right):\n",
    "    res = []\n",
    "    # Merge two list\n",
    "    while len(left) > 0 or len(right) > 0:\n",
    "        if len(left) == 0:\n",
    "            res.append(right.pop(0))\n",
    "            continue\n",
    "        if len(right) == 0:\n",
    "            res.append(left.pop(0))\n",
    "            continue\n",
    "        if  right[0] > left[0]:\n",
    "            res.append(left.pop(0))\n",
    "        else:\n",
    "            res.append(right.pop(0))\n",
    "\n",
    "    return res\n",
    "\n",
    "def mergeSortNonRecur(A):\n",
    "    l = len(A)\n",
    "    \n",
    "    for i in range(0, l, sz):\n",
    "    "
   ]
  },
  {
   "cell_type": "code",
   "execution_count": null,
   "metadata": {
    "collapsed": true
   },
   "outputs": [],
   "source": []
  }
 ],
 "metadata": {
  "kernelspec": {
   "display_name": "Python 2",
   "language": "python",
   "name": "python2"
  },
  "language_info": {
   "codemirror_mode": {
    "name": "ipython",
    "version": 2
   },
   "file_extension": ".py",
   "mimetype": "text/x-python",
   "name": "python",
   "nbconvert_exporter": "python",
   "pygments_lexer": "ipython2",
   "version": "2.7.11"
  }
 },
 "nbformat": 4,
 "nbformat_minor": 0
}

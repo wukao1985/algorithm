{
 "cells": [
  {
   "cell_type": "markdown",
   "metadata": {},
   "source": [
    "## [Lintcode] [Dynamic Programming] Minimum Path Sum\n",
    "Given a m x n grid filled with non-negative numbers, find a path from top left to bottom right which minimizes the sum of all numbers along its path."
   ]
  },
  {
   "cell_type": "markdown",
   "metadata": {},
   "source": [
    "## Recursive + Memorization Approach"
   ]
  },
  {
   "cell_type": "code",
   "execution_count": 24,
   "metadata": {
    "collapsed": true
   },
   "outputs": [],
   "source": [
    "import sys\n",
    "\n",
    "def minPathSum(grid):    \n",
    "    # check execption\n",
    "    if grid is None or len(grid) == 0:\n",
    "        return 0\n",
    "\n",
    "    # m is the width, n is the depth\n",
    "    m = len(grid)\n",
    "    n = len(grid[0])\n",
    "\n",
    "    D = {}\n",
    "    ret = helper(grid, m, n, D)\n",
    "\n",
    "    return ret\n",
    "\n",
    "def helper(grid, m, n, D):\n",
    "    # Do not return 0!\n",
    "    if m == 0 or n == 0:\n",
    "        return sys.maxint\n",
    "\n",
    "    # base case\n",
    "    if m == 1 and n == 1:\n",
    "        return grid[-1][-1]\n",
    "    if m == 2 and n == 1:\n",
    "        return grid[-1][-1] + grid[-2][-1]\n",
    "    if m == 1 and n == 2:\n",
    "        return grid[-1][-1] + grid[-1][-2]\n",
    "\n",
    "\n",
    "    # general case\n",
    "    if m == 1:\n",
    "        temp1 = sys.maxint\n",
    "    if n == 1:\n",
    "        temp2 = sys.maxint\n",
    "\n",
    "    temp1 = D.get((m - 1, n))\n",
    "    temp2 = D.get((m, n - 1))\n",
    "\n",
    "    if temp1 is None:\n",
    "        temp1 = helper(grid, m - 1, n, D)\n",
    "    if temp2 is None:\n",
    "        temp2 = helper(grid, m, n - 1, D)\n",
    "\n",
    "    ret = min(temp1, temp2) + grid[-m][-n]\n",
    "    D[(m, n)] = ret\n",
    "\n",
    "    return ret"
   ]
  },
  {
   "cell_type": "code",
   "execution_count": 25,
   "metadata": {
    "collapsed": false
   },
   "outputs": [
    {
     "name": "stdout",
     "output_type": "stream",
     "text": [
      "7\n"
     ]
    }
   ],
   "source": [
    "grid = [[1,3,1],[1,5,1],[4,2,1]]\n",
    "print minPathSum(grid)"
   ]
  },
  {
   "cell_type": "code",
   "execution_count": null,
   "metadata": {
    "collapsed": true
   },
   "outputs": [],
   "source": []
  }
 ],
 "metadata": {
  "kernelspec": {
   "display_name": "Python 2",
   "language": "python",
   "name": "python2"
  },
  "language_info": {
   "codemirror_mode": {
    "name": "ipython",
    "version": 2
   },
   "file_extension": ".py",
   "mimetype": "text/x-python",
   "name": "python",
   "nbconvert_exporter": "python",
   "pygments_lexer": "ipython2",
   "version": "2.7.11"
  }
 },
 "nbformat": 4,
 "nbformat_minor": 0
}

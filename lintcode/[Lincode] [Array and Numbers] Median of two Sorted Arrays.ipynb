{
 "cells": [
  {
   "cell_type": "markdown",
   "metadata": {},
   "source": [
    "## Median of two Sorted Arrays\n",
    "There are two sorted arrays A and B of size m and n respectively. Find the median of the two sorted arrays.\n",
    "\n",
    "Given A=[1,2,3,4,5,6] and B=[2,3,4,5], the median is 3.5.\n",
    "\n",
    "Given A=[1,2,3] and B=[4,5], the median is 3."
   ]
  },
  {
   "cell_type": "markdown",
   "metadata": {},
   "source": [
    "### Solution\n",
    "\n",
    "First, let's define a sub-routine to calculate get_kth element\n",
    "\n",
    "- if m + n is odd number, we return get_kth((m + n)/2)\n",
    "- if m + n is even number, we return (get_kth((m + n)/2 - 1) + get_kth((m + n)/2))/2\n",
    "\n",
    "Second, Let's solve get_kth()\n",
    "\n"
   ]
  },
  {
   "cell_type": "code",
   "execution_count": 7,
   "metadata": {
    "collapsed": false
   },
   "outputs": [
    {
     "name": "stdout",
     "output_type": "stream",
     "text": [
      "2.0\n"
     ]
    }
   ],
   "source": [
    "def findMedianSortedArrays(A, B):\n",
    "    # write your code here\n",
    "    \n",
    "    m, n = len(A), len(B)\n",
    "    \n",
    "    merged = [0] * (m + n)\n",
    "    \n",
    "    for i in xrange((m + n) / 2 + 1):\n",
    "        if len(A) == 0:\n",
    "            merged[i] = float(B.pop(0))\n",
    "            continue\n",
    "            \n",
    "        if len(B) == 0:\n",
    "            merged[i] = float(A.pop(0))\n",
    "            continue\n",
    "            \n",
    "        if A[0] < B[0]:\n",
    "            merged[i] = float(A.pop(0))\n",
    "        else:\n",
    "            merged[i] = float(B.pop(0))\n",
    "            \n",
    "    # Even        \n",
    "    if (m + n) % 2 == 0:\n",
    "        return (merged[(m + n) / 2 - 1] + merged[(m + n) / 2]) / 2\n",
    "    else:\n",
    "        return merged[(m + n) / 2]\n",
    "    \n",
    "A = [1]\n",
    "B = [3]\n",
    "print findMedianSortedArrays(A, B)\n",
    "    "
   ]
  },
  {
   "cell_type": "code",
   "execution_count": null,
   "metadata": {
    "collapsed": true
   },
   "outputs": [],
   "source": []
  }
 ],
 "metadata": {
  "kernelspec": {
   "display_name": "Python 2",
   "language": "python",
   "name": "python2"
  },
  "language_info": {
   "codemirror_mode": {
    "name": "ipython",
    "version": 2
   },
   "file_extension": ".py",
   "mimetype": "text/x-python",
   "name": "python",
   "nbconvert_exporter": "python",
   "pygments_lexer": "ipython2",
   "version": "2.7.10"
  }
 },
 "nbformat": 4,
 "nbformat_minor": 0
}

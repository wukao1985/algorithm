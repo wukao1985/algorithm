{
 "cells": [
  {
   "cell_type": "markdown",
   "metadata": {},
   "source": [
    "## Reorder List\n",
    "\n",
    "Given a singly linked list L: L0→L1→…→Ln-1→Ln,\n",
    "reorder it to: L0→Ln→L1→Ln-1→L2→Ln-2→…\n",
    "\n",
    "You must do this in-place without altering the nodes' values.\n",
    "\n",
    "For example,\n",
    "Given 1->2->3->4->null, reorder it to 1->4->2->3->null."
   ]
  },
  {
   "cell_type": "markdown",
   "metadata": {},
   "source": [
    "### Solution\n",
    "#### Find Mid Node\n",
    "#### Reverse right half of the list\n",
    "#### Merge left half and right half of the list"
   ]
  },
  {
   "cell_type": "code",
   "execution_count": 3,
   "metadata": {
    "collapsed": true
   },
   "outputs": [],
   "source": [
    "from __future__ import print_function\n",
    "\n",
    "class ListNode(object):\n",
    "\n",
    "    def __init__(self, val, next=None):\n",
    "        self.val = val\n",
    "        self.next = next\n",
    "\n",
    "def formList(A):\n",
    "    rhead = ListNode(0)\n",
    "    rtail = rhead\n",
    "    for i in A:\n",
    "        rtail.next = ListNode(i)\n",
    "        rtail = rtail.next\n",
    "    return rhead.next\n",
    "\n",
    "def printList(head):\n",
    "    while head is not None:\n",
    "        print(head.val, '->', end = '')\n",
    "        head = head.next\n",
    "    print('null')\n",
    "\n",
    "def findMidNode(head):\n",
    "    if head is None or head.next is None:\n",
    "        return None\n",
    "    \n",
    "    slow = head\n",
    "    fast = head.next\n",
    "    \n",
    "    while fast is not None and fast.next is not None:\n",
    "        slow = slow.next\n",
    "        fast = fast.next.next\n",
    "    \n",
    "    return slow\n",
    "\n",
    "def merge(head1, head2):\n",
    "    if head1 is None and head2 is None:\n",
    "        return None\n",
    "    \n",
    "    dummy = ListNode(0)\n",
    "    cur  = dummy\n",
    "    while head1 is not None and head2 is not None:           \n",
    "        if  head1.val < head2.val:\n",
    "            cur.next = head1\n",
    "            head1    = head1.next\n",
    "        else:\n",
    "            cur.next = head2\n",
    "            head2    = head2.next\n",
    "        cur = cur.next\n",
    "            \n",
    "    if head1 is None:\n",
    "        cur.next = head2\n",
    "    else:\n",
    "        cur.next = head1\n",
    "\n",
    "    return dummy.next"
   ]
  },
  {
   "cell_type": "markdown",
   "metadata": {},
   "source": [
    "### Reverse a List"
   ]
  },
  {
   "cell_type": "code",
   "execution_count": 9,
   "metadata": {
    "collapsed": false
   },
   "outputs": [
    {
     "name": "stdout",
     "output_type": "stream",
     "text": [
      "1 ->2 ->3 ->4 ->null\n",
      "4 ->3 ->2 ->1 ->null\n"
     ]
    }
   ],
   "source": [
    "def reverseList(head):\n",
    "    if head is None or head.next is None:\n",
    "        return head\n",
    "    \n",
    "    pre = None\n",
    "    while head is not None:\n",
    "        tmp = head.next\n",
    "        head.next = pre\n",
    "        pre = head\n",
    "        head = tmp\n",
    "    \n",
    "    return pre\n",
    "        \n",
    "A = [1, 2, 3, 4]\n",
    "head = formList(A)\n",
    "printList(head)\n",
    "head1 = reverseList(head)\n",
    "printList(head1)"
   ]
  },
  {
   "cell_type": "code",
   "execution_count": 22,
   "metadata": {
    "collapsed": false
   },
   "outputs": [
    {
     "name": "stdout",
     "output_type": "stream",
     "text": [
      "1 ->2 ->3 ->4 ->5 ->6 ->null\n",
      "1 ->6 ->2 ->5 ->3 ->4 ->null\n"
     ]
    }
   ],
   "source": [
    "def reorderList(head):\n",
    "    if head is None:\n",
    "        return None\n",
    "    \n",
    "    mid = findMidNode(head)\n",
    "    right = reverseList(mid.next)\n",
    "    #printList(right)\n",
    "    left = head\n",
    "    mid.next = None\n",
    "    #printList(left)\n",
    "    \n",
    "    index = 0\n",
    "    ret = ListNode(0)\n",
    "    rhead = ret\n",
    "    while left is not None and right is not None:\n",
    "        if index % 2 == 0:\n",
    "            ret.next = left\n",
    "            left = left.next\n",
    "        else:\n",
    "            ret.next = right\n",
    "            right = right.next\n",
    "        ret = ret.next\n",
    "        index += 1\n",
    "        #printList(ret)\n",
    "    if left is None:\n",
    "        ret.next = right\n",
    "    else:\n",
    "        ret.next = left\n",
    "    \n",
    "    return rhead.next\n",
    "        \n",
    "A = [1, 2, 3, 4, 5, 6]\n",
    "head = formList(A)\n",
    "printList(head)\n",
    "head1 = reorderList(head)\n",
    "printList(head1)"
   ]
  },
  {
   "cell_type": "code",
   "execution_count": null,
   "metadata": {
    "collapsed": true
   },
   "outputs": [],
   "source": []
  }
 ],
 "metadata": {
  "kernelspec": {
   "display_name": "Python 2",
   "language": "python",
   "name": "python2"
  },
  "language_info": {
   "codemirror_mode": {
    "name": "ipython",
    "version": 2
   },
   "file_extension": ".py",
   "mimetype": "text/x-python",
   "name": "python",
   "nbconvert_exporter": "python",
   "pygments_lexer": "ipython2",
   "version": "2.7.11"
  }
 },
 "nbformat": 4,
 "nbformat_minor": 0
}

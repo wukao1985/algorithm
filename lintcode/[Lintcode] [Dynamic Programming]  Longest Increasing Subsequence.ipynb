{
 "cells": [
  {
   "cell_type": "markdown",
   "metadata": {},
   "source": [
    "## Longest Increasing Subsequence\n",
    "\n",
    "Given a sequence of integers, find the longest increasing subsequence (LIS).\n",
    "\n",
    "You code should return the length of the LIS.\n",
    "\n",
    "**Exemple:**\n",
    "\n",
    "For [5, 4, 1, 2, 3], the LIS  is [1, 2, 3], return 3\n",
    "\n",
    "For [4, 2, 4, 5, 3, 7], the LIS is [4, 4, 5, 7], return 4"
   ]
  },
  {
   "cell_type": "markdown",
   "metadata": {},
   "source": [
    "## Using Dynamic Programming\n",
    "###State\n",
    "DP[i] represent the longest increasing subsequence ends at pos i.\n",
    "\n",
    "###Function\n",
    "DP[i] = max(DP[j] + 1) if j < i && nums[j] < nums[i]\n",
    "\n",
    "###Initilization\n",
    "DP[0, n-1] = 1\n",
    "\n",
    "###Answer\n",
    "DP.max()\n"
   ]
  },
  {
   "cell_type": "code",
   "execution_count": 18,
   "metadata": {
    "collapsed": false
   },
   "outputs": [
    {
     "data": {
      "text/plain": [
       "7"
      ]
     },
     "execution_count": 18,
     "metadata": {},
     "output_type": "execute_result"
    }
   ],
   "source": [
    "def longestIncreasingSubsequence(nums):\n",
    "    if nums is None or len(nums) == 0:\n",
    "        return 0\n",
    "    \n",
    "    DP = [1] * len(nums)\n",
    "    \n",
    "    # From 1 ~ len(nums) - 1, compute DP[i]\n",
    "    for i in xrange(0, len(nums)):\n",
    "        for j in xrange(0, i):\n",
    "            if nums[j] <= nums[i]:\n",
    "                DP[i] = max(DP[i], DP[j] + 1)\n",
    "    \n",
    "    return max(DP)\n",
    "                \n",
    "    \n",
    "nums = [1,1,1,1,1,1,1]\n",
    "longestIncreasingSubsequence(nums)"
   ]
  },
  {
   "cell_type": "code",
   "execution_count": null,
   "metadata": {
    "collapsed": true
   },
   "outputs": [],
   "source": []
  }
 ],
 "metadata": {
  "kernelspec": {
   "display_name": "Python 2",
   "language": "python",
   "name": "python2"
  },
  "language_info": {
   "codemirror_mode": {
    "name": "ipython",
    "version": 2
   },
   "file_extension": ".py",
   "mimetype": "text/x-python",
   "name": "python",
   "nbconvert_exporter": "python",
   "pygments_lexer": "ipython2",
   "version": "2.7.11"
  }
 },
 "nbformat": 4,
 "nbformat_minor": 0
}

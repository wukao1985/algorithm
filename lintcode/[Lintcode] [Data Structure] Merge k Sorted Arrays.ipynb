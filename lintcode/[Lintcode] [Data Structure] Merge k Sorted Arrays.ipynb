{
 "cells": [
  {
   "cell_type": "markdown",
   "metadata": {},
   "source": [
    "## Merge k Sorted Arrays\n",
    "Given k sorted integer arrays, merge them into one sorted array.\n",
    "\n",
    "Given 3 sorted arrays:\n",
    "```python\n",
    "[\n",
    "  [1, 3, 5, 7],\n",
    "  [2, 4, 6],\n",
    "  [0, 8, 9, 10, 11]\n",
    "]\n",
    "return [0, 1, 2, 3, 4, 5, 6, 7, 8, 9, 10, 11].\n",
    "```"
   ]
  },
  {
   "cell_type": "markdown",
   "metadata": {},
   "source": [
    "### Using Heap to solve the problem\n",
    "- Create heap with Length K\n",
    "- Put first element of each array in to the heap (Using tuple to store which array it comes from)\n",
    "- pop from the heap and then push back from the respective array\n",
    "- Loop until all arrays are None"
   ]
  },
  {
   "cell_type": "code",
   "execution_count": 17,
   "metadata": {
    "collapsed": false
   },
   "outputs": [
    {
     "name": "stdout",
     "output_type": "stream",
     "text": [
      "[0, 1, 3, 4, 5, 5, 9, 14, 23, 29]\n"
     ]
    }
   ],
   "source": [
    "import heapq\n",
    "\n",
    "def mergekSortedArrays(arrays):\n",
    "    if arrays is None or len(arrays) == 0:\n",
    "        return []\n",
    "    \n",
    "    k = len(arrays)\n",
    "    heap, ret = [], []\n",
    "    \n",
    "    for i in range(k):\n",
    "        if arrays[i] is not None and len(arrays[i]) > 0:\n",
    "            heapq.heappush(heap, (arrays[i][0], i))\n",
    "            arrays[i].pop(0)\n",
    "         \n",
    "    # print heap\n",
    "    # Now we have the heap initilized. \n",
    "    # Let's loop until heap is empty\n",
    "    while heap is not None and len(heap) > 0:\n",
    "        # 1. pop from heap, append the element to ret\n",
    "        temp = heapq.heappop(heap)\n",
    "        ret.append(temp[0])\n",
    "        \n",
    "        # 2. push one element from this array, create tuple\n",
    "        # and push to the heap\n",
    "        i = temp[1]\n",
    "        if arrays[i] is not None and len(arrays[i]) > 0:\n",
    "            heapq.heappush(heap, (arrays[i][0], i))\n",
    "            arrays[i].pop(0)\n",
    "        \n",
    "        # print heap, arrays, ret\n",
    "        \n",
    "        \n",
    "    return ret\n",
    "\n",
    "arrays = [\n",
    "    [1, 3, 5],\n",
    "    [0, 9, 14, 29],\n",
    "    [4, 5, 23]\n",
    "]\n",
    " \n",
    "print mergekSortedArrays(arrays)    \n",
    "    \n",
    "    "
   ]
  },
  {
   "cell_type": "code",
   "execution_count": null,
   "metadata": {
    "collapsed": true
   },
   "outputs": [],
   "source": []
  }
 ],
 "metadata": {
  "kernelspec": {
   "display_name": "Python 2",
   "language": "python",
   "name": "python2"
  },
  "language_info": {
   "codemirror_mode": {
    "name": "ipython",
    "version": 2
   },
   "file_extension": ".py",
   "mimetype": "text/x-python",
   "name": "python",
   "nbconvert_exporter": "python",
   "pygments_lexer": "ipython2",
   "version": "2.7.11"
  }
 },
 "nbformat": 4,
 "nbformat_minor": 0
}

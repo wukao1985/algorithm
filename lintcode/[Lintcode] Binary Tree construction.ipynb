{
 "cells": [
  {
   "cell_type": "markdown",
   "metadata": {},
   "source": [
    "## Binary Tree construction\n",
    "With this tree construction method, we can simply apply and do UT for Binary Tree related problems"
   ]
  },
  {
   "cell_type": "markdown",
   "metadata": {},
   "source": [
    "## First, let's form a simple tree as example\n",
    "```python\n",
    "   4\n",
    "  /  \\\n",
    "3     7\n",
    "     / \\\n",
    "    5   6\n",
    "```"
   ]
  },
  {
   "cell_type": "code",
   "execution_count": 112,
   "metadata": {
    "collapsed": true
   },
   "outputs": [],
   "source": [
    "from __future__ import print_function"
   ]
  },
  {
   "cell_type": "code",
   "execution_count": 113,
   "metadata": {
    "collapsed": false
   },
   "outputs": [],
   "source": [
    "class TreeNode:\n",
    "    def __init__(self, val):\n",
    "        self.val = val\n",
    "        self.left, self.right = None, None\n",
    "\n",
    "treeList = [4, 3, 7, '#', '#', 5, 6]"
   ]
  },
  {
   "cell_type": "code",
   "execution_count": 114,
   "metadata": {
    "collapsed": true
   },
   "outputs": [],
   "source": [
    "def constructTree(listTree):\n",
    "    # 1. make the first node of the list as Root, enqueue it\n",
    "    # 2. until reach the end, do following:\n",
    "    #    a. dequue one node from the queue\n",
    "    #    b. get 2 more elements from the list\n",
    "    #    c. if not \"#\", construct node and put in left \n",
    "    #       or right and enqueue it to the queue\n",
    "    root = None\n",
    "    if listTree is None or len(listTree) == 0:\n",
    "        return root\n",
    "    \n",
    "    queue = []\n",
    "    \n",
    "    # We have at least one element at this point\n",
    "    root = TreeNode(listTree.pop(0))\n",
    "    queue.append(root)\n",
    "    \n",
    "    # construct the tree\n",
    "    while len(listTree) > 0:\n",
    "        temp = queue.pop(0)\n",
    "        fst = listTree.pop(0)\n",
    "        snd = listTree.pop(0)\n",
    "        if fst != '#':\n",
    "            temp.left = TreeNode(fst)\n",
    "            queue.append(temp.left)\n",
    "        if snd != '#':\n",
    "            temp.right = TreeNode(snd)\n",
    "            queue.append(temp.right)\n",
    "    \n",
    "    return root"
   ]
  },
  {
   "cell_type": "code",
   "execution_count": 146,
   "metadata": {
    "collapsed": true
   },
   "outputs": [],
   "source": [
    "def preOrder(root):\n",
    "    if root is None:\n",
    "        return\n",
    "    print (root.val, end=' ')\n",
    "    preOrder(root.left)\n",
    "    preOrder(root.right)\n",
    "    \n",
    "    return ret"
   ]
  },
  {
   "cell_type": "code",
   "execution_count": 147,
   "metadata": {
    "collapsed": true
   },
   "outputs": [],
   "source": [
    "def inOrder(root):\n",
    "    if root is None:\n",
    "        return\n",
    "    inOrder(root.left)\n",
    "    print (root.val, end=' ')\n",
    "    inOrder(root.right)"
   ]
  },
  {
   "cell_type": "code",
   "execution_count": 148,
   "metadata": {
    "collapsed": true
   },
   "outputs": [],
   "source": [
    "def postOrder(root):\n",
    "    if root is None:\n",
    "        return\n",
    "    \n",
    "    postOrder(root.left)\n",
    "    postOrder(root.right)\n",
    "    print (root.val, end=' ')"
   ]
  },
  {
   "cell_type": "code",
   "execution_count": 150,
   "metadata": {
    "collapsed": false
   },
   "outputs": [
    {
     "name": "stdout",
     "output_type": "stream",
     "text": [
      "pre order: 4 3 7 5 6 \n",
      "in order: 3 4 5 7 6 \n",
      "post order: 3 5 6 7 4 \n"
     ]
    }
   ],
   "source": [
    "\n",
    "treeList = [4, 3, 7, '#', '#', 5, 6]\n",
    "treeA = constructTree(treeList)\n",
    "print ('pre order:', end=\" \")\n",
    "preOrder(treeA)\n",
    "print ('')\n",
    "print ('in order:', end=\" \")\n",
    "inOrder(treeA)\n",
    "print ('')\n",
    "print ('post order:', end=\" \")\n",
    "postOrder(treeA)\n",
    "print ('')\n"
   ]
  },
  {
   "cell_type": "markdown",
   "metadata": {},
   "source": []
  },
  {
   "cell_type": "code",
   "execution_count": 157,
   "metadata": {
    "collapsed": false
   },
   "outputs": [
    {
     "name": "stdout",
     "output_type": "stream",
     "text": [
      "1 2 4 8 9 5 10 11 3 6 12 13 7 14 15 \n",
      "8 4 9 2 10 5 11 1 12 6 13 3 14 7 15 \n",
      "8 9 4 10 11 5 2 12 13 6 14 15 7 3 1 \n",
      "1 3 6 12 13 7 14 15 2 4 8 9 5 10 11 \n",
      "12 6 13 3 14 7 15 1 8 4 9 2 10 5 11 \n",
      "12 13 6 14 15 7 3 8 9 4 10 11 5 2 1 \n"
     ]
    }
   ],
   "source": [
    "listA = [1,2,3,4,5,6,7,8,9,10,11,12,13,14,15]\n",
    "listB = [1,3,2,6,7,4,5,12,13,14,15,8,9,10,11]\n",
    "treeA = constructTree(listA)\n",
    "treeB = constructTree(listB)\n",
    "preOrder(treeA)\n",
    "print ('', end='\\n')\n",
    "inOrder(treeA)\n",
    "print ('', end='\\n')\n",
    "postOrder(treeA)\n",
    "print ('', end='\\n')\n",
    "preOrder(treeB)\n",
    "print ('', end='\\n')\n",
    "inOrder(treeB)\n",
    "print ('', end='\\n')\n",
    "postOrder(treeB)\n",
    "print ('', end='\\n')"
   ]
  },
  {
   "cell_type": "code",
   "execution_count": null,
   "metadata": {
    "collapsed": true
   },
   "outputs": [],
   "source": []
  }
 ],
 "metadata": {
  "kernelspec": {
   "display_name": "Python 2",
   "language": "python",
   "name": "python2"
  },
  "language_info": {
   "codemirror_mode": {
    "name": "ipython",
    "version": 2
   },
   "file_extension": ".py",
   "mimetype": "text/x-python",
   "name": "python",
   "nbconvert_exporter": "python",
   "pygments_lexer": "ipython2",
   "version": "2.7.11"
  }
 },
 "nbformat": 4,
 "nbformat_minor": 0
}

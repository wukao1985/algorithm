{
 "cells": [
  {
   "cell_type": "markdown",
   "metadata": {},
   "source": [
    "##  Convert Sorted List to Balanced BST\n",
    "Given a singly linked list where elements are sorted in ascending order, convert it to a height balanced BST.\n",
    "\n",
    "Exemple:\n",
    "```python\n",
    "               2\n",
    "1->2->3  =>   / \\\n",
    "             1   3\n",
    "```"
   ]
  },
  {
   "cell_type": "markdown",
   "metadata": {},
   "source": [
    "### First, Let's import Basic Link List Function for Link List"
   ]
  },
  {
   "cell_type": "code",
   "execution_count": null,
   "metadata": {
    "collapsed": true
   },
   "outputs": [],
   "source": [
    "# %load linklist.py\n",
    "from __future__ import print_function\n",
    "\n",
    "class ListNode(object):\n",
    "\n",
    "    def __init__(self, val, next=None):\n",
    "        self.val = val\n",
    "        self.next = next\n",
    "\n",
    "def formList(A):\n",
    "    rhead = ListNode(0)\n",
    "    rtail = rhead\n",
    "    for i in A:\n",
    "        rtail.next = ListNode(i)\n",
    "        rtail = rtail.next\n",
    "    return rhead.next\n",
    "\n",
    "def printList(head):\n",
    "    while head is not None:\n",
    "        print(head.val, '->', end = '')\n",
    "        head = head.next\n",
    "    print('null')\n",
    "\n",
    "def findMidNode(head):\n",
    "    if head is None or head.next is None:\n",
    "        return None\n",
    "    \n",
    "    slow = head\n",
    "    fast = head.next\n",
    "    \n",
    "    while fast is not None and fast.next is not None:\n",
    "        slow = slow.next\n",
    "        fast = fast.next.next\n",
    "    \n",
    "    return slow\n",
    "\n",
    "def merge(head1, head2):\n",
    "    if head1 is None and head2 is None:\n",
    "        return None\n",
    "    \n",
    "    dummy = ListNode(0)\n",
    "    cur  = dummy\n",
    "    while head1 is not None and head2 is not None:           \n",
    "        if  head1.val < head2.val:\n",
    "            cur.next = head1\n",
    "            head1    = head1.next\n",
    "        else:\n",
    "            cur.next = head2\n",
    "            head2    = head2.next\n",
    "        cur = cur.next\n",
    "            \n",
    "    if head1 is None:\n",
    "        cur.next = head2\n",
    "    else:\n",
    "        cur.next = head1\n",
    "\n",
    "    return dummy.next\n",
    "\n",
    "def reverseList(head):\n",
    "    if head is None or head.next is None:\n",
    "        return head\n",
    "    \n",
    "    pre = None\n",
    "    while head is not None:\n",
    "        tmp = head.next\n",
    "        head.next = pre\n",
    "        pre = head\n",
    "        head = tmp\n",
    "    \n",
    "    return pre\n",
    "\n",
    "def findKth(head, k):\n",
    "    for i in xrange(k):\n",
    "        if head is None:\n",
    "            return None\n",
    "        head = head.next\n",
    "    return head\n"
   ]
  },
  {
   "cell_type": "markdown",
   "metadata": {},
   "source": [
    "### Second, Let's import tree node"
   ]
  },
  {
   "cell_type": "code",
   "execution_count": 16,
   "metadata": {
    "collapsed": true
   },
   "outputs": [],
   "source": [
    "class TreeNode:\n",
    "    def __init__(self, val):\n",
    "        self.val = val\n",
    "        self.left, self.right = None, None"
   ]
  },
  {
   "cell_type": "markdown",
   "metadata": {},
   "source": [
    "## Solution\n",
    "- Find the mid node, break the list into left list, Root Node, right list\n",
    "- Convert left list into BST, convert right list into BST\n",
    "- Root.left point to left root, root.right point to right root\n",
    "\n",
    "## Lessons Learned:\n",
    "\n",
    "- Use Dummy node to make sure that we get the location of the pre node of mid, because we need to break it\n",
    "- Recursion"
   ]
  },
  {
   "cell_type": "code",
   "execution_count": 19,
   "metadata": {
    "collapsed": false
   },
   "outputs": [],
   "source": [
    "def sortedListToBST(head):\n",
    "    # write your code here\n",
    "    if head is None:\n",
    "        return None\n",
    "\n",
    "    if head.next is None:\n",
    "        return TreeNode(head.val)\n",
    "\n",
    "    # Use dummy node to make sure we find the \n",
    "    # node before Mid Node\n",
    "    dummy = ListNode(0)\n",
    "    dummy.next = head\n",
    "    \n",
    "    # 1. break left list\n",
    "    # 2. form Root tree node\n",
    "    # 3. get right list\n",
    "    # 4. mid is pre node for Mid, let's say [1, 2, 3, 4], MID will be 2. [1, 2, 3] mid wil be 1.\n",
    "    mid = findMidNode(dummy)\n",
    "    root = mid.next\n",
    "    right = mid.next.next\n",
    "    mid.next = None\n",
    "    rootNode = TreeNode(root.val)\n",
    "\n",
    "    # Convert left and right list into BST\n",
    "    leftChild = sortedListToBST(head)\n",
    "    rightChild = sortedListToBST(right)\n",
    "    rootNode.left = leftChild\n",
    "    rootNode.right = rightChild\n",
    "\n",
    "    return rootNode\n",
    "    \n"
   ]
  },
  {
   "cell_type": "code",
   "execution_count": null,
   "metadata": {
    "collapsed": true
   },
   "outputs": [],
   "source": []
  }
 ],
 "metadata": {
  "kernelspec": {
   "display_name": "Python 2",
   "language": "python",
   "name": "python2"
  },
  "language_info": {
   "codemirror_mode": {
    "name": "ipython",
    "version": 2
   },
   "file_extension": ".py",
   "mimetype": "text/x-python",
   "name": "python",
   "nbconvert_exporter": "python",
   "pygments_lexer": "ipython2",
   "version": "2.7.11"
  }
 },
 "nbformat": 4,
 "nbformat_minor": 0
}

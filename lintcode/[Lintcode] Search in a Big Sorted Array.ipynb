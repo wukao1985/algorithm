{
 "cells": [
  {
   "cell_type": "markdown",
   "metadata": {},
   "source": [
    "##Search in a Big Sorted Array\n",
    "Given a big sorted array with positive integers sorted by ascending order. The array is so big so that you can not get the length of the whole array directly, and you can only access the kth number by ArrayReader.get(k) (or ArrayReader->get(k) for C++). Find the first index of a target number. Your algorithm should be in O(log k), where k is the first index of the target number.\n",
    "\n",
    "Return -1, if the number doesn't exist in the array.\n",
    "\n",
    "Example:\n",
    "\n",
    "Given [1, 3, 6, 9, 21, ...], and target = 3, return 1.\n",
    "\n",
    "Given [1, 3, 6, 9, 21, ...], and target = 4, return -1."
   ]
  },
  {
   "cell_type": "code",
   "execution_count": 1,
   "metadata": {
    "collapsed": true
   },
   "outputs": [],
   "source": [
    "class Solution:\n",
    "    # @param {ArrayReader} reader: An instance of ArrayReader\n",
    "    # @param {int} target an integer\n",
    "    # @return {int} an integer\n",
    "    def searchBigSortedArray(self, reader, target):\n",
    "        # write your code here\n",
    "        pos = 0\n",
    "        while reader.get(pos) != -1 and reader.get(pos) < target:\n",
    "            pos = 2*pos + 1\n",
    "\n",
    "        start = 0\n",
    "        end = pos\n",
    "\n",
    "        while end > start+1:\n",
    "            mid = (start+end)/2\n",
    "            if reader.get(mid) == -1 or reader.get(mid) >= target:\n",
    "                end = mid\n",
    "            else:\n",
    "                start = mid\n",
    "\n",
    "        if reader.get(start) == target:\n",
    "            return start\n",
    "        if reader.get(end) == target:\n",
    "            return end\n",
    "        return -1\n",
    "    "
   ]
  },
  {
   "cell_type": "code",
   "execution_count": null,
   "metadata": {
    "collapsed": true
   },
   "outputs": [],
   "source": []
  }
 ],
 "metadata": {
  "kernelspec": {
   "display_name": "Python 2",
   "language": "python",
   "name": "python2"
  },
  "language_info": {
   "codemirror_mode": {
    "name": "ipython",
    "version": 2
   },
   "file_extension": ".py",
   "mimetype": "text/x-python",
   "name": "python",
   "nbconvert_exporter": "python",
   "pygments_lexer": "ipython2",
   "version": "2.7.10"
  }
 },
 "nbformat": 4,
 "nbformat_minor": 0
}

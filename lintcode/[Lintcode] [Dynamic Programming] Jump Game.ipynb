{
 "cells": [
  {
   "cell_type": "markdown",
   "metadata": {},
   "source": [
    "## Jump Game\n",
    "Given an array of non-negative integers, you are initially positioned at the first index of the array.\n",
    "\n",
    "Each element in the array represents your maximum jump length at that position.\n",
    "\n",
    "Determine if you are able to reach the last index.\n",
    "\n",
    "Example:\n",
    "\n",
    "A = [2,3,1,1,4], return true.\n",
    "\n",
    "A = [3,2,1,0,4], return false."
   ]
  },
  {
   "cell_type": "markdown",
   "metadata": {},
   "source": [
    "## First let's use Recursive + Memorization approach\n",
    "\n",
    "- length of the list is n\n",
    "- we will setup dict of D[n] = 1 (base case)\n",
    "- D[pos] = for i in xrange(0, pos):\n",
    "    D[pos + 0] or D[pos + 1] ... D[pos + i]\n",
    "- Recursively call "
   ]
  },
  {
   "cell_type": "code",
   "execution_count": 5,
   "metadata": {
    "collapsed": false
   },
   "outputs": [
    {
     "name": "stdout",
     "output_type": "stream",
     "text": [
      "True False\n"
     ]
    }
   ],
   "source": [
    "def canJump(A):\n",
    "    if A is None or len(A) == 0:\n",
    "        return True\n",
    "    \n",
    "    D = {}\n",
    "    ret = canJumpHelper(A, 0, D)\n",
    "    return ret\n",
    "\n",
    "def canJumpHelper(A, pos, D):\n",
    "    if pos == len(A) - 1:\n",
    "        return True\n",
    "    \n",
    "    for i in xrange(pos + 1, pos + A[pos] + 1):\n",
    "        if D.get(i) is not None:\n",
    "            return True\n",
    "        ret = canJumpHelper(A, i, D)\n",
    "        if ret:\n",
    "            D[i] = True\n",
    "            return True\n",
    "        else:\n",
    "            continue\n",
    "    \n",
    "    return False\n",
    "\n",
    "A = [2,3,1,1,4]\n",
    "B = [3,2,1,0,4]\n",
    "print canJump(A), canJump(B)"
   ]
  },
  {
   "cell_type": "code",
   "execution_count": 6,
   "metadata": {
    "collapsed": true
   },
   "outputs": [],
   "source": [
    "D = {1: 1}"
   ]
  },
  {
   "cell_type": "code",
   "execution_count": 13,
   "metadata": {
    "collapsed": false
   },
   "outputs": [
    {
     "name": "stdout",
     "output_type": "stream",
     "text": [
      "{1: 4}\n"
     ]
    }
   ],
   "source": [
    "print D"
   ]
  },
  {
   "cell_type": "code",
   "execution_count": 14,
   "metadata": {
    "collapsed": false
   },
   "outputs": [
    {
     "name": "stdout",
     "output_type": "stream",
     "text": [
      "{1: 5}\n"
     ]
    }
   ],
   "source": [
    "D[1] = D.get(1) + 1\n",
    "print D"
   ]
  },
  {
   "cell_type": "code",
   "execution_count": null,
   "metadata": {
    "collapsed": true
   },
   "outputs": [],
   "source": []
  }
 ],
 "metadata": {
  "kernelspec": {
   "display_name": "Python 2",
   "language": "python",
   "name": "python2"
  },
  "language_info": {
   "codemirror_mode": {
    "name": "ipython",
    "version": 2
   },
   "file_extension": ".py",
   "mimetype": "text/x-python",
   "name": "python",
   "nbconvert_exporter": "python",
   "pygments_lexer": "ipython2",
   "version": "2.7.11"
  }
 },
 "nbformat": 4,
 "nbformat_minor": 0
}

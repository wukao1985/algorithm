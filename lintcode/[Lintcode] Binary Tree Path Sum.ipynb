{
 "cells": [
  {
   "cell_type": "markdown",
   "metadata": {},
   "source": [
    "## [Lintcode] Binary Tree Path Sum\n",
    "Given a binary tree, find all paths that sum of the nodes in the path equals to a given number target.\n",
    "\n",
    "A valid path is from root node to any of the leaf nodes.\n",
    "\n",
    "Example:\n",
    "Given a binary tree, and target = 5:\n",
    "```python\n",
    "     1\n",
    "    / \\\n",
    "   2   4\n",
    "  / \\\n",
    " 2   3\n",
    "```\n",
    " \n",
    "return:\n",
    "\n",
    "[\n",
    "  [1, 2, 2],\n",
    "  [1, 4]\n",
    "]"
   ]
  },
  {
   "cell_type": "markdown",
   "metadata": {},
   "source": [
    "## Tree construction for UT"
   ]
  },
  {
   "cell_type": "code",
   "execution_count": 31,
   "metadata": {
    "collapsed": true
   },
   "outputs": [],
   "source": [
    "from __future__ import print_function\n",
    "\n",
    "class TreeNode:\n",
    "    def __init__(self, val):\n",
    "        self.val = val\n",
    "        self.left, self.right = None, None\n",
    "\n",
    "treeList = [1, 2, 4, 2, 3, '#', '#']\n",
    "\n",
    "def constructTree(listTree):\n",
    "    # 1. make the first node of the list as Root, enqueue it\n",
    "    # 2. until reach the end, do following:\n",
    "    #    a. dequue one node from the queue\n",
    "    #    b. get 2 more elements from the list\n",
    "    #    c. if not \"#\", construct node and put in left \n",
    "    #       or right and enqueue it to the queue\n",
    "    root = None\n",
    "    if listTree is None or len(listTree) == 0:\n",
    "        return root\n",
    "    \n",
    "    queue = []\n",
    "    \n",
    "    # We have at least one element at this point\n",
    "    root = TreeNode(listTree.pop(0))\n",
    "    queue.append(root)\n",
    "    \n",
    "    # construct the tree\n",
    "    while len(listTree) > 0:\n",
    "        temp = queue.pop(0)\n",
    "        fst = listTree.pop(0)\n",
    "        snd = listTree.pop(0)\n",
    "        if fst != '#':\n",
    "            temp.left = TreeNode(fst)\n",
    "            queue.append(temp.left)\n",
    "        if snd != '#':\n",
    "            temp.right = TreeNode(snd)\n",
    "            queue.append(temp.right)\n",
    "    \n",
    "    return root\n",
    "\n",
    "treeA = constructTree(treeList)"
   ]
  },
  {
   "cell_type": "markdown",
   "metadata": {},
   "source": [
    "## Using pre-order traverse to check whether the tree is constructed as expected"
   ]
  },
  {
   "cell_type": "code",
   "execution_count": 32,
   "metadata": {
    "collapsed": false
   },
   "outputs": [
    {
     "name": "stdout",
     "output_type": "stream",
     "text": [
      "1 2 2 3 4 "
     ]
    }
   ],
   "source": [
    "def preOrder(root):\n",
    "    if root is None:\n",
    "        return\n",
    "    \n",
    "    print (root.val, end=' ')\n",
    "    preOrder(root.left)\n",
    "    preOrder(root.right)\n",
    "\n",
    "preOrder(treeA)"
   ]
  },
  {
   "cell_type": "markdown",
   "metadata": {},
   "source": [
    "## Now let's solve the Binary Tree Path Sum problem\n",
    "Using traversal"
   ]
  },
  {
   "cell_type": "code",
   "execution_count": 50,
   "metadata": {
    "collapsed": true
   },
   "outputs": [],
   "source": [
    "def binaryTreePathSum(root, target):\n",
    "    if root is None:\n",
    "        return []\n",
    "    \n",
    "    ret = []\n",
    "    path = []\n",
    "    path.append(root.val)\n",
    "    \n",
    "    helper(root, path, root.val, target, ret)\n",
    "    return ret\n",
    "\n",
    "def helper(node, path, pathSum, target, ret):\n",
    "    if node.left is None and node.right is None: \n",
    "        if pathSum == target:\n",
    "            ret.append([] + path)\n",
    "            \n",
    "    # go left\n",
    "    if node.left is not None:\n",
    "        path.append(node.left.val)\n",
    "        helper(node.left, path, pathSum + node.left.val, target, ret)\n",
    "        path.pop()\n",
    "    \n",
    "    # go right\n",
    "    if node.right is not None:\n",
    "        path.append(node.right.val)\n",
    "        helper(node.right, path, pathSum + node.right.val, target, ret)\n",
    "        path.pop()\n",
    "    "
   ]
  },
  {
   "cell_type": "code",
   "execution_count": 52,
   "metadata": {
    "collapsed": false
   },
   "outputs": [
    {
     "data": {
      "text/plain": [
       "[[1, 2, 2], [1, 4]]"
      ]
     },
     "execution_count": 52,
     "metadata": {},
     "output_type": "execute_result"
    }
   ],
   "source": [
    "binaryTreePathSum(treeA, 5)"
   ]
  },
  {
   "cell_type": "markdown",
   "metadata": {},
   "source": [
    "## Try to use Divide and conque to solve this problem - to be continued"
   ]
  },
  {
   "cell_type": "code",
   "execution_count": null,
   "metadata": {
    "collapsed": true
   },
   "outputs": [],
   "source": [
    "def binaryTreePathSumDC(root, target):\n",
    "    if root is None:\n",
    "        return []\n",
    "    \n",
    "    path = []\n",
    "    path.append(root.val)\n",
    "    ret = helper(root, path, root.val, target)\n",
    "    return ret\n",
    "\n",
    "def helper(node, path, pathSum, target):\n",
    "    if node.left is None and node.right is None: \n",
    "        if pathSum == target:\n",
    "            return path\n",
    "            \n",
    "    # go left\n",
    "    if node.left:\n",
    "        leftList = helper(node.left, path.append(node.val), pathSum + node.val, target)\n",
    "    \n",
    "    # go right\n",
    "    if node.right is not None:\n",
    "        path.append(node.right.val)\n",
    "        helper(node.right, path, pathSum + node.right.val, target, ret)\n",
    "        path.pop()"
   ]
  }
 ],
 "metadata": {
  "kernelspec": {
   "display_name": "Python 2",
   "language": "python",
   "name": "python2"
  },
  "language_info": {
   "codemirror_mode": {
    "name": "ipython",
    "version": 2
   },
   "file_extension": ".py",
   "mimetype": "text/x-python",
   "name": "python",
   "nbconvert_exporter": "python",
   "pygments_lexer": "ipython2",
   "version": "2.7.11"
  }
 },
 "nbformat": 4,
 "nbformat_minor": 0
}

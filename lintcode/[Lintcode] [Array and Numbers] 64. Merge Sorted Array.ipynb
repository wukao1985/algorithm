{
 "cells": [
  {
   "cell_type": "markdown",
   "metadata": {},
   "source": [
    "## 64. Merge Sorted Array\n",
    "Given two sorted integer arrays A and B, merge B into A as one sorted array.\n",
    "\n",
    "Exemple:\n",
    "\n",
    "A = [1, 2, 3, empty, empty], B = [4, 5]\n",
    "\n",
    "After merge, A will be filled as [1, 2, 3, 4, 5]"
   ]
  },
  {
   "cell_type": "code",
   "execution_count": 11,
   "metadata": {
    "collapsed": false
   },
   "outputs": [
    {
     "name": "stdout",
     "output_type": "stream",
     "text": [
      "[2, 3, 4, 5, 6, 10]\n"
     ]
    }
   ],
   "source": [
    "\"\"\"\n",
    "@param A: sorted integer array A which has m elements, \n",
    "          but size of A is m+n\n",
    "@param B: sorted integer array B which has n elements\n",
    "@return: void\n",
    "\"\"\"\n",
    "def mergeSortedArray(A, m, B, n):\n",
    "    # write your code here\n",
    "    if m == 0:\n",
    "        return B\n",
    "    if n == 0:\n",
    "        return A\n",
    "\n",
    "    posA = m - 1\n",
    "    posB = n - 1\n",
    "    for i in reversed(range(m + n)):\n",
    "        if posA < 0:\n",
    "            A[i] = B[posB]\n",
    "            posB -= 1\n",
    "            continue\n",
    "\n",
    "        if posB < 0:\n",
    "            A[i] = A[posA]\n",
    "            posA -= 1\n",
    "            continue\n",
    "\n",
    "        if A[posA] > B[posB]:\n",
    "            A[i] = A[posA]\n",
    "            posA -= 1\n",
    "        else:\n",
    "            A[i] = B[posB]\n",
    "            posB -= 1\n",
    "\n",
    "    return A\n",
    "\n",
    "A = []\n",
    "B = [2,3,4,5,6,10]\n",
    "print mergeSortedArray(A, 0, B, 6)\n",
    "        "
   ]
  },
  {
   "cell_type": "code",
   "execution_count": 10,
   "metadata": {
    "collapsed": false
   },
   "outputs": [
    {
     "name": "stdout",
     "output_type": "stream",
     "text": [
      "3\n"
     ]
    }
   ],
   "source": [
    "A = [1, 3, 5]\n",
    "print max(A[:2])"
   ]
  },
  {
   "cell_type": "code",
   "execution_count": null,
   "metadata": {
    "collapsed": true
   },
   "outputs": [],
   "source": []
  }
 ],
 "metadata": {
  "kernelspec": {
   "display_name": "Python 2",
   "language": "python",
   "name": "python2"
  },
  "language_info": {
   "codemirror_mode": {
    "name": "ipython",
    "version": 2
   },
   "file_extension": ".py",
   "mimetype": "text/x-python",
   "name": "python",
   "nbconvert_exporter": "python",
   "pygments_lexer": "ipython2",
   "version": "2.7.11"
  }
 },
 "nbformat": 4,
 "nbformat_minor": 0
}

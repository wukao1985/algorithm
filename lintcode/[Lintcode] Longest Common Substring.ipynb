{
 "cells": [
  {
   "cell_type": "markdown",
   "metadata": {},
   "source": [
    "## Longest Common Substring\n",
    "\n",
    "Given two strings, find the longest common substring.\n",
    "\n",
    "Return the length of it.\n",
    "\n",
    "**Exemple:**\n",
    "\n",
    "Given A = \"ABCD\", B = \"CBCE\", return 2."
   ]
  },
  {
   "cell_type": "markdown",
   "metadata": {},
   "source": [
    "### NO DP！Alreay O(n^3), no need to DP"
   ]
  },
  {
   "cell_type": "code",
   "execution_count": null,
   "metadata": {
    "collapsed": true
   },
   "outputs": [],
   "source": [
    "def longestCommonSubstring(A, B):\n",
    "    m = len(A)\n",
    "    n = len(B)\n",
    "    \n",
    "    ans = 0\n",
    "    for i in xrange(0, m):\n",
    "        for j in xrange(0, n):\n",
    "            ln = 0\n",
    "            while i + ln < m && j + ln < n \\\n",
    "                  && A[i + ln] == B[j + ln]:\n",
    "                    ln += 1\n",
    "            if ln > ans:\n",
    "                ans = ln\n",
    "    \n",
    "    return ans"
   ]
  }
 ],
 "metadata": {
  "kernelspec": {
   "display_name": "Python 2",
   "language": "python",
   "name": "python2"
  },
  "language_info": {
   "codemirror_mode": {
    "name": "ipython",
    "version": 2
   },
   "file_extension": ".py",
   "mimetype": "text/x-python",
   "name": "python",
   "nbconvert_exporter": "python",
   "pygments_lexer": "ipython2",
   "version": "2.7.11"
  }
 },
 "nbformat": 4,
 "nbformat_minor": 0
}

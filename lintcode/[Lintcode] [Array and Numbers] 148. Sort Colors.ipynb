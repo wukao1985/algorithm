{
 "cells": [
  {
   "cell_type": "markdown",
   "metadata": {},
   "source": [
    "## 148. Sort Colors\n",
    "\n",
    "Given an array with n objects colored red, white or blue, sort them so that objects of the same color are adjacent, with the colors in the order red, white and blue.\n",
    "\n",
    "Here, we will use the integers 0, 1, and 2 to represent the color red, white, and blue respectively.\n",
    "\n",
    "Exemple:\n",
    "Given [1, 0, 1, 2], sort it in-place to [0, 1, 1, 2]."
   ]
  },
  {
   "cell_type": "markdown",
   "metadata": {},
   "source": [
    "### Straight Forward Solution: Counting"
   ]
  },
  {
   "cell_type": "code",
   "execution_count": 7,
   "metadata": {
    "collapsed": false
   },
   "outputs": [
    {
     "name": "stdout",
     "output_type": "stream",
     "text": [
      "[0, 0, 0, 1, 2, 2, 2]\n"
     ]
    }
   ],
   "source": [
    "def sortColors(nums):\n",
    "    # write your code here\n",
    "    counts = [0] * 3\n",
    "    \n",
    "    for i in range(len(nums)):\n",
    "        if nums[i] == 0:\n",
    "            counts[0] += 1\n",
    "        elif nums[i] == 1:\n",
    "            counts[1] += 1\n",
    "        else:\n",
    "            counts[2] += 1\n",
    "    \n",
    "    ret = []\n",
    "    for i in range(len(counts)):\n",
    "        for j in range(counts[i]):\n",
    "            ret.append(i)\n",
    "            \n",
    "    return ret\n",
    "\n",
    "nums = [2,0,0,1,2,0,2]\n",
    "print sortColors(nums)"
   ]
  },
  {
   "cell_type": "markdown",
   "metadata": {},
   "source": [
    "### No return Value version:"
   ]
  },
  {
   "cell_type": "code",
   "execution_count": 10,
   "metadata": {
    "collapsed": false
   },
   "outputs": [
    {
     "name": "stdout",
     "output_type": "stream",
     "text": [
      "[0, 0, 0, 1, 2, 2, 2]\n"
     ]
    }
   ],
   "source": [
    "def sortColors(nums):\n",
    "    # write your code here\n",
    "    counts = [0] * 3\n",
    "\n",
    "    for i in range(len(nums)):\n",
    "        if nums[i] == 0:\n",
    "            counts[0] += 1\n",
    "        elif nums[i] == 1:\n",
    "            counts[1] += 1\n",
    "        else:\n",
    "            counts[2] += 1\n",
    "    pos = 0\n",
    "    for i in range(len(counts)):\n",
    "        for j in range(counts[i]):\n",
    "            nums[pos] = i\n",
    "            pos += 1\n",
    "\n",
    "nums = [2,0,0,1,2,0,2]\n",
    "sortColors(nums)\n",
    "print nums"
   ]
  },
  {
   "cell_type": "code",
   "execution_count": null,
   "metadata": {
    "collapsed": true
   },
   "outputs": [],
   "source": []
  }
 ],
 "metadata": {
  "kernelspec": {
   "display_name": "Python 2",
   "language": "python",
   "name": "python2"
  },
  "language_info": {
   "codemirror_mode": {
    "name": "ipython",
    "version": 2
   },
   "file_extension": ".py",
   "mimetype": "text/x-python",
   "name": "python",
   "nbconvert_exporter": "python",
   "pygments_lexer": "ipython2",
   "version": "2.7.10"
  }
 },
 "nbformat": 4,
 "nbformat_minor": 0
}

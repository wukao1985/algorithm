{
 "cells": [
  {
   "cell_type": "markdown",
   "metadata": {},
   "source": [
    "## Sort List\n",
    "Sort a linked list in **O(n log n)** time using constant space complexity.\n",
    "\n",
    "Given 1-3->2->null, sort it to 1->2->3->null."
   ]
  },
  {
   "cell_type": "code",
   "execution_count": 9,
   "metadata": {
    "collapsed": false
   },
   "outputs": [
    {
     "name": "stdout",
     "output_type": "stream",
     "text": [
      "1 ->2 ->3 ->4 ->5 ->6 ->null\n"
     ]
    }
   ],
   "source": [
    "from __future__ import print_function\n",
    "\n",
    "class ListNode(object):\n",
    "\n",
    "    def __init__(self, val, next=None):\n",
    "        self.val = val\n",
    "        self.next = next\n",
    "\n",
    "def formList(A):\n",
    "    rhead = ListNode(0)\n",
    "    rtail = rhead\n",
    "    for i in A:\n",
    "        rtail.next = ListNode(i)\n",
    "        rtail = rtail.next\n",
    "    return rhead.next\n",
    "\n",
    "def printList(head):\n",
    "    while head is not None:\n",
    "        print(head.val, '->', end = '')\n",
    "        head = head.next\n",
    "    print('null')\n",
    "\n",
    "A = [1, 2, 3, 4, 5, 6]\n",
    "printList(formList(A))"
   ]
  },
  {
   "cell_type": "markdown",
   "metadata": {
    "collapsed": true
   },
   "source": [
    "### Merge Sort\n",
    "#### 1. Find Middle Node\n",
    "#### 2. Merge Sorted List\n",
    "#### 3. Recursive Call"
   ]
  },
  {
   "cell_type": "code",
   "execution_count": 5,
   "metadata": {
    "collapsed": false
   },
   "outputs": [
    {
     "name": "stdout",
     "output_type": "stream",
     "text": [
      "3\n"
     ]
    }
   ],
   "source": [
    "def findMidNode(head):\n",
    "    if head is None or head.next is None:\n",
    "        return None\n",
    "    \n",
    "    slow = head\n",
    "    fast = head.next\n",
    "    \n",
    "    while fast is not None and fast.next is not None:\n",
    "        slow = slow.next\n",
    "        fast = fast.next.next\n",
    "    \n",
    "    return slow\n",
    "\n",
    "A = [1, 2, 3, 4, 5]\n",
    "alist = formList(A)\n",
    "B = findMidNode(alist)\n",
    "print(B.val)"
   ]
  },
  {
   "cell_type": "code",
   "execution_count": 7,
   "metadata": {
    "collapsed": false
   },
   "outputs": [
    {
     "name": "stdout",
     "output_type": "stream",
     "text": [
      "1 ->2 ->3 ->5 ->7 ->9 ->11 ->19 ->49 ->null\n"
     ]
    }
   ],
   "source": [
    "def merge(head1, head2):\n",
    "    if head1 is None and head2 is None:\n",
    "        return None\n",
    "    \n",
    "    dummy = ListNode(0)\n",
    "    cur  = dummy\n",
    "    while head1 is not None and head2 is not None:           \n",
    "        if  head1.val < head2.val:\n",
    "            cur.next = head1\n",
    "            head1    = head1.next\n",
    "        else:\n",
    "            cur.next = head2\n",
    "            head2    = head2.next\n",
    "        cur = cur.next\n",
    "            \n",
    "    if head1 is None:\n",
    "        cur.next = head2\n",
    "    else:\n",
    "        cur.next = head1\n",
    "\n",
    "    return dummy.next\n",
    "\n",
    "l1 = [1, 3, 7, 49]\n",
    "l2 = [2, 5, 9, 11, 19]\n",
    "head1 = formList(l1)\n",
    "head2 = formList(l2)\n",
    "head = merge(head1, head2)\n",
    "printList(head)"
   ]
  },
  {
   "cell_type": "code",
   "execution_count": 8,
   "metadata": {
    "collapsed": false
   },
   "outputs": [
    {
     "name": "stdout",
     "output_type": "stream",
     "text": [
      "1 ->2 ->3 ->7 ->8 ->49 ->155 ->null\n"
     ]
    }
   ],
   "source": [
    "def mergeSort(head):\n",
    "    if head is None or head.next is None:\n",
    "        return head\n",
    "    \n",
    "    mid = findMidNode(head)\n",
    "    right = mergeSort(mid.next)\n",
    "    mid.next = None\n",
    "    left  = mergeSort(head)\n",
    "    \n",
    "    return merge(left, right)\n",
    "\n",
    "#Unit test\n",
    "l1 = [7, 3, 1, 49, 155, 2, 8]\n",
    "head1 = formList(l1)\n",
    "head = mergeSort(head1)\n",
    "printList(head)"
   ]
  },
  {
   "cell_type": "markdown",
   "metadata": {
    "collapsed": true
   },
   "source": [
    "#### TESTING"
   ]
  },
  {
   "cell_type": "code",
   "execution_count": 14,
   "metadata": {
    "collapsed": false
   },
   "outputs": [
    {
     "name": "stdout",
     "output_type": "stream",
     "text": [
      "-1 ->null\n",
      "-1 ->null\n"
     ]
    }
   ],
   "source": [
    "A = [-1]\n",
    "B = formList(A)\n",
    "printList(B)\n",
    "\n",
    "rhead = ListNode(0)\n",
    "cur = rhead\n",
    "\n",
    "while B is not None:\n",
    "    cur.next = ListNode(B.val)\n",
    "    B = B.next\n",
    "    cur = cur.next\n",
    "\n",
    "printList(rhead.next)"
   ]
  },
  {
   "cell_type": "code",
   "execution_count": 25,
   "metadata": {
    "collapsed": false
   },
   "outputs": [
    {
     "name": "stdout",
     "output_type": "stream",
     "text": [
      "0\n"
     ]
    }
   ],
   "source": [
    "from collections import defaultdict\n",
    "\n",
    "A = ListNode(0)\n",
    "B = ListNode(1)\n",
    "\n",
    "d = dict({})\n",
    "d[A] = B\n",
    "d[B] = A\n",
    "print(d[B].val)"
   ]
  },
  {
   "cell_type": "code",
   "execution_count": null,
   "metadata": {
    "collapsed": true
   },
   "outputs": [],
   "source": []
  }
 ],
 "metadata": {
  "kernelspec": {
   "display_name": "Python 2",
   "language": "python",
   "name": "python2"
  },
  "language_info": {
   "codemirror_mode": {
    "name": "ipython",
    "version": 2
   },
   "file_extension": ".py",
   "mimetype": "text/x-python",
   "name": "python",
   "nbconvert_exporter": "python",
   "pygments_lexer": "ipython2",
   "version": "2.7.10"
  }
 },
 "nbformat": 4,
 "nbformat_minor": 0
}

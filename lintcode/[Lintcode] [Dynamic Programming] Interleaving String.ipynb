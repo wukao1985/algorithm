{
 "cells": [
  {
   "cell_type": "markdown",
   "metadata": {},
   "source": [
    "## Interleaving String\n",
    "Given three strings: s1, s2, s3, determine whether s3 is formed by the interleaving of s1 and s2.\n",
    "\n",
    "For s1 = \"aabcc\", s2 = \"dbbca\"\n",
    "\n",
    "When s3 = \"aadbbcbcac\", return true.\n",
    "When s3 = \"aadbbbaccc\", return false."
   ]
  },
  {
   "cell_type": "code",
   "execution_count": 18,
   "metadata": {
    "collapsed": false
   },
   "outputs": [
    {
     "name": "stdout",
     "output_type": "stream",
     "text": [
      "3 1 [[True, False], [False, False], [False, False], [False, False]]\n",
      "[[True, False], [False, False], [False, False], [False, False]]\n",
      "[[True, False], [False, False], [False, False], [False, False]]\n",
      "False\n"
     ]
    }
   ],
   "source": [
    "def isInterleave(s1, s2, s3):\n",
    "    # write your code here\n",
    "    m = len(s1)\n",
    "    n = len(s2)\n",
    "\n",
    "    # DP[i][j] represents first i in s1 and first j in s2\n",
    "    # can form first i + j in s3\n",
    "    DP = [[False] * (n + 1) for i in range(m + 1)]\n",
    "\n",
    "    # Initilization\n",
    "    DP[0][0] = True\n",
    "    print m, n, DP\n",
    "\n",
    "    for i in xrange(1, m + 1):\n",
    "        DP[i][0] = DP[i - 1][0] and (s1[i - 1] == s3[i - 1])\n",
    "        \n",
    "    print DP\n",
    "\n",
    "    for j in xrange(1, n + 1): \n",
    "         DP[0][j] = DP[0][j - 1] and (s2[j - 1] == s3[j - 1])\n",
    "        \n",
    "    print DP\n",
    "\n",
    "    for i in xrange(1, m + 1):\n",
    "        for j in xrange(1, n + 1):\n",
    "            DP[i][j] = (DP[i - 1][j] and s1[i - 1] == s3[i + j - 1]) or \\\n",
    "                 (DP[i][j - 1] and s2[j - 1] == s3[i + j -1])\n",
    "\n",
    "    return DP[m][n]\n",
    "\n",
    "s1 = \"abc\"\n",
    "s2 = \"a\"\n",
    "s3 = \"b\"\n",
    "\n",
    "print isInterleave(s1, s2, s3)"
   ]
  },
  {
   "cell_type": "code",
   "execution_count": null,
   "metadata": {
    "collapsed": true
   },
   "outputs": [],
   "source": []
  }
 ],
 "metadata": {
  "kernelspec": {
   "display_name": "Python 2",
   "language": "python",
   "name": "python2"
  },
  "language_info": {
   "codemirror_mode": {
    "name": "ipython",
    "version": 2
   },
   "file_extension": ".py",
   "mimetype": "text/x-python",
   "name": "python",
   "nbconvert_exporter": "python",
   "pygments_lexer": "ipython2",
   "version": "2.7.11"
  }
 },
 "nbformat": 4,
 "nbformat_minor": 0
}

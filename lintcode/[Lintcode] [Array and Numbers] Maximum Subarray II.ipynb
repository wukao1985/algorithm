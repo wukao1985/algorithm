{
 "cells": [
  {
   "cell_type": "markdown",
   "metadata": {},
   "source": [
    "## Maximum Subarray II\n",
    "Given an array of integers, find two non-overlapping subarrays which have the largest sum.\n",
    "The number in each subarray should be contiguous.\n",
    "Return the largest sum.\n",
    "\n",
    "Exemple:\n",
    "\n",
    "For given [1, 3, -1, 2, -1, 2], the two subarrays are [1, 3] and [2, -1, 2] or [1, 3, -1, 2] and [2], they both have the largest sum 7."
   ]
  },
  {
   "cell_type": "markdown",
   "metadata": {},
   "source": [
    "### First, we copy over Maximum Subarray I here for reference"
   ]
  },
  {
   "cell_type": "code",
   "execution_count": 2,
   "metadata": {
    "collapsed": true
   },
   "outputs": [],
   "source": [
    "def maxSubArray(nums):\n",
    "    # write your code here\n",
    "    if nums is None or len(nums) == 0:\n",
    "        return 0\n",
    "\n",
    "    ret = -sys.maxint\n",
    "    sum = 0\n",
    "\n",
    "    for i in range(len(nums)):\n",
    "        sum += nums[i]\n",
    "        ret = max(sum, ret)\n",
    "        if sum < 0:\n",
    "            sum = 0\n",
    "\n",
    "    return ret"
   ]
  },
  {
   "cell_type": "markdown",
   "metadata": {},
   "source": [
    "### Solution\n",
    "- We do from left to right, and get left[i], which left[i] represents maximum subarray of nums[:i],   i from 1 to len(nums) - 1\n",
    "- We do from right to left and get right[i], which represents maximum subarray of nums[i:], i from 1 to len(nums) - 1\n",
    "- From 1 to len(nums) - 1, we get max(left[i] + right[i])"
   ]
  },
  {
   "cell_type": "code",
   "execution_count": 21,
   "metadata": {
    "collapsed": false
   },
   "outputs": [
    {
     "name": "stdout",
     "output_type": "stream",
     "text": [
      "[-1, -1] [-1, -1]\n"
     ]
    },
    {
     "data": {
      "text/plain": [
       "-2"
      ]
     },
     "execution_count": 21,
     "metadata": {},
     "output_type": "execute_result"
    }
   ],
   "source": [
    "import sys\n",
    "\n",
    "def maxTwoSubArray(nums):\n",
    "    left = [-sys.maxint] * len(nums)\n",
    "    right = [-sys.maxint] * len(nums)\n",
    "    \n",
    "    sum = 0\n",
    "    curMax = -sys.maxint\n",
    "    for i in range(len(nums)):\n",
    "        sum += nums[i]\n",
    "        curMax = max(sum, curMax)\n",
    "        left[i] = curMax\n",
    "        if sum < 0:\n",
    "            sum = 0\n",
    "            \n",
    "    sum = 0\n",
    "    curMax = -sys.maxint\n",
    "    for i in reversed(range(len(nums))):\n",
    "        sum += nums[i]\n",
    "        curMax = max(sum, curMax)\n",
    "        right[i] = curMax\n",
    "        if sum < 0:\n",
    "            sum = 0\n",
    "            \n",
    "    print left, right\n",
    "            \n",
    "    # Now we have left[] and right[], let's solve the original problem\n",
    "    # left, and right can be 0-1, 1-2, ... len - 2 to len - 1, so xrange from 0 to len - 1\n",
    "    ret = -sys.maxint\n",
    "    for i in xrange(0, len(nums) - 1):\n",
    "        ret = max(ret, left[i] + right[i + 1])\n",
    "    \n",
    "    return ret\n",
    "\n",
    "A = [-1, -1]\n",
    "maxTwoSubArray(A) "
   ]
  },
  {
   "cell_type": "code",
   "execution_count": null,
   "metadata": {
    "collapsed": true
   },
   "outputs": [],
   "source": []
  }
 ],
 "metadata": {
  "kernelspec": {
   "display_name": "Python 2",
   "language": "python",
   "name": "python2"
  },
  "language_info": {
   "codemirror_mode": {
    "name": "ipython",
    "version": 2
   },
   "file_extension": ".py",
   "mimetype": "text/x-python",
   "name": "python",
   "nbconvert_exporter": "python",
   "pygments_lexer": "ipython2",
   "version": "2.7.11"
  }
 },
 "nbformat": 4,
 "nbformat_minor": 0
}

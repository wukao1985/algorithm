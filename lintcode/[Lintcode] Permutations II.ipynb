{
 "cells": [
  {
   "cell_type": "markdown",
   "metadata": {},
   "source": [
    "##Given a list of numbers with duplicate number in it. Find all unique permutations.\n",
    "Example:\n",
    "\n",
    ">For numbers [1,2,2] the unique permutations are:\n",
    "\n",
    ">[\n",
    ">  [1,2,2],\n",
    ">  [2,1,2],\n",
    ">  [2,2,1]\n",
    ">]\n",
    "\n",
    "Challenge:\n",
    "Using recursion to do it is acceptable. If you can do it without recursion, that would be great!"
   ]
  },
  {
   "cell_type": "markdown",
   "metadata": {},
   "source": [
    "## recall permutation I"
   ]
  },
  {
   "cell_type": "code",
   "execution_count": 3,
   "metadata": {
    "collapsed": false
   },
   "outputs": [],
   "source": [
    "def permute(nums, pos, templist, visit, res):\n",
    "    if pos == len(nums):\n",
    "        res.append([]+templist)\n",
    "        return\n",
    "    else:\n",
    "        for i in range(len(nums)):\n",
    "            if visit[i] == 1:\n",
    "                continue\n",
    "            else:\n",
    "                templist.append(nums[i])\n",
    "                visit[i] = 1\n",
    "                permute(nums, pos+1, templist, visit, res)\n",
    "                visit[i] = 0\n",
    "                templist.pop()\n",
    "\n",
    "def permutation(nums):\n",
    "    if nums is None:\n",
    "        return []\n",
    "    if len(nums) == 0:\n",
    "        return []\n",
    "    if len(nums) == 1:\n",
    "        return [nums]\n",
    "    \n",
    "    visit = [0] * len(nums)\n",
    "    res = []\n",
    "    permute(nums, 0, [], visit, res)\n",
    "    return res"
   ]
  },
  {
   "cell_type": "code",
   "execution_count": 4,
   "metadata": {
    "collapsed": false
   },
   "outputs": [
    {
     "name": "stdout",
     "output_type": "stream",
     "text": [
      "[[1, 2, 3], [1, 3, 2], [2, 1, 3], [2, 3, 1], [3, 1, 2], [3, 2, 1]]\n"
     ]
    }
   ],
   "source": [
    "s = [1,2,3]\n",
    "print permutation(s)"
   ]
  },
  {
   "cell_type": "markdown",
   "metadata": {
    "collapsed": true
   },
   "source": [
    "## Adding logic to prevent duplicate\n",
    "Basically, when we insert a node to the list, if first == temp[i], skip i+1;"
   ]
  },
  {
   "cell_type": "code",
   "execution_count": 19,
   "metadata": {
    "collapsed": false
   },
   "outputs": [],
   "source": [
    "def permute_uni(nums, pos, templist, visit, res):\n",
    "    if pos == len(nums):\n",
    "        res.append([]+templist)\n",
    "        return\n",
    "    else:\n",
    "        for i in range(len(nums)):\n",
    "            if visit[i] == 1 or \\\n",
    "               (i > 0 and visit[i-1] and nums[i-1] == nums[i]):\n",
    "                continue\n",
    "            else:\n",
    "                templist.append(nums[i])\n",
    "                visit[i] = 1\n",
    "                permute_uni(nums, pos+1, templist, visit, res)\n",
    "                visit[i] = 0\n",
    "                templist.pop()\n",
    "\n",
    "def permutation_uni(nums):\n",
    "    if nums is None:\n",
    "        return []\n",
    "    if len(nums) == 0:\n",
    "        return []\n",
    "    if len(nums) == 1:\n",
    "        return [nums]\n",
    "    \n",
    "    visit = [0] * len(nums)\n",
    "    res = []\n",
    "    nums.sort()\n",
    "    permute_uni(nums, 0, [], visit, res)\n",
    "    return res"
   ]
  },
  {
   "cell_type": "code",
   "execution_count": 21,
   "metadata": {
    "collapsed": false
   },
   "outputs": [
    {
     "name": "stdout",
     "output_type": "stream",
     "text": [
      "[[1, 1, 1, 2], [1, 1, 2, 1], [1, 2, 1, 1], [2, 1, 1, 1]]\n"
     ]
    }
   ],
   "source": [
    "s = [1,1,1,2]\n",
    "print permutation_uni(s)"
   ]
  },
  {
   "cell_type": "code",
   "execution_count": null,
   "metadata": {
    "collapsed": true
   },
   "outputs": [],
   "source": []
  },
  {
   "cell_type": "code",
   "execution_count": null,
   "metadata": {
    "collapsed": true
   },
   "outputs": [],
   "source": []
  }
 ],
 "metadata": {
  "kernelspec": {
   "display_name": "Python 2",
   "language": "python",
   "name": "python2"
  },
  "language_info": {
   "codemirror_mode": {
    "name": "ipython",
    "version": 2
   },
   "file_extension": ".py",
   "mimetype": "text/x-python",
   "name": "python",
   "nbconvert_exporter": "python",
   "pygments_lexer": "ipython2",
   "version": "2.7.10"
  }
 },
 "nbformat": 4,
 "nbformat_minor": 0
}

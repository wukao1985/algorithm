{
 "cells": [
  {
   "cell_type": "markdown",
   "metadata": {},
   "source": [
    "## Lowest Common Ancestor\n",
    "Given the root and two nodes in a Binary Tree. Find the lowest common ancestor(LCA) of the two nodes.\n",
    "\n",
    "The lowest common ancestor is the node with largest depth which is the ancestor of both nodes."
   ]
  },
  {
   "cell_type": "markdown",
   "metadata": {},
   "source": [
    "## First, let's form a simple tree as example\n",
    "```python\n",
    "   4\n",
    "  /  \\\n",
    "3     7\n",
    "     / \\\n",
    "    5   6\n",
    "```"
   ]
  },
  {
   "cell_type": "code",
   "execution_count": 66,
   "metadata": {
    "collapsed": false
   },
   "outputs": [],
   "source": [
    "class TreeNode:\n",
    "    def __init__(self, val):\n",
    "        self.val = val\n",
    "        self.left, self.right = None, None\n",
    "\n",
    "treeList = [4, 3, 7, '#', '#', 5, 6]"
   ]
  },
  {
   "cell_type": "code",
   "execution_count": 67,
   "metadata": {
    "collapsed": false
   },
   "outputs": [
    {
     "name": "stdout",
     "output_type": "stream",
     "text": [
      "[4, 3, 7, '#', '#', 5, 6]\n"
     ]
    }
   ],
   "source": [
    "print treeList"
   ]
  },
  {
   "cell_type": "code",
   "execution_count": 71,
   "metadata": {
    "collapsed": true
   },
   "outputs": [],
   "source": [
    "def constructTree(listTree):\n",
    "    # 1. make the first node of the list as Root, enqueue it\n",
    "    # 2. until reach the end, do following:\n",
    "    #    a. dequue one node from the queue\n",
    "    #    b. get 2 more elements from the list\n",
    "    #    c. if not \"#\", construct node and put in left \n",
    "    #       or right and enqueue it to the queue\n",
    "    root = None\n",
    "    if listTree is None or len(listTree) == 0:\n",
    "        return root\n",
    "    \n",
    "    queue = []\n",
    "    \n",
    "    # We have at least one element at this point\n",
    "    root = TreeNode(listTree.pop(0))\n",
    "    queue.append(root)\n",
    "    \n",
    "    # construct the tree\n",
    "    while len(listTree) > 0:\n",
    "        temp = queue.pop(0)\n",
    "        fst = listTree.pop(0)\n",
    "        snd = listTree.pop(0)\n",
    "        if fst != '#':\n",
    "            temp.left = TreeNode(fst)\n",
    "            queue.append(temp.left)\n",
    "        if snd != '#':\n",
    "            temp.right = TreeNode(snd)\n",
    "            queue.append(temp.right)\n",
    "    \n",
    "    return root"
   ]
  },
  {
   "cell_type": "code",
   "execution_count": 79,
   "metadata": {
    "collapsed": true
   },
   "outputs": [],
   "source": [
    "def preOrder(root):\n",
    "    if root is None:\n",
    "        return\n",
    "    \n",
    "    print root.val, ' '\n",
    "    preOrder(root.left)\n",
    "    preOrder(root.right)"
   ]
  },
  {
   "cell_type": "code",
   "execution_count": 83,
   "metadata": {
    "collapsed": true
   },
   "outputs": [],
   "source": [
    "def inOrder(root):\n",
    "    if root is None:\n",
    "        return\n",
    "    \n",
    "    inOrder(root.left)\n",
    "    print root.val, ' '\n",
    "    inOrder(root.right)"
   ]
  },
  {
   "cell_type": "code",
   "execution_count": 85,
   "metadata": {
    "collapsed": true
   },
   "outputs": [],
   "source": [
    "def postOrder(root):\n",
    "    if root is None:\n",
    "        return\n",
    "    \n",
    "    postOrder(root.left)\n",
    "    postOrder(root.right)\n",
    "    print root.val, ' '"
   ]
  },
  {
   "cell_type": "code",
   "execution_count": 86,
   "metadata": {
    "collapsed": false
   },
   "outputs": [
    {
     "name": "stdout",
     "output_type": "stream",
     "text": [
      "pre order: \n",
      "4  \n",
      "3  \n",
      "7  \n",
      "5  \n",
      "6  \n",
      "in order: \n",
      "3  \n",
      "4  \n",
      "5  \n",
      "7  \n",
      "6  \n",
      "post order: \n",
      "3  \n",
      "5  \n",
      "6  \n",
      "7  \n",
      "4  \n"
     ]
    }
   ],
   "source": [
    "treeList = [4, 3, 7, '#', '#', 5, 6]\n",
    "treeA = constructTree(treeList)\n",
    "print 'pre order: '\n",
    "preOrder(treeA)\n",
    "print 'in order: '\n",
    "inOrder(treeA)\n",
    "print 'post order: '\n",
    "postOrder(treeA)\n"
   ]
  },
  {
   "cell_type": "code",
   "execution_count": null,
   "metadata": {
    "collapsed": false
   },
   "outputs": [],
   "source": []
  },
  {
   "cell_type": "code",
   "execution_count": null,
   "metadata": {
    "collapsed": true
   },
   "outputs": [],
   "source": []
  },
  {
   "cell_type": "code",
   "execution_count": null,
   "metadata": {
    "collapsed": true
   },
   "outputs": [],
   "source": []
  }
 ],
 "metadata": {
  "kernelspec": {
   "display_name": "Python 2",
   "language": "python",
   "name": "python2"
  },
  "language_info": {
   "codemirror_mode": {
    "name": "ipython",
    "version": 2
   },
   "file_extension": ".py",
   "mimetype": "text/x-python",
   "name": "python",
   "nbconvert_exporter": "python",
   "pygments_lexer": "ipython2",
   "version": "2.7.11"
  }
 },
 "nbformat": 4,
 "nbformat_minor": 0
}

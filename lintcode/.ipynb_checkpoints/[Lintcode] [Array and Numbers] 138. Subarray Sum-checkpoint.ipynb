{
 "cells": [
  {
   "cell_type": "markdown",
   "metadata": {},
   "source": [
    "## 138. Subarray Sum\n",
    "Given an integer array, find a subarray where the sum of numbers is zero. Your code should return the index of the first number and the index of the last number.\n",
    "\n",
    "Exemple:\n",
    "\n",
    "Given [-3, 1, 2, -3, 4], return [0, 2] or [1, 3]."
   ]
  },
  {
   "cell_type": "markdown",
   "metadata": {},
   "source": [
    "### Lessons learned\n",
    "- we declare a dictionary like this :  D = dict({}) and it can take any element as Key\n",
    "- Sometimes we can not do D[?] to get the result, but we need to use D.get(). Need to further understand in which case we can not do D[]..\n",
    "- There are some thoughts behind D[0] = -1, Be careful about the corner case"
   ]
  },
  {
   "cell_type": "code",
   "execution_count": 16,
   "metadata": {
    "collapsed": false
   },
   "outputs": [
    {
     "name": "stdout",
     "output_type": "stream",
     "text": [
      "[0, 1]\n"
     ]
    }
   ],
   "source": [
    "def subarraySum(nums):\n",
    "    # write your code here\n",
    "    sumarray = []\n",
    "    temp = 0\n",
    "    for i in range(len(nums)):\n",
    "        temp += nums[i]\n",
    "        sumarray.append(temp)\n",
    "    # print sumarray\n",
    "\n",
    "    # Now we have a sum array\n",
    "    # the task is to find two index, that the num is the same\n",
    "\n",
    "    D = dict({})\n",
    "    D[0] = -1\n",
    "    \n",
    "    for i in range(len(sumarray)):\n",
    "        # print D\n",
    "        if D.get(sumarray[i]) is not None:\n",
    "            return [D[sumarray[i]]+1, i]\n",
    "        D[sumarray[i]] = i\n",
    "        # print D\n",
    "\n",
    "    return None\n",
    "\n",
    "nums = [1, -1]\n",
    "print subarraySum(nums)"
   ]
  },
  {
   "cell_type": "code",
   "execution_count": null,
   "metadata": {
    "collapsed": true
   },
   "outputs": [],
   "source": []
  }
 ],
 "metadata": {
  "kernelspec": {
   "display_name": "Python 2",
   "language": "python",
   "name": "python2"
  },
  "language_info": {
   "codemirror_mode": {
    "name": "ipython",
    "version": 2
   },
   "file_extension": ".py",
   "mimetype": "text/x-python",
   "name": "python",
   "nbconvert_exporter": "python",
   "pygments_lexer": "ipython2",
   "version": "2.7.11"
  }
 },
 "nbformat": 4,
 "nbformat_minor": 0
}

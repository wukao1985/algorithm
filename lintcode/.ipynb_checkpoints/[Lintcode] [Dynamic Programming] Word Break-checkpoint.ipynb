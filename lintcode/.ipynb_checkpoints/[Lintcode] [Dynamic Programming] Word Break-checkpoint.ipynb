{
 "cells": [
  {
   "cell_type": "markdown",
   "metadata": {},
   "source": [
    "## [Lintcode] Word Break\n",
    "Given a string s and a dictionary of words dict, determine if s can be break into a space-separated sequence of one or more dictionary words.\n",
    "\n",
    "Example:\n",
    "\n",
    "Given s = \"lintcode\", dict = [\"lint\", \"code\"].\n",
    "\n",
    "Return true because \"lintcode\" can be break as \"lint code\"."
   ]
  },
  {
   "cell_type": "markdown",
   "metadata": {},
   "source": [
    "## Recursive approach without Memorization"
   ]
  },
  {
   "cell_type": "code",
   "execution_count": 74,
   "metadata": {
    "collapsed": false
   },
   "outputs": [
    {
     "name": "stdout",
     "output_type": "stream",
     "text": [
      "True\n"
     ]
    }
   ],
   "source": [
    "def wordBreakRecurse(s, dict):\n",
    "    if s is None or len(s) == 0:\n",
    "        return True\n",
    "    \n",
    "    # get the max word Length \n",
    "    maxWordLen = 0\n",
    "    for x in dict:\n",
    "        if len(x)> maxWordLen:\n",
    "            maxWordLen = len(x)\n",
    "\n",
    "    ret = wordBreakRecurseHelper(s, dict, maxWordLen)\n",
    "    return ret\n",
    "\n",
    "def wordBreakRecurseHelper(s, dict, maxWordLen):\n",
    "    if s is None or len(s) == 0:\n",
    "        return True\n",
    "\n",
    "    pos = []\n",
    "    # From 0 t0 maxWordLen - 1, find every position that matching a word\n",
    "    # store it in a list\n",
    "    for i in range(maxWordLen + 1):\n",
    "        if dict.get(s[0:i]) is not None:\n",
    "            pos.append(i)\n",
    "            \n",
    "    # for every position in pos, we use j to represent,\n",
    "    # we need to check from s[j + 1:] can be break to words\n",
    "    for x in pos:\n",
    "        if wordBreakRecurseHelper(s[x:], dict, maxWordLen):\n",
    "            return True\n",
    "\n",
    "    return False\n",
    "\n",
    "s = 'familyhahaaaaaaaa'\n",
    "dictA = {'aaaa' : 1, 'aaa' : 1, 'family' : 1, 'haha' : 1}\n",
    "print wordBreakRecurse(s, dictA)\n",
    "    "
   ]
  },
  {
   "cell_type": "markdown",
   "metadata": {},
   "source": [
    "## Recursive + Memorization approach\n",
    "***Note: this approach will result in Memory limit exceed in Lintcode! ***"
   ]
  },
  {
   "cell_type": "code",
   "execution_count": 73,
   "metadata": {
    "collapsed": false
   },
   "outputs": [
    {
     "name": "stdout",
     "output_type": "stream",
     "text": [
      "False\n"
     ]
    }
   ],
   "source": [
    "def wordBreakRecurseMem(s, dict):\n",
    "    if s is None or len(s) == 0:\n",
    "        return True\n",
    "    \n",
    "    # get the max word Length \n",
    "    maxWordLen = 0\n",
    "    for x in dict:\n",
    "        if len(x)> maxWordLen:\n",
    "            maxWordLen = len(x)\n",
    "        \n",
    "    D = {}\n",
    "    ret = wordBreakRecurseMemHelper(s, dict, maxWordLen, D)\n",
    "    return ret\n",
    "\n",
    "def wordBreakRecurseMemHelper(s, dict, maxWordLen, D):\n",
    "    if s is None or len(s) == 0:\n",
    "        return True\n",
    "\n",
    "    pos = []\n",
    "    # From 0 t0 maxWordLen - 1, find every position that matching a word\n",
    "    # store it in a list\n",
    "    for i in range(maxWordLen + 1):\n",
    "        if dict.get(s[0:i]) is not None:\n",
    "            pos.append(i)\n",
    "            \n",
    "    # for every position in pos, we use j to represent,\n",
    "    # we need to check from s[j + 1:] can be break to words\n",
    "    for x in pos:\n",
    "        if D.get(x) is not None:\n",
    "            return True\n",
    "        else:\n",
    "            if wordBreakRecurseMemHelper(s[x:], dict, maxWordLen, D):\n",
    "                D[x] = True\n",
    "                return True\n",
    "\n",
    "    return False\n",
    "\n",
    "s = 'familyhahaaaaaaaa'\n",
    "dictA = {'aaaa' : 1, 'aaa' : 1, 'family' : 1, 'haha' : 1}\n",
    "print wordBreakRecurse(s, dictA)"
   ]
  },
  {
   "cell_type": "markdown",
   "metadata": {
    "collapsed": false
   },
   "source": [
    "## Non-recursive approach\n",
    "\n",
    "Algorithm:\n",
    "Let's look at this example: \"wearefamily\". The length of this string is n: 11.\n",
    "Dictionary we get is {'we' : 1, 'are' : 1, 'family' : 1, 'haha', : 1}. Output should be True in this example.\n",
    "\n",
    "- Get the longest word length. In this example, it's maxWordLen : 6\n",
    "- Form a DP table, DP[n + 1]. DP[0] = True, since if the string is empty, we can form it using the dictionary any way. Other value initilized to be False.\n",
    "- From 1 to n, we move one pointer \"i\", and determine from 0 to respective \"i\", whether it's word breakable.\n",
    "```python\n",
    "i = 0: False\n",
    "  wearefamily\n",
    "  ^\n",
    "  |\n",
    "i = 1: True\n",
    "  wearefamily\n",
    "   ^\n",
    "   |\n",
    "```\n",
    "\n",
    "- In order to determine for each \"i\", we need a second pointer \"j\" to help. This \"j\" pointer will point to pos \"i-maxWordLen\" and move until meet i. j pointer will find the position of DP[j] to be true, and if S[j:i] is in the dict, then we mark DP[j] to be True. Note \"j\" needs to less than i so initially, j will move from 1 to i before i is larger than maxWordLen\n",
    "\n",
    "- After all processing, return DP[n]\n"
   ]
  },
  {
   "cell_type": "code",
   "execution_count": 26,
   "metadata": {
    "collapsed": false
   },
   "outputs": [
    {
     "name": "stdout",
     "output_type": "stream",
     "text": [
      "True\n"
     ]
    }
   ],
   "source": [
    "def wordBreak(s, dict):\n",
    "    if s is None or len(s) == 0:\n",
    "        return True\n",
    "    \n",
    "    n = len(s)\n",
    "    maxWordLen = max([len(x) for x in dict])\n",
    "    DP = [False] * (n + 1)\n",
    "    DP[0] = True\n",
    "    \n",
    "    for i in xrange(1, n + 1):\n",
    "        for j in range(1, min(i, maxWordLen) + 1):\n",
    "            if not DP[i - j]:\n",
    "                continue\n",
    "            if dict.get(s[i - j:i]):\n",
    "                DP[i] = True\n",
    "                break\n",
    "    return DP[n]\n",
    "    \n",
    "s = 'familyhahaaaa'\n",
    "dictA = {'aaaa' : 1, 'aaa' : 1, 'family' : 1, 'haha' : 1}\n",
    "print wordBreak(s, dictA)"
   ]
  },
  {
   "cell_type": "code",
   "execution_count": null,
   "metadata": {
    "collapsed": true
   },
   "outputs": [],
   "source": []
  }
 ],
 "metadata": {
  "kernelspec": {
   "display_name": "Python 2",
   "language": "python",
   "name": "python2"
  },
  "language_info": {
   "codemirror_mode": {
    "name": "ipython",
    "version": 2
   },
   "file_extension": ".py",
   "mimetype": "text/x-python",
   "name": "python",
   "nbconvert_exporter": "python",
   "pygments_lexer": "ipython2",
   "version": "2.7.11"
  }
 },
 "nbformat": 4,
 "nbformat_minor": 0
}

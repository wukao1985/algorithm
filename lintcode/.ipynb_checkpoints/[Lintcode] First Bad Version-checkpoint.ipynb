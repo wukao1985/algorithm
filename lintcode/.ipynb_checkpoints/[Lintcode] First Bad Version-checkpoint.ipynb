{
 "cells": [
  {
   "cell_type": "markdown",
   "metadata": {},
   "source": [
    "## First Bad Version\n",
    "The code base version is an integer start from 1 to n. One day, someone committed a bad version in the code case, so it caused this version and the following versions are all failed in the unit tests. Find the first bad version.\n",
    "\n",
    "You can call **isBadVersion** to help you determine which version is the first bad one. The details interface can be found in the code's annotation part.\n",
    "\n",
    "Example\n",
    "\n",
    "Given n = 5:\n",
    "\n",
    "isBadVersion(3) -> false\n",
    "isBadVersion(5) -> true\n",
    "isBadVersion(4) -> true"
   ]
  },
  {
   "cell_type": "markdown",
   "metadata": {},
   "source": [
    "### First, let's define an Dummy isBadVersion()"
   ]
  },
  {
   "cell_type": "code",
   "execution_count": 1,
   "metadata": {
    "collapsed": false
   },
   "outputs": [
    {
     "name": "stdout",
     "output_type": "stream",
     "text": [
      "[False, False, False, False, False, False, False, False, False, True]\n"
     ]
    }
   ],
   "source": [
    "A = [False] * 9 + [True]\n",
    "print A\n",
    "def isBadVersion(index):\n",
    "    return A[index]"
   ]
  },
  {
   "cell_type": "markdown",
   "metadata": {},
   "source": [
    "### Implementation of finding the first Bad Version using Binary search"
   ]
  },
  {
   "cell_type": "code",
   "execution_count": 2,
   "metadata": {
    "collapsed": true
   },
   "outputs": [],
   "source": [
    "def findFirstBadVersion(n):\n",
    "    # write your code here\n",
    "    index = 1\n",
    "    \n",
    "    while index < n:\n",
    "        if SVNRepo.isBadVersion(index) == False:\n",
    "            index = 2*index + 1\n",
    "        else:\n",
    "            break\n",
    "        \n",
    "    # if index is > n\n",
    "    # we should do binary search between index/2 to n\n",
    "    # otherwise we should do binary search between 0 to index\n",
    "    if index > n:\n",
    "        start = index/2\n",
    "        end = n\n",
    "    else:\n",
    "        start = 1\n",
    "        end = index\n",
    "\n",
    "    while end > start:\n",
    "        mid = (end+start)/2\n",
    "        if SVNRepo.isBadVersion(mid) == False and SVNRepo.isBadVersion(mid+1) == True:\n",
    "            return mid+1\n",
    "        #if SVNRepo.isBadVersion(mid-1) == False and SVNRepo.isBadVersion(mid) == True:\n",
    "        #    return mid-1\n",
    "        else:\n",
    "            if SVNRepo.isBadVersion(mid) == False:\n",
    "                start = mid+1\n",
    "            else:\n",
    "                end = mid-1\n",
    "    return end"
   ]
  },
  {
   "cell_type": "code",
   "execution_count": null,
   "metadata": {
    "collapsed": true
   },
   "outputs": [],
   "source": []
  },
  {
   "cell_type": "code",
   "execution_count": null,
   "metadata": {
    "collapsed": true
   },
   "outputs": [],
   "source": [
    "f"
   ]
  }
 ],
 "metadata": {
  "kernelspec": {
   "display_name": "Python 2",
   "language": "python",
   "name": "python2"
  },
  "language_info": {
   "codemirror_mode": {
    "name": "ipython",
    "version": 2
   },
   "file_extension": ".py",
   "mimetype": "text/x-python",
   "name": "python",
   "nbconvert_exporter": "python",
   "pygments_lexer": "ipython2",
   "version": "2.7.10"
  }
 },
 "nbformat": 4,
 "nbformat_minor": 0
}

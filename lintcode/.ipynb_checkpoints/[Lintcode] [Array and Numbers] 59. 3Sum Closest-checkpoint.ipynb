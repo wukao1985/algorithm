{
 "cells": [
  {
   "cell_type": "markdown",
   "metadata": {},
   "source": [
    "## 59. 3Sum Closest\n",
    "Given an array S of n integers, find three integers in S such that the sum is closest to a given number, target. Return the sum of the three integers.\n",
    "\n",
    "For example, given array S = {-1 2 1 -4}, and target = 1. The sum that is closest to the target is 2. (-1 + 2 + 1 = 2)."
   ]
  },
  {
   "cell_type": "markdown",
   "metadata": {},
   "source": [
    "### Steps for a N^2 solution\n",
    "- First, we sort the array\n",
    "- Loop through the array. For each element i, we try to solve the sub problem: find closest to [target - nums[i]] from the left Array. This can be solved by TWO POINTER method, This is sub problem cost O(N)\n",
    "- Store the closest target number, and return after we loop through N."
   ]
  },
  {
   "cell_type": "code",
   "execution_count": 25,
   "metadata": {
    "collapsed": false
   },
   "outputs": [
    {
     "name": "stdout",
     "output_type": "stream",
     "text": [
      "[-1, -1, -1, -1, 0, 0, 1, 1, 1, 1, 2]\n",
      "4\n"
     ]
    }
   ],
   "source": [
    "import sys\n",
    "\n",
    "# Assume the numbers here is sorted array\n",
    "def twoSumClosest(numbers, target):\n",
    "    if numbers is None or len(numbers) < 2:\n",
    "        return None\n",
    "    \n",
    "    start, end = 0, len(numbers) - 1\n",
    "    closest = sys.maxint\n",
    "    while end > start:\n",
    "        sumTwo = numbers[end] + numbers[start]\n",
    "        if abs(sumTwo - target) < abs(closest - target):\n",
    "            closest = sumTwo\n",
    "            # print \"change closest\", sumTwo, abs(3 - 8) < abs(1)\n",
    "        if sumTwo - target == 0:\n",
    "            break\n",
    "        elif sumTwo - target > 0:\n",
    "            end -= 1\n",
    "        else:\n",
    "            start += 1\n",
    "    \n",
    "    return closest\n",
    "        \n",
    "    \n",
    "\n",
    "def threeSumClosest(numbers, target):\n",
    "    if numbers is None or len(numbers) < 3:\n",
    "        return None\n",
    "    \n",
    "    # First, Let's sort the array\n",
    "    numbers.sort()\n",
    "    print numbers\n",
    "    \n",
    "    # Second, Loop through the array\n",
    "    ret = sys.maxint\n",
    "    for i in range(len(numbers)):\n",
    "        templist = numbers[:]\n",
    "        templist.pop(i)\n",
    "        temp = numbers[i] + twoSumClosest(templist, target - numbers[i])\n",
    "        if abs(temp - target) < abs(ret - target):\n",
    "            ret = temp\n",
    "    \n",
    "    return ret\n",
    "    \n",
    "A = [1,0,-1,-1,-1,-1,0,1,1,1,2]\n",
    "\n",
    "print threeSumClosest(A, 7)"
   ]
  },
  {
   "cell_type": "code",
   "execution_count": null,
   "metadata": {
    "collapsed": true
   },
   "outputs": [],
   "source": []
  }
 ],
 "metadata": {
  "kernelspec": {
   "display_name": "Python 2",
   "language": "python",
   "name": "python2"
  },
  "language_info": {
   "codemirror_mode": {
    "name": "ipython",
    "version": 2
   },
   "file_extension": ".py",
   "mimetype": "text/x-python",
   "name": "python",
   "nbconvert_exporter": "python",
   "pygments_lexer": "ipython2",
   "version": "2.7.11"
  }
 },
 "nbformat": 4,
 "nbformat_minor": 0
}

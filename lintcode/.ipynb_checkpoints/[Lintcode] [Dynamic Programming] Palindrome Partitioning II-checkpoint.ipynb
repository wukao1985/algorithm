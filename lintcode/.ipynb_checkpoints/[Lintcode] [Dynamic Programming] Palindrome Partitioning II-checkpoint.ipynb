{
 "cells": [
  {
   "cell_type": "markdown",
   "metadata": {},
   "source": [
    "## Palindrome Partitioning II\n",
    "\n",
    "Given a string s, cut s into some substrings such that every substring is a palindrome.\n",
    "\n",
    "Return the minimum cuts needed for a palindrome partitioning of s.\n",
    "\n",
    "** Exemple: **\n",
    "\n",
    "Given s = \"aab\",\n",
    "\n",
    "Return 1 since the palindrome partitioning [\"aa\", \"b\"] could be produced using 1 cut."
   ]
  },
  {
   "cell_type": "markdown",
   "metadata": {},
   "source": [
    "## Dynamic Programming 4 Steps\n",
    "\n",
    "- State:\n",
    "```python \n",
    "   DP[i] represents first i charactor can be devided in minimum Palindrome Pieces.\n",
    "```\n",
    "- Function\n",
    "```Python\n",
    "   DP[i] = min(DP[j] + 1) when j < i and j + 1 ~ i is Palindrome\n",
    "```\n",
    "- Initilization\n",
    "```Python\n",
    "   DP[0] = 0\n",
    "```\n",
    "- Answer\n",
    "```Python\n",
    "   DP[len(s)]\n",
    "```"
   ]
  },
  {
   "cell_type": "code",
   "execution_count": 154,
   "metadata": {
    "collapsed": false
   },
   "outputs": [
    {
     "name": "stdout",
     "output_type": "stream",
     "text": [
      "[[True, False], [False, True]]\n"
     ]
    }
   ],
   "source": [
    "# During pre-processing, we will compute\n",
    "# a table contains whether s[i:j] is Palindrome\n",
    "# for lookup purpose\n",
    "def preProcess(s):\n",
    "    m = len(s)\n",
    "    \n",
    "    table = [[False] * (m + 1) for i in range(m + 1)]\n",
    "    #print table\n",
    "    \n",
    "    # Initilization\n",
    "    for i in range(m + 1):\n",
    "        table[i][i] = True\n",
    "    \n",
    "    for i in range(m - 1):\n",
    "        table[i][i + 1] = s[i] == s[i + 1]\n",
    "        \n",
    "    #print table\n",
    "        \n",
    "    for length in xrange(2, m):\n",
    "        for i in xrange(0, m - length):\n",
    "            table[i][i + length] = table[i + 1][i + length - 1] and s[i] == s[i + length]\n",
    "    \n",
    "    return table\n",
    "\n",
    "a = \"a\"\n",
    "table = [[False] * (len(a) + 1) for i in range(len(a) + 1)]\n",
    "table =  preProcess(a)\n",
    "print table"
   ]
  },
  {
   "cell_type": "code",
   "execution_count": 133,
   "metadata": {
    "collapsed": false
   },
   "outputs": [],
   "source": [
    "def isPalindrome(s):\n",
    "    if s is None or not s:\n",
    "        return True\n",
    "    \n",
    "    i = 0\n",
    "    j = len(s) - 1\n",
    "    while j > i:\n",
    "        if s[i] == s[j]:\n",
    "            i += 1\n",
    "            j -= 1\n",
    "        else:\n",
    "            return False\n",
    "    \n",
    "    return True        "
   ]
  },
  {
   "cell_type": "code",
   "execution_count": 134,
   "metadata": {
    "collapsed": false
   },
   "outputs": [],
   "source": [
    "import sys\n",
    "\n",
    "def minCut(s):\n",
    "    if s is None or not s:\n",
    "        return 0\n",
    "\n",
    "    DP = [sys.maxint] * (len(s) + 1)\n",
    "    DP[0] = 0\n",
    "    \n",
    "    for i in xrange(1, len(s) + 1):\n",
    "        temp = sys.maxint\n",
    "        for j in xrange(0, i):\n",
    "            if isPalindrome(s[j:i]) and DP[j] + 1 < temp:\n",
    "                temp = DP[j] + 1\n",
    "        DP[i] = temp\n",
    "\n",
    "    return DP[len(s)] - 1\n",
    "                \n",
    "        "
   ]
  },
  {
   "cell_type": "code",
   "execution_count": 135,
   "metadata": {
    "collapsed": false
   },
   "outputs": [
    {
     "name": "stdout",
     "output_type": "stream",
     "text": [
      "1\n"
     ]
    }
   ],
   "source": [
    "# Unit testing\n",
    "a = \"abcbab\"\n",
    "print minCut(a)"
   ]
  },
  {
   "cell_type": "code",
   "execution_count": 161,
   "metadata": {
    "collapsed": false
   },
   "outputs": [
    {
     "name": "stdout",
     "output_type": "stream",
     "text": [
      "[[True, False, False], [False, True, False], [False, False, True]]\n",
      "0 1 [[True, False, False], [False, True, False], [False, False, True]]\n",
      "haha\n",
      "0 2 [[True, False, False], [False, True, False], [False, False, True]]\n",
      "1 2 [[True, False, False], [False, True, False], [False, False, True]]\n",
      "haha\n",
      "1\n"
     ]
    }
   ],
   "source": [
    "import sys\n",
    "\n",
    "def minCut2(s):\n",
    "    if s is None or not s:\n",
    "        return 0\n",
    "\n",
    "    table = [[False] * (len(s) + 1) for i in range(len(s) + 1)]\n",
    "    table = preProcess(s)\n",
    "    print table\n",
    "\n",
    "    DP = [sys.maxint] * (len(s) + 1)\n",
    "    DP[0] = 0\n",
    "    \n",
    "    for i in xrange(1, len(s) + 1):\n",
    "        temp = sys.maxint\n",
    "        for j in xrange(0, i):\n",
    "            print j, i, table\n",
    "            if table[j][i - 1] and DP[j] + 1 < temp:\n",
    "                print \"haha\"\n",
    "                temp = DP[j] + 1\n",
    "        DP[i] = temp\n",
    "\n",
    "    return DP[len(s)] - 1\n",
    "\n",
    "# Unit testing\n",
    "a = \"ab\"\n",
    "print minCut2(a)"
   ]
  },
  {
   "cell_type": "code",
   "execution_count": null,
   "metadata": {
    "collapsed": true
   },
   "outputs": [],
   "source": []
  },
  {
   "cell_type": "code",
   "execution_count": null,
   "metadata": {
    "collapsed": true
   },
   "outputs": [],
   "source": []
  }
 ],
 "metadata": {
  "kernelspec": {
   "display_name": "Python 2",
   "language": "python",
   "name": "python2"
  },
  "language_info": {
   "codemirror_mode": {
    "name": "ipython",
    "version": 2
   },
   "file_extension": ".py",
   "mimetype": "text/x-python",
   "name": "python",
   "nbconvert_exporter": "python",
   "pygments_lexer": "ipython2",
   "version": "2.7.11"
  }
 },
 "nbformat": 4,
 "nbformat_minor": 0
}

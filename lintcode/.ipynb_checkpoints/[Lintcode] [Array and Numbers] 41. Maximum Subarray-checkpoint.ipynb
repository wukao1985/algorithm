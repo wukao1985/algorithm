{
 "cells": [
  {
   "cell_type": "markdown",
   "metadata": {},
   "source": [
    "## 41. Maximum Subarray\n",
    "Given an array of integers, find a contiguous subarray which has the largest sum.\n",
    "\n",
    "Exemple:\n",
    "\n",
    "Given the array [−2,2,−3,4,−1,2,1,−5,3], the contiguous subarray [4,−1,2,1] has the largest sum = 6."
   ]
  },
  {
   "cell_type": "markdown",
   "metadata": {},
   "source": [
    "### O(n^2) Solution:"
   ]
  },
  {
   "cell_type": "code",
   "execution_count": 13,
   "metadata": {
    "collapsed": false
   },
   "outputs": [
    {
     "name": "stdout",
     "output_type": "stream",
     "text": [
      "[0, -1]\n",
      "[0, -1]\n",
      "-1\n"
     ]
    }
   ],
   "source": [
    "def maxSubArray(nums):\n",
    "    # write your code here\n",
    "    if nums is None or len(nums) == 0:\n",
    "        return 0\n",
    "\n",
    "    # form Sumarray\n",
    "    sumarray = [0]\n",
    "    temp = 0\n",
    "    for i in range(len(nums)):\n",
    "        temp += nums[i]\n",
    "        sumarray.append(temp)\n",
    "        \n",
    "    print sumarray\n",
    "\n",
    "    maxsubarray = [0]\n",
    "    for i in range(1, len(nums) + 1):\n",
    "        maxsubarray.append(sumarray[i] - min(sumarray[:i]))\n",
    "    \n",
    "    print maxsubarray\n",
    "    return max(maxsubarray[1:])\n",
    "\n",
    "nums = [-1]\n",
    "print maxSubArray(nums)"
   ]
  },
  {
   "cell_type": "markdown",
   "metadata": {
    "collapsed": true
   },
   "source": [
    "### O(n) Solution"
   ]
  },
  {
   "cell_type": "code",
   "execution_count": 1,
   "metadata": {
    "collapsed": false
   },
   "outputs": [
    {
     "name": "stdout",
     "output_type": "stream",
     "text": [
      "-1\n"
     ]
    }
   ],
   "source": [
    "import sys\n",
    "\n",
    "def maxSubArray(nums):\n",
    "    # write your code here\n",
    "    if nums is None or len(nums) == 0:\n",
    "        return 0\n",
    "\n",
    "    ret = -sys.maxint\n",
    "    sum = 0\n",
    "    \n",
    "    for i in range(len(nums)):\n",
    "        sum += nums[i]\n",
    "        ret = max(sum, ret)\n",
    "        if sum < 0:\n",
    "            sum = 0\n",
    "        \n",
    "    return ret\n",
    "        \n",
    "\n",
    "nums = [-1]\n",
    "print maxSubArray(nums)"
   ]
  },
  {
   "cell_type": "code",
   "execution_count": null,
   "metadata": {
    "collapsed": true
   },
   "outputs": [],
   "source": []
  }
 ],
 "metadata": {
  "kernelspec": {
   "display_name": "Python 2",
   "language": "python",
   "name": "python2"
  },
  "language_info": {
   "codemirror_mode": {
    "name": "ipython",
    "version": 2
   },
   "file_extension": ".py",
   "mimetype": "text/x-python",
   "name": "python",
   "nbconvert_exporter": "python",
   "pygments_lexer": "ipython2",
   "version": "2.7.10"
  }
 },
 "nbformat": 4,
 "nbformat_minor": 0
}

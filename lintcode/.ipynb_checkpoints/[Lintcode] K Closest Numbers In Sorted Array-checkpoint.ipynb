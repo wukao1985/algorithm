{
 "cells": [
  {
   "cell_type": "markdown",
   "metadata": {},
   "source": [
    "##K Closest Numbers In Sorted Array\n",
    "Given a target number, a non-negative integer k and an integer array A sorted in ascending order, find the k closest numbers to target in A, sorted in ascending order by the difference between the number and target. Otherwise, sorted in ascending order by number if the difference is same.\n",
    "\n",
    "Example\n",
    "\n",
    "Given A = [1, 2, 3], target = 2 and k = 3, return [2, 1, 3].\n",
    "\n",
    "Given A = [1, 4, 6, 8], target = 3 and k = 3, return [4, 1, 6]."
   ]
  },
  {
   "cell_type": "markdown",
   "metadata": {},
   "source": [
    "## Using Binary search template\n",
    "- First, get the index of target, if target not in the list, get the index of inserting the target in the list.\n",
    "- Keep two stack, left and right. Compare these two stack, pop the one have less difference with the target\n",
    "- Repeat the process until we get all K eliments"
   ]
  },
  {
   "cell_type": "code",
   "execution_count": 17,
   "metadata": {
    "collapsed": true
   },
   "outputs": [],
   "source": [
    "def kClosestNumbers(A, target, k):\n",
    "    if A is None or len(A) == 0:\n",
    "        return []\n",
    " \n",
    "    # This is the return list\n",
    "    ret = []\n",
    "    \n",
    "    # Handle two cornor case:\n",
    "    # 1. target < A[0]\n",
    "    # 2. target > A[len(A)-1]\n",
    "    start, end = 0, len(A)-1\n",
    "    if target <= A[0]:\n",
    "        # insert A[0] , A[1] ... A[k] to ret\n",
    "        while len(ret) < k:\n",
    "            ret.append(A[start])\n",
    "            start += 1\n",
    "        return ret\n",
    "    \n",
    "    if target >= A[end]:\n",
    "        # insert A[len-1], A[len-2],...\n",
    "        while len(ret) < k:\n",
    "            ret.append(A[end])\n",
    "            end -= 1\n",
    "        return ret\n",
    "    \n",
    "    while end > start + 1:\n",
    "        mid = start + (end - start)/2\n",
    "        if A[mid] == target:\n",
    "            ret.append(A[mid])\n",
    "            break\n",
    "        else:\n",
    "            if A[mid] > target:\n",
    "                end = mid\n",
    "            else:\n",
    "                start = mid\n",
    "    # print 'start =', start, 'mid = ', mid, 'end = ',end\n",
    "    \n",
    "    # At this point, either we found target, index is mid\n",
    "    # or we can not find target.\n",
    "    # Then we need to store two pointers\n",
    "    # A[start] towards the first element and A[end] towards\n",
    "    # the last element. Pop the element which have less differnce \n",
    "    # with target\n",
    "    if len(ret) != 0:\n",
    "        pointerX, pointerY = mid - 1, mid + 1\n",
    "    else:\n",
    "        pointerX, pointerY = start, end\n",
    "        \n",
    "    while len(ret) < k:\n",
    "        # compare difference between A[pointerX] and target\n",
    "        # with difference between A[pointerY] and target\n",
    "        # we also neend to make sure pointerX >= 0\n",
    "        # pointerY < len(A)\n",
    "        if pointerX < 0:\n",
    "            ret.append(A[pointerY])\n",
    "            pointerY += 1\n",
    "            continue\n",
    "        \n",
    "        if pointerY > len(A)-1:\n",
    "            ret.append(A[pointerX])\n",
    "            pointerX -= 1\n",
    "            continue\n",
    "        \n",
    "        if target - A[pointerX] <= A[pointerY] - target:\n",
    "            ret.append(A[pointerX])\n",
    "            pointerX -= 1\n",
    "        else:\n",
    "            ret.append(A[pointerY])\n",
    "            pointerY += 1\n",
    "    \n",
    "    return ret\n",
    "        \n"
   ]
  },
  {
   "cell_type": "code",
   "execution_count": 18,
   "metadata": {
    "collapsed": false
   },
   "outputs": [
    {
     "name": "stdout",
     "output_type": "stream",
     "text": [
      "start = 5 mid =  5 end =  6\n"
     ]
    },
    {
     "data": {
      "text/plain": [
       "[1001, 1002, 1003, 1004, 300, 299]"
      ]
     },
     "execution_count": 18,
     "metadata": {},
     "output_type": "execute_result"
    }
   ],
   "source": [
    "A = [100,156,189,298,299,300,1001,1002,1003,1004]\n",
    "target = 1000\n",
    "kClosestNumbers(A, target, 6)"
   ]
  },
  {
   "cell_type": "code",
   "execution_count": null,
   "metadata": {
    "collapsed": true
   },
   "outputs": [],
   "source": []
  },
  {
   "cell_type": "code",
   "execution_count": null,
   "metadata": {
    "collapsed": true
   },
   "outputs": [],
   "source": []
  }
 ],
 "metadata": {
  "kernelspec": {
   "display_name": "Python 2",
   "language": "python",
   "name": "python2"
  },
  "language_info": {
   "codemirror_mode": {
    "name": "ipython",
    "version": 2
   },
   "file_extension": ".py",
   "mimetype": "text/x-python",
   "name": "python",
   "nbconvert_exporter": "python",
   "pygments_lexer": "ipython2",
   "version": "2.7.10"
  }
 },
 "nbformat": 4,
 "nbformat_minor": 0
}

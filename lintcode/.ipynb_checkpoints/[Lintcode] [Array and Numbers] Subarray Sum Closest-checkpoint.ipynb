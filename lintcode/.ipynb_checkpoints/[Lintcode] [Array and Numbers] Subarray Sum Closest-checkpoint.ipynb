{
 "cells": [
  {
   "cell_type": "markdown",
   "metadata": {},
   "source": [
    "## Subarray Sum Closest\n",
    "Given an integer array, find a subarray with sum closest to zero. Return the indexes of the first number and last number.\n",
    "\n",
    "Exemple:\n",
    "\n",
    "Given [-3, 1, 1, -3, 5], return [0, 2], [1, 3], [1, 1], [2, 2] or [0, 4]."
   ]
  },
  {
   "cell_type": "markdown",
   "metadata": {},
   "source": [
    "## Solution\n",
    "- calculate prefix sum array\n",
    "- create tuple to hold index with the prefix sum array\n",
    "- Sort the prefix sum array\n",
    "- Loop through sorted sum array, mantain a closest"
   ]
  },
  {
   "cell_type": "code",
   "execution_count": 42,
   "metadata": {
    "collapsed": false
   },
   "outputs": [
    {
     "name": "stdout",
     "output_type": "stream",
     "text": [
      "[7, 15, 13, 16]\n",
      "[2, 3]\n"
     ]
    }
   ],
   "source": [
    "import sys\n",
    "from operator import itemgetter\n",
    "\n",
    "def subarraySumClosest(nums):\n",
    "    if nums is None or len(nums) == 0:\n",
    "        return None\n",
    "    \n",
    "    if len(nums) == 1:\n",
    "        return [0, 0]\n",
    "    \n",
    "    # Calculate the prefix sum array\n",
    "    prefixSum = []\n",
    "    tempSum = 0\n",
    "    for i in range(len(nums)):\n",
    "        tempSum += nums[i]\n",
    "        prefixSum.append(tempSum)\n",
    "    \n",
    "    print prefixSum\n",
    "    \n",
    "    # Create list of Tuple to hold the index with the prefix sum array\n",
    "    tupleSum = []\n",
    "    for i in range(len(nums)):\n",
    "        tupleSum.append((i, prefixSum[i]))\n",
    "        \n",
    "    # Sort the tupleSum list based on the value\n",
    "    tupleSum = sorted(tupleSum, key=itemgetter(1))\n",
    "    \n",
    "    # Loop through the sorted list and store result\n",
    "    ret = []\n",
    "    closest = sys.maxint\n",
    "    for i in range(len(nums) - 1):\n",
    "        temp = abs(tupleSum[i + 1][1] - tupleSum[i][1])\n",
    "        if temp < closest:\n",
    "            ret = [min(tupleSum[i][0], tupleSum[i + 1][0]) + 1,\n",
    "                   max(tupleSum[i][0], tupleSum[i + 1][0])]\n",
    "            closest = temp\n",
    "    \n",
    "    return ret\n",
    "            \n",
    "    \n",
    "\n",
    "A = [7, 8, -2, 3]\n",
    "print subarraySumClosest(A)\n",
    "    \n",
    "    "
   ]
  },
  {
   "cell_type": "markdown",
   "metadata": {},
   "source": [
    "## Key Lessons Learned\n",
    "### 1. import itemgetter to sort the tuple\n",
    "```python\n",
    "from operator import itemgetter\n",
    "tupleSum = sorted(tupleSum, key=itemgetter(1))\n",
    "```\n",
    "### 2. Make sure use the correct index, +1 / -1 etc\n",
    "### 3. Take care of len() == 1"
   ]
  },
  {
   "cell_type": "code",
   "execution_count": null,
   "metadata": {
    "collapsed": true
   },
   "outputs": [],
   "source": []
  }
 ],
 "metadata": {
  "kernelspec": {
   "display_name": "Python 2",
   "language": "python",
   "name": "python2"
  },
  "language_info": {
   "codemirror_mode": {
    "name": "ipython",
    "version": 2
   },
   "file_extension": ".py",
   "mimetype": "text/x-python",
   "name": "python",
   "nbconvert_exporter": "python",
   "pygments_lexer": "ipython2",
   "version": "2.7.11"
  }
 },
 "nbformat": 4,
 "nbformat_minor": 0
}

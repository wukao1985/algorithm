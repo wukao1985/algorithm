{
 "cells": [
  {
   "cell_type": "code",
   "execution_count": 13,
   "metadata": {
    "collapsed": false
   },
   "outputs": [
    {
     "name": "stdout",
     "output_type": "stream",
     "text": [
      "[0, -1]\n",
      "[0, -1]\n",
      "-1\n"
     ]
    }
   ],
   "source": [
    "def maxSubArray(nums):\n",
    "    # write your code here\n",
    "    if nums is None or len(nums) == 0:\n",
    "        return 0\n",
    "\n",
    "    # form Sumarray\n",
    "    sumarray = [0]\n",
    "    temp = 0\n",
    "    for i in range(len(nums)):\n",
    "        temp += nums[i]\n",
    "        sumarray.append(temp)\n",
    "        \n",
    "    print sumarray\n",
    "\n",
    "    maxsubarray = [0]\n",
    "    for i in range(1, len(nums) + 1):\n",
    "        maxsubarray.append(sumarray[i] - min(sumarray[:i]))\n",
    "    \n",
    "    print maxsubarray\n",
    "    return max(maxsubarray[1:])\n",
    "\n",
    "nums = [-1]\n",
    "print maxSubArray(nums)"
   ]
  },
  {
   "cell_type": "code",
   "execution_count": 21,
   "metadata": {
    "collapsed": false
   },
   "outputs": [
    {
     "name": "stdout",
     "output_type": "stream",
     "text": [
      "1\n",
      "[2, 3]\n"
     ]
    }
   ],
   "source": [
    "A = [1, 2, 3]\n",
    "print min(A)\n",
    "A.remove(min(A))\n",
    "print A"
   ]
  },
  {
   "cell_type": "code",
   "execution_count": null,
   "metadata": {
    "collapsed": true
   },
   "outputs": [],
   "source": []
  }
 ],
 "metadata": {
  "kernelspec": {
   "display_name": "Python 2",
   "language": "python",
   "name": "python2"
  },
  "language_info": {
   "codemirror_mode": {
    "name": "ipython",
    "version": 2
   },
   "file_extension": ".py",
   "mimetype": "text/x-python",
   "name": "python",
   "nbconvert_exporter": "python",
   "pygments_lexer": "ipython2",
   "version": "2.7.11"
  }
 },
 "nbformat": 4,
 "nbformat_minor": 0
}

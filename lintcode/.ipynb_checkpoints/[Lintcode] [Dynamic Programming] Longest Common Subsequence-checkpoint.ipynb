{
 "cells": [
  {
   "cell_type": "markdown",
   "metadata": {},
   "source": [
    "## Longest Common Subsequence\n",
    "\n",
    "Given two strings, find the longest common subsequence (LCS).\n",
    "\n",
    "Your code should return the length of LCS.\n",
    "\n",
    "**Exemple**\n",
    "\n",
    "For \"ABCD\" and \"EDCA\", the LCS is \"A\" (or \"D\", \"C\"), return 1.\n",
    "\n",
    "For \"ABCD\" and \"EACB\", the LCS is \"AC\", return 2."
   ]
  },
  {
   "cell_type": "markdown",
   "metadata": {},
   "source": [
    "## DP 4 Steps:\n",
    "m = len(A), n = len(B)\n",
    "\n",
    "### State\n",
    "DP[i][j] represent LCS(A[:i - 1], B[:j - 1])\n",
    "\n",
    "### Function\n",
    "```Python\n",
    "if A[i - 1] == B[j - 1]:\n",
    "    DP[i][j] = max(DP[i-1][j], DP[i][j-1], DP[i-1][j-1] + 1)\n",
    "else:\n",
    "    DP[i][j] = max(DP[i-1][j], DP[i][j-1])\n",
    "```\n",
    "    \n",
    "### Inisilization\n",
    "DP[1][0] = 0\n",
    "DP[0][1] = 0\n",
    "\n",
    "###Answer\n",
    "DP[m][n]"
   ]
  },
  {
   "cell_type": "markdown",
   "metadata": {
    "collapsed": false
   },
   "source": [
    "## Initilization for list of lists\n",
    "- Correct:\n",
    "```python\n",
    "DP = [[0] * (m + 1) for i in range(n + 1)]\n",
    "```\n",
    "- Wrong：\n",
    "```python\n",
    "DP = [[0] * (m + 1)] * (n + 1)\n",
    "```\n",
    "- Reason:\n",
    "** For the wrong case, all lists will have the same id,\n",
    "which means modify one list, will result in modification\n",
    "for all lists **\n"
   ]
  },
  {
   "cell_type": "code",
   "execution_count": 40,
   "metadata": {
    "collapsed": false
   },
   "outputs": [
    {
     "name": "stdout",
     "output_type": "stream",
     "text": [
      "5\n"
     ]
    }
   ],
   "source": [
    "def longestCommonSubsequence(A, B):\n",
    "    if (A or B) is None or not (A and B):\n",
    "        return 0\n",
    "\n",
    "    m = len(A)\n",
    "    n = len(B)\n",
    "    \n",
    "    DP = [[0] * (m + 1) for i in range(n + 1)]\n",
    "    \n",
    "    for i in range(m):\n",
    "        for j in range(n):\n",
    "            DP[i + 1][j + 1] = max(DP[i][j + 1], DP[i + 1][j])\n",
    "            if A[i] == B[j]:\n",
    "                DP[i + 1][j + 1] = max(DP[i + 1][j + 1], DP[i][j] + 1)\n",
    "    \n",
    "    return DP[n][m]\n",
    "\n",
    "\n",
    "\n",
    "a = \"bedaacbade\"\n",
    "b = \"dccaeedbeb\"\n",
    "print longestCommonSubsequence(a, b)\n"
   ]
  },
  {
   "cell_type": "code",
   "execution_count": null,
   "metadata": {
    "collapsed": true
   },
   "outputs": [],
   "source": [
    "def longestCommonSubsequence(A, B):\n",
    "    n, m = len(A), len(B)\n",
    "    f = [[0] * (n + 1) for i in range(m + 1)]\n",
    "    for i in range(n):\n",
    "        for j in range(m):\n",
    "            f[i + 1][j + 1] = max(f[i][j + 1], f[i + 1][j])\n",
    "            if A[i] == B[j]:\n",
    "                f[i + 1][j + 1] = f[i][j] + 1\n",
    "    return f[n][m]\n",
    "\n",
    "a = \"bedaacbade\"\n",
    "b = \"dccaeedbeb\"\n",
    "print longestCommonSubsequence(a, b)"
   ]
  }
 ],
 "metadata": {
  "kernelspec": {
   "display_name": "Python 2",
   "language": "python",
   "name": "python2"
  },
  "language_info": {
   "codemirror_mode": {
    "name": "ipython",
    "version": 2
   },
   "file_extension": ".py",
   "mimetype": "text/x-python",
   "name": "python",
   "nbconvert_exporter": "python",
   "pygments_lexer": "ipython2",
   "version": "2.7.11"
  }
 },
 "nbformat": 4,
 "nbformat_minor": 0
}

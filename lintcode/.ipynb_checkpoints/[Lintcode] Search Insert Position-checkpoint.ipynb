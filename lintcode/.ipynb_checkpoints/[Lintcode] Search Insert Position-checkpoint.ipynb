{
 "cells": [
  {
   "cell_type": "markdown",
   "metadata": {},
   "source": [
    "## Search Insert Position\n",
    "Given a sorted array and a target value, return the index if the target is found. If not, return the index where it would be if it were inserted in order.\n",
    "\n",
    "You may assume NO duplicates in the array.\n",
    "\n",
    "###Example:\n",
    "\n",
    "[1,3,5,6], 5 → 2\n",
    "\n",
    "[1,3,5,6], 2 → 1\n",
    "\n",
    "[1,3,5,6], 7 → 4\n",
    "\n",
    "[1,3,5,6], 0 → 0\n"
   ]
  },
  {
   "cell_type": "markdown",
   "metadata": {},
   "source": [
    "####Answer: Using Binary search"
   ]
  },
  {
   "cell_type": "code",
   "execution_count": 13,
   "metadata": {
    "collapsed": true
   },
   "outputs": [],
   "source": [
    "def searchInsert(A, target):\n",
    "    start = 0\n",
    "    end = len(A)\n",
    "    \n",
    "    while end > start:\n",
    "        mid = (start + end)/2\n",
    "        if A[mid] == target:\n",
    "            return mid\n",
    "        else:\n",
    "            if A[mid] >= target:\n",
    "                end = mid - 1\n",
    "            else:\n",
    "                start = mid + 1\n",
    "    return start"
   ]
  },
  {
   "cell_type": "code",
   "execution_count": 14,
   "metadata": {
    "collapsed": false
   },
   "outputs": [
    {
     "data": {
      "text/plain": [
       "2"
      ]
     },
     "execution_count": 14,
     "metadata": {},
     "output_type": "execute_result"
    }
   ],
   "source": [
    "A = [1,2,6]\n",
    "searchInsert(A, 4)"
   ]
  },
  {
   "cell_type": "code",
   "execution_count": null,
   "metadata": {
    "collapsed": true
   },
   "outputs": [],
   "source": []
  }
 ],
 "metadata": {
  "kernelspec": {
   "display_name": "Python 2",
   "language": "python",
   "name": "python2"
  },
  "language_info": {
   "codemirror_mode": {
    "name": "ipython",
    "version": 2
   },
   "file_extension": ".py",
   "mimetype": "text/x-python",
   "name": "python",
   "nbconvert_exporter": "python",
   "pygments_lexer": "ipython2",
   "version": "2.7.10"
  }
 },
 "nbformat": 4,
 "nbformat_minor": 0
}

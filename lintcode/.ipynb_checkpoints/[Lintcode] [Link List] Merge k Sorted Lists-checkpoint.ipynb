{
 "cells": [
  {
   "cell_type": "markdown",
   "metadata": {},
   "source": [
    "## Merge k Sorted Lists\n",
    "\n",
    "Merge k sorted linked lists and return it as one sorted list.\n",
    "\n",
    "Analyze and describe its complexity.\n",
    "\n",
    "Given lists:\n",
    "```python\n",
    "[\n",
    "  2->4->null,\n",
    "  null,\n",
    "  -1->null\n",
    "],\n",
    "```\n",
    "return -1->2->4->null."
   ]
  },
  {
   "cell_type": "markdown",
   "metadata": {},
   "source": [
    "### There are three solutions for this problem\n",
    "- Using HEAP datastructure\n",
    "- Using Divide and Conque\n",
    "- Two pairs compare"
   ]
  },
  {
   "cell_type": "markdown",
   "metadata": {},
   "source": [
    "### Basic Heap operation in Python\n",
    "\n",
    "#### TODO: Implement HEAP with Python instead of using heapq"
   ]
  },
  {
   "cell_type": "code",
   "execution_count": 34,
   "metadata": {
    "collapsed": false
   },
   "outputs": [
    {
     "name": "stdout",
     "output_type": "stream",
     "text": [
      "<type 'list'> [1, 3, 5, 4, 5, 9]\n",
      "1 3 4 5 5 9 \n",
      "[]\n",
      "[1, 3, 5, 4, 5, 9]\n",
      "1 [3, 4, 5, 6, 5, 9]\n"
     ]
    }
   ],
   "source": [
    "from __future__ import print_function\n",
    "import heapq\n",
    "\n",
    "A = [1, 4, 5, 3, 5, 9]\n",
    "heapq.heapify(A)\n",
    "print(type(A), A)\n",
    "\n",
    "for i in xrange(len(A)):\n",
    "    print(heapq.heappop(A), '', end='')\n",
    "print('')\n",
    "print(A)\n",
    "heapq.heappush(A, 1)\n",
    "heapq.heappush(A, 3)\n",
    "heapq.heappush(A, 5)\n",
    "heapq.heappush(A, 4)\n",
    "heapq.heappush(A, 5)\n",
    "heapq.heappush(A, 9)\n",
    "print(A)\n",
    "\n",
    "# heappushpop will push the item in and return smallest item. \n",
    "# This is more efficient than push and then pop separately\n",
    "small =  heapq.heappushpop(A, 6)\n",
    "print(small, A)\n"
   ]
  },
  {
   "cell_type": "markdown",
   "metadata": {},
   "source": [
    "### Solution 1: Using HEAP\n",
    "Since from 1 ~ k line, every list is sorted, we can complete the task this way:\n",
    "- get the first item from 1 ~ k lists and put them in HEAP\n",
    "- while not all lists are empty, push in the smallest item, and pop one element from HEAP to the target list\n",
    "- when all lists are empty, the operation is done"
   ]
  },
  {
   "cell_type": "code",
   "execution_count": 6,
   "metadata": {
    "collapsed": false
   },
   "outputs": [
    {
     "name": "stdout",
     "output_type": "stream",
     "text": [
      "[-1, 2]\n",
      "<__main__.ListNode object at 0x103d49410>\n",
      "[-1, 2]\n",
      "<__main__.ListNode object at 0x103d49410>\n"
     ]
    }
   ],
   "source": [
    "import heapq, sys\n",
    "from __future__ import print_function\n",
    "\n",
    "class ListNode(object):\n",
    "\n",
    "    def __init__(self, val, next=None):\n",
    "        self.val = val\n",
    "        self.next = next\n",
    "\n",
    "def formList(A):\n",
    "    rhead = ListNode(0)\n",
    "    rtail = rhead\n",
    "    for i in A:\n",
    "        rtail.next = ListNode(i)\n",
    "        rtail = rtail.next\n",
    "    return rhead.next\n",
    "\n",
    "def printList(head):\n",
    "    while head is not None:\n",
    "        print(head.val, '->', end = '')\n",
    "        head = head.next\n",
    "    print('null')\n",
    "\n",
    "def mergeKLists(lists): \n",
    "    if lists is None:\n",
    "        return None\n",
    "    \n",
    "    # check whether this is a List or List of lists\n",
    "    if not isinstance(lists[0], list):\n",
    "        return formList(lists)\n",
    "    \n",
    "    if isEmpty(lists):\n",
    "        return None\n",
    "    \n",
    "    ret = []\n",
    "    heap = []\n",
    "\n",
    "    while not isEmpty(lists):\n",
    "        templist = [sys.maxint]\n",
    "        print(\"initilization: \", templist)\n",
    "        for i in lists:\n",
    "            if i is not None and len(i) > 0:\n",
    "                if i[0] < templist[0]:\n",
    "                    templist = i\n",
    "        print(\"after set\", templist)\n",
    "        # templist is the one have smallest element\n",
    "        # 1. pop smallest element in templist\n",
    "        # 2. push this element to heapq\n",
    "        # 3. pop smallest element in heap, append to ret\n",
    "        print(\"before: \", lists, templist, ret, heap)\n",
    "        ret.append(heapq.heappushpop(heap, templist.pop(0)))\n",
    "        print(\"after: \", lists, templist, ret, heap)\n",
    "\n",
    "    # now lists is already empty, finish pop element in the heap\n",
    "    print(\"kao: \", heap, ret)\n",
    "    while heap is not None and len(heap) > 0:\n",
    "        ret.append(heapq.heappop(heap))\n",
    "    return ret\n",
    "\n",
    "def isEmpty(lists):\n",
    "    ret = True\n",
    "    for i in lists:\n",
    "        if i is not None and len(i) > 0:\n",
    "            return False\n",
    "    \n",
    "    return ret\n",
    "\n",
    "\n",
    "A = [-1, 2]\n",
    "print(A)\n",
    "print(mergeKLists(A))\n",
    "    "
   ]
  },
  {
   "cell_type": "markdown",
   "metadata": {},
   "source": [
    "### Source is list of Link List and also we need to Return a Link List rather than a list! "
   ]
  },
  {
   "cell_type": "code",
   "execution_count": 13,
   "metadata": {
    "collapsed": false
   },
   "outputs": [
    {
     "name": "stdout",
     "output_type": "stream",
     "text": [
      "2 ->4 ->null\n",
      "null\n",
      "-1 ->null\n",
      "-1 ->2 ->4 ->null\n",
      "2 ->4 ->null\n",
      "null\n",
      "-1 ->null\n",
      "-1 ->2 ->4 ->null\n"
     ]
    }
   ],
   "source": [
    "import heapq, sys\n",
    "from __future__ import print_function\n",
    "\n",
    "class ListNode(object):\n",
    "\n",
    "    def __init__(self, val, next=None):\n",
    "        self.val = val\n",
    "        self.next = next\n",
    "\n",
    "def formList(A):\n",
    "    rhead = ListNode(0)\n",
    "    rtail = rhead\n",
    "    for i in A:\n",
    "        rtail.next = ListNode(i)\n",
    "        rtail = rtail.next\n",
    "    return rhead.next\n",
    "\n",
    "def printList(head):\n",
    "    while head is not None:\n",
    "        print(head.val, '->', end = '')\n",
    "        head = head.next\n",
    "    print('null')\n",
    "    \n",
    "def isEmpty(lists):\n",
    "    ret = True\n",
    "    for i in lists:\n",
    "        if i is not None:\n",
    "            return False\n",
    "    return ret\n",
    "\n",
    "def mergeKLists(lists): \n",
    "    if lists is None or len(lists) == 0 or isEmpty(lists):\n",
    "        return None\n",
    "    \n",
    "    ret = ListNode(0)\n",
    "    cur = ret\n",
    "    heap = []\n",
    "    \n",
    "    while not isEmpty(lists):\n",
    "        temp = sys.maxint\n",
    "        pos = 0\n",
    "        for i in range(len(lists)):\n",
    "            if lists[i] is not None and lists[i].val < temp:\n",
    "                temp = lists[i].val\n",
    "                pos = i\n",
    "    \n",
    "        # pos contains the least number\n",
    "        # push head of i to heap\n",
    "        # then remove head of i from i\n",
    "        # pop from heap form a list node to append to ret\n",
    "        heapq.heappush(heap, lists[pos].val)\n",
    "        lists[pos] = lists[pos].next\n",
    "        cur.next = ListNode(heapq.heappop(heap))\n",
    "        cur = cur.next\n",
    "        \n",
    "    while heap is not None and len(heap) > 0:\n",
    "        cur.next = ListNode(heapq.heappop(heap))\n",
    "        cur = cur.next\n",
    "    \n",
    "    return ret.next\n",
    "        \n",
    "list1 = formList([2, 4])\n",
    "list2 = formList([])\n",
    "list3 = formList([-1])\n",
    "printList(list1)\n",
    "printList(list2)\n",
    "printList(list3)\n",
    "lists = [list1, list2, list3]\n",
    "ret = mergeKLists(lists)\n",
    "printList(ret)\n",
    "\n",
    "\n"
   ]
  },
  {
   "cell_type": "markdown",
   "metadata": {
    "collapsed": true
   },
   "source": [
    "## Do not use isEmpty()"
   ]
  },
  {
   "cell_type": "code",
   "execution_count": 17,
   "metadata": {
    "collapsed": false
   },
   "outputs": [
    {
     "name": "stdout",
     "output_type": "stream",
     "text": [
      "<class '__main__.ListNode'>\n",
      "1 ->1 ->1 ->null\n",
      "0 ->0 ->1 ->1 ->null\n",
      "2 ->2 ->2 ->null\n",
      "0 ->0 ->1 ->1 ->1 ->1 ->1 ->2 ->2 ->2 ->null\n"
     ]
    }
   ],
   "source": [
    "import heapq, sys\n",
    "from __future__ import print_function\n",
    "\n",
    "class ListNode(object):\n",
    "\n",
    "    def __init__(self, val, next=None):\n",
    "        self.val = val\n",
    "        self.next = next\n",
    "\n",
    "def formList(A):\n",
    "    rhead = ListNode(0)\n",
    "    rtail = rhead\n",
    "    for i in A:\n",
    "        rtail.next = ListNode(i)\n",
    "        rtail = rtail.next\n",
    "    return rhead.next\n",
    "\n",
    "def printList(head):\n",
    "    while head is not None:\n",
    "        print(head.val, '->', end = '')\n",
    "        head = head.next\n",
    "    print('null')\n",
    "\n",
    "def mergeKLists(lists): \n",
    "    if lists is None or len(lists) == 0:\n",
    "        return None\n",
    "    \n",
    "    ret = ListNode(0)\n",
    "    cur = ret\n",
    "    heap = []\n",
    "    \n",
    "    # filling the heap\n",
    "    for i in xrange(len(lists)):\n",
    "        if lists[i] is not None:\n",
    "            heapq.heappush(heap, lists[i].val)\n",
    "            lists[i] = lists[i].next\n",
    "\n",
    "    while heap is not None and len(heap) > 0:\n",
    "        temp = sys.maxint\n",
    "        pos = -1\n",
    "        for i in xrange(len(lists)):\n",
    "            if lists[i] is not None and lists[i].val < temp:\n",
    "                temp = lists[i].val\n",
    "                pos = i\n",
    "    \n",
    "        # pos contains the least number\n",
    "        # push head of i to heap\n",
    "        # then remove head of i from i\n",
    "        # pop from heap form a list node to append to ret\n",
    "        if pos >= 0:\n",
    "            heapq.heappush(heap, lists[pos].val)\n",
    "            lists[pos] = lists[pos].next\n",
    "\n",
    "        cur.next = ListNode(heapq.heappop(heap))\n",
    "        cur = cur.next\n",
    "    \n",
    "    return ret.next\n",
    "\n",
    "list1 = formList([1, 1, 1])\n",
    "list2 = formList([0, 0, 1, 1])\n",
    "list3 = formList([2, 2, 2])\n",
    "print(type(list1))\n",
    "printList(list1)\n",
    "printList(list2)\n",
    "printList(list3)\n",
    "lists = [list1, list2, list3]\n",
    "ret = mergeKLists(lists)\n",
    "printList(ret)"
   ]
  },
  {
   "cell_type": "code",
   "execution_count": null,
   "metadata": {
    "collapsed": true
   },
   "outputs": [],
   "source": []
  }
 ],
 "metadata": {
  "kernelspec": {
   "display_name": "Python 2",
   "language": "python",
   "name": "python2"
  },
  "language_info": {
   "codemirror_mode": {
    "name": "ipython",
    "version": 2
   },
   "file_extension": ".py",
   "mimetype": "text/x-python",
   "name": "python",
   "nbconvert_exporter": "python",
   "pygments_lexer": "ipython2",
   "version": "2.7.10"
  }
 },
 "nbformat": 4,
 "nbformat_minor": 0
}

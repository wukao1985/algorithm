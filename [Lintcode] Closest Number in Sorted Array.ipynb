{
 "cells": [
  {
   "cell_type": "markdown",
   "metadata": {},
   "source": [
    "##[Lintcode] Closest Number in Sorted Array\n",
    "Given a target number and an integer array A sorted in ascending order, find the index i in A such that A[i] is closest to the given target.\n",
    "\n",
    "Return -1 if there is no element in the array.\n",
    "\n",
    "Example\n",
    "\n",
    "Given [1, 2, 3] and target = 2, return 1.\n",
    "\n",
    "Given [1, 4, 6] and target = 3, return 1.\n",
    "\n",
    "Given [1, 4, 6] and target = 5, return 1 or 2.\n",
    "\n",
    "Given [1, 3, 3, 4] and target = 2, return 0 or 1 or 2.\n",
    "\n"
   ]
  },
  {
   "cell_type": "markdown",
   "metadata": {},
   "source": [
    "### Using Binary search to find the closest position, then compare to get the closest"
   ]
  },
  {
   "cell_type": "code",
   "execution_count": 7,
   "metadata": {
    "collapsed": true
   },
   "outputs": [],
   "source": [
    "def closestNumber(A, target):\n",
    "    start = 0\n",
    "    end = len(A) - 1\n",
    "    \n",
    "    if len(A) == 0:\n",
    "        return -1\n",
    "    elif len(A) == 1:\n",
    "        return 0\n",
    "    \n",
    "    while end >= start:\n",
    "        mid = (start + end)/2\n",
    "        if A[mid] == target:\n",
    "            return mid\n",
    "        else:\n",
    "            if A[mid] >= target:\n",
    "                end = mid - 1\n",
    "            else:\n",
    "                start = mid + 1\n",
    "    \n",
    "    #Now that we need to compare\n",
    "    # situation one: end < mid/start\n",
    "    if end < mid and end > 0:\n",
    "        if target - A[end] < A[mid] - target:\n",
    "            return end\n",
    "        else:\n",
    "            return mid\n",
    "    elif end < start and start <= len(A):\n",
    "        if A[start] - target < target - A[mid]:\n",
    "            return start\n",
    "        else:\n",
    "            return mid\n",
    "    else:\n",
    "        return mid\n",
    "    \n",
    "    "
   ]
  },
  {
   "cell_type": "code",
   "execution_count": 8,
   "metadata": {
    "collapsed": false
   },
   "outputs": [
    {
     "data": {
      "text/plain": [
       "3"
      ]
     },
     "execution_count": 8,
     "metadata": {},
     "output_type": "execute_result"
    }
   ],
   "source": [
    "A = [1,3,3,5]\n",
    "closestNumber(A, 4)"
   ]
  },
  {
   "cell_type": "code",
   "execution_count": null,
   "metadata": {
    "collapsed": true
   },
   "outputs": [],
   "source": []
  }
 ],
 "metadata": {
  "kernelspec": {
   "display_name": "Python 2",
   "language": "python",
   "name": "python2"
  },
  "language_info": {
   "codemirror_mode": {
    "name": "ipython",
    "version": 2
   },
   "file_extension": ".py",
   "mimetype": "text/x-python",
   "name": "python",
   "nbconvert_exporter": "python",
   "pygments_lexer": "ipython2",
   "version": "2.7.11"
  }
 },
 "nbformat": 4,
 "nbformat_minor": 0
}

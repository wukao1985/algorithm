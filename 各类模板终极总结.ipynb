{
 "cells": [
  {
   "cell_type": "markdown",
   "metadata": {},
   "source": [
    "### 1. Subsets"
   ]
  },
  {
   "cell_type": "code",
   "execution_count": 1,
   "metadata": {
    "collapsed": true
   },
   "outputs": [],
   "source": [
    "def dfs(nums, pos, path, ret):\n",
    "    ret.append([] + path)\n",
    "    \n",
    "    for i in xrange(pos, len(nums)):\n",
    "        if i != pos and nums[i] == nums[i - 1]:\n",
    "            continue\n",
    "\n",
    "        path.append(nums[pos])\n",
    "        dfs(nums, i + 1, path, ret)\n",
    "        path.pop()\n",
    "\n",
    "def subsets_dup(nums):\n",
    "    if nums is None or len(nums) == 0:\n",
    "        return []\n",
    "    \n",
    "    nums.sort()\n",
    "    ret = []\n",
    "    dfs(nums, 0, [], ret)\n",
    "    \n",
    "    return ret"
   ]
  },
  {
   "cell_type": "markdown",
   "metadata": {},
   "source": [
    "### 2. Permutation"
   ]
  },
  {
   "cell_type": "code",
   "execution_count": 2,
   "metadata": {
    "collapsed": true
   },
   "outputs": [],
   "source": [
    "def helper(nums, pos, path, visited, ret):\n",
    "    if pos == len(nums):\n",
    "        ret.append([] + path)\n",
    "    \n",
    "    for i in xrange(0, len(nums)):\n",
    "        if visited[i] is True or \\\n",
    "            (visited[i - 1] is True and i > 0 and nums[i] == nums[i - 1]):\n",
    "            continue\n",
    "        \n",
    "        visited[i] = True\n",
    "        path.append(nums[i])\n",
    "        helper(nums, pos + 1, path, visited, ret)\n",
    "        visited[i] = False\n",
    "        path.pop()\n",
    "\n",
    "def permutation(nums):\n",
    "    if nums is None or len(nums) == 0:\n",
    "        return []\n",
    "    \n",
    "    ret = []\n",
    "    visited = [False] * len(nums)\n",
    "    \n",
    "    helper(nums, 0, [], visited, ret)\n",
    "    return ret"
   ]
  },
  {
   "cell_type": "markdown",
   "metadata": {},
   "source": [
    "### 3. 二分模板"
   ]
  },
  {
   "cell_type": "code",
   "execution_count": 3,
   "metadata": {
    "collapsed": true
   },
   "outputs": [],
   "source": [
    "def findPosition(A, target):\n",
    "    # Write your code here\n",
    "    if A is None or len(A) == 0:\n",
    "        return -1\n",
    "\n",
    "    start, end = 0, len(A) - 1\n",
    "    while start + 1 < end:\n",
    "        mid = start + (end - start) / 2\n",
    "        if A[mid] > target:\n",
    "            end = mid\n",
    "        else:\n",
    "            start = mid\n",
    "\n",
    "    if A[start] == target:\n",
    "        return start\n",
    "\n",
    "    if A[end] == target:\n",
    "        return end\n",
    "\n",
    "    return -1"
   ]
  },
  {
   "cell_type": "markdown",
   "metadata": {},
   "source": [
    "### 4. Binary Tree Traverse Iteration"
   ]
  },
  {
   "cell_type": "markdown",
   "metadata": {},
   "source": [
    "### Pre - Order Traverse\n",
    "    1. push root to stack\n",
    "    2. pop from stack and do following until the stack is empty:\n",
    "        a. append val to ret\n",
    "        b. push right node to the stack if exist\n",
    "        c. push left node to the stack if exist"
   ]
  },
  {
   "cell_type": "code",
   "execution_count": 5,
   "metadata": {
    "collapsed": true
   },
   "outputs": [],
   "source": [
    "class TreeNode:\n",
    "    def __init__(self, val):\n",
    "        self.val = val\n",
    "        self.left = None\n",
    "        self.right = None\n",
    "\n",
    "def preOrder(root):\n",
    "    if root is None:\n",
    "        return []\n",
    "    \n",
    "    stack = []\n",
    "    stack.append(root)\n",
    "    \n",
    "    ret = []\n",
    "    while stack:\n",
    "        node = stack.pop()\n",
    "        ret.append(node.val)\n",
    "        if node.right:\n",
    "            stack.append(node.right)\n",
    "        if node.left:\n",
    "            stack.append(node.left)\n",
    "    \n",
    "    return ret"
   ]
  },
  {
   "cell_type": "markdown",
   "metadata": {},
   "source": [
    "### In-order Traverse\n",
    "    1. create stack and make cur as root\n",
    "    2. if stack is not empty or cur is not None, do following:\n",
    "        a. if cur is not None, push cur to stack and move cur to cur.left\n",
    "        b. if cur is None, pop node from stack, print this node, and then mark cur as node.right"
   ]
  },
  {
   "cell_type": "code",
   "execution_count": 7,
   "metadata": {
    "collapsed": true
   },
   "outputs": [],
   "source": [
    "def inOrder(root):\n",
    "    if root is None:\n",
    "        return []\n",
    "    \n",
    "    stack, ret = [], []\n",
    "    cur = root\n",
    "    while stack or cur:\n",
    "        if cur is not None:\n",
    "            stack.append(cur)\n",
    "            cur = cur.left\n",
    "        else:\n",
    "            node = stack.pop()\n",
    "            ret.append(node.val)\n",
    "            cur = node.right\n",
    "    return ret"
   ]
  },
  {
   "cell_type": "markdown",
   "metadata": {},
   "source": [
    "### Post Order Traverse"
   ]
  },
  {
   "cell_type": "code",
   "execution_count": 8,
   "metadata": {
    "collapsed": true
   },
   "outputs": [],
   "source": [
    "def postOrder(root):\n",
    "    if root is None:\n",
    "        return []\n",
    "    \n",
    "    s1, s2, ret = [], [], []\n",
    "    s1.append(root)\n",
    "    \n",
    "    while s1:\n",
    "        node = s1.pop()\n",
    "        s2.append(node)\n",
    "        \n",
    "        if node.left:\n",
    "            s1.append(node.left)\n",
    "        if node.right:\n",
    "            s1.append(node.right)\n",
    "    \n",
    "    while s2:\n",
    "        # Do not forget this is the val, not the node!\n",
    "        ret.append(s2.pop().val)\n",
    "    \n",
    "    return ret"
   ]
  },
  {
   "cell_type": "markdown",
   "metadata": {},
   "source": [
    "### 5. Link list basic tools"
   ]
  },
  {
   "cell_type": "code",
   "execution_count": 9,
   "metadata": {
    "collapsed": true
   },
   "outputs": [],
   "source": [
    "from __future__ import print_function\n",
    "\n",
    "class ListNode(object):\n",
    "\n",
    "    def __init__(self, val, next=None):\n",
    "        self.val = val\n",
    "        self.next = next\n",
    "\n",
    "def printList(node):\n",
    "    while node is not None:\n",
    "        print(node.val, '->', end=\"\")\n",
    "        node = node.next\n",
    "    print('NULL')\n",
    "    \n",
    "def formList(nums):\n",
    "    if nums is None or len(nums) == 0:\n",
    "        return None\n",
    "    \n",
    "    dummy = ListNode(0)\n",
    "    pos = dummy\n",
    "    \n",
    "    for i in nums:\n",
    "        node = ListNode(i)\n",
    "        pos.next = node\n",
    "        pos = pos.next\n",
    "    \n",
    "    return dummy.next"
   ]
  },
  {
   "cell_type": "markdown",
   "metadata": {},
   "source": [
    "### 6. Link list - Find mid node\n",
    "    1. if No. of nodes is odd, then return the mid node\n",
    "    2. if No. of nodes is even, then return node len()/2"
   ]
  },
  {
   "cell_type": "code",
   "execution_count": 10,
   "metadata": {
    "collapsed": true
   },
   "outputs": [],
   "source": [
    "# Find the mid node of a List\n",
    "def findMid(head):\n",
    "    if head is None:\n",
    "        return None\n",
    "    \n",
    "    slow, fast = head, head.next\n",
    "    \n",
    "    while fast is not None and \\\n",
    "          fast.next is not None:\n",
    "        fast = fast.next.next\n",
    "        slow = slow.next\n",
    "    \n",
    "    return slow"
   ]
  },
  {
   "cell_type": "markdown",
   "metadata": {},
   "source": [
    "### 7. Link list - Merge Two Sorted Lists"
   ]
  },
  {
   "cell_type": "code",
   "execution_count": 11,
   "metadata": {
    "collapsed": true
   },
   "outputs": [],
   "source": [
    "# merge two sorted list\n",
    "def merge(head1, head2):\n",
    "    dummy = ListNode(0)\n",
    "    cur = dummy\n",
    "    \n",
    "    while head1 is not None and head2 is not None:\n",
    "        if head1.val > head2.val:\n",
    "            cur.next = head2\n",
    "            head2 = head2.next\n",
    "        else:\n",
    "            cur.next = head1\n",
    "            head1 = head1.next\n",
    "            \n",
    "        cur.next.next = None\n",
    "        cur = cur.next\n",
    "    \n",
    "    if head1 is not None:\n",
    "        cur.next = head1\n",
    "    else:\n",
    "        cur.next = head2\n",
    "    return dummy.next"
   ]
  },
  {
   "cell_type": "markdown",
   "metadata": {},
   "source": [
    "### 8. Link list - Reverse link list"
   ]
  },
  {
   "cell_type": "code",
   "execution_count": 12,
   "metadata": {
    "collapsed": true
   },
   "outputs": [],
   "source": [
    "def reversList(head):\n",
    "    if head is None or head.next is None:\n",
    "        return head\n",
    "    \n",
    "    pre, cur = None, head\n",
    "    while cur is not None:\n",
    "        temp     = cur.next\n",
    "        cur.next = pre\n",
    "        pre      = cur\n",
    "        cur      = temp\n",
    "    \n",
    "    return pre"
   ]
  },
  {
   "cell_type": "markdown",
   "metadata": {},
   "source": [
    "### 9. Binary Tree: check Balanced:"
   ]
  },
  {
   "cell_type": "code",
   "execution_count": 14,
   "metadata": {
    "collapsed": true
   },
   "outputs": [],
   "source": [
    "def isBalanced(self, root):\n",
    "    # write your code here\n",
    "    if root is None:\n",
    "        return True\n",
    "\n",
    "    depth, isBalanced = self.helper(root)\n",
    "\n",
    "    return isBalanced\n",
    "\n",
    "\n",
    "def helper(self, root):\n",
    "    if root is None:\n",
    "        return 0, True\n",
    "\n",
    "    d1, is1 = self.helper(root.left)\n",
    "    d2, is2 = self.helper(root.right)\n",
    "    if is1 is True and is2 is True and abs(d1 - d2) <= 1:\n",
    "        return max(d1, d2) + 1, True\n",
    "\n",
    "    return 0, False"
   ]
  },
  {
   "cell_type": "markdown",
   "metadata": {},
   "source": [
    "### 10. Binary Tree: Validate BST"
   ]
  },
  {
   "cell_type": "code",
   "execution_count": 16,
   "metadata": {
    "collapsed": true
   },
   "outputs": [],
   "source": [
    "def helper(self, root, minVal, maxVal):\n",
    "    if root is None:\n",
    "        return True\n",
    "\n",
    "    if root.val <= minVal or root.val >= maxVal:\n",
    "        return False\n",
    "\n",
    "    return self.helper(root.left, minVal, root.val) and \\\n",
    "              self.helper(root.right, root.val, maxVal)\n",
    "\n",
    "\n",
    "def isValidBST(self, root):\n",
    "    # write your code here\n",
    "    if root is None:\n",
    "        return True\n",
    "\n",
    "    return self.helper(root, -sys.maxint, sys.maxint)"
   ]
  },
  {
   "cell_type": "markdown",
   "metadata": {},
   "source": [
    "### 11. Binary Tree: LCA"
   ]
  },
  {
   "cell_type": "code",
   "execution_count": 17,
   "metadata": {
    "collapsed": true
   },
   "outputs": [],
   "source": [
    "def lowestCommonAncestor(self, root, A, B):\n",
    "    # write your code here\n",
    "    if root is None:\n",
    "        return None\n",
    "\n",
    "    if root is A or root is B:\n",
    "        return root\n",
    "\n",
    "    left = self.lowestCommonAncestor(root.left, A, B)\n",
    "    right = self.lowestCommonAncestor(root.right, A, B)\n",
    "\n",
    "    if left is not None and right is not None:\n",
    "        return root\n",
    "    if left is not None:\n",
    "        return left\n",
    "    if right is not None:\n",
    "        return right\n",
    "    return None"
   ]
  },
  {
   "cell_type": "markdown",
   "metadata": {},
   "source": [
    "### 12. Binary Tree: check complete Binary Tree"
   ]
  },
  {
   "cell_type": "code",
   "execution_count": 18,
   "metadata": {
    "collapsed": true
   },
   "outputs": [],
   "source": [
    "def isComplete(self, root):\n",
    "# Write your code here\n",
    "\n",
    "    if root is None:\n",
    "        return True\n",
    "\n",
    "    q = deque()\n",
    "    q.append(root)\n",
    "    pending = False\n",
    "\n",
    "    while len(q) > 0:\n",
    "        temp = q.popleft()\n",
    "        if temp != None and pending is True:\n",
    "            return False\n",
    "\n",
    "        if temp is None and pending is False:\n",
    "            pending = True\n",
    "\n",
    "        if temp:\n",
    "            q.append(temp.left)\n",
    "            q.append(temp.right)\n",
    "\n",
    "    return True"
   ]
  },
  {
   "cell_type": "markdown",
   "metadata": {},
   "source": [
    "### 13. BST search range"
   ]
  },
  {
   "cell_type": "code",
   "execution_count": 19,
   "metadata": {
    "collapsed": true
   },
   "outputs": [],
   "source": [
    "def inHelper(self, root, ret, k1, k2):\n",
    "    if root is None:\n",
    "        return\n",
    "\n",
    "    if root.val >= k1:\n",
    "        self.inHelper(root.left, ret, k1, k2)\n",
    "    if root.val >= k1 and root.val <= k2:\n",
    "        ret.append(root.val)\n",
    "    if root.val <= k2:\n",
    "        self.inHelper(root.right, ret, k1, k2)\n",
    "\n",
    "def searchRange(self, root, k1, k2):\n",
    "    # write your code here\n",
    "    if root is None:\n",
    "        return []\n",
    "\n",
    "    ret = []\n",
    "    self.inHelper(root, ret, k1, k2)\n",
    "    return ret"
   ]
  },
  {
   "cell_type": "markdown",
   "metadata": {},
   "source": [
    "### 14. Quick Sort Template -- Important!"
   ]
  },
  {
   "cell_type": "code",
   "execution_count": 20,
   "metadata": {
    "collapsed": true
   },
   "outputs": [],
   "source": [
    "def partitionArray(nums, k, start, end):\n",
    "    # write your code here\n",
    "    # you should partition the nums by k\n",
    "    # and return the partition index as description\n",
    "\n",
    "    if not nums:\n",
    "        return 0\n",
    "    pIndex = start\n",
    "    for i in xrange(start, end + 1):\n",
    "        if nums[i] < k:\n",
    "            nums[i], nums[pIndex] = nums[pIndex], nums[i]\n",
    "            pIndex += 1\n",
    "            \n",
    "    nums[pIndex], nums[end] = nums[end], nums[pIndex]\n",
    "    # print(nums, pIndex)\n",
    "    return pIndex\n",
    "\n",
    "def quickSortHelper(nums, start, end):\n",
    "    if start >= end:\n",
    "        return\n",
    "    \n",
    "    pivot = nums[end]\n",
    "    pIndex = partitionArray(nums, pivot, start, end)\n",
    "    \n",
    "    quickSortHelper(nums, start, pIndex - 1)\n",
    "    quickSortHelper(nums, pIndex + 1, end)\n",
    "    \n",
    "def quickSort(nums):\n",
    "    if not nums or len(nums) == 1:\n",
    "        return\n",
    "    \n",
    "    quickSortHelper(nums, 0, len(nums) - 1)"
   ]
  },
  {
   "cell_type": "markdown",
   "metadata": {},
   "source": [
    "### 15. Trie Implementation"
   ]
  },
  {
   "cell_type": "code",
   "execution_count": 21,
   "metadata": {
    "collapsed": true
   },
   "outputs": [],
   "source": [
    "class TrieNode:\n",
    "    def __init__(self):\n",
    "        self.children = {}\n",
    "        self.isWord = False\n",
    "\n",
    "class Trie:\n",
    "    def __init__(self):\n",
    "        self.root = TrieNode()\n",
    "\n",
    "    # @param {string} word\n",
    "    # @return {void}\n",
    "    # Inserts a word into the trie.\n",
    "    def insert(self, word):\n",
    "        node = self.root\n",
    "        for letter in word:\n",
    "            if letter not in node.children:\n",
    "                child = TrieNode()\n",
    "                node.children[letter] = child\n",
    "            node = node.children[letter]\n",
    "        node.isWord = True\n",
    "\n",
    "    # @param {string} word\n",
    "    # @return {boolean}\n",
    "    # Returns if the word is in the trie.\n",
    "    def search(self, word):\n",
    "        node = self.root\n",
    "        for letter in word:\n",
    "            if letter not in node.children:\n",
    "                return False\n",
    "            node = node.children[letter]\n",
    "        if node.isWord is False:\n",
    "            return False\n",
    "        return True\n",
    "\n",
    "    # @param {string} prefix\n",
    "    # @return {boolean}\n",
    "    # Returns if there is any word in the trie\n",
    "    # that starts with the given prefix.\n",
    "    def startsWith(self, prefix):\n",
    "        node = self.root\n",
    "        for letter in prefix:\n",
    "            if letter not in node.children:\n",
    "                return False\n",
    "            node = node.children[letter]\n",
    "        return True\n",
    "    \n",
    "    def walk(self, node, ret, path):\n",
    "        if node.isWord:\n",
    "            ret.append(\"\".join(path))\n",
    "        for key in node.children:\n",
    "            tempNode = node.children[key]\n",
    "            path.append(key)\n",
    "            self.walk(tempNode, ret, path)\n",
    "        return\n",
    "    \n",
    "    def walkPrefix(self, prefix):\n",
    "        path = []\n",
    "        node = self.root\n",
    "        for letter in prefix:\n",
    "            if letter not in node.children:\n",
    "                return []\n",
    "            node = node.children[letter]\n",
    "            path.append(letter)\n",
    "        ret = []\n",
    "        self.walk(node, ret, path)\n",
    "        return ret\n",
    "    \n",
    "    def LCP(self):\n",
    "        path = []\n",
    "        node = self.root\n",
    "        while len(node.children) == 1 and node.isWord is False:\n",
    "            key, child = node.children.items()[0]\n",
    "            path.append(key)\n",
    "            node = child\n",
    "        \n",
    "        return \"\".join(path)"
   ]
  },
  {
   "cell_type": "markdown",
   "metadata": {},
   "source": [
    "### 16. Union Find 并查集"
   ]
  },
  {
   "cell_type": "code",
   "execution_count": 22,
   "metadata": {
    "collapsed": true
   },
   "outputs": [],
   "source": [
    "class UnionFind:\n",
    "    def __init__(self, A):\n",
    "        self.A = A\n",
    "    \n",
    "    def addEdge(self, edge):\n",
    "        idx1, idx2 = edge[0], edge[1]\n",
    "        root1 = self.findRoot(idx1)\n",
    "        root2 = self.findRoot(idx2)\n",
    "        if root1 == root2:\n",
    "            return\n",
    "        self.A[root1] = root2\n",
    "\n",
    "    def findRoot(self, idx):\n",
    "        temp = idx\n",
    "        while self.A[idx] != idx:\n",
    "            idx = self.A[idx]\n",
    "            \n",
    "        while temp != self.A[temp]:\n",
    "            temp2 = self.A[temp]\n",
    "            self.A[temp] = idx\n",
    "            temp = temp2\n",
    "\n",
    "        return idx"
   ]
  },
  {
   "cell_type": "markdown",
   "metadata": {},
   "source": [
    "### 17. Segment Tree: Sum of Given range\n",
    "     - To change to min of Given range, just need to change one line in the construct function."
   ]
  },
  {
   "cell_type": "code",
   "execution_count": 23,
   "metadata": {
    "collapsed": true
   },
   "outputs": [],
   "source": [
    "import sys\n",
    "class TreeNode:\n",
    "    def __init__(self, val, lower, upper, left = None, right = None):\n",
    "        self.val = val\n",
    "        self.lower = lower\n",
    "        self.upper = upper\n",
    "        self.left = left\n",
    "        self.right = right\n",
    "\n",
    "class SegmentTree:\n",
    "    def __init__(self, A):\n",
    "        self.length = len(A)\n",
    "        self.array = A\n",
    "        self.root = self.construct(A, 0, len(A) - 1)\n",
    "    \n",
    "    def construct(self, A, start, end):\n",
    "        if start == end:\n",
    "            root = TreeNode(A[start], start, end)\n",
    "            return root\n",
    "        root = TreeNode(sum(A[start:end + 1]), start, end)\n",
    "        mid = (start + end) / 2\n",
    "        root.left = self.construct(A, start, mid)\n",
    "        root.right = self.construct(A, mid + 1, end)\n",
    "        return root\n",
    "    \n",
    "    def rangeSearch(self, start, end):\n",
    "        if start < 0 or end >= self.length:\n",
    "            return -sys.maxint\n",
    "        return self.rangeSearchHelper(self.root, start, end)\n",
    "        \n",
    "    def rangeSearchHelper(self, node, start, end):\n",
    "        if node is None:\n",
    "            return 0\n",
    "        \n",
    "        if node.lower >= start and node.upper <= end:\n",
    "            return node.val\n",
    "        \n",
    "        if node.upper < start or  node.lower > end:\n",
    "            return 0\n",
    "        \n",
    "        return self.rangeSearchHelper(node.left, start, end) \\\n",
    "                + self.rangeSearchHelper(node.right, start, end)"
   ]
  },
  {
   "cell_type": "markdown",
   "metadata": {},
   "source": [
    "### 18. Heap: heapify"
   ]
  },
  {
   "cell_type": "code",
   "execution_count": 24,
   "metadata": {
    "collapsed": true
   },
   "outputs": [],
   "source": [
    "def bubbledown(self, A, pos):\n",
    "    while pos < len(A) / 2:\n",
    "        minPos = self.minChild(A, pos)\n",
    "        if A[pos] > A[minPos]:\n",
    "            A[pos], A[minPos] = A[minPos], A[pos]\n",
    "            pos = minPos\n",
    "        else:\n",
    "            break\n",
    "    return\n",
    "\n",
    "def minChild(self, A, pos):\n",
    "    child1 = pos * 2 + 1\n",
    "    if pos * 2 + 2 >= len(A):\n",
    "        minPos = child1\n",
    "    else:\n",
    "        if A[child1] < A[child1 + 1]:\n",
    "            minPos = pos * 2 + 1\n",
    "        else:\n",
    "            minPos = pos * 2 + 2\n",
    "    return minPos\n",
    "\n",
    "def heapify(self, A):\n",
    "    # write your code here\n",
    "    if not A or len(A) == 1:\n",
    "        return A\n",
    "\n",
    "    # for both even / odd len, bubble down\n",
    "    # from len / 2 - 1 -> 0\n",
    "    for i in reversed(xrange(len(A) / 2)):\n",
    "        self.bubbledown(A, i)\n",
    "        # print A, i\n",
    "\n",
    "    return"
   ]
  },
  {
   "cell_type": "code",
   "execution_count": null,
   "metadata": {
    "collapsed": true
   },
   "outputs": [],
   "source": []
  }
 ],
 "metadata": {
  "kernelspec": {
   "display_name": "Python 2",
   "language": "python",
   "name": "python2"
  },
  "language_info": {
   "codemirror_mode": {
    "name": "ipython",
    "version": 2
   },
   "file_extension": ".py",
   "mimetype": "text/x-python",
   "name": "python",
   "nbconvert_exporter": "python",
   "pygments_lexer": "ipython2",
   "version": "2.7.10"
  }
 },
 "nbformat": 4,
 "nbformat_minor": 0
}

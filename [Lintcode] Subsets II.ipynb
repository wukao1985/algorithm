{
 "cells": [
  {
   "cell_type": "markdown",
   "metadata": {},
   "source": [
    "##Given a list of numbers that may has duplicate numbers, return all possible subsets\n",
    "Example\n",
    "If S = [1,2,2], a solution is:\n",
    "\n",
    "[\n",
    "  [2],\n",
    "  [1],\n",
    "  [1,2,2],\n",
    "  [2,2],\n",
    "  [1,2],\n",
    "  []\n",
    "]\n",
    "\n",
    "###Note:\n",
    "- Each element in a subset must be in non-descending order.\n",
    "- The ordering between two subsets is free.\n",
    "- The solution set must not contain duplicate subsets."
   ]
  },
  {
   "cell_type": "markdown",
   "metadata": {},
   "source": [
    "## First, Let's copy over Subsets code"
   ]
  },
  {
   "cell_type": "code",
   "execution_count": 6,
   "metadata": {
    "collapsed": true
   },
   "outputs": [],
   "source": [
    "def dfs(nums, pos, temp_list, ret):\n",
    "    ret.append([]+temp_list)\n",
    "    for i in xrange(pos, len(nums)):\n",
    "        temp_list.append(nums[i])\n",
    "        dfs(nums, i+1, temp_list, ret)\n",
    "        temp_list.pop()"
   ]
  },
  {
   "cell_type": "code",
   "execution_count": 7,
   "metadata": {
    "collapsed": true
   },
   "outputs": [],
   "source": [
    "def subsets(nums):\n",
    "    result = []\n",
    "    nums.sort()\n",
    "    dfs(nums, 0, [], result)\n",
    "    return result"
   ]
  },
  {
   "cell_type": "code",
   "execution_count": 8,
   "metadata": {
    "collapsed": false
   },
   "outputs": [
    {
     "name": "stdout",
     "output_type": "stream",
     "text": [
      "[[], [1], [1, 2], [1, 2, 3], [1, 3], [2], [2, 3], [3]]\n"
     ]
    }
   ],
   "source": [
    "s = [1,2,3]\n",
    "print subsets(s)"
   ]
  },
  {
   "cell_type": "code",
   "execution_count": 10,
   "metadata": {
    "collapsed": false
   },
   "outputs": [
    {
     "name": "stdout",
     "output_type": "stream",
     "text": [
      "[[], [1], [1, 2], [1, 2, 2], [1, 2, 2, 2], [1, 2, 2], [1, 2], [1, 2, 2], [1, 2], [2], [2, 2], [2, 2, 2], [2, 2], [2], [2, 2], [2]]\n"
     ]
    }
   ],
   "source": [
    "s1 = [1,2,2,2]\n",
    "print subsets(s1)"
   ]
  },
  {
   "cell_type": "markdown",
   "metadata": {},
   "source": [
    "## check duplicate in the DFS function"
   ]
  },
  {
   "cell_type": "code",
   "execution_count": 22,
   "metadata": {
    "collapsed": false
   },
   "outputs": [],
   "source": [
    "def dfs_dup(nums, pos, temp_list, ret):\n",
    "    if temp_list not in ret:\n",
    "        ret.append([]+temp_list)\n",
    "\n",
    "    for i in xrange(pos, len(nums)):\n",
    "        temp_list.append(nums[i])\n",
    "        dfs_dup(nums, i+1, temp_list, ret)\n",
    "        temp_list.pop()"
   ]
  },
  {
   "cell_type": "code",
   "execution_count": 23,
   "metadata": {
    "collapsed": true
   },
   "outputs": [],
   "source": [
    "def subsets_dup(nums):\n",
    "    result = []\n",
    "    nums.sort()\n",
    "    dfs_dup(nums, 0, [], result)\n",
    "    return result"
   ]
  },
  {
   "cell_type": "code",
   "execution_count": 24,
   "metadata": {
    "collapsed": false
   },
   "outputs": [
    {
     "name": "stdout",
     "output_type": "stream",
     "text": [
      "[[], [1], [1, 2], [1, 2, 2], [1, 2, 2, 2], [2], [2, 2], [2, 2, 2]]\n"
     ]
    }
   ],
   "source": [
    "print subsets_dup(s1)"
   ]
  },
  {
   "cell_type": "code",
   "execution_count": null,
   "metadata": {
    "collapsed": true
   },
   "outputs": [],
   "source": []
  }
 ],
 "metadata": {
  "kernelspec": {
   "display_name": "Python 2",
   "language": "python",
   "name": "python2"
  },
  "language_info": {
   "codemirror_mode": {
    "name": "ipython",
    "version": 2
   },
   "file_extension": ".py",
   "mimetype": "text/x-python",
   "name": "python",
   "nbconvert_exporter": "python",
   "pygments_lexer": "ipython2",
   "version": "2.7.11"
  }
 },
 "nbformat": 4,
 "nbformat_minor": 0
}
